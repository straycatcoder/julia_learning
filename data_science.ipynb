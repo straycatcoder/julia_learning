{
 "cells": [
  {
   "cell_type": "markdown",
   "id": "216fd32d-dd4c-4fa4-bc72-a9b334000b9b",
   "metadata": {},
   "source": [
    "https://github.com/JuliaAcademy/DataScience"
   ]
  },
  {
   "cell_type": "markdown",
   "id": "fc9b37f9-0148-42bb-9e7a-07c5f7b5340d",
   "metadata": {},
   "source": [
    "# Data"
   ]
  },
  {
   "cell_type": "code",
   "execution_count": 1,
   "id": "523771fa-d42a-470e-8ed7-6714f407a984",
   "metadata": {},
   "outputs": [],
   "source": [
    "using BenchmarkTools\n",
    "using DataFrames\n",
    "using DelimitedFiles\n",
    "using CSV\n",
    "using XLSX\n",
    "using Downloads"
   ]
  },
  {
   "cell_type": "code",
   "execution_count": 2,
   "id": "6b6531ef-9ad8-420e-94f4-567d48ef4457",
   "metadata": {},
   "outputs": [
    {
     "name": "stdout",
     "output_type": "stream",
     "text": [
      "search: \u001b[0m\u001b[1mD\u001b[22m\u001b[0m\u001b[1mo\u001b[22m\u001b[0m\u001b[1mw\u001b[22m\u001b[0m\u001b[1mn\u001b[22m\u001b[0m\u001b[1ml\u001b[22m\u001b[0m\u001b[1mo\u001b[22m\u001b[0m\u001b[1ma\u001b[22m\u001b[0m\u001b[1md\u001b[22m\u001b[0m\u001b[1ms\u001b[22m \u001b[0m\u001b[1md\u001b[22m\u001b[0m\u001b[1mo\u001b[22m\u001b[0m\u001b[1mw\u001b[22m\u001b[0m\u001b[1mn\u001b[22m\u001b[0m\u001b[1ml\u001b[22m\u001b[0m\u001b[1mo\u001b[22m\u001b[0m\u001b[1ma\u001b[22m\u001b[0m\u001b[1md\u001b[22m \u001b[0m\u001b[1mD\u001b[22m\u001b[0m\u001b[1mo\u001b[22m\u001b[0m\u001b[1mw\u001b[22m\u001b[0m\u001b[1mn\u001b[22m\u001b[0m\u001b[1ml\u001b[22m\u001b[0m\u001b[1mo\u001b[22m\u001b[0m\u001b[1ma\u001b[22m\u001b[0m\u001b[1md\u001b[22mer\n",
      "\n"
     ]
    },
    {
     "data": {
      "text/latex": [
       "The \\texttt{Downloads} module exports a function \\href{@ref}{\\texttt{download}}, which provides cross-platform, multi-protocol, in-process download functionality implemented with \\href{https://curl.haxx.se/libcurl/}{libcurl}.   It is used for the \\texttt{Base.download} function in Julia 1.6 or later.\n",
       "\n",
       "More generally, the module exports functions and types that provide lower-level control and diagnostic information for file downloading:\n",
       "\n",
       "\\begin{itemize}\n",
       "\\item \\href{@ref}{\\texttt{download}} — download a file from a URL, erroring if it can't be downloaded\n",
       "\n",
       "\n",
       "\\item \\href{@ref}{\\texttt{request}} — request a URL, returning a \\texttt{Response} object indicating success\n",
       "\n",
       "\n",
       "\\item \\href{@ref}{\\texttt{Response}} — a type capturing the status and other metadata about a request\n",
       "\n",
       "\n",
       "\\item \\href{@ref}{\\texttt{RequestError}} — an error type thrown by \\texttt{download} and \\texttt{request} on error\n",
       "\n",
       "\n",
       "\\item \\href{@ref}{\\texttt{Downloader}} — an object encapsulating shared resources for downloading\n",
       "\n",
       "\\end{itemize}\n"
      ],
      "text/markdown": [
       "The `Downloads` module exports a function [`download`](@ref), which provides cross-platform, multi-protocol, in-process download functionality implemented with [libcurl](https://curl.haxx.se/libcurl/).   It is used for the `Base.download` function in Julia 1.6 or later.\n",
       "\n",
       "More generally, the module exports functions and types that provide lower-level control and diagnostic information for file downloading:\n",
       "\n",
       "  * [`download`](@ref) — download a file from a URL, erroring if it can't be downloaded\n",
       "  * [`request`](@ref) — request a URL, returning a `Response` object indicating success\n",
       "  * [`Response`](@ref) — a type capturing the status and other metadata about a request\n",
       "  * [`RequestError`](@ref) — an error type thrown by `download` and `request` on error\n",
       "  * [`Downloader`](@ref) — an object encapsulating shared resources for downloading\n"
      ],
      "text/plain": [
       "  The \u001b[36mDownloads\u001b[39m module exports a function \u001b[36mdownload\u001b[39m, which provides\n",
       "  cross-platform, multi-protocol, in-process download functionality\n",
       "  implemented with libcurl (https://curl.haxx.se/libcurl/). It is used for the\n",
       "  \u001b[36mBase.download\u001b[39m function in Julia 1.6 or later.\n",
       "\n",
       "  More generally, the module exports functions and types that provide\n",
       "  lower-level control and diagnostic information for file downloading:\n",
       "\n",
       "    •  \u001b[36mdownload\u001b[39m — download a file from a URL, erroring if it can't be\n",
       "       downloaded\n",
       "\n",
       "    •  \u001b[36mrequest\u001b[39m — request a URL, returning a \u001b[36mResponse\u001b[39m object indicating\n",
       "       success\n",
       "\n",
       "    •  \u001b[36mResponse\u001b[39m — a type capturing the status and other metadata about a\n",
       "       request\n",
       "\n",
       "    •  \u001b[36mRequestError\u001b[39m — an error type thrown by \u001b[36mdownload\u001b[39m and \u001b[36mrequest\u001b[39m on\n",
       "       error\n",
       "\n",
       "    •  \u001b[36mDownloader\u001b[39m — an object encapsulating shared resources for\n",
       "       downloading"
      ]
     },
     "execution_count": 2,
     "metadata": {},
     "output_type": "execute_result"
    }
   ],
   "source": [
    "?Downloads"
   ]
  },
  {
   "cell_type": "code",
   "execution_count": 3,
   "id": "d0f37fe4-8e5a-41ad-9d97-5c7635759b7d",
   "metadata": {},
   "outputs": [
    {
     "data": {
      "text/plain": [
       "\"programming_languages.csv\""
      ]
     },
     "execution_count": 3,
     "metadata": {},
     "output_type": "execute_result"
    }
   ],
   "source": [
    "P = Downloads.download(\"https://raw.githubusercontent.com/nassarhuda/easy_data/master/programming_languages.csv\",\n",
    "    \"programming_languages.csv\")"
   ]
  },
  {
   "cell_type": "code",
   "execution_count": 6,
   "id": "ce6eb60e-7e1c-4545-8695-4b73d76325b0",
   "metadata": {},
   "outputs": [],
   "source": [
    "P,H = readdlm(\"programming_languages.csv\",',';header=true);"
   ]
  },
  {
   "cell_type": "code",
   "execution_count": 7,
   "id": "f14678f4-12f9-472f-9208-9a69bf32486f",
   "metadata": {},
   "outputs": [
    {
     "data": {
      "text/plain": [
       "73×2 Matrix{Any}:\n",
       " 1951  \"Regional Assembly Language\"\n",
       " 1952  \"Autocode\"\n",
       " 1954  \"IPL\"\n",
       " 1955  \"FLOW-MATIC\"\n",
       " 1957  \"FORTRAN\"\n",
       " 1957  \"COMTRAN\"\n",
       " 1958  \"LISP\"\n",
       " 1958  \"ALGOL 58\"\n",
       " 1959  \"FACT\"\n",
       " 1959  \"COBOL\"\n",
       " 1959  \"RPG\"\n",
       " 1962  \"APL\"\n",
       " 1962  \"Simula\"\n",
       "    ⋮  \n",
       " 2003  \"Scala\"\n",
       " 2005  \"F#\"\n",
       " 2006  \"PowerShell\"\n",
       " 2007  \"Clojure\"\n",
       " 2009  \"Go\"\n",
       " 2010  \"Rust\"\n",
       " 2011  \"Dart\"\n",
       " 2011  \"Kotlin\"\n",
       " 2011  \"Red\"\n",
       " 2011  \"Elixir\"\n",
       " 2012  \"Julia\"\n",
       " 2014  \"Swift\""
      ]
     },
     "execution_count": 7,
     "metadata": {},
     "output_type": "execute_result"
    }
   ],
   "source": [
    "P"
   ]
  },
  {
   "cell_type": "code",
   "execution_count": 8,
   "id": "52cac881-d8ba-4e13-828b-224a5244aa8c",
   "metadata": {},
   "outputs": [
    {
     "data": {
      "text/plain": [
       "1×2 Matrix{AbstractString}:\n",
       " \"year\"  \"language\""
      ]
     },
     "execution_count": 8,
     "metadata": {},
     "output_type": "execute_result"
    }
   ],
   "source": [
    "H"
   ]
  },
  {
   "cell_type": "code",
   "execution_count": 9,
   "id": "6f6491bb-e547-424c-bf70-4cde17c9fbf9",
   "metadata": {},
   "outputs": [],
   "source": [
    "writedlm(\"programminglanguages_dlm.txt\", P, '-')"
   ]
  },
  {
   "cell_type": "code",
   "execution_count": 18,
   "id": "01fa2f8b-13ee-49ca-98ee-23c9635bd710",
   "metadata": {},
   "outputs": [],
   "source": [
    "# use CSV\n",
    "C = CSV.read(\"programming_languages.csv\", DataFrame);"
   ]
  },
  {
   "cell_type": "code",
   "execution_count": 21,
   "id": "02bb9ff8-fd56-4f39-ad83-e81d339a73ec",
   "metadata": {},
   "outputs": [
    {
     "name": "stdout",
     "output_type": "stream",
     "text": [
      "typeof(C) = DataFrame\n"
     ]
    },
    {
     "data": {
      "text/html": [
       "<div class=\"data-frame\"><p>10 rows × 2 columns</p><table class=\"data-frame\"><thead><tr><th></th><th>year</th><th>language</th></tr><tr><th></th><th title=\"Int64\">Int64</th><th title=\"String31\">String31</th></tr></thead><tbody><tr><th>1</th><td>1951</td><td>Regional Assembly Language</td></tr><tr><th>2</th><td>1952</td><td>Autocode</td></tr><tr><th>3</th><td>1954</td><td>IPL</td></tr><tr><th>4</th><td>1955</td><td>FLOW-MATIC</td></tr><tr><th>5</th><td>1957</td><td>FORTRAN</td></tr><tr><th>6</th><td>1957</td><td>COMTRAN</td></tr><tr><th>7</th><td>1958</td><td>LISP</td></tr><tr><th>8</th><td>1958</td><td>ALGOL 58</td></tr><tr><th>9</th><td>1959</td><td>FACT</td></tr><tr><th>10</th><td>1959</td><td>COBOL</td></tr></tbody></table></div>"
      ],
      "text/latex": [
       "\\begin{tabular}{r|cc}\n",
       "\t& year & language\\\\\n",
       "\t\\hline\n",
       "\t& Int64 & String31\\\\\n",
       "\t\\hline\n",
       "\t1 & 1951 & Regional Assembly Language \\\\\n",
       "\t2 & 1952 & Autocode \\\\\n",
       "\t3 & 1954 & IPL \\\\\n",
       "\t4 & 1955 & FLOW-MATIC \\\\\n",
       "\t5 & 1957 & FORTRAN \\\\\n",
       "\t6 & 1957 & COMTRAN \\\\\n",
       "\t7 & 1958 & LISP \\\\\n",
       "\t8 & 1958 & ALGOL 58 \\\\\n",
       "\t9 & 1959 & FACT \\\\\n",
       "\t10 & 1959 & COBOL \\\\\n",
       "\\end{tabular}\n"
      ],
      "text/plain": [
       "\u001b[1m10×2 DataFrame\u001b[0m\n",
       "\u001b[1m Row \u001b[0m│\u001b[1m year  \u001b[0m\u001b[1m language                   \u001b[0m\n",
       "\u001b[1m     \u001b[0m│\u001b[90m Int64 \u001b[0m\u001b[90m String31                   \u001b[0m\n",
       "─────┼───────────────────────────────────\n",
       "   1 │  1951  Regional Assembly Language\n",
       "   2 │  1952  Autocode\n",
       "   3 │  1954  IPL\n",
       "   4 │  1955  FLOW-MATIC\n",
       "   5 │  1957  FORTRAN\n",
       "   6 │  1957  COMTRAN\n",
       "   7 │  1958  LISP\n",
       "   8 │  1958  ALGOL 58\n",
       "   9 │  1959  FACT\n",
       "  10 │  1959  COBOL"
      ]
     },
     "execution_count": 21,
     "metadata": {},
     "output_type": "execute_result"
    }
   ],
   "source": [
    "@show typeof(C)\n",
    "C[1:10,:]"
   ]
  },
  {
   "cell_type": "code",
   "execution_count": 22,
   "id": "31b84007-55b0-42e6-805a-5759d4906422",
   "metadata": {},
   "outputs": [
    {
     "name": "stdout",
     "output_type": "stream",
     "text": [
      "typeof(P) = Matrix{Any}\n"
     ]
    },
    {
     "data": {
      "text/plain": [
       "10×2 Matrix{Any}:\n",
       " 1951  \"Regional Assembly Language\"\n",
       " 1952  \"Autocode\"\n",
       " 1954  \"IPL\"\n",
       " 1955  \"FLOW-MATIC\"\n",
       " 1957  \"FORTRAN\"\n",
       " 1957  \"COMTRAN\"\n",
       " 1958  \"LISP\"\n",
       " 1958  \"ALGOL 58\"\n",
       " 1959  \"FACT\"\n",
       " 1959  \"COBOL\""
      ]
     },
     "execution_count": 22,
     "metadata": {},
     "output_type": "execute_result"
    }
   ],
   "source": [
    "@show typeof(P)\n",
    "P[1:10,:]"
   ]
  },
  {
   "cell_type": "code",
   "execution_count": 23,
   "id": "4ca2eda8-581e-4e09-af9e-ce971d3fef23",
   "metadata": {},
   "outputs": [
    {
     "data": {
      "text/plain": [
       "2-element Vector{String}:\n",
       " \"year\"\n",
       " \"language\""
      ]
     },
     "execution_count": 23,
     "metadata": {},
     "output_type": "execute_result"
    }
   ],
   "source": [
    "names(C)"
   ]
  },
  {
   "cell_type": "code",
   "execution_count": 27,
   "id": "5f446028-e2bc-48ee-b846-010785cba3b2",
   "metadata": {},
   "outputs": [
    {
     "name": "stdout",
     "output_type": "stream",
     "text": [
      "C.year = [1951, 1952, 1954, 1955, 1957, 1957, 1958, 1958, 1959, 1959, 1959, 1962, 1962, 1962, 1963, 1964, 1964, 1964, 1966, 1967, 1968, 1969, 1970, 1970, 1972, 1972, 1972, 1973, 1975, 1978, 1980, 1983, 1984, 1984, 1984, 1985, 1986, 1986, 1986, 1987, 1988, 1988, 1989, 1990, 1991, 1991, 1993, 1993, 1994, 1995, 1995, 1995, 1995, 1995, 1995, 1997, 2000, 2001, 2001, 2002, 2003, 2003, 2005, 2006, 2007, 2009, 2010, 2011, 2011, 2011, 2011, 2012, 2014]\n",
      "C.language = String31[\"Regional Assembly Language\", \"Autocode\", \"IPL\", \"FLOW-MATIC\", \"FORTRAN\", \"COMTRAN\", \"LISP\", \"ALGOL 58\", \"FACT\", \"COBOL\", \"RPG\", \"APL\", \"Simula\", \"SNOBOL\", \"CPL\", \"Speakeasy\", \"BASIC\", \"PL/I\", \"JOSS\", \"BCPL\", \"Logo\", \"B\", \"Pascal\", \"Forth\", \"C\", \"Smalltalk\", \"Prolog\", \"ML\", \"Scheme\", \"SQL \", \"C++ \", \"Ada\", \"Common Lisp\", \"MATLAB\", \"dBase III\", \"Eiffel\", \"Objective-C\", \"LabVIEW \", \"Erlang\", \"Perl\", \"Tcl\", \"Wolfram Language \", \"FL \", \"Haskell\", \"Python\", \"Visual Basic\", \"Lua\", \"R\", \"CLOS \", \"Ruby\", \"Ada 95\", \"Java\", \"Delphi \", \"JavaScript\", \"PHP\", \"Rebol\", \"ActionScript\", \"C#\", \"D\", \"Scratch\", \"Groovy\", \"Scala\", \"F#\", \"PowerShell\", \"Clojure\", \"Go\", \"Rust\", \"Dart\", \"Kotlin\", \"Red\", \"Elixir\", \"Julia\", \"Swift\"]\n"
     ]
    },
    {
     "data": {
      "text/plain": [
       "73-element Vector{String31}:\n",
       " \"Regional Assembly Language\"\n",
       " \"Autocode\"\n",
       " \"IPL\"\n",
       " \"FLOW-MATIC\"\n",
       " \"FORTRAN\"\n",
       " \"COMTRAN\"\n",
       " \"LISP\"\n",
       " \"ALGOL 58\"\n",
       " \"FACT\"\n",
       " \"COBOL\"\n",
       " \"RPG\"\n",
       " \"APL\"\n",
       " \"Simula\"\n",
       " ⋮\n",
       " \"Scala\"\n",
       " \"F#\"\n",
       " \"PowerShell\"\n",
       " \"Clojure\"\n",
       " \"Go\"\n",
       " \"Rust\"\n",
       " \"Dart\"\n",
       " \"Kotlin\"\n",
       " \"Red\"\n",
       " \"Elixir\"\n",
       " \"Julia\"\n",
       " \"Swift\""
      ]
     },
     "execution_count": 27,
     "metadata": {},
     "output_type": "execute_result"
    }
   ],
   "source": [
    "@show C.year\n",
    "@show C.language"
   ]
  },
  {
   "cell_type": "code",
   "execution_count": 29,
   "id": "c1b8fdfa-c6fc-4655-bab2-2d516427960f",
   "metadata": {},
   "outputs": [
    {
     "data": {
      "text/html": [
       "<div class=\"data-frame\"><p>2 rows × 7 columns</p><table class=\"data-frame\"><thead><tr><th></th><th>variable</th><th>mean</th><th>min</th><th>median</th><th>max</th><th>nmissing</th><th>eltype</th></tr><tr><th></th><th title=\"Symbol\">Symbol</th><th title=\"Union{Nothing, Float64}\">Union…</th><th title=\"Any\">Any</th><th title=\"Union{Nothing, Float64}\">Union…</th><th title=\"Any\">Any</th><th title=\"Int64\">Int64</th><th title=\"DataType\">DataType</th></tr></thead><tbody><tr><th>1</th><td>year</td><td>1982.99</td><td>1951</td><td>1986.0</td><td>2014</td><td>0</td><td>Int64</td></tr><tr><th>2</th><td>language</td><td></td><td>ALGOL 58</td><td></td><td>dBase III</td><td>0</td><td>String31</td></tr></tbody></table></div>"
      ],
      "text/latex": [
       "\\begin{tabular}{r|ccccccc}\n",
       "\t& variable & mean & min & median & max & nmissing & eltype\\\\\n",
       "\t\\hline\n",
       "\t& Symbol & Union… & Any & Union… & Any & Int64 & DataType\\\\\n",
       "\t\\hline\n",
       "\t1 & year & 1982.99 & 1951 & 1986.0 & 2014 & 0 & Int64 \\\\\n",
       "\t2 & language &  & ALGOL 58 &  & dBase III & 0 & String31 \\\\\n",
       "\\end{tabular}\n"
      ],
      "text/plain": [
       "\u001b[1m2×7 DataFrame\u001b[0m\n",
       "\u001b[1m Row \u001b[0m│\u001b[1m variable \u001b[0m\u001b[1m mean    \u001b[0m\u001b[1m min      \u001b[0m\u001b[1m median \u001b[0m\u001b[1m max       \u001b[0m\u001b[1m nmissing \u001b[0m\u001b[1m eltype   \u001b[0m\n",
       "\u001b[1m     \u001b[0m│\u001b[90m Symbol   \u001b[0m\u001b[90m Union…  \u001b[0m\u001b[90m Any      \u001b[0m\u001b[90m Union… \u001b[0m\u001b[90m Any       \u001b[0m\u001b[90m Int64    \u001b[0m\u001b[90m DataType \u001b[0m\n",
       "─────┼────────────────────────────────────────────────────────────────────\n",
       "   1 │ year      1982.99  1951      1986.0  2014              0  Int64\n",
       "   2 │ language \u001b[90m         \u001b[0m ALGOL 58 \u001b[90m        \u001b[0m dBase III         0  String31"
      ]
     },
     "execution_count": 29,
     "metadata": {},
     "output_type": "execute_result"
    }
   ],
   "source": [
    "describe(C)"
   ]
  },
  {
   "cell_type": "code",
   "execution_count": 30,
   "id": "540b26ce-dfb3-4c40-9f63-ecbf2929026a",
   "metadata": {},
   "outputs": [
    {
     "name": "stdout",
     "output_type": "stream",
     "text": [
      "  119.900 μs (2438 allocations: 111.16 KiB)\n",
      "  101.300 μs (245 allocations: 39.42 KiB)\n"
     ]
    }
   ],
   "source": [
    "@btime P,H = readdlm(\"programming_languages.csv\",',';header=true);\n",
    "@btime C = CSV.read(\"programming_languages.csv\", DataFrame);"
   ]
  },
  {
   "cell_type": "code",
   "execution_count": 33,
   "id": "86cf8036-612e-4f70-8f18-9168c89553f2",
   "metadata": {},
   "outputs": [
    {
     "data": {
      "text/plain": [
       "\"programminglanguages_CSV.csv\""
      ]
     },
     "execution_count": 33,
     "metadata": {},
     "output_type": "execute_result"
    }
   ],
   "source": [
    "# To write to a *.csv file using the CSV package\n",
    "CSV.write(\"programminglanguages_CSV.csv\", DataFrame(P, :auto),header=true)"
   ]
  },
  {
   "cell_type": "code",
   "execution_count": 34,
   "id": "8f7d9212-c3c6-4196-95fe-6fa7fe6b80ce",
   "metadata": {},
   "outputs": [
    {
     "data": {
      "text/plain": [
       "\"programminglanguages_CSV_header.csv\""
      ]
     },
     "execution_count": 34,
     "metadata": {},
     "output_type": "execute_result"
    }
   ],
   "source": [
    "CSV.write(\"programminglanguages_CSV_header.csv\", C,header=true)"
   ]
  },
  {
   "cell_type": "code",
   "execution_count": 35,
   "id": "91b96166-b1ef-43a9-b98e-536a2380122e",
   "metadata": {},
   "outputs": [
    {
     "data": {
      "text/plain": [
       "9×6 Matrix{Any}:\n",
       "      \"RegionID\"  \"RegionName\"    …      \"2008-03\"      \"2008-04\"\n",
       "  6181            \"New York\"             missing        missing\n",
       " 12447            \"Los Angeles\"      1446           1705\n",
       " 39051            \"Houston\"          2926           3121\n",
       " 17426            \"Chicago\"          2910           3022\n",
       "  6915            \"San Antonio\"   …  1479           1529\n",
       " 13271            \"Philadelphia\"     1609           1795\n",
       " 40326            \"Phoenix\"          1310           1519\n",
       " 18959            \"Las Vegas\"        1618           1856"
      ]
     },
     "execution_count": 35,
     "metadata": {},
     "output_type": "execute_result"
    }
   ],
   "source": [
    "#read xlsx\n",
    "T = XLSX.readdata(\"data/zillow_data_download_april2020.xlsx\", #file name\n",
    "    \"Sale_counts_city\", #sheet name\n",
    "    \"A1:F9\" #cell range\n",
    "    )"
   ]
  },
  {
   "cell_type": "code",
   "execution_count": 39,
   "id": "556c491e-3534-4d26-b23b-b304f5019e9e",
   "metadata": {},
   "outputs": [],
   "source": [
    "#Here, G is a tuple of two items. The first is an vector of vectors where each vector corresponds to a column in the excel file. And the second is the header with the column names.\n",
    "G = XLSX.readtable(\"data/zillow_data_download_april2020.xlsx\",\"Sale_counts_city\");"
   ]
  },
  {
   "cell_type": "code",
   "execution_count": 40,
   "id": "4f004860-39bf-465e-b1c4-3f114eedd4e6",
   "metadata": {},
   "outputs": [
    {
     "data": {
      "text/plain": [
       "148-element Vector{Any}:\n",
       " Any[6181, 12447, 39051, 17426, 6915, 13271, 40326, 18959, 54296, 38128  …  396952, 397236, 398030, 398104, 398357, 398712, 398716, 399081, 737789, 760882]\n",
       " Any[\"New York\", \"Los Angeles\", \"Houston\", \"Chicago\", \"San Antonio\", \"Philadelphia\", \"Phoenix\", \"Las Vegas\", \"San Diego\", \"Dallas\"  …  \"Barnard Plantation\", \"Windsor Place\", \"Stockbridge\", \"Mattamiscontis\", \"Chase Stream\", \"Bowdoin College Grant West\", \"Summerset\", \"Long Pond\", \"Hideout\", \"Ebeemee\"]\n",
       " Any[\"New York\", \"California\", \"Texas\", \"Illinois\", \"Texas\", \"Pennsylvania\", \"Arizona\", \"Nevada\", \"California\", \"Texas\"  …  \"Maine\", \"Missouri\", \"Wisconsin\", \"Maine\", \"Maine\", \"Maine\", \"South Dakota\", \"Maine\", \"Utah\", \"Maine\"]\n",
       " Any[1, 2, 3, 4, 5, 6, 7, 8, 9, 10  …  28750, 28751, 28752, 28753, 28754, 28755, 28756, 28757, 28758, 28759]\n",
       " Any[missing, 1446, 2926, 2910, 1479, 1609, 1310, 1618, 772, 1158  …  0, 0, 0, 0, 0, 0, 0, 0, 1, 0]\n",
       " Any[missing, 1705, 3121, 3022, 1529, 1795, 1519, 1856, 1057, 1232  …  0, 0, 0, 0, 0, 0, 0, 0, 0, 0]\n",
       " Any[missing, 1795, 3220, 2937, 1582, 1709, 1654, 1961, 1195, 1240  …  0, 0, 0, 0, 0, 0, 2, 0, 0, 0]\n",
       " Any[missing, 1890, 3405, 3224, 1761, 1914, 1743, 2022, 1115, 1236  …  0, 0, 0, 0, 0, 0, 0, 0, 0, 0]\n",
       " Any[missing, 2072, 3352, 3464, 1678, 1984, 1975, 2219, 1272, 1392  …  0, 0, 0, 0, 0, 1, 1, 0, 0, 0]\n",
       " Any[missing, 1876, 2962, 3371, 1468, 1739, 1809, 2248, 1171, 1138  …  0, 0, 0, 0, 0, 0, 0, 0, 0, 0]\n",
       " Any[missing, 1981, 2017, 2979, 1480, 1635, 1965, 2207, 1193, 1042  …  0, 0, 0, 0, 0, 0, 0, 0, 0, 0]\n",
       " Any[missing, 2195, 2595, 2869, 1475, 1598, 2074, 2372, 1319, 1089  …  0, 1, 0, 0, 0, 0, 0, 0, 0, 0]\n",
       " Any[missing, 1579, 1865, 1915, 949, 1169, 1435, 1880, 873, 772  …  0, 0, 0, 0, 1, 0, 0, 0, 0, 0]\n",
       " ⋮\n",
       " Any[3456, 2150, 3283, 2735, 1989, 1958, 3378, 2748, 1207, 1058  …  0, 1, 0, 1, 4, 0, 6, 0, 0, 0]\n",
       " Any[3652, 2537, 3620, 3197, 2137, 2177, 3728, 2959, 1384, 1221  …  0, 0, 0, 0, 0, 0, 4, 0, 0, 0]\n",
       " Any[3473, 2651, 3894, 3702, 2384, 2682, 3898, 3284, 1542, 1407  …  0, 0, 0, 0, 0, 2, 3, 0, 0, 0]\n",
       " Any[3900, 2504, 3511, 3549, 2242, 2270, 3570, 3058, 1433, 1235  …  0, 0, 2, 0, 0, 2, 6, 0, 1, 0]\n",
       " Any[4493, 2675, 3687, 3622, 2300, 2479, 3616, 3235, 1529, 1423  …  0, 0, 0, 0, 0, 3, 10, 0, 1, 0]\n",
       " Any[4266, 2759, 3414, 3619, 2233, 2503, 3581, 3254, 1479, 1266  …  0, missing, 0, 0, 0, 3, 5, 0, 2, 0]\n",
       " Any[4183, 2334, 2803, 2938, 1788, 2184, 3199, 2821, 1307, 1143  …  0, missing, 0, 0, 1, 1, 4, 0, 1, 0]\n",
       " Any[4232, 2594, 2969, 2930, 1917, 2337, 3189, 3097, 1356, 1239  …  0, missing, 0, 0, 0, missing, 8, 0, 2, 0]\n",
       " Any[3869, 2272, 2699, 2176, 1520, 1931, 2867, 2702, 1179, 1117  …  0, missing, 0, 0, 0, missing, 8, 0, missing, 0]\n",
       " Any[3938, 2394, 3338, 2866, 1876, 2192, 2934, 2810, 1276, 1315  …  0, missing, 0, 0, 0, missing, 5, 0, missing, 0]\n",
       " Any[4306, 2006, 2407, 2240, 1460, 2381, 2226, 2512, 1020, 1056  …  0, missing, 0, 0, 0, missing, 1, 0, missing, 1]\n",
       " Any[4054, 1522, 2682, 2100, 1626, 1620, 2325, 2547, missing, 1292  …  missing, missing, missing, missing, missing, missing, 2, 0, missing, 0]"
      ]
     },
     "execution_count": 40,
     "metadata": {},
     "output_type": "execute_result"
    }
   ],
   "source": [
    "G[1]"
   ]
  },
  {
   "cell_type": "code",
   "execution_count": 41,
   "id": "1b1a6953-4973-4742-b70a-d26a96c80a71",
   "metadata": {},
   "outputs": [
    {
     "data": {
      "text/plain": [
       "148-element Vector{Symbol}:\n",
       " :RegionID\n",
       " :RegionName\n",
       " :StateName\n",
       " :SizeRank\n",
       " Symbol(\"2008-03\")\n",
       " Symbol(\"2008-04\")\n",
       " Symbol(\"2008-05\")\n",
       " Symbol(\"2008-06\")\n",
       " Symbol(\"2008-07\")\n",
       " Symbol(\"2008-08\")\n",
       " Symbol(\"2008-09\")\n",
       " Symbol(\"2008-10\")\n",
       " Symbol(\"2008-11\")\n",
       " ⋮\n",
       " Symbol(\"2019-03\")\n",
       " Symbol(\"2019-04\")\n",
       " Symbol(\"2019-05\")\n",
       " Symbol(\"2019-06\")\n",
       " Symbol(\"2019-07\")\n",
       " Symbol(\"2019-08\")\n",
       " Symbol(\"2019-09\")\n",
       " Symbol(\"2019-10\")\n",
       " Symbol(\"2019-11\")\n",
       " Symbol(\"2019-12\")\n",
       " Symbol(\"2020-01\")\n",
       " Symbol(\"2020-02\")"
      ]
     },
     "execution_count": 41,
     "metadata": {},
     "output_type": "execute_result"
    }
   ],
   "source": [
    "G[2]"
   ]
  },
  {
   "cell_type": "code",
   "execution_count": 45,
   "id": "eac505ef-9c78-4bfb-b534-2a899ff00241",
   "metadata": {},
   "outputs": [
    {
     "data": {
      "text/plain": [
       "10-element Vector{Any}:\n",
       "  6181\n",
       " 12447\n",
       " 39051\n",
       " 17426\n",
       "  6915\n",
       " 13271\n",
       " 40326\n",
       " 18959\n",
       " 54296\n",
       " 38128"
      ]
     },
     "execution_count": 45,
     "metadata": {},
     "output_type": "execute_result"
    }
   ],
   "source": [
    "G[1][1][1:10]"
   ]
  },
  {
   "cell_type": "code",
   "execution_count": 46,
   "id": "75cc9eb7-2661-4afa-9dac-20f8cb4abb03",
   "metadata": {},
   "outputs": [
    {
     "data": {
      "text/plain": [
       "10-element Vector{Symbol}:\n",
       " :RegionID\n",
       " :RegionName\n",
       " :StateName\n",
       " :SizeRank\n",
       " Symbol(\"2008-03\")\n",
       " Symbol(\"2008-04\")\n",
       " Symbol(\"2008-05\")\n",
       " Symbol(\"2008-06\")\n",
       " Symbol(\"2008-07\")\n",
       " Symbol(\"2008-08\")"
      ]
     },
     "execution_count": 46,
     "metadata": {},
     "output_type": "execute_result"
    }
   ],
   "source": [
    "G[2][1:10]"
   ]
  },
  {
   "cell_type": "code",
   "execution_count": 47,
   "id": "56f8dcc9-48c8-4906-a2dc-bdeaf988f80e",
   "metadata": {},
   "outputs": [
    {
     "data": {
      "text/html": [
       "<div class=\"data-frame\"><p>28,759 rows × 148 columns (omitted printing of 141 columns)</p><table class=\"data-frame\"><thead><tr><th></th><th>RegionID</th><th>RegionName</th><th>StateName</th><th>SizeRank</th><th>2008-03</th><th>2008-04</th><th>2008-05</th></tr><tr><th></th><th title=\"Any\">Any</th><th title=\"Any\">Any</th><th title=\"Any\">Any</th><th title=\"Any\">Any</th><th title=\"Any\">Any</th><th title=\"Any\">Any</th><th title=\"Any\">Any</th></tr></thead><tbody><tr><th>1</th><td>6181</td><td>New York</td><td>New York</td><td>1</td><td><em>missing</em></td><td><em>missing</em></td><td><em>missing</em></td></tr><tr><th>2</th><td>12447</td><td>Los Angeles</td><td>California</td><td>2</td><td>1446</td><td>1705</td><td>1795</td></tr><tr><th>3</th><td>39051</td><td>Houston</td><td>Texas</td><td>3</td><td>2926</td><td>3121</td><td>3220</td></tr><tr><th>4</th><td>17426</td><td>Chicago</td><td>Illinois</td><td>4</td><td>2910</td><td>3022</td><td>2937</td></tr><tr><th>5</th><td>6915</td><td>San Antonio</td><td>Texas</td><td>5</td><td>1479</td><td>1529</td><td>1582</td></tr><tr><th>6</th><td>13271</td><td>Philadelphia</td><td>Pennsylvania</td><td>6</td><td>1609</td><td>1795</td><td>1709</td></tr><tr><th>7</th><td>40326</td><td>Phoenix</td><td>Arizona</td><td>7</td><td>1310</td><td>1519</td><td>1654</td></tr><tr><th>8</th><td>18959</td><td>Las Vegas</td><td>Nevada</td><td>8</td><td>1618</td><td>1856</td><td>1961</td></tr><tr><th>9</th><td>54296</td><td>San Diego</td><td>California</td><td>9</td><td>772</td><td>1057</td><td>1195</td></tr><tr><th>10</th><td>38128</td><td>Dallas</td><td>Texas</td><td>10</td><td>1158</td><td>1232</td><td>1240</td></tr><tr><th>11</th><td>10221</td><td>Austin</td><td>Texas</td><td>11</td><td>997</td><td>1140</td><td>1168</td></tr><tr><th>12</th><td>33839</td><td>San Jose</td><td>California</td><td>12</td><td>455</td><td>555</td><td>583</td></tr><tr><th>13</th><td>25290</td><td>Jacksonville</td><td>Florida</td><td>13</td><td>613</td><td>730</td><td>738</td></tr><tr><th>14</th><td>32149</td><td>Indianapolis</td><td>Indiana</td><td>14</td><td><em>missing</em></td><td><em>missing</em></td><td><em>missing</em></td></tr><tr><th>15</th><td>20330</td><td>San Francisco</td><td>California</td><td>15</td><td>419</td><td>485</td><td>553</td></tr><tr><th>16</th><td>24043</td><td>Charlotte</td><td>North Carolina</td><td>16</td><td>1101</td><td>1201</td><td>1380</td></tr><tr><th>17</th><td>18172</td><td>Fort Worth</td><td>Texas</td><td>17</td><td>862</td><td>1130</td><td>1000</td></tr><tr><th>18</th><td>7481</td><td>Tucson</td><td>Arizona</td><td>18</td><td>737</td><td>841</td><td>842</td></tr><tr><th>19</th><td>10920</td><td>Columbus</td><td>Ohio</td><td>19</td><td>832</td><td>975</td><td>939</td></tr><tr><th>20</th><td>12455</td><td>Louisville</td><td>Kentucky</td><td>20</td><td>881</td><td>1017</td><td>967</td></tr><tr><th>21</th><td>13121</td><td>Orlando</td><td>Florida</td><td>21</td><td>550</td><td>507</td><td>489</td></tr><tr><th>22</th><td>17933</td><td>El Paso</td><td>Texas</td><td>22</td><td><em>missing</em></td><td><em>missing</em></td><td><em>missing</em></td></tr><tr><th>23</th><td>17762</td><td>Detroit</td><td>Michigan</td><td>23</td><td><em>missing</em></td><td><em>missing</em></td><td><em>missing</em></td></tr><tr><th>24</th><td>11093</td><td>Denver</td><td>Colorado</td><td>24</td><td>975</td><td>1076</td><td>1241</td></tr><tr><th>25</th><td>16037</td><td>Seattle</td><td>Washington</td><td>25</td><td>615</td><td>641</td><td>689</td></tr><tr><th>26</th><td>32811</td><td>Memphis</td><td>Tennessee</td><td>26</td><td>872</td><td>802</td><td>775</td></tr><tr><th>27</th><td>44269</td><td>Boston</td><td>Massachusetts</td><td>27</td><td><em>missing</em></td><td><em>missing</em></td><td><em>missing</em></td></tr><tr><th>28</th><td>41568</td><td>Washington</td><td>District of Columbia</td><td>28</td><td>479</td><td>429</td><td>503</td></tr><tr><th>29</th><td>13373</td><td>Portland</td><td>Oregon</td><td>29</td><td>787</td><td>745</td><td>926</td></tr><tr><th>30</th><td>6118</td><td>Nashville</td><td>Tennessee</td><td>30</td><td>671</td><td>778</td><td>779</td></tr><tr><th>&vellip;</th><td>&vellip;</td><td>&vellip;</td><td>&vellip;</td><td>&vellip;</td><td>&vellip;</td><td>&vellip;</td><td>&vellip;</td></tr></tbody></table></div>"
      ],
      "text/latex": [
       "\\begin{tabular}{r|cccccccc}\n",
       "\t& RegionID & RegionName & StateName & SizeRank & 2008-03 & 2008-04 & 2008-05 & \\\\\n",
       "\t\\hline\n",
       "\t& Any & Any & Any & Any & Any & Any & Any & \\\\\n",
       "\t\\hline\n",
       "\t1 & 6181 & New York & New York & 1 & \\emph{missing} & \\emph{missing} & \\emph{missing} & $\\dots$ \\\\\n",
       "\t2 & 12447 & Los Angeles & California & 2 & 1446 & 1705 & 1795 & $\\dots$ \\\\\n",
       "\t3 & 39051 & Houston & Texas & 3 & 2926 & 3121 & 3220 & $\\dots$ \\\\\n",
       "\t4 & 17426 & Chicago & Illinois & 4 & 2910 & 3022 & 2937 & $\\dots$ \\\\\n",
       "\t5 & 6915 & San Antonio & Texas & 5 & 1479 & 1529 & 1582 & $\\dots$ \\\\\n",
       "\t6 & 13271 & Philadelphia & Pennsylvania & 6 & 1609 & 1795 & 1709 & $\\dots$ \\\\\n",
       "\t7 & 40326 & Phoenix & Arizona & 7 & 1310 & 1519 & 1654 & $\\dots$ \\\\\n",
       "\t8 & 18959 & Las Vegas & Nevada & 8 & 1618 & 1856 & 1961 & $\\dots$ \\\\\n",
       "\t9 & 54296 & San Diego & California & 9 & 772 & 1057 & 1195 & $\\dots$ \\\\\n",
       "\t10 & 38128 & Dallas & Texas & 10 & 1158 & 1232 & 1240 & $\\dots$ \\\\\n",
       "\t11 & 10221 & Austin & Texas & 11 & 997 & 1140 & 1168 & $\\dots$ \\\\\n",
       "\t12 & 33839 & San Jose & California & 12 & 455 & 555 & 583 & $\\dots$ \\\\\n",
       "\t13 & 25290 & Jacksonville & Florida & 13 & 613 & 730 & 738 & $\\dots$ \\\\\n",
       "\t14 & 32149 & Indianapolis & Indiana & 14 & \\emph{missing} & \\emph{missing} & \\emph{missing} & $\\dots$ \\\\\n",
       "\t15 & 20330 & San Francisco & California & 15 & 419 & 485 & 553 & $\\dots$ \\\\\n",
       "\t16 & 24043 & Charlotte & North Carolina & 16 & 1101 & 1201 & 1380 & $\\dots$ \\\\\n",
       "\t17 & 18172 & Fort Worth & Texas & 17 & 862 & 1130 & 1000 & $\\dots$ \\\\\n",
       "\t18 & 7481 & Tucson & Arizona & 18 & 737 & 841 & 842 & $\\dots$ \\\\\n",
       "\t19 & 10920 & Columbus & Ohio & 19 & 832 & 975 & 939 & $\\dots$ \\\\\n",
       "\t20 & 12455 & Louisville & Kentucky & 20 & 881 & 1017 & 967 & $\\dots$ \\\\\n",
       "\t21 & 13121 & Orlando & Florida & 21 & 550 & 507 & 489 & $\\dots$ \\\\\n",
       "\t22 & 17933 & El Paso & Texas & 22 & \\emph{missing} & \\emph{missing} & \\emph{missing} & $\\dots$ \\\\\n",
       "\t23 & 17762 & Detroit & Michigan & 23 & \\emph{missing} & \\emph{missing} & \\emph{missing} & $\\dots$ \\\\\n",
       "\t24 & 11093 & Denver & Colorado & 24 & 975 & 1076 & 1241 & $\\dots$ \\\\\n",
       "\t25 & 16037 & Seattle & Washington & 25 & 615 & 641 & 689 & $\\dots$ \\\\\n",
       "\t26 & 32811 & Memphis & Tennessee & 26 & 872 & 802 & 775 & $\\dots$ \\\\\n",
       "\t27 & 44269 & Boston & Massachusetts & 27 & \\emph{missing} & \\emph{missing} & \\emph{missing} & $\\dots$ \\\\\n",
       "\t28 & 41568 & Washington & District of Columbia & 28 & 479 & 429 & 503 & $\\dots$ \\\\\n",
       "\t29 & 13373 & Portland & Oregon & 29 & 787 & 745 & 926 & $\\dots$ \\\\\n",
       "\t30 & 6118 & Nashville & Tennessee & 30 & 671 & 778 & 779 & $\\dots$ \\\\\n",
       "\t$\\dots$ & $\\dots$ & $\\dots$ & $\\dots$ & $\\dots$ & $\\dots$ & $\\dots$ & $\\dots$ &  \\\\\n",
       "\\end{tabular}\n"
      ],
      "text/plain": [
       "\u001b[1m28759×148 DataFrame\u001b[0m\n",
       "\u001b[1m   Row \u001b[0m│\u001b[1m RegionID \u001b[0m\u001b[1m RegionName                 \u001b[0m\u001b[1m StateName     \u001b[0m\u001b[1m SizeRank \u001b[0m\u001b[1m 2008-0\u001b[0m ⋯\n",
       "\u001b[1m       \u001b[0m│\u001b[90m Any      \u001b[0m\u001b[90m Any                        \u001b[0m\u001b[90m Any           \u001b[0m\u001b[90m Any      \u001b[0m\u001b[90m Any   \u001b[0m ⋯\n",
       "───────┼────────────────────────────────────────────────────────────────────────\n",
       "     1 │ 6181      New York                    New York       1        \u001b[90m missin\u001b[0m ⋯\n",
       "     2 │ 12447     Los Angeles                 California     2         1446\n",
       "     3 │ 39051     Houston                     Texas          3         2926\n",
       "     4 │ 17426     Chicago                     Illinois       4         2910\n",
       "     5 │ 6915      San Antonio                 Texas          5         1479   ⋯\n",
       "     6 │ 13271     Philadelphia                Pennsylvania   6         1609\n",
       "     7 │ 40326     Phoenix                     Arizona        7         1310\n",
       "     8 │ 18959     Las Vegas                   Nevada         8         1618\n",
       "     9 │ 54296     San Diego                   California     9         772    ⋯\n",
       "    10 │ 38128     Dallas                      Texas          10        1158\n",
       "    11 │ 10221     Austin                      Texas          11        997\n",
       "   ⋮   │    ⋮                  ⋮                     ⋮           ⋮         ⋮   ⋱\n",
       " 28750 │ 396952    Barnard Plantation          Maine          28750     0\n",
       " 28751 │ 397236    Windsor Place               Missouri       28751     0      ⋯\n",
       " 28752 │ 398030    Stockbridge                 Wisconsin      28752     0\n",
       " 28753 │ 398104    Mattamiscontis              Maine          28753     0\n",
       " 28754 │ 398357    Chase Stream                Maine          28754     0\n",
       " 28755 │ 398712    Bowdoin College Grant West  Maine          28755     0      ⋯\n",
       " 28756 │ 398716    Summerset                   South Dakota   28756     0\n",
       " 28757 │ 399081    Long Pond                   Maine          28757     0\n",
       " 28758 │ 737789    Hideout                     Utah           28758     1\n",
       " 28759 │ 760882    Ebeemee                     Maine          28759     0      ⋯\n",
       "\u001b[36m                                              144 columns and 28738 rows omitted\u001b[0m"
      ]
     },
     "execution_count": 47,
     "metadata": {},
     "output_type": "execute_result"
    }
   ],
   "source": [
    "D = DataFrame(G...) # equivalent to DataFrame(G[1],G[2])"
   ]
  },
  {
   "cell_type": "code",
   "execution_count": 50,
   "id": "945df0d0-9526-4695-8da8-d384fba85652",
   "metadata": {},
   "outputs": [
    {
     "data": {
      "text/html": [
       "<div class=\"data-frame\"><p>4 rows × 2 columns</p><table class=\"data-frame\"><thead><tr><th></th><th>item</th><th>price</th></tr><tr><th></th><th title=\"String\">String</th><th title=\"Float64\">Float64</th></tr></thead><tbody><tr><th>1</th><td>apple</td><td>0.85</td></tr><tr><th>2</th><td>cucumber</td><td>1.6</td></tr><tr><th>3</th><td>tomato</td><td>0.8</td></tr><tr><th>4</th><td>banana</td><td>0.6</td></tr></tbody></table></div>"
      ],
      "text/latex": [
       "\\begin{tabular}{r|cc}\n",
       "\t& item & price\\\\\n",
       "\t\\hline\n",
       "\t& String & Float64\\\\\n",
       "\t\\hline\n",
       "\t1 & apple & 0.85 \\\\\n",
       "\t2 & cucumber & 1.6 \\\\\n",
       "\t3 & tomato & 0.8 \\\\\n",
       "\t4 & banana & 0.6 \\\\\n",
       "\\end{tabular}\n"
      ],
      "text/plain": [
       "\u001b[1m4×2 DataFrame\u001b[0m\n",
       "\u001b[1m Row \u001b[0m│\u001b[1m item     \u001b[0m\u001b[1m price   \u001b[0m\n",
       "\u001b[1m     \u001b[0m│\u001b[90m String   \u001b[0m\u001b[90m Float64 \u001b[0m\n",
       "─────┼───────────────────\n",
       "   1 │ apple        0.85\n",
       "   2 │ cucumber     1.6\n",
       "   3 │ tomato       0.8\n",
       "   4 │ banana       0.6"
      ]
     },
     "execution_count": 50,
     "metadata": {},
     "output_type": "execute_result"
    }
   ],
   "source": [
    "# define datafram from array\n",
    "foods = [\"apple\", \"cucumber\", \"tomato\", \"banana\"]\n",
    "calories = [105,47,22,105]\n",
    "prices = [0.85,1.6,0.8,0.6]\n",
    "dataframe_calories = DataFrame(item=foods,calories=calories)\n",
    "dataframe_prices = DataFrame(item=foods,price=prices)"
   ]
  },
  {
   "cell_type": "code",
   "execution_count": 52,
   "id": "acdf6e3f-5efa-44a0-a0f1-15fd43e2ed32",
   "metadata": {},
   "outputs": [
    {
     "data": {
      "text/html": [
       "<div class=\"data-frame\"><p>4 rows × 3 columns</p><table class=\"data-frame\"><thead><tr><th></th><th>item</th><th>calories</th><th>price</th></tr><tr><th></th><th title=\"String\">String</th><th title=\"Int64\">Int64</th><th title=\"Float64\">Float64</th></tr></thead><tbody><tr><th>1</th><td>apple</td><td>105</td><td>0.85</td></tr><tr><th>2</th><td>cucumber</td><td>47</td><td>1.6</td></tr><tr><th>3</th><td>tomato</td><td>22</td><td>0.8</td></tr><tr><th>4</th><td>banana</td><td>105</td><td>0.6</td></tr></tbody></table></div>"
      ],
      "text/latex": [
       "\\begin{tabular}{r|ccc}\n",
       "\t& item & calories & price\\\\\n",
       "\t\\hline\n",
       "\t& String & Int64 & Float64\\\\\n",
       "\t\\hline\n",
       "\t1 & apple & 105 & 0.85 \\\\\n",
       "\t2 & cucumber & 47 & 1.6 \\\\\n",
       "\t3 & tomato & 22 & 0.8 \\\\\n",
       "\t4 & banana & 105 & 0.6 \\\\\n",
       "\\end{tabular}\n"
      ],
      "text/plain": [
       "\u001b[1m4×3 DataFrame\u001b[0m\n",
       "\u001b[1m Row \u001b[0m│\u001b[1m item     \u001b[0m\u001b[1m calories \u001b[0m\u001b[1m price   \u001b[0m\n",
       "\u001b[1m     \u001b[0m│\u001b[90m String   \u001b[0m\u001b[90m Int64    \u001b[0m\u001b[90m Float64 \u001b[0m\n",
       "─────┼─────────────────────────────\n",
       "   1 │ apple          105     0.85\n",
       "   2 │ cucumber        47     1.6\n",
       "   3 │ tomato          22     0.8\n",
       "   4 │ banana         105     0.6"
      ]
     },
     "execution_count": 52,
     "metadata": {},
     "output_type": "execute_result"
    }
   ],
   "source": [
    "# join datafram\n",
    "DF = innerjoin(dataframe_calories,dataframe_prices,on=:item)"
   ]
  },
  {
   "cell_type": "code",
   "execution_count": 53,
   "id": "c1e9fa49-df56-440f-8b89-4df181a3906c",
   "metadata": {},
   "outputs": [
    {
     "data": {
      "text/html": [
       "<div class=\"data-frame\"><p>9 rows × 6 columns</p><table class=\"data-frame\"><thead><tr><th></th><th>x1</th><th>x2</th><th>x3</th><th>x4</th><th>x5</th><th>x6</th></tr><tr><th></th><th title=\"Any\">Any</th><th title=\"Any\">Any</th><th title=\"Any\">Any</th><th title=\"Any\">Any</th><th title=\"Any\">Any</th><th title=\"Any\">Any</th></tr></thead><tbody><tr><th>1</th><td>RegionID</td><td>RegionName</td><td>StateName</td><td>SizeRank</td><td>2008-03</td><td>2008-04</td></tr><tr><th>2</th><td>6181</td><td>New York</td><td>New York</td><td>1</td><td><em>missing</em></td><td><em>missing</em></td></tr><tr><th>3</th><td>12447</td><td>Los Angeles</td><td>California</td><td>2</td><td>1446</td><td>1705</td></tr><tr><th>4</th><td>39051</td><td>Houston</td><td>Texas</td><td>3</td><td>2926</td><td>3121</td></tr><tr><th>5</th><td>17426</td><td>Chicago</td><td>Illinois</td><td>4</td><td>2910</td><td>3022</td></tr><tr><th>6</th><td>6915</td><td>San Antonio</td><td>Texas</td><td>5</td><td>1479</td><td>1529</td></tr><tr><th>7</th><td>13271</td><td>Philadelphia</td><td>Pennsylvania</td><td>6</td><td>1609</td><td>1795</td></tr><tr><th>8</th><td>40326</td><td>Phoenix</td><td>Arizona</td><td>7</td><td>1310</td><td>1519</td></tr><tr><th>9</th><td>18959</td><td>Las Vegas</td><td>Nevada</td><td>8</td><td>1618</td><td>1856</td></tr></tbody></table></div>"
      ],
      "text/latex": [
       "\\begin{tabular}{r|cccccc}\n",
       "\t& x1 & x2 & x3 & x4 & x5 & x6\\\\\n",
       "\t\\hline\n",
       "\t& Any & Any & Any & Any & Any & Any\\\\\n",
       "\t\\hline\n",
       "\t1 & RegionID & RegionName & StateName & SizeRank & 2008-03 & 2008-04 \\\\\n",
       "\t2 & 6181 & New York & New York & 1 & \\emph{missing} & \\emph{missing} \\\\\n",
       "\t3 & 12447 & Los Angeles & California & 2 & 1446 & 1705 \\\\\n",
       "\t4 & 39051 & Houston & Texas & 3 & 2926 & 3121 \\\\\n",
       "\t5 & 17426 & Chicago & Illinois & 4 & 2910 & 3022 \\\\\n",
       "\t6 & 6915 & San Antonio & Texas & 5 & 1479 & 1529 \\\\\n",
       "\t7 & 13271 & Philadelphia & Pennsylvania & 6 & 1609 & 1795 \\\\\n",
       "\t8 & 40326 & Phoenix & Arizona & 7 & 1310 & 1519 \\\\\n",
       "\t9 & 18959 & Las Vegas & Nevada & 8 & 1618 & 1856 \\\\\n",
       "\\end{tabular}\n"
      ],
      "text/plain": [
       "\u001b[1m9×6 DataFrame\u001b[0m\n",
       "\u001b[1m Row \u001b[0m│\u001b[1m x1       \u001b[0m\u001b[1m x2           \u001b[0m\u001b[1m x3           \u001b[0m\u001b[1m x4       \u001b[0m\u001b[1m x5      \u001b[0m\u001b[1m x6      \u001b[0m\n",
       "\u001b[1m     \u001b[0m│\u001b[90m Any      \u001b[0m\u001b[90m Any          \u001b[0m\u001b[90m Any          \u001b[0m\u001b[90m Any      \u001b[0m\u001b[90m Any     \u001b[0m\u001b[90m Any     \u001b[0m\n",
       "─────┼──────────────────────────────────────────────────────────────────\n",
       "   1 │ RegionID  RegionName    StateName     SizeRank  2008-03  2008-04\n",
       "   2 │ 6181      New York      New York      1        \u001b[90m missing \u001b[0m\u001b[90m missing \u001b[0m\n",
       "   3 │ 12447     Los Angeles   California    2         1446     1705\n",
       "   4 │ 39051     Houston       Texas         3         2926     3121\n",
       "   5 │ 17426     Chicago       Illinois      4         2910     3022\n",
       "   6 │ 6915      San Antonio   Texas         5         1479     1529\n",
       "   7 │ 13271     Philadelphia  Pennsylvania  6         1609     1795\n",
       "   8 │ 40326     Phoenix       Arizona       7         1310     1519\n",
       "   9 │ 18959     Las Vegas     Nevada        8         1618     1856"
      ]
     },
     "execution_count": 53,
     "metadata": {},
     "output_type": "execute_result"
    }
   ],
   "source": [
    "DataFrame(T, :auto)"
   ]
  },
  {
   "cell_type": "markdown",
   "id": "44be84f7-7171-43d2-97ff-8870e64fab52",
   "metadata": {},
   "source": [
    "jld, npz, rda, and mat files.(Julia, Python, R, Matlab).\n",
    "npz is zipped/non_zipped file contians multiple npy in python"
   ]
  },
  {
   "cell_type": "code",
   "execution_count": null,
   "id": "0357ad2a-f673-42e7-abdc-7dae19444a1b",
   "metadata": {},
   "outputs": [],
   "source": []
  }
 ],
 "metadata": {
  "kernelspec": {
   "display_name": "Julia 1.7.0",
   "language": "julia",
   "name": "julia-1.7"
  },
  "language_info": {
   "file_extension": ".jl",
   "mimetype": "application/julia",
   "name": "julia",
   "version": "1.7.0"
  }
 },
 "nbformat": 4,
 "nbformat_minor": 5
}
