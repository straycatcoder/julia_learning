{
 "cells": [
  {
   "cell_type": "code",
   "execution_count": 1,
   "id": "1ca0e567-16d5-4f12-8c61-c4684b71b7f4",
   "metadata": {},
   "outputs": [
    {
     "data": {
      "text/plain": [
       "365.0f0"
      ]
     },
     "execution_count": 1,
     "metadata": {},
     "output_type": "execute_result"
    }
   ],
   "source": [
    "# covert variable type\n",
    "# https://docs.julialang.org/en/v1/base/base/#Base.convert\n",
    "days = 365\n",
    "days_float = convert(Float32, days)"
   ]
  },
  {
   "cell_type": "code",
   "execution_count": 2,
   "id": "284debc8-700c-4313-9faf-cfee36c5d1c4",
   "metadata": {},
   "outputs": [],
   "source": [
    "@assert days == 365\n",
    "@assert days_float == 365.0"
   ]
  },
  {
   "cell_type": "code",
   "execution_count": 3,
   "id": "830ee85b-3cc3-405c-a487-1d274e9843fd",
   "metadata": {},
   "outputs": [
    {
     "data": {
      "text/plain": [
       "true"
      ]
     },
     "execution_count": 3,
     "metadata": {},
     "output_type": "execute_result"
    }
   ],
   "source": [
    "days_float == 365.0"
   ]
  },
  {
   "cell_type": "code",
   "execution_count": 4,
   "id": "b050d22a-5cba-4551-8d2f-298f84179928",
   "metadata": {},
   "outputs": [
    {
     "data": {
      "text/plain": [
       "\"😸\\\"😸\\\"😸\""
      ]
     },
     "execution_count": 4,
     "metadata": {},
     "output_type": "execute_result"
    }
   ],
   "source": [
    "# string\n",
    "a='😸'\n",
    "b=\"😸😸\"\n",
    "c=\"\"\"😸\"😸\"😸\"\"\""
   ]
  },
  {
   "cell_type": "code",
   "execution_count": 5,
   "id": "ea1f1416-af3f-4ad9-a843-d8c5b07fe225",
   "metadata": {},
   "outputs": [
    {
     "data": {
      "text/plain": [
       "Char"
      ]
     },
     "execution_count": 5,
     "metadata": {},
     "output_type": "execute_result"
    }
   ],
   "source": [
    "typeof(a)"
   ]
  },
  {
   "cell_type": "code",
   "execution_count": 6,
   "id": "6b5ddb0c-2c94-4d08-8725-4f2e12dcea45",
   "metadata": {},
   "outputs": [
    {
     "data": {
      "text/plain": [
       "true"
      ]
     },
     "execution_count": 6,
     "metadata": {},
     "output_type": "execute_result"
    }
   ],
   "source": [
    "typeof(b) == typeof(c)"
   ]
  },
  {
   "cell_type": "code",
   "execution_count": 7,
   "id": "294d0e20-d914-4ca4-9374-2df18e671561",
   "metadata": {},
   "outputs": [
    {
     "data": {
      "text/plain": [
       "2"
      ]
     },
     "execution_count": 7,
     "metadata": {},
     "output_type": "execute_result"
    }
   ],
   "source": [
    "name = \"😸\"\n",
    "life = 9\n",
    "dead = 2"
   ]
  },
  {
   "cell_type": "code",
   "execution_count": 8,
   "id": "7ee793d7-7798-4c2c-a6b1-4334e0d03ce4",
   "metadata": {},
   "outputs": [
    {
     "name": "stdout",
     "output_type": "stream",
     "text": [
      "My name is 😸, I have 9 lives, and I have been dead 2 times, 7 lives left.\n"
     ]
    }
   ],
   "source": [
    "println(\"My name is $name, I have $life lives, and I have been dead $dead times, $(life - dead) lives left.\")"
   ]
  },
  {
   "cell_type": "code",
   "execution_count": 9,
   "id": "d66b8ce6-27d4-4d4a-aa00-23b3a924d3e5",
   "metadata": {},
   "outputs": [
    {
     "data": {
      "text/plain": [
       "\"😸😸😸😸\\\"😸\\\"😸\""
      ]
     },
     "execution_count": 9,
     "metadata": {},
     "output_type": "execute_result"
    }
   ],
   "source": [
    "string(a,b,c)"
   ]
  },
  {
   "cell_type": "code",
   "execution_count": 10,
   "id": "0423f38b-2330-4871-9901-b1d533a46291",
   "metadata": {},
   "outputs": [
    {
     "data": {
      "text/plain": [
       "\"😸😸😸😸\\\"😸\\\"😸\""
      ]
     },
     "execution_count": 10,
     "metadata": {},
     "output_type": "execute_result"
    }
   ],
   "source": [
    "a*b*c"
   ]
  },
  {
   "cell_type": "code",
   "execution_count": 11,
   "id": "a6b3cc84-3f7e-4b34-8831-eb50348a2b80",
   "metadata": {},
   "outputs": [
    {
     "data": {
      "text/plain": [
       "\"😸😸😸😸\\\"😸\\\"😸\""
      ]
     },
     "execution_count": 11,
     "metadata": {},
     "output_type": "execute_result"
    }
   ],
   "source": [
    "\"$a$b$c\""
   ]
  },
  {
   "cell_type": "code",
   "execution_count": 12,
   "id": "832bfca3-07e8-48e9-af8e-2584561627ba",
   "metadata": {},
   "outputs": [
    {
     "data": {
      "text/plain": [
       "true"
      ]
     },
     "execution_count": 12,
     "metadata": {},
     "output_type": "execute_result"
    }
   ],
   "source": [
    "string(a,b,c) == \"$a$b$c\""
   ]
  },
  {
   "cell_type": "code",
   "execution_count": 13,
   "id": "8c71e075-9d6f-47f5-87bb-9b0d9b3dbad5",
   "metadata": {},
   "outputs": [
    {
     "data": {
      "text/plain": [
       "true"
      ]
     },
     "execution_count": 13,
     "metadata": {},
     "output_type": "execute_result"
    }
   ],
   "source": [
    "a^2 == b"
   ]
  },
  {
   "cell_type": "code",
   "execution_count": 14,
   "id": "6a937aeb-5239-4fa8-a39f-fb10822ea9a3",
   "metadata": {},
   "outputs": [
    {
     "data": {
      "text/plain": [
       "Dict{String, Any} with 2 entries:\n",
       "  \"b\" => \"😸😸\"\n",
       "  \"a\" => '😸'"
      ]
     },
     "execution_count": 14,
     "metadata": {},
     "output_type": "execute_result"
    }
   ],
   "source": [
    "# dictionaries\n",
    "the_dict = Dict(\"a\" => a, \"b\" => b)"
   ]
  },
  {
   "cell_type": "code",
   "execution_count": 15,
   "id": "9490e791-bd1c-4a18-a50b-7d8dbd9807ea",
   "metadata": {},
   "outputs": [
    {
     "data": {
      "text/plain": [
       "\"😸\\\"😸\\\"😸\""
      ]
     },
     "execution_count": 15,
     "metadata": {},
     "output_type": "execute_result"
    }
   ],
   "source": [
    "the_dict[\"c\"]=c"
   ]
  },
  {
   "cell_type": "code",
   "execution_count": 16,
   "id": "908f6eda-ab1f-403d-be16-49591f9f5de7",
   "metadata": {},
   "outputs": [
    {
     "data": {
      "text/plain": [
       "Dict{String, Any} with 3 entries:\n",
       "  \"c\" => \"😸\\\"😸\\\"😸\"\n",
       "  \"b\" => \"😸😸\"\n",
       "  \"a\" => '😸'"
      ]
     },
     "execution_count": 16,
     "metadata": {},
     "output_type": "execute_result"
    }
   ],
   "source": [
    "the_dict"
   ]
  },
  {
   "cell_type": "code",
   "execution_count": 17,
   "id": "6c6f6bcf-b8de-45f5-9f3c-e6bbd2c6be07",
   "metadata": {},
   "outputs": [
    {
     "data": {
      "text/plain": [
       "\"😸😸😸😸😸😸\""
      ]
     },
     "execution_count": 17,
     "metadata": {},
     "output_type": "execute_result"
    }
   ],
   "source": [
    "the_dict[\"d\"]=b^3"
   ]
  },
  {
   "cell_type": "code",
   "execution_count": 18,
   "id": "e724ceb5-de81-46b7-ad97-aa248384f5fc",
   "metadata": {},
   "outputs": [
    {
     "data": {
      "text/plain": [
       "Dict{String, Any} with 4 entries:\n",
       "  \"c\" => \"😸\\\"😸\\\"😸\"\n",
       "  \"b\" => \"😸😸\"\n",
       "  \"a\" => '😸'\n",
       "  \"d\" => \"😸😸😸😸😸😸\""
      ]
     },
     "execution_count": 18,
     "metadata": {},
     "output_type": "execute_result"
    }
   ],
   "source": [
    "the_dict"
   ]
  },
  {
   "cell_type": "code",
   "execution_count": 19,
   "id": "c19d9b8d-8d2c-4191-8b50-d7e443683dfb",
   "metadata": {},
   "outputs": [
    {
     "data": {
      "text/plain": [
       "\"😸😸😸😸😸😸\""
      ]
     },
     "execution_count": 19,
     "metadata": {},
     "output_type": "execute_result"
    }
   ],
   "source": [
    "# remove a element\n",
    "pop!(the_dict, \"d\")"
   ]
  },
  {
   "cell_type": "code",
   "execution_count": 20,
   "id": "e95859e2-f5e1-4681-8d96-c5447c8939a3",
   "metadata": {},
   "outputs": [
    {
     "data": {
      "text/plain": [
       "Dict{String, Any} with 3 entries:\n",
       "  \"c\" => \"😸\\\"😸\\\"😸\"\n",
       "  \"b\" => \"😸😸\"\n",
       "  \"a\" => '😸'"
      ]
     },
     "execution_count": 20,
     "metadata": {},
     "output_type": "execute_result"
    }
   ],
   "source": [
    "the_dict"
   ]
  },
  {
   "cell_type": "code",
   "execution_count": 21,
   "id": "cca0ae3c-5f78-4a39-a252-4fa1bbf6eebe",
   "metadata": {},
   "outputs": [
    {
     "data": {
      "text/plain": [
       "('😸', \"😸😸\", \"😸😸😸\", \"😸😸😸😸\")"
      ]
     },
     "execution_count": 21,
     "metadata": {},
     "output_type": "execute_result"
    }
   ],
   "source": [
    "#tuples\n",
    "cats = (a, a^2, a^3, a^4)"
   ]
  },
  {
   "cell_type": "code",
   "execution_count": 22,
   "id": "d7385484-8802-4230-9ba4-cf190a764de6",
   "metadata": {},
   "outputs": [
    {
     "data": {
      "text/plain": [
       "\"😸😸😸\""
      ]
     },
     "execution_count": 22,
     "metadata": {},
     "output_type": "execute_result"
    }
   ],
   "source": [
    "cats[3]"
   ]
  },
  {
   "cell_type": "code",
   "execution_count": 23,
   "id": "1ff42e2f-11cc-4bf6-a592-86512e3cf59d",
   "metadata": {},
   "outputs": [
    {
     "data": {
      "text/plain": [
       "(cat1 = '😸', cat2 = \"😸😸\", cat3 = \"😸😸😸\", cat4 = \"😸😸😸😸\")"
      ]
     },
     "execution_count": 23,
     "metadata": {},
     "output_type": "execute_result"
    }
   ],
   "source": [
    "name_cats = (cat1=a, cat2=a^2, cat3=a^3, cat4=a^4)"
   ]
  },
  {
   "cell_type": "code",
   "execution_count": 24,
   "id": "cdd0f7a2-a393-4a7b-a21c-0d65984c6394",
   "metadata": {},
   "outputs": [
    {
     "data": {
      "text/plain": [
       "\"😸😸😸\""
      ]
     },
     "execution_count": 24,
     "metadata": {},
     "output_type": "execute_result"
    }
   ],
   "source": [
    "name_cats.cat3"
   ]
  },
  {
   "cell_type": "code",
   "execution_count": 25,
   "id": "b6d562ad-cf57-4cf9-aaea-ea6dca164d8e",
   "metadata": {},
   "outputs": [
    {
     "data": {
      "text/plain": [
       "3-element Vector{Any}:\n",
       " '😸': Unicode U+1F638 (category So: Symbol, other)\n",
       " \"😸😸\"\n",
       " \"😸😸😸\""
      ]
     },
     "execution_count": 25,
     "metadata": {},
     "output_type": "execute_result"
    }
   ],
   "source": [
    "#array\n",
    "cats_array = [a, a^2, a^3]"
   ]
  },
  {
   "cell_type": "code",
   "execution_count": 26,
   "id": "f0bbe165-9275-4a49-b2f1-9a93b6684650",
   "metadata": {},
   "outputs": [
    {
     "data": {
      "text/plain": [
       "\"😸\""
      ]
     },
     "execution_count": 26,
     "metadata": {},
     "output_type": "execute_result"
    }
   ],
   "source": [
    "cats_array[1]=string(a)"
   ]
  },
  {
   "cell_type": "code",
   "execution_count": 27,
   "id": "7c31ffe7-d1f9-41e5-98a3-48d748614372",
   "metadata": {},
   "outputs": [
    {
     "data": {
      "text/plain": [
       "3-element Vector{Any}:\n",
       " \"😸\"\n",
       " \"😸😸\"\n",
       " \"😸😸😸\""
      ]
     },
     "execution_count": 27,
     "metadata": {},
     "output_type": "execute_result"
    }
   ],
   "source": [
    "cats_array"
   ]
  },
  {
   "cell_type": "code",
   "execution_count": 28,
   "id": "babbb27f-0b5e-4806-b9e6-c48c1269d1fa",
   "metadata": {},
   "outputs": [
    {
     "data": {
      "text/plain": [
       "4-element Vector{Any}:\n",
       " \"😸\"\n",
       " \"😸😸\"\n",
       " \"😸😸😸\"\n",
       " \"😸😸😸😸\""
      ]
     },
     "execution_count": 28,
     "metadata": {},
     "output_type": "execute_result"
    }
   ],
   "source": [
    "# add emelemnt to array\n",
    "push!(cats_array, a^4)"
   ]
  },
  {
   "cell_type": "code",
   "execution_count": 29,
   "id": "a99172b2-4b07-4519-8140-aff203eb2330",
   "metadata": {},
   "outputs": [
    {
     "data": {
      "text/plain": [
       "6-element Vector{Any}:\n",
       " \"😸\"\n",
       " \"😸😸\"\n",
       " \"😸😸😸\"\n",
       " \"😸😸😸😸\"\n",
       " \"😸😸😸😸\"\n",
       " \"😸😸😸😸😸\""
      ]
     },
     "execution_count": 29,
     "metadata": {},
     "output_type": "execute_result"
    }
   ],
   "source": [
    "push!(cats_array, a^4, a^5)"
   ]
  },
  {
   "cell_type": "code",
   "execution_count": 30,
   "id": "769bb6e9-f8e8-449b-ab21-2680778c59e4",
   "metadata": {},
   "outputs": [
    {
     "data": {
      "text/plain": [
       "7-element Vector{Any}:\n",
       " \"😸\"\n",
       " \"😸😸\"\n",
       " \"😸😸😸\"\n",
       " \"😸😸😸😸\"\n",
       " \"😸😸😸😸\"\n",
       " \"😸😸😸😸😸\"\n",
       " [\"😸😸😸😸\", \"😸😸😸😸😸\"]"
      ]
     },
     "execution_count": 30,
     "metadata": {},
     "output_type": "execute_result"
    }
   ],
   "source": [
    "push!(cats_array, [a^4, a^5])"
   ]
  },
  {
   "cell_type": "code",
   "execution_count": 31,
   "id": "11cde5e4-2f54-45a0-bef0-3b79eeaa3ab0",
   "metadata": {},
   "outputs": [
    {
     "data": {
      "text/plain": [
       "2-element Vector{String}:\n",
       " \"😸😸😸😸\"\n",
       " \"😸😸😸😸😸\""
      ]
     },
     "execution_count": 31,
     "metadata": {},
     "output_type": "execute_result"
    }
   ],
   "source": [
    "pop!(cats_array)"
   ]
  },
  {
   "cell_type": "code",
   "execution_count": 32,
   "id": "f9865f59-5117-4737-a8b9-2d5a28e7dfcd",
   "metadata": {},
   "outputs": [
    {
     "data": {
      "text/plain": [
       "6-element Vector{Any}:\n",
       " \"😸\"\n",
       " \"😸😸\"\n",
       " \"😸😸😸\"\n",
       " \"😸😸😸😸\"\n",
       " \"😸😸😸😸\"\n",
       " \"😸😸😸😸😸\""
      ]
     },
     "execution_count": 32,
     "metadata": {},
     "output_type": "execute_result"
    }
   ],
   "source": [
    "cats_array"
   ]
  },
  {
   "cell_type": "code",
   "execution_count": 33,
   "id": "76122068-0685-4dfa-b6a0-4bbe5b1ce9c9",
   "metadata": {},
   "outputs": [
    {
     "data": {
      "text/plain": [
       "2×3 Matrix{Float64}:\n",
       " 0.907886  0.970548  0.849697\n",
       " 0.680216  0.886591  0.374701"
      ]
     },
     "execution_count": 33,
     "metadata": {},
     "output_type": "execute_result"
    }
   ],
   "source": [
    "mat = rand(2,3)"
   ]
  },
  {
   "cell_type": "code",
   "execution_count": 34,
   "id": "e8fa62d7-2df6-44b6-bb44-083891dde334",
   "metadata": {},
   "outputs": [
    {
     "data": {
      "text/plain": [
       "0.6802164928934031"
      ]
     },
     "execution_count": 34,
     "metadata": {},
     "output_type": "execute_result"
    }
   ],
   "source": [
    "mat[2,1]"
   ]
  },
  {
   "cell_type": "code",
   "execution_count": 35,
   "id": "d266e335-4eb1-4f06-9fcb-39b3aefcb410",
   "metadata": {},
   "outputs": [
    {
     "name": "stdout",
     "output_type": "stream",
     "text": [
      "hana: 😸\n",
      "hana: 😸😸\n",
      "hana: 😸😸😸\n",
      "hana: 😸😸😸😸\n",
      "hana: 😸😸😸😸\n",
      "hana: 😸😸😸😸😸\n"
     ]
    }
   ],
   "source": [
    "#loops\n",
    "i=1\n",
    "while i<= length(cats_array)\n",
    "    cat = cats_array[i]\n",
    "    println(\"hana: $cat\")\n",
    "    i += 1\n",
    "end"
   ]
  },
  {
   "cell_type": "code",
   "execution_count": 37,
   "id": "f6de3dba-9881-409a-af93-b05a61d1a006",
   "metadata": {},
   "outputs": [
    {
     "name": "stdout",
     "output_type": "stream",
     "text": [
      "haha: 😸\n",
      "haha: 😸😸\n",
      "haha: 😸😸😸\n",
      "haha: 😸😸😸😸\n",
      "haha: 😸😸😸😸\n",
      "haha: 😸😸😸😸😸\n"
     ]
    }
   ],
   "source": [
    "for cat in cats_array\n",
    "    println(\"haha: $cat\")\n",
    "end"
   ]
  },
  {
   "cell_type": "code",
   "execution_count": 39,
   "id": "1e306254-9c6d-4d59-a789-ab6638188673",
   "metadata": {},
   "outputs": [
    {
     "data": {
      "text/plain": [
       "3×4 Matrix{Int64}:\n",
       " 2  3  4  5\n",
       " 3  4  5  6\n",
       " 4  5  6  7"
      ]
     },
     "execution_count": 39,
     "metadata": {},
     "output_type": "execute_result"
    }
   ],
   "source": [
    "mat_a = [i+j for i in 1:3, j in 1:4]"
   ]
  },
  {
   "cell_type": "code",
   "execution_count": 42,
   "id": "43259f53-25df-42ab-a001-925ebc19e2fd",
   "metadata": {},
   "outputs": [
    {
     "data": {
      "text/plain": [
       "10×10 Matrix{Int64}:\n",
       "  1   2   3   4   5   6   7   8   9   10\n",
       " 11  12  13  14  15  16  17  18  19   20\n",
       " 21  22  23  24  25  26  27  28  29   30\n",
       " 31  32  33  34  35  36  37  38  39   40\n",
       " 41  42  43  44  45  46  47  48  49   50\n",
       " 51  52  53  54  55  56  57  58  59   60\n",
       " 61  62  63  64  65  66  67  68  69   70\n",
       " 71  72  73  74  75  76  77  78  79   80\n",
       " 81  82  83  84  85  86  87  88  89   90\n",
       " 91  92  93  94  95  96  97  98  99  100"
      ]
     },
     "execution_count": 42,
     "metadata": {},
     "output_type": "execute_result"
    }
   ],
   "source": [
    "mat_b = [i*10+j for i in 0:9, j in 1:10]"
   ]
  },
  {
   "cell_type": "code",
   "execution_count": null,
   "id": "27d10e52-6947-4b1d-a676-0d904d00a8c6",
   "metadata": {},
   "outputs": [],
   "source": [
    "#conditions"
   ]
  }
 ],
 "metadata": {
  "kernelspec": {
   "display_name": "Julia 1.7.0",
   "language": "julia",
   "name": "julia-1.7"
  },
  "language_info": {
   "file_extension": ".jl",
   "mimetype": "application/julia",
   "name": "julia",
   "version": "1.7.0"
  }
 },
 "nbformat": 4,
 "nbformat_minor": 5
}
