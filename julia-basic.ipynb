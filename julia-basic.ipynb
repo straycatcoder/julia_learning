{
 "cells": [
  {
   "cell_type": "markdown",
   "id": "b5b4edae-fba8-4bef-a3cd-c093624450a5",
   "metadata": {},
   "source": [
    "https://github.com/JuliaAcademy/Introduction-to-Julia "
   ]
  },
  {
   "cell_type": "code",
   "execution_count": 1,
   "id": "1ca0e567-16d5-4f12-8c61-c4684b71b7f4",
   "metadata": {},
   "outputs": [
    {
     "data": {
      "text/plain": [
       "365.0f0"
      ]
     },
     "execution_count": 1,
     "metadata": {},
     "output_type": "execute_result"
    }
   ],
   "source": [
    "# covert variable type\n",
    "# https://docs.julialang.org/en/v1/base/base/#Base.convert\n",
    "days = 365\n",
    "days_float = convert(Float32, days)"
   ]
  },
  {
   "cell_type": "code",
   "execution_count": 2,
   "id": "284debc8-700c-4313-9faf-cfee36c5d1c4",
   "metadata": {},
   "outputs": [],
   "source": [
    "@assert days == 365\n",
    "@assert days_float == 365.0"
   ]
  },
  {
   "cell_type": "code",
   "execution_count": 3,
   "id": "830ee85b-3cc3-405c-a487-1d274e9843fd",
   "metadata": {},
   "outputs": [
    {
     "data": {
      "text/plain": [
       "true"
      ]
     },
     "execution_count": 3,
     "metadata": {},
     "output_type": "execute_result"
    }
   ],
   "source": [
    "days_float == 365.0"
   ]
  },
  {
   "cell_type": "code",
   "execution_count": 4,
   "id": "b050d22a-5cba-4551-8d2f-298f84179928",
   "metadata": {},
   "outputs": [
    {
     "data": {
      "text/plain": [
       "\"😸\\\"😸\\\"😸\""
      ]
     },
     "execution_count": 4,
     "metadata": {},
     "output_type": "execute_result"
    }
   ],
   "source": [
    "# string\n",
    "a='😸'\n",
    "b=\"😸😸\"\n",
    "c=\"\"\"😸\"😸\"😸\"\"\""
   ]
  },
  {
   "cell_type": "code",
   "execution_count": 5,
   "id": "ea1f1416-af3f-4ad9-a843-d8c5b07fe225",
   "metadata": {},
   "outputs": [
    {
     "data": {
      "text/plain": [
       "Char"
      ]
     },
     "execution_count": 5,
     "metadata": {},
     "output_type": "execute_result"
    }
   ],
   "source": [
    "typeof(a)"
   ]
  },
  {
   "cell_type": "code",
   "execution_count": 6,
   "id": "6b5ddb0c-2c94-4d08-8725-4f2e12dcea45",
   "metadata": {},
   "outputs": [
    {
     "data": {
      "text/plain": [
       "true"
      ]
     },
     "execution_count": 6,
     "metadata": {},
     "output_type": "execute_result"
    }
   ],
   "source": [
    "typeof(b) == typeof(c)"
   ]
  },
  {
   "cell_type": "code",
   "execution_count": 7,
   "id": "294d0e20-d914-4ca4-9374-2df18e671561",
   "metadata": {},
   "outputs": [
    {
     "data": {
      "text/plain": [
       "2"
      ]
     },
     "execution_count": 7,
     "metadata": {},
     "output_type": "execute_result"
    }
   ],
   "source": [
    "name = \"😸\"\n",
    "life = 9\n",
    "dead = 2"
   ]
  },
  {
   "cell_type": "code",
   "execution_count": 8,
   "id": "7ee793d7-7798-4c2c-a6b1-4334e0d03ce4",
   "metadata": {},
   "outputs": [
    {
     "name": "stdout",
     "output_type": "stream",
     "text": [
      "My name is 😸, I have 9 lives, and I have been dead 2 times, 7 lives left.\n"
     ]
    }
   ],
   "source": [
    "println(\"My name is $name, I have $life lives, and I have been dead $dead times, $(life - dead) lives left.\")"
   ]
  },
  {
   "cell_type": "code",
   "execution_count": 9,
   "id": "d66b8ce6-27d4-4d4a-aa00-23b3a924d3e5",
   "metadata": {},
   "outputs": [
    {
     "data": {
      "text/plain": [
       "\"😸😸😸😸\\\"😸\\\"😸\""
      ]
     },
     "execution_count": 9,
     "metadata": {},
     "output_type": "execute_result"
    }
   ],
   "source": [
    "string(a,b,c)"
   ]
  },
  {
   "cell_type": "code",
   "execution_count": 10,
   "id": "0423f38b-2330-4871-9901-b1d533a46291",
   "metadata": {},
   "outputs": [
    {
     "data": {
      "text/plain": [
       "\"😸😸😸😸\\\"😸\\\"😸\""
      ]
     },
     "execution_count": 10,
     "metadata": {},
     "output_type": "execute_result"
    }
   ],
   "source": [
    "a*b*c"
   ]
  },
  {
   "cell_type": "code",
   "execution_count": 11,
   "id": "a6b3cc84-3f7e-4b34-8831-eb50348a2b80",
   "metadata": {},
   "outputs": [
    {
     "data": {
      "text/plain": [
       "\"😸😸😸😸\\\"😸\\\"😸\""
      ]
     },
     "execution_count": 11,
     "metadata": {},
     "output_type": "execute_result"
    }
   ],
   "source": [
    "\"$a$b$c\""
   ]
  },
  {
   "cell_type": "code",
   "execution_count": 12,
   "id": "832bfca3-07e8-48e9-af8e-2584561627ba",
   "metadata": {},
   "outputs": [
    {
     "data": {
      "text/plain": [
       "true"
      ]
     },
     "execution_count": 12,
     "metadata": {},
     "output_type": "execute_result"
    }
   ],
   "source": [
    "string(a,b,c) == \"$a$b$c\""
   ]
  },
  {
   "cell_type": "code",
   "execution_count": 13,
   "id": "8c71e075-9d6f-47f5-87bb-9b0d9b3dbad5",
   "metadata": {},
   "outputs": [
    {
     "data": {
      "text/plain": [
       "true"
      ]
     },
     "execution_count": 13,
     "metadata": {},
     "output_type": "execute_result"
    }
   ],
   "source": [
    "a^2 == b"
   ]
  },
  {
   "cell_type": "code",
   "execution_count": 14,
   "id": "6a937aeb-5239-4fa8-a39f-fb10822ea9a3",
   "metadata": {},
   "outputs": [
    {
     "data": {
      "text/plain": [
       "Dict{String, Any} with 2 entries:\n",
       "  \"b\" => \"😸😸\"\n",
       "  \"a\" => '😸'"
      ]
     },
     "execution_count": 14,
     "metadata": {},
     "output_type": "execute_result"
    }
   ],
   "source": [
    "# dictionaries\n",
    "the_dict = Dict(\"a\" => a, \"b\" => b)"
   ]
  },
  {
   "cell_type": "code",
   "execution_count": 15,
   "id": "9490e791-bd1c-4a18-a50b-7d8dbd9807ea",
   "metadata": {},
   "outputs": [
    {
     "data": {
      "text/plain": [
       "\"😸\\\"😸\\\"😸\""
      ]
     },
     "execution_count": 15,
     "metadata": {},
     "output_type": "execute_result"
    }
   ],
   "source": [
    "the_dict[\"c\"]=c"
   ]
  },
  {
   "cell_type": "code",
   "execution_count": 16,
   "id": "908f6eda-ab1f-403d-be16-49591f9f5de7",
   "metadata": {},
   "outputs": [
    {
     "data": {
      "text/plain": [
       "Dict{String, Any} with 3 entries:\n",
       "  \"c\" => \"😸\\\"😸\\\"😸\"\n",
       "  \"b\" => \"😸😸\"\n",
       "  \"a\" => '😸'"
      ]
     },
     "execution_count": 16,
     "metadata": {},
     "output_type": "execute_result"
    }
   ],
   "source": [
    "the_dict"
   ]
  },
  {
   "cell_type": "code",
   "execution_count": 17,
   "id": "6c6f6bcf-b8de-45f5-9f3c-e6bbd2c6be07",
   "metadata": {},
   "outputs": [
    {
     "data": {
      "text/plain": [
       "\"😸😸😸😸😸😸\""
      ]
     },
     "execution_count": 17,
     "metadata": {},
     "output_type": "execute_result"
    }
   ],
   "source": [
    "the_dict[\"d\"]=b^3"
   ]
  },
  {
   "cell_type": "code",
   "execution_count": 18,
   "id": "e724ceb5-de81-46b7-ad97-aa248384f5fc",
   "metadata": {},
   "outputs": [
    {
     "data": {
      "text/plain": [
       "Dict{String, Any} with 4 entries:\n",
       "  \"c\" => \"😸\\\"😸\\\"😸\"\n",
       "  \"b\" => \"😸😸\"\n",
       "  \"a\" => '😸'\n",
       "  \"d\" => \"😸😸😸😸😸😸\""
      ]
     },
     "execution_count": 18,
     "metadata": {},
     "output_type": "execute_result"
    }
   ],
   "source": [
    "the_dict"
   ]
  },
  {
   "cell_type": "code",
   "execution_count": 19,
   "id": "c19d9b8d-8d2c-4191-8b50-d7e443683dfb",
   "metadata": {},
   "outputs": [
    {
     "data": {
      "text/plain": [
       "\"😸😸😸😸😸😸\""
      ]
     },
     "execution_count": 19,
     "metadata": {},
     "output_type": "execute_result"
    }
   ],
   "source": [
    "# remove a element\n",
    "pop!(the_dict, \"d\")"
   ]
  },
  {
   "cell_type": "code",
   "execution_count": 20,
   "id": "e95859e2-f5e1-4681-8d96-c5447c8939a3",
   "metadata": {},
   "outputs": [
    {
     "data": {
      "text/plain": [
       "Dict{String, Any} with 3 entries:\n",
       "  \"c\" => \"😸\\\"😸\\\"😸\"\n",
       "  \"b\" => \"😸😸\"\n",
       "  \"a\" => '😸'"
      ]
     },
     "execution_count": 20,
     "metadata": {},
     "output_type": "execute_result"
    }
   ],
   "source": [
    "the_dict"
   ]
  },
  {
   "cell_type": "code",
   "execution_count": 21,
   "id": "cca0ae3c-5f78-4a39-a252-4fa1bbf6eebe",
   "metadata": {},
   "outputs": [
    {
     "data": {
      "text/plain": [
       "('😸', \"😸😸\", \"😸😸😸\", \"😸😸😸😸\")"
      ]
     },
     "execution_count": 21,
     "metadata": {},
     "output_type": "execute_result"
    }
   ],
   "source": [
    "#tuples\n",
    "cats = (a, a^2, a^3, a^4)"
   ]
  },
  {
   "cell_type": "code",
   "execution_count": 22,
   "id": "d7385484-8802-4230-9ba4-cf190a764de6",
   "metadata": {},
   "outputs": [
    {
     "data": {
      "text/plain": [
       "\"😸😸😸\""
      ]
     },
     "execution_count": 22,
     "metadata": {},
     "output_type": "execute_result"
    }
   ],
   "source": [
    "cats[3]"
   ]
  },
  {
   "cell_type": "code",
   "execution_count": 23,
   "id": "1ff42e2f-11cc-4bf6-a592-86512e3cf59d",
   "metadata": {},
   "outputs": [
    {
     "data": {
      "text/plain": [
       "(cat1 = '😸', cat2 = \"😸😸\", cat3 = \"😸😸😸\", cat4 = \"😸😸😸😸\")"
      ]
     },
     "execution_count": 23,
     "metadata": {},
     "output_type": "execute_result"
    }
   ],
   "source": [
    "name_cats = (cat1=a, cat2=a^2, cat3=a^3, cat4=a^4)"
   ]
  },
  {
   "cell_type": "code",
   "execution_count": 24,
   "id": "cdd0f7a2-a393-4a7b-a21c-0d65984c6394",
   "metadata": {},
   "outputs": [
    {
     "data": {
      "text/plain": [
       "\"😸😸😸\""
      ]
     },
     "execution_count": 24,
     "metadata": {},
     "output_type": "execute_result"
    }
   ],
   "source": [
    "name_cats.cat3"
   ]
  },
  {
   "cell_type": "code",
   "execution_count": 25,
   "id": "b6d562ad-cf57-4cf9-aaea-ea6dca164d8e",
   "metadata": {},
   "outputs": [
    {
     "data": {
      "text/plain": [
       "3-element Vector{Any}:\n",
       " '😸': Unicode U+1F638 (category So: Symbol, other)\n",
       " \"😸😸\"\n",
       " \"😸😸😸\""
      ]
     },
     "execution_count": 25,
     "metadata": {},
     "output_type": "execute_result"
    }
   ],
   "source": [
    "#array\n",
    "cats_array = [a, a^2, a^3]"
   ]
  },
  {
   "cell_type": "code",
   "execution_count": 26,
   "id": "f0bbe165-9275-4a49-b2f1-9a93b6684650",
   "metadata": {},
   "outputs": [
    {
     "data": {
      "text/plain": [
       "\"😸\""
      ]
     },
     "execution_count": 26,
     "metadata": {},
     "output_type": "execute_result"
    }
   ],
   "source": [
    "cats_array[1]=string(a)"
   ]
  },
  {
   "cell_type": "code",
   "execution_count": 27,
   "id": "7c31ffe7-d1f9-41e5-98a3-48d748614372",
   "metadata": {},
   "outputs": [
    {
     "data": {
      "text/plain": [
       "3-element Vector{Any}:\n",
       " \"😸\"\n",
       " \"😸😸\"\n",
       " \"😸😸😸\""
      ]
     },
     "execution_count": 27,
     "metadata": {},
     "output_type": "execute_result"
    }
   ],
   "source": [
    "cats_array"
   ]
  },
  {
   "cell_type": "code",
   "execution_count": 28,
   "id": "babbb27f-0b5e-4806-b9e6-c48c1269d1fa",
   "metadata": {},
   "outputs": [
    {
     "data": {
      "text/plain": [
       "4-element Vector{Any}:\n",
       " \"😸\"\n",
       " \"😸😸\"\n",
       " \"😸😸😸\"\n",
       " \"😸😸😸😸\""
      ]
     },
     "execution_count": 28,
     "metadata": {},
     "output_type": "execute_result"
    }
   ],
   "source": [
    "# add emelemnt to array\n",
    "push!(cats_array, a^4)"
   ]
  },
  {
   "cell_type": "code",
   "execution_count": 29,
   "id": "a99172b2-4b07-4519-8140-aff203eb2330",
   "metadata": {},
   "outputs": [
    {
     "data": {
      "text/plain": [
       "6-element Vector{Any}:\n",
       " \"😸\"\n",
       " \"😸😸\"\n",
       " \"😸😸😸\"\n",
       " \"😸😸😸😸\"\n",
       " \"😸😸😸😸\"\n",
       " \"😸😸😸😸😸\""
      ]
     },
     "execution_count": 29,
     "metadata": {},
     "output_type": "execute_result"
    }
   ],
   "source": [
    "push!(cats_array, a^4, a^5)"
   ]
  },
  {
   "cell_type": "code",
   "execution_count": 30,
   "id": "769bb6e9-f8e8-449b-ab21-2680778c59e4",
   "metadata": {},
   "outputs": [
    {
     "data": {
      "text/plain": [
       "7-element Vector{Any}:\n",
       " \"😸\"\n",
       " \"😸😸\"\n",
       " \"😸😸😸\"\n",
       " \"😸😸😸😸\"\n",
       " \"😸😸😸😸\"\n",
       " \"😸😸😸😸😸\"\n",
       " [\"😸😸😸😸\", \"😸😸😸😸😸\"]"
      ]
     },
     "execution_count": 30,
     "metadata": {},
     "output_type": "execute_result"
    }
   ],
   "source": [
    "push!(cats_array, [a^4, a^5])"
   ]
  },
  {
   "cell_type": "code",
   "execution_count": 31,
   "id": "11cde5e4-2f54-45a0-bef0-3b79eeaa3ab0",
   "metadata": {},
   "outputs": [
    {
     "data": {
      "text/plain": [
       "2-element Vector{String}:\n",
       " \"😸😸😸😸\"\n",
       " \"😸😸😸😸😸\""
      ]
     },
     "execution_count": 31,
     "metadata": {},
     "output_type": "execute_result"
    }
   ],
   "source": [
    "pop!(cats_array)"
   ]
  },
  {
   "cell_type": "code",
   "execution_count": 32,
   "id": "f9865f59-5117-4737-a8b9-2d5a28e7dfcd",
   "metadata": {},
   "outputs": [
    {
     "data": {
      "text/plain": [
       "6-element Vector{Any}:\n",
       " \"😸\"\n",
       " \"😸😸\"\n",
       " \"😸😸😸\"\n",
       " \"😸😸😸😸\"\n",
       " \"😸😸😸😸\"\n",
       " \"😸😸😸😸😸\""
      ]
     },
     "execution_count": 32,
     "metadata": {},
     "output_type": "execute_result"
    }
   ],
   "source": [
    "cats_array"
   ]
  },
  {
   "cell_type": "code",
   "execution_count": 33,
   "id": "76122068-0685-4dfa-b6a0-4bbe5b1ce9c9",
   "metadata": {},
   "outputs": [
    {
     "data": {
      "text/plain": [
       "2×3 Matrix{Float64}:\n",
       " 0.682722  0.85624   0.498255\n",
       " 0.349591  0.979005  0.12591"
      ]
     },
     "execution_count": 33,
     "metadata": {},
     "output_type": "execute_result"
    }
   ],
   "source": [
    "mat = rand(2,3)"
   ]
  },
  {
   "cell_type": "code",
   "execution_count": 34,
   "id": "e8fa62d7-2df6-44b6-bb44-083891dde334",
   "metadata": {},
   "outputs": [
    {
     "data": {
      "text/plain": [
       "0.34959087761676"
      ]
     },
     "execution_count": 34,
     "metadata": {},
     "output_type": "execute_result"
    }
   ],
   "source": [
    "mat[2,1]"
   ]
  },
  {
   "cell_type": "code",
   "execution_count": 35,
   "id": "d266e335-4eb1-4f06-9fcb-39b3aefcb410",
   "metadata": {},
   "outputs": [
    {
     "name": "stdout",
     "output_type": "stream",
     "text": [
      "hana: 😸\n",
      "hana: 😸😸\n",
      "hana: 😸😸😸\n",
      "hana: 😸😸😸😸\n",
      "hana: 😸😸😸😸\n",
      "hana: 😸😸😸😸😸\n"
     ]
    }
   ],
   "source": [
    "#loops\n",
    "i=1\n",
    "while i<= length(cats_array)\n",
    "    cat = cats_array[i]\n",
    "    println(\"hana: $cat\")\n",
    "    i += 1\n",
    "end"
   ]
  },
  {
   "cell_type": "code",
   "execution_count": 36,
   "id": "f6de3dba-9881-409a-af93-b05a61d1a006",
   "metadata": {},
   "outputs": [
    {
     "name": "stdout",
     "output_type": "stream",
     "text": [
      "haha: 😸\n",
      "haha: 😸😸\n",
      "haha: 😸😸😸\n",
      "haha: 😸😸😸😸\n",
      "haha: 😸😸😸😸\n",
      "haha: 😸😸😸😸😸\n"
     ]
    }
   ],
   "source": [
    "for cat in cats_array\n",
    "    println(\"haha: $cat\")\n",
    "end"
   ]
  },
  {
   "cell_type": "code",
   "execution_count": 37,
   "id": "1e306254-9c6d-4d59-a789-ab6638188673",
   "metadata": {},
   "outputs": [
    {
     "data": {
      "text/plain": [
       "3×4 Matrix{Int64}:\n",
       " 2  3  4  5\n",
       " 3  4  5  6\n",
       " 4  5  6  7"
      ]
     },
     "execution_count": 37,
     "metadata": {},
     "output_type": "execute_result"
    }
   ],
   "source": [
    "mat_a = [i+j for i in 1:3, j in 1:4]"
   ]
  },
  {
   "cell_type": "code",
   "execution_count": 38,
   "id": "43259f53-25df-42ab-a001-925ebc19e2fd",
   "metadata": {},
   "outputs": [
    {
     "data": {
      "text/plain": [
       "10×10 Matrix{Int64}:\n",
       "  1   2   3   4   5   6   7   8   9   10\n",
       " 11  12  13  14  15  16  17  18  19   20\n",
       " 21  22  23  24  25  26  27  28  29   30\n",
       " 31  32  33  34  35  36  37  38  39   40\n",
       " 41  42  43  44  45  46  47  48  49   50\n",
       " 51  52  53  54  55  56  57  58  59   60\n",
       " 61  62  63  64  65  66  67  68  69   70\n",
       " 71  72  73  74  75  76  77  78  79   80\n",
       " 81  82  83  84  85  86  87  88  89   90\n",
       " 91  92  93  94  95  96  97  98  99  100"
      ]
     },
     "execution_count": 38,
     "metadata": {},
     "output_type": "execute_result"
    }
   ],
   "source": [
    "mat_b = [i*10+j for i in 0:9, j in 1:10]"
   ]
  },
  {
   "cell_type": "code",
   "execution_count": 39,
   "id": "27d10e52-6947-4b1d-a676-0d904d00a8c6",
   "metadata": {},
   "outputs": [
    {
     "name": "stdout",
     "output_type": "stream",
     "text": [
      "equal\n"
     ]
    }
   ],
   "source": [
    "#conditions\n",
    "if a^2 > b\n",
    "    println(\"larger\")\n",
    "elseif a^2 < b\n",
    "    println(\"smaller\")\n",
    "else\n",
    "    println(\"equal\")\n",
    "end"
   ]
  },
  {
   "cell_type": "code",
   "execution_count": 40,
   "id": "ab5e6d7e-bcd1-4377-9c83-26ba03c9c128",
   "metadata": {},
   "outputs": [
    {
     "name": "stdout",
     "output_type": "stream",
     "text": [
      "haha\n"
     ]
    }
   ],
   "source": [
    "(a^2 == b) && println(\"haha\")"
   ]
  },
  {
   "cell_type": "code",
   "execution_count": 41,
   "id": "b304c6d2-d623-4433-8315-543047c84939",
   "metadata": {},
   "outputs": [
    {
     "name": "stdout",
     "output_type": "stream",
     "text": [
      "haha\n"
     ]
    }
   ],
   "source": [
    "(a^2 > b) ? println(\"nono\") : println(\"haha\")"
   ]
  },
  {
   "cell_type": "code",
   "execution_count": 42,
   "id": "5ded9247-78ac-4f52-bfdc-6ce519064298",
   "metadata": {},
   "outputs": [
    {
     "name": "stdout",
     "output_type": "stream",
     "text": [
      "4 is even\n"
     ]
    }
   ],
   "source": [
    "x = 4\n",
    "((x % 2) == 0) ? println(\"$x is even\") : println(\"$x is odd\")"
   ]
  },
  {
   "cell_type": "code",
   "execution_count": 43,
   "id": "e3d96ddf-c09f-4862-bc1b-5caebc1442b8",
   "metadata": {},
   "outputs": [
    {
     "data": {
      "text/plain": [
       "sayhi (generic function with 1 method)"
      ]
     },
     "execution_count": 43,
     "metadata": {},
     "output_type": "execute_result"
    }
   ],
   "source": [
    "#function\n",
    "function sayhi(name)\n",
    "    println(\"hi, this is $name\")\n",
    "end"
   ]
  },
  {
   "cell_type": "code",
   "execution_count": 44,
   "id": "e0452840-fbca-42a9-837f-445e8b17654f",
   "metadata": {},
   "outputs": [
    {
     "name": "stdout",
     "output_type": "stream",
     "text": [
      "hi, this is 😸😸\n"
     ]
    }
   ],
   "source": [
    "sayhi(b)"
   ]
  },
  {
   "cell_type": "code",
   "execution_count": 45,
   "id": "f00008cd-bbf7-424c-9a13-f9ceb018a015",
   "metadata": {},
   "outputs": [
    {
     "data": {
      "text/plain": [
       "sayhi2 (generic function with 1 method)"
      ]
     },
     "execution_count": 45,
     "metadata": {},
     "output_type": "execute_result"
    }
   ],
   "source": [
    "sayhi2(name) = println(\"hi, this is $name\")"
   ]
  },
  {
   "cell_type": "code",
   "execution_count": 46,
   "id": "3b98eb23-ee4f-4fb9-b25b-97f0ad1be249",
   "metadata": {},
   "outputs": [
    {
     "name": "stdout",
     "output_type": "stream",
     "text": [
      "hi, this is 😸😸\n"
     ]
    }
   ],
   "source": [
    "sayhi2(b)"
   ]
  },
  {
   "cell_type": "code",
   "execution_count": 47,
   "id": "0e1709e3-4bf1-4430-8f99-49c6a9dac8ac",
   "metadata": {},
   "outputs": [
    {
     "data": {
      "text/plain": [
       "#5 (generic function with 1 method)"
      ]
     },
     "execution_count": 47,
     "metadata": {},
     "output_type": "execute_result"
    }
   ],
   "source": [
    "sayhi3 = name -> println(\"hi, this is $name\")"
   ]
  },
  {
   "cell_type": "code",
   "execution_count": 48,
   "id": "3db2f5e6-5a9c-4a69-98dd-8bd423e81fb1",
   "metadata": {},
   "outputs": [
    {
     "name": "stdout",
     "output_type": "stream",
     "text": [
      "hi, this is 😸😸\n"
     ]
    }
   ],
   "source": [
    "sayhi3(b)"
   ]
  },
  {
   "cell_type": "code",
   "execution_count": 49,
   "id": "21bff184-f704-44bb-9e38-450e6be621d7",
   "metadata": {},
   "outputs": [
    {
     "data": {
      "text/plain": [
       "4-element Vector{Float64}:\n",
       " 0.6552168373038718\n",
       " 0.7469668845568961\n",
       " 0.17109101747618916\n",
       " 0.7968398407171212"
      ]
     },
     "execution_count": 49,
     "metadata": {},
     "output_type": "execute_result"
    }
   ],
   "source": [
    "#Mutating vs. non-mutating functions, e.g. pop!, push!\n",
    "v=rand(4)"
   ]
  },
  {
   "cell_type": "code",
   "execution_count": 50,
   "id": "eef6c9e7-04e8-4d69-802a-6693347ec41d",
   "metadata": {},
   "outputs": [
    {
     "data": {
      "text/plain": [
       "4-element Vector{Float64}:\n",
       " 0.17109101747618916\n",
       " 0.6552168373038718\n",
       " 0.7469668845568961\n",
       " 0.7968398407171212"
      ]
     },
     "execution_count": 50,
     "metadata": {},
     "output_type": "execute_result"
    }
   ],
   "source": [
    "sort(v)"
   ]
  },
  {
   "cell_type": "code",
   "execution_count": 51,
   "id": "87344713-6b34-459d-be1d-c859ab00833b",
   "metadata": {},
   "outputs": [
    {
     "data": {
      "text/plain": [
       "4-element Vector{Float64}:\n",
       " 0.6552168373038718\n",
       " 0.7469668845568961\n",
       " 0.17109101747618916\n",
       " 0.7968398407171212"
      ]
     },
     "execution_count": 51,
     "metadata": {},
     "output_type": "execute_result"
    }
   ],
   "source": [
    "v"
   ]
  },
  {
   "cell_type": "code",
   "execution_count": 52,
   "id": "1ba20ddc-65d8-4f24-85fc-3bd5f7c67c11",
   "metadata": {},
   "outputs": [
    {
     "data": {
      "text/plain": [
       "4-element Vector{Float64}:\n",
       " 0.17109101747618916\n",
       " 0.6552168373038718\n",
       " 0.7469668845568961\n",
       " 0.7968398407171212"
      ]
     },
     "execution_count": 52,
     "metadata": {},
     "output_type": "execute_result"
    }
   ],
   "source": [
    "sort!(v)"
   ]
  },
  {
   "cell_type": "code",
   "execution_count": 53,
   "id": "b6fc5df1-dfdb-4b91-a96b-712c7b5a6c9a",
   "metadata": {},
   "outputs": [
    {
     "data": {
      "text/plain": [
       "4-element Vector{Float64}:\n",
       " 0.17109101747618916\n",
       " 0.6552168373038718\n",
       " 0.7469668845568961\n",
       " 0.7968398407171212"
      ]
     },
     "execution_count": 53,
     "metadata": {},
     "output_type": "execute_result"
    }
   ],
   "source": [
    "v"
   ]
  },
  {
   "cell_type": "code",
   "execution_count": 54,
   "id": "7fb0a5db-ad5a-4c98-b154-6b946af19eec",
   "metadata": {},
   "outputs": [
    {
     "data": {
      "text/plain": [
       "f (generic function with 1 method)"
      ]
     },
     "execution_count": 54,
     "metadata": {},
     "output_type": "execute_result"
    }
   ],
   "source": [
    "#map function\n",
    "f(x)=x^2"
   ]
  },
  {
   "cell_type": "code",
   "execution_count": 55,
   "id": "258410ab-c5f9-47c5-88a3-e475ba735140",
   "metadata": {},
   "outputs": [
    {
     "data": {
      "text/plain": [
       "4-element Vector{Int64}:\n",
       "  1\n",
       "  4\n",
       "  9\n",
       " 16"
      ]
     },
     "execution_count": 55,
     "metadata": {},
     "output_type": "execute_result"
    }
   ],
   "source": [
    "map(f, [1,2,3,4])"
   ]
  },
  {
   "cell_type": "code",
   "execution_count": 56,
   "id": "2bbeaf0d-934d-41d6-b98d-2d9360fcb9c4",
   "metadata": {},
   "outputs": [
    {
     "data": {
      "text/plain": [
       "4-element Vector{Int64}:\n",
       "  1\n",
       "  4\n",
       "  9\n",
       " 16"
      ]
     },
     "execution_count": 56,
     "metadata": {},
     "output_type": "execute_result"
    }
   ],
   "source": [
    "map(x->x^2, [1,2,3,4])"
   ]
  },
  {
   "cell_type": "code",
   "execution_count": 57,
   "id": "ccbc6c33-b6e3-4888-8f37-7edd8ad1992f",
   "metadata": {},
   "outputs": [
    {
     "data": {
      "text/plain": [
       "3-element Vector{Int64}:\n",
       " 1\n",
       " 4\n",
       " 9"
      ]
     },
     "execution_count": 57,
     "metadata": {},
     "output_type": "execute_result"
    }
   ],
   "source": [
    "#broadcast, is a generalization of map, so it can do every thing map\n",
    "broadcast(f,[1,2,3])"
   ]
  },
  {
   "cell_type": "code",
   "execution_count": 58,
   "id": "1d60e65d-96dd-4a17-9ca9-8c5cb1906e3e",
   "metadata": {},
   "outputs": [
    {
     "data": {
      "text/plain": [
       "3-element Vector{Int64}:\n",
       " 1\n",
       " 4\n",
       " 9"
      ]
     },
     "execution_count": 58,
     "metadata": {},
     "output_type": "execute_result"
    }
   ],
   "source": [
    "f.([1,2,3])"
   ]
  },
  {
   "cell_type": "code",
   "execution_count": 59,
   "id": "77675c90-7fae-4119-a45f-05dcd71be003",
   "metadata": {},
   "outputs": [
    {
     "data": {
      "text/plain": [
       "3×3 Matrix{Int64}:\n",
       " 1  2  3\n",
       " 4  5  6\n",
       " 7  8  9"
      ]
     },
     "execution_count": 59,
     "metadata": {},
     "output_type": "execute_result"
    }
   ],
   "source": [
    "A = [i + 3*j for j in 0:2, i in 1:3]"
   ]
  },
  {
   "cell_type": "code",
   "execution_count": 60,
   "id": "1ff43047-4bbb-4d29-8944-d42d5d7ccb40",
   "metadata": {},
   "outputs": [
    {
     "data": {
      "text/plain": [
       "3×3 Matrix{Int64}:\n",
       "  30   36   42\n",
       "  66   81   96\n",
       " 102  126  150"
      ]
     },
     "execution_count": 60,
     "metadata": {},
     "output_type": "execute_result"
    }
   ],
   "source": [
    "f(A)"
   ]
  },
  {
   "cell_type": "code",
   "execution_count": 61,
   "id": "65b17477-719d-4fcf-88e8-587eaf928aa3",
   "metadata": {},
   "outputs": [
    {
     "data": {
      "text/plain": [
       "3×3 Matrix{Int64}:\n",
       "  1   4   9\n",
       " 16  25  36\n",
       " 49  64  81"
      ]
     },
     "execution_count": 61,
     "metadata": {},
     "output_type": "execute_result"
    }
   ],
   "source": [
    "f.(A)"
   ]
  },
  {
   "cell_type": "code",
   "execution_count": 62,
   "id": "c77a0474-6a79-41d8-b4c5-964b3b347dde",
   "metadata": {},
   "outputs": [
    {
     "data": {
      "text/plain": [
       "3×3 Matrix{Int64}:\n",
       "  2   6  12\n",
       " 20  30  42\n",
       " 56  72  90"
      ]
     },
     "execution_count": 62,
     "metadata": {},
     "output_type": "execute_result"
    }
   ],
   "source": [
    "A .+ f.(A)"
   ]
  },
  {
   "cell_type": "code",
   "execution_count": 63,
   "id": "cb858124-b1a8-4023-9ebf-8349947153b9",
   "metadata": {},
   "outputs": [
    {
     "data": {
      "text/plain": [
       "#11 (generic function with 1 method)"
      ]
     },
     "execution_count": 63,
     "metadata": {},
     "output_type": "execute_result"
    }
   ],
   "source": [
    "add_one = x -> x+1"
   ]
  },
  {
   "cell_type": "code",
   "execution_count": 64,
   "id": "116f19e4-5be7-4262-9676-a9531c9804c7",
   "metadata": {},
   "outputs": [],
   "source": [
    "@assert add_one(1) == 2"
   ]
  },
  {
   "cell_type": "code",
   "execution_count": 65,
   "id": "733f962e-9c35-42b8-a364-568a443ce04f",
   "metadata": {},
   "outputs": [],
   "source": [
    "@assert add_one(11) == 12"
   ]
  },
  {
   "cell_type": "code",
   "execution_count": 66,
   "id": "1c62b32a-361e-4f49-b953-1f0576c1162a",
   "metadata": {},
   "outputs": [
    {
     "data": {
      "text/plain": [
       "1:10"
      ]
     },
     "execution_count": 66,
     "metadata": {},
     "output_type": "execute_result"
    }
   ],
   "source": [
    "A1=1:10"
   ]
  },
  {
   "cell_type": "code",
   "execution_count": 67,
   "id": "3410f513-2a70-42fe-a320-1933309539ee",
   "metadata": {},
   "outputs": [
    {
     "data": {
      "text/plain": [
       "10-element Vector{Int64}:\n",
       "  2\n",
       "  3\n",
       "  4\n",
       "  5\n",
       "  6\n",
       "  7\n",
       "  8\n",
       "  9\n",
       " 10\n",
       " 11"
      ]
     },
     "execution_count": 67,
     "metadata": {},
     "output_type": "execute_result"
    }
   ],
   "source": [
    "add_one.(A1)"
   ]
  },
  {
   "cell_type": "code",
   "execution_count": 68,
   "id": "d74c59c4-99d5-401c-a7e9-798ce3177d1c",
   "metadata": {},
   "outputs": [
    {
     "data": {
      "text/plain": [
       "3×3 Matrix{Int64}:\n",
       " 1  2  3\n",
       " 4  5  6\n",
       " 7  8  9"
      ]
     },
     "execution_count": 68,
     "metadata": {},
     "output_type": "execute_result"
    }
   ],
   "source": [
    "A2=[3*i+j for i in 0:2,j in 1:3]"
   ]
  },
  {
   "cell_type": "code",
   "execution_count": 69,
   "id": "892237f9-99e6-426f-b19b-af5a2fba5a2e",
   "metadata": {},
   "outputs": [
    {
     "data": {
      "text/plain": [
       "3×3 Matrix{Int64}:\n",
       " 2  3   4\n",
       " 5  6   7\n",
       " 8  9  10"
      ]
     },
     "execution_count": 69,
     "metadata": {},
     "output_type": "execute_result"
    }
   ],
   "source": [
    "add_one.(A2)"
   ]
  },
  {
   "cell_type": "code",
   "execution_count": 70,
   "id": "4e60e680-1fde-493c-96e7-1b7d2dcec898",
   "metadata": {},
   "outputs": [],
   "source": [
    "#packages\n",
    "using Pkg"
   ]
  },
  {
   "cell_type": "code",
   "execution_count": 71,
   "id": "bf420417-44f1-43e5-93d4-50fd201a3bf7",
   "metadata": {},
   "outputs": [
    {
     "name": "stderr",
     "output_type": "stream",
     "text": [
      "\u001b[32m\u001b[1m    Updating\u001b[22m\u001b[39m registry at `~/.julia/registries/General.toml`\n",
      "\u001b[32m\u001b[1m   Resolving\u001b[22m\u001b[39m package versions...\n",
      "\u001b[32m\u001b[1m  No Changes\u001b[22m\u001b[39m to `~/.julia/environments/v1.7/Project.toml`\n",
      "\u001b[32m\u001b[1m  No Changes\u001b[22m\u001b[39m to `~/.julia/environments/v1.7/Manifest.toml`\n"
     ]
    }
   ],
   "source": [
    "Pkg.add(\"Colors\")"
   ]
  },
  {
   "cell_type": "code",
   "execution_count": 72,
   "id": "6c1e7e37-51ac-4344-8f05-aa55afda4877",
   "metadata": {},
   "outputs": [],
   "source": [
    "using Colors"
   ]
  },
  {
   "cell_type": "code",
   "execution_count": 73,
   "id": "dd401a8a-7639-4db1-a7b0-481f6742f31d",
   "metadata": {},
   "outputs": [
    {
     "data": {
      "image/svg+xml": [
       "<?xml version=\"1.0\" encoding=\"UTF-8\"?>\n",
       "<!DOCTYPE svg PUBLIC \"-//W3C//DTD SVG 1.1//EN\"\n",
       " \"http://www.w3.org/Graphics/SVG/1.1/DTD/svg11.dtd\">\n",
       "<svg xmlns=\"http://www.w3.org/2000/svg\" version=\"1.1\"\n",
       "     width=\"180mm\" height=\"25mm\"\n",
       "     viewBox=\"0 0 100 1\" preserveAspectRatio=\"none\"\n",
       "     shape-rendering=\"crispEdges\" stroke=\"none\">\n",
       "<rect width=\"1\" height=\".96\" x=\"0\" y=\"0\" fill=\"#000000\" />\n",
       "<rect width=\"1\" height=\".96\" x=\"1\" y=\"0\" fill=\"#FFFF74\" />\n",
       "<rect width=\"1\" height=\".96\" x=\"2\" y=\"0\" fill=\"#FF9BFF\" />\n",
       "<rect width=\"1\" height=\".96\" x=\"3\" y=\"0\" fill=\"#00D3FF\" />\n",
       "<rect width=\"1\" height=\".96\" x=\"4\" y=\"0\" fill=\"#E2630D\" />\n",
       "<rect width=\"1\" height=\".96\" x=\"5\" y=\"0\" fill=\"#007E00\" />\n",
       "<rect width=\"1\" height=\".96\" x=\"6\" y=\"0\" fill=\"#0050E6\" />\n",
       "<rect width=\"1\" height=\".96\" x=\"7\" y=\"0\" fill=\"#AC0047\" />\n",
       "<rect width=\"1\" height=\".96\" x=\"8\" y=\"0\" fill=\"#00FFC8\" />\n",
       "<rect width=\"1\" height=\".96\" x=\"9\" y=\"0\" fill=\"#006468\" />\n",
       "<rect width=\"1\" height=\".96\" x=\"10\" y=\"0\" fill=\"#FFD5C4\" />\n",
       "<rect width=\"1\" height=\".96\" x=\"11\" y=\"0\" fill=\"#6C5200\" />\n",
       "<rect width=\"1\" height=\".96\" x=\"12\" y=\"0\" fill=\"#7A7581\" />\n",
       "<rect width=\"1\" height=\".96\" x=\"13\" y=\"0\" fill=\"#44005C\" />\n",
       "<rect width=\"1\" height=\".96\" x=\"14\" y=\"0\" fill=\"#9E9E77\" />\n",
       "<rect width=\"1\" height=\".96\" x=\"15\" y=\"0\" fill=\"#FF5C78\" />\n",
       "<rect width=\"1\" height=\".96\" x=\"16\" y=\"0\" fill=\"#8197F1\" />\n",
       "<rect width=\"1\" height=\".96\" x=\"17\" y=\"0\" fill=\"#003200\" />\n",
       "<rect width=\"1\" height=\".96\" x=\"18\" y=\"0\" fill=\"#C721DD\" />\n",
       "<rect width=\"1\" height=\".96\" x=\"19\" y=\"0\" fill=\"#FFAD07\" />\n",
       "<rect width=\"1\" height=\".96\" x=\"20\" y=\"0\" fill=\"#611C00\" />\n",
       "<rect width=\"1\" height=\".96\" x=\"21\" y=\"0\" fill=\"#F3FFFA\" />\n",
       "<rect width=\"1\" height=\".96\" x=\"22\" y=\"0\" fill=\"#009E88\" />\n",
       "<rect width=\"1\" height=\".96\" x=\"23\" y=\"0\" fill=\"#5EC700\" />\n",
       "<rect width=\"1\" height=\".96\" x=\"24\" y=\"0\" fill=\"#002D54\" />\n",
       "<rect width=\"1\" height=\".96\" x=\"25\" y=\"0\" fill=\"#553C4A\" />\n",
       "<rect width=\"1\" height=\".96\" x=\"26\" y=\"0\" fill=\"#444439\" />\n",
       "<rect width=\"1\" height=\".96\" x=\"27\" y=\"0\" fill=\"#008FB6\" />\n",
       "<rect width=\"1\" height=\".96\" x=\"28\" y=\"0\" fill=\"#CFD4FD\" />\n",
       "<rect width=\"1\" height=\".96\" x=\"29\" y=\"0\" fill=\"#C40000\" />\n",
       "<rect width=\"1\" height=\".96\" x=\"30\" y=\"0\" fill=\"#A4675C\" />\n",
       "<rect width=\"1\" height=\".96\" x=\"31\" y=\"0\" fill=\"#BB8FA8\" />\n",
       "<rect width=\"1\" height=\".96\" x=\"32\" y=\"0\" fill=\"#290001\" />\n",
       "<rect width=\"1\" height=\".96\" x=\"33\" y=\"0\" fill=\"#A78600\" />\n",
       "<rect width=\"1\" height=\".96\" x=\"34\" y=\"0\" fill=\"#002D30\" />\n",
       "<rect width=\"1\" height=\".96\" x=\"35\" y=\"0\" fill=\"#C7DEAA\" />\n",
       "<rect width=\"1\" height=\".96\" x=\"36\" y=\"0\" fill=\"#8D9FA3\" />\n",
       "<rect width=\"1\" height=\".96\" x=\"37\" y=\"0\" fill=\"#6F5B95\" />\n",
       "<rect width=\"1\" height=\".96\" x=\"38\" y=\"0\" fill=\"#A1FFFF\" />\n",
       "<rect width=\"1\" height=\".96\" x=\"39\" y=\"0\" fill=\"#B39688\" />\n",
       "<rect width=\"1\" height=\".96\" x=\"40\" y=\"0\" fill=\"#4E6D50\" />\n",
       "<rect width=\"1\" height=\".96\" x=\"41\" y=\"0\" fill=\"#FF977B\" />\n",
       "<rect width=\"1\" height=\".96\" x=\"42\" y=\"0\" fill=\"#FFD1EC\" />\n",
       "<rect width=\"1\" height=\".96\" x=\"43\" y=\"0\" fill=\"#9E5100\" />\n",
       "<rect width=\"1\" height=\".96\" x=\"44\" y=\"0\" fill=\"#AE5B8E\" />\n",
       "<rect width=\"1\" height=\".96\" x=\"45\" y=\"0\" fill=\"#799400\" />\n",
       "<rect width=\"1\" height=\".96\" x=\"46\" y=\"0\" fill=\"#362200\" />\n",
       "<rect width=\"1\" height=\".96\" x=\"47\" y=\"0\" fill=\"#0E0026\" />\n",
       "<rect width=\"1\" height=\".96\" x=\"48\" y=\"0\" fill=\"#80765F\" />\n",
       "<rect width=\"1\" height=\".96\" x=\"49\" y=\"0\" fill=\"#485C00\" />\n",
       "<rect width=\"1\" height=\".96\" x=\"50\" y=\"0\" fill=\"#C8C2B5\" />\n",
       "<rect width=\"1\" height=\".96\" x=\"51\" y=\"0\" fill=\"#8800A1\" />\n",
       "<rect width=\"1\" height=\".96\" x=\"52\" y=\"0\" fill=\"#00A853\" />\n",
       "<rect width=\"1\" height=\".96\" x=\"53\" y=\"0\" fill=\"#FFE1AA\" />\n",
       "<rect width=\"1\" height=\".96\" x=\"54\" y=\"0\" fill=\"#674F42\" />\n",
       "<rect width=\"1\" height=\".96\" x=\"55\" y=\"0\" fill=\"#FF342D\" />\n",
       "<rect width=\"1\" height=\".96\" x=\"56\" y=\"0\" fill=\"#6B0041\" />\n",
       "<rect width=\"1\" height=\".96\" x=\"57\" y=\"0\" fill=\"#0806B1\" />\n",
       "<rect width=\"1\" height=\".96\" x=\"58\" y=\"0\" fill=\"#986DFF\" />\n",
       "<rect width=\"1\" height=\".96\" x=\"59\" y=\"0\" fill=\"#FF4EC7\" />\n",
       "<rect width=\"1\" height=\".96\" x=\"60\" y=\"0\" fill=\"#8AB9A2\" />\n",
       "<rect width=\"1\" height=\".96\" x=\"61\" y=\"0\" fill=\"#2EFF71\" />\n",
       "<rect width=\"1\" height=\".96\" x=\"62\" y=\"0\" fill=\"#005577\" />\n",
       "<rect width=\"1\" height=\".96\" x=\"63\" y=\"0\" fill=\"#0078E3\" />\n",
       "<rect width=\"1\" height=\".96\" x=\"64\" y=\"0\" fill=\"#B2ADB9\" />\n",
       "<rect width=\"1\" height=\".96\" x=\"65\" y=\"0\" fill=\"#00C3C6\" />\n",
       "<rect width=\"1\" height=\".96\" x=\"66\" y=\"0\" fill=\"#00AEFF\" />\n",
       "<rect width=\"1\" height=\".96\" x=\"67\" y=\"0\" fill=\"#4E545F\" />\n",
       "<rect width=\"1\" height=\".96\" x=\"68\" y=\"0\" fill=\"#FF9BB0\" />\n",
       "<rect width=\"1\" height=\".96\" x=\"69\" y=\"0\" fill=\"#FED206\" />\n",
       "<rect width=\"1\" height=\".96\" x=\"70\" y=\"0\" fill=\"#687B7A\" />\n",
       "<rect width=\"1\" height=\".96\" x=\"71\" y=\"0\" fill=\"#B1DCFC\" />\n",
       "<rect width=\"1\" height=\".96\" x=\"72\" y=\"0\" fill=\"#FFF6FF\" />\n",
       "<rect width=\"1\" height=\".96\" x=\"73\" y=\"0\" fill=\"#620019\" />\n",
       "<rect width=\"1\" height=\".96\" x=\"74\" y=\"0\" fill=\"#C79253\" />\n",
       "<rect width=\"1\" height=\".96\" x=\"75\" y=\"0\" fill=\"#A891CF\" />\n",
       "<rect width=\"1\" height=\".96\" x=\"76\" y=\"0\" fill=\"#EF007A\" />\n",
       "<rect width=\"1\" height=\".96\" x=\"77\" y=\"0\" fill=\"#B8CE00\" />\n",
       "<rect width=\"1\" height=\".96\" x=\"78\" y=\"0\" fill=\"#001700\" />\n",
       "<rect width=\"1\" height=\".96\" x=\"79\" y=\"0\" fill=\"#204B39\" />\n",
       "<rect width=\"1\" height=\".96\" x=\"80\" y=\"0\" fill=\"#875866\" />\n",
       "<rect width=\"1\" height=\".96\" x=\"81\" y=\"0\" fill=\"#B5FF4E\" />\n",
       "<rect width=\"1\" height=\".96\" x=\"82\" y=\"0\" fill=\"#B40080\" />\n",
       "<rect width=\"1\" height=\".96\" x=\"83\" y=\"0\" fill=\"#853F34\" />\n",
       "<rect width=\"1\" height=\".96\" x=\"84\" y=\"0\" fill=\"#69936B\" />\n",
       "<rect width=\"1\" height=\".96\" x=\"85\" y=\"0\" fill=\"#FFBC80\" />\n",
       "<rect width=\"1\" height=\".96\" x=\"86\" y=\"0\" fill=\"#4C3779\" />\n",
       "<rect width=\"1\" height=\".96\" x=\"87\" y=\"0\" fill=\"#323606\" />\n",
       "<rect width=\"1\" height=\".96\" x=\"88\" y=\"0\" fill=\"#008E94\" />\n",
       "<rect width=\"1\" height=\".96\" x=\"89\" y=\"0\" fill=\"#CAAC51\" />\n",
       "<rect width=\"1\" height=\".96\" x=\"90\" y=\"0\" fill=\"#787B3B\" />\n",
       "<rect width=\"1\" height=\".96\" x=\"91\" y=\"0\" fill=\"#B6F9D9\" />\n",
       "<rect width=\"1\" height=\".96\" x=\"92\" y=\"0\" fill=\"#DA003F\" />\n",
       "<rect width=\"1\" height=\".96\" x=\"93\" y=\"0\" fill=\"#2E2124\" />\n",
       "<rect width=\"1\" height=\".96\" x=\"94\" y=\"0\" fill=\"#005815\" />\n",
       "<rect width=\"1\" height=\".96\" x=\"95\" y=\"0\" fill=\"#FF8E1D\" />\n",
       "<rect width=\"1\" height=\".96\" x=\"96\" y=\"0\" fill=\"#6674B1\" />\n",
       "<rect width=\"1\" height=\".96\" x=\"97\" y=\"0\" fill=\"#00CDAD\" />\n",
       "<rect width=\"1\" height=\".96\" x=\"98\" y=\"0\" fill=\"#007F63\" />\n",
       "<rect width=\"1\" height=\".96\" x=\"99\" y=\"0\" fill=\"#996F3D\" />\n",
       "</svg>"
      ],
      "text/plain": [
       "100-element Array{RGB{N0f8},1} with eltype RGB{FixedPointNumbers.N0f8}:\n",
       " RGB{N0f8}(0.0,0.0,0.0)\n",
       " RGB{N0f8}(1.0,1.0,0.455)\n",
       " RGB{N0f8}(1.0,0.608,1.0)\n",
       " RGB{N0f8}(0.0,0.827,1.0)\n",
       " RGB{N0f8}(0.886,0.388,0.051)\n",
       " RGB{N0f8}(0.0,0.494,0.0)\n",
       " RGB{N0f8}(0.0,0.314,0.902)\n",
       " RGB{N0f8}(0.675,0.0,0.278)\n",
       " RGB{N0f8}(0.0,1.0,0.784)\n",
       " RGB{N0f8}(0.0,0.392,0.408)\n",
       " RGB{N0f8}(1.0,0.835,0.769)\n",
       " RGB{N0f8}(0.424,0.322,0.0)\n",
       " RGB{N0f8}(0.478,0.459,0.506)\n",
       " ⋮\n",
       " RGB{N0f8}(0.0,0.557,0.58)\n",
       " RGB{N0f8}(0.792,0.675,0.318)\n",
       " RGB{N0f8}(0.471,0.482,0.231)\n",
       " RGB{N0f8}(0.714,0.976,0.851)\n",
       " RGB{N0f8}(0.855,0.0,0.247)\n",
       " RGB{N0f8}(0.18,0.129,0.141)\n",
       " RGB{N0f8}(0.0,0.345,0.082)\n",
       " RGB{N0f8}(1.0,0.557,0.114)\n",
       " RGB{N0f8}(0.4,0.455,0.694)\n",
       " RGB{N0f8}(0.0,0.804,0.678)\n",
       " RGB{N0f8}(0.0,0.498,0.388)\n",
       " RGB{N0f8}(0.6,0.435,0.239)"
      ]
     },
     "execution_count": 73,
     "metadata": {},
     "output_type": "execute_result"
    }
   ],
   "source": [
    "palette = distinguishable_colors(100)"
   ]
  },
  {
   "cell_type": "code",
   "execution_count": 74,
   "id": "c31474f2-879b-44f9-8f6b-97d294445f16",
   "metadata": {},
   "outputs": [
    {
     "data": {
      "image/svg+xml": [
       "<?xml version=\"1.0\" encoding=\"UTF-8\"?>\n",
       "<!DOCTYPE svg PUBLIC \"-//W3C//DTD SVG 1.1//EN\"\n",
       " \"http://www.w3.org/Graphics/SVG/1.1/DTD/svg11.dtd\">\n",
       "<svg xmlns=\"http://www.w3.org/2000/svg\" version=\"1.1\"\n",
       "     width=\"75mm\" height=\"75mm\"\n",
       "     viewBox=\"0 0 3 3\" preserveAspectRatio=\"none\"\n",
       "     shape-rendering=\"crispEdges\" stroke=\"none\">\n",
       "<rect width=\".96\" height=\".96\" x=\"0\" y=\"0\" fill=\"#7A7581\" />\n",
       "<rect width=\".96\" height=\".96\" x=\"1\" y=\"0\" fill=\"#FED206\" />\n",
       "<rect width=\".96\" height=\".96\" x=\"2\" y=\"0\" fill=\"#008E94\" />\n",
       "<rect width=\".96\" height=\".96\" x=\"0\" y=\"1\" fill=\"#C79253\" />\n",
       "<rect width=\".96\" height=\".96\" x=\"1\" y=\"1\" fill=\"#DA003F\" />\n",
       "<rect width=\".96\" height=\".96\" x=\"2\" y=\"1\" fill=\"#000000\" />\n",
       "<rect width=\".96\" height=\".96\" x=\"0\" y=\"2\" fill=\"#E2630D\" />\n",
       "<rect width=\".96\" height=\".96\" x=\"1\" y=\"2\" fill=\"#A4675C\" />\n",
       "<rect width=\".96\" height=\".96\" x=\"2\" y=\"2\" fill=\"#44005C\" />\n",
       "</svg>"
      ],
      "text/plain": [
       "3×3 Array{RGB{N0f8},2} with eltype RGB{FixedPointNumbers.N0f8}:\n",
       " RGB{N0f8}(0.478,0.459,0.506)  …  RGB{N0f8}(0.0,0.557,0.58)\n",
       " RGB{N0f8}(0.78,0.573,0.325)      RGB{N0f8}(0.0,0.0,0.0)\n",
       " RGB{N0f8}(0.886,0.388,0.051)     RGB{N0f8}(0.267,0.0,0.361)"
      ]
     },
     "execution_count": 74,
     "metadata": {},
     "output_type": "execute_result"
    }
   ],
   "source": [
    "rand(palette, 3, 3)"
   ]
  },
  {
   "cell_type": "code",
   "execution_count": 75,
   "id": "c9345715-cd39-4e10-b8ec-82c2c05b9120",
   "metadata": {},
   "outputs": [
    {
     "name": "stderr",
     "output_type": "stream",
     "text": [
      "\u001b[32m\u001b[1m   Resolving\u001b[22m\u001b[39m package versions...\n",
      "\u001b[32m\u001b[1m  No Changes\u001b[22m\u001b[39m to `~/.julia/environments/v1.7/Project.toml`\n",
      "\u001b[32m\u001b[1m  No Changes\u001b[22m\u001b[39m to `~/.julia/environments/v1.7/Manifest.toml`\n"
     ]
    }
   ],
   "source": [
    "Pkg.add(\"Primes\")"
   ]
  },
  {
   "cell_type": "code",
   "execution_count": 76,
   "id": "98a5c398-7340-4c56-a958-55ba1149c5f0",
   "metadata": {},
   "outputs": [
    {
     "data": {
      "text/plain": [
       "false"
      ]
     },
     "execution_count": 76,
     "metadata": {},
     "output_type": "execute_result"
    }
   ],
   "source": [
    "@isdefined Primes"
   ]
  },
  {
   "cell_type": "code",
   "execution_count": 77,
   "id": "b2fdfb71-38bb-4a47-9a8e-b0a79af39216",
   "metadata": {},
   "outputs": [],
   "source": [
    "using Primes"
   ]
  },
  {
   "cell_type": "code",
   "execution_count": 78,
   "id": "690d2dea-052d-48c3-b3ad-cac3979f507f",
   "metadata": {},
   "outputs": [
    {
     "data": {
      "text/plain": [
       "true"
      ]
     },
     "execution_count": 78,
     "metadata": {},
     "output_type": "execute_result"
    }
   ],
   "source": [
    "@isdefined Primes"
   ]
  },
  {
   "cell_type": "code",
   "execution_count": 79,
   "id": "4d226a80-d3ee-466d-8618-769ba957db95",
   "metadata": {},
   "outputs": [
    {
     "data": {
      "text/plain": [
       "8-element Vector{Int64}:\n",
       "  2\n",
       "  3\n",
       "  5\n",
       "  7\n",
       " 11\n",
       " 13\n",
       " 17\n",
       " 19"
      ]
     },
     "execution_count": 79,
     "metadata": {},
     "output_type": "execute_result"
    }
   ],
   "source": [
    "primes_list = primes(20)"
   ]
  },
  {
   "cell_type": "code",
   "execution_count": 80,
   "id": "d6645de5-ffb5-47d6-a540-b69a4b698f95",
   "metadata": {},
   "outputs": [
    {
     "name": "stderr",
     "output_type": "stream",
     "text": [
      "┌ Warning: Pkg.installed() is deprecated\n",
      "└ @ Pkg /buildworker/worker/package_linux64/build/usr/share/julia/stdlib/v1.7/Pkg/src/Pkg.jl:595\n"
     ]
    },
    {
     "data": {
      "text/plain": [
       "Dict{String, VersionNumber} with 4 entries:\n",
       "  \"IJulia\" => v\"1.23.2\"\n",
       "  \"Plots\"  => v\"1.25.2\"\n",
       "  \"Primes\" => v\"0.5.1\"\n",
       "  \"Colors\" => v\"0.12.8\""
      ]
     },
     "execution_count": 80,
     "metadata": {},
     "output_type": "execute_result"
    }
   ],
   "source": [
    "Pkg.installed()"
   ]
  },
  {
   "cell_type": "code",
   "execution_count": 81,
   "id": "c8579726-cb6f-44e6-86b7-e2bcf0e432aa",
   "metadata": {},
   "outputs": [
    {
     "data": {
      "text/plain": [
       "Dict{Base.UUID, Pkg.API.PackageInfo} with 169 entries:\n",
       "  UUID(\"c87230d0-a227-11e9… => PackageInfo(\"FFMPEG\", v\"0.4.1\", \"b57e3acbe22f848…\n",
       "  UUID(\"2381bf8a-dfd0-557d… => PackageInfo(\"Wayland_protocols_jll\", v\"1.23.0+0\"…\n",
       "  UUID(\"0d47668e-0667-5a69… => PackageInfo(\"Xorg_xcb_util_renderutil_jll\", v\"0.…\n",
       "  UUID(\"6c6a2e73-6563-6170… => PackageInfo(\"Scratch\", v\"1.1.0\", \"0b4b7f1393cff9…\n",
       "  UUID(\"3da002f7-5984-5a60… => PackageInfo(\"ColorTypes\", v\"0.11.0\", \"024fe24d83…\n",
       "  UUID(\"aacddb02-875f-59d6… => PackageInfo(\"JpegTurbo_jll\", v\"2.1.0+0\", \"d73549…\n",
       "  UUID(\"92d709cd-6900-40b7… => PackageInfo(\"IrrationalConstants\", v\"0.1.1\", \"7f…\n",
       "  UUID(\"dfaa095f-4041-5dcd… => PackageInfo(\"x265_jll\", v\"3.5.0+0\", \"ee567a171cc…\n",
       "  UUID(\"992d4aef-0814-514b… => PackageInfo(\"Showoff\", v\"1.0.3\", \"91eddf657aca81…\n",
       "  UUID(\"a63ad114-7e13-5084… => PackageInfo(\"Mmap\", nothing, nothing, false, fal…\n",
       "  UUID(\"79e6a3ab-5dfb-504d… => PackageInfo(\"Adapt\", v\"3.3.1\", \"84918055d15b3114…\n",
       "  UUID(\"91a5bcdd-55d7-5caf… => PackageInfo(\"Plots\", v\"1.25.2\", \"65ebc27d8c00c84…\n",
       "  UUID(\"76f85450-5226-5b5a… => PackageInfo(\"LibGit2\", nothing, nothing, false, …\n",
       "  UUID(\"f638f0a6-7fb0-5443… => PackageInfo(\"libfdk_aac_jll\", v\"2.0.2+0\", \"daacc…\n",
       "  UUID(\"2a0f44e3-6c83-55bd… => PackageInfo(\"Base64\", nothing, nothing, false, f…\n",
       "  UUID(\"3b182d85-2403-5c21… => PackageInfo(\"Graphite2_jll\", v\"1.3.14+0\", \"344bf…\n",
       "  UUID(\"0ac62f75-1d6f-5e53… => PackageInfo(\"libass_jll\", v\"0.15.1+0\", \"5982a94f…\n",
       "  UUID(\"d2c73de3-f751-5644… => PackageInfo(\"GR_jll\", v\"0.62.0+0\", \"fd75fa3a2080…\n",
       "  UUID(\"30392449-352a-5448… => PackageInfo(\"Pixman_jll\", v\"0.40.1+0\", \"b4f5d025…\n",
       "  UUID(\"02c8fc9c-b97f-50b9… => PackageInfo(\"XML2_jll\", v\"2.9.12+0\", \"1acf5bdf07…\n",
       "  UUID(\"4b2f31a3-9ecc-558c… => PackageInfo(\"Libmount_jll\", v\"2.35.0+0\", \"9c3053…\n",
       "  UUID(\"56f22d72-fd6d-98f1… => PackageInfo(\"Artifacts\", nothing, nothing, false…\n",
       "  UUID(\"1082639a-0dae-5f34… => PackageInfo(\"Xorg_libXext_jll\", v\"1.3.4+4\", \"b7c…\n",
       "  UUID(\"682c06a0-de6a-54ab… => PackageInfo(\"JSON\", v\"0.21.2\", \"8076680b162ada2a…\n",
       "  UUID(\"b77e0a4c-d291-57a0… => PackageInfo(\"InteractiveUtils\", nothing, nothing…\n",
       "  ⋮                         => ⋮"
      ]
     },
     "execution_count": 81,
     "metadata": {},
     "output_type": "execute_result"
    }
   ],
   "source": [
    "Pkg.dependencies()"
   ]
  },
  {
   "cell_type": "code",
   "execution_count": 82,
   "id": "d62a1ab4-f8fb-47ad-b084-9aa56be0e7f0",
   "metadata": {},
   "outputs": [
    {
     "name": "stderr",
     "output_type": "stream",
     "text": [
      "\u001b[32m\u001b[1m   Resolving\u001b[22m\u001b[39m package versions...\n",
      "\u001b[32m\u001b[1m  No Changes\u001b[22m\u001b[39m to `~/.julia/environments/v1.7/Project.toml`\n",
      "\u001b[32m\u001b[1m  No Changes\u001b[22m\u001b[39m to `~/.julia/environments/v1.7/Manifest.toml`\n"
     ]
    }
   ],
   "source": [
    "#plotting\n",
    "Pkg.add(\"Plots\")"
   ]
  },
  {
   "cell_type": "code",
   "execution_count": 83,
   "id": "d9fe1c02-fa4e-450e-a974-974f1e88ee9c",
   "metadata": {},
   "outputs": [],
   "source": [
    "using Plots"
   ]
  },
  {
   "cell_type": "code",
   "execution_count": 84,
   "id": "dc618857-96ce-45be-8788-1cfe128ab8ee",
   "metadata": {},
   "outputs": [
    {
     "data": {
      "text/plain": [
       "Plots.GRBackend()"
      ]
     },
     "execution_count": 84,
     "metadata": {},
     "output_type": "execute_result"
    }
   ],
   "source": [
    "gr()"
   ]
  },
  {
   "cell_type": "code",
   "execution_count": 85,
   "id": "b8242066-431e-4b9b-91d6-e163ed7e7d93",
   "metadata": {},
   "outputs": [
    {
     "data": {
      "text/plain": [
       "-3.0:0.20689655172413793:3.0"
      ]
     },
     "execution_count": 85,
     "metadata": {},
     "output_type": "execute_result"
    }
   ],
   "source": [
    "x = range(-3, 3, length=30)"
   ]
  },
  {
   "cell_type": "code",
   "execution_count": 86,
   "id": "f0b230cf-dc41-45d6-9884-e7db2d28d276",
   "metadata": {},
   "outputs": [
    {
     "data": {
      "text/plain": [
       "30-element Vector{Float64}:\n",
       " 9.0\n",
       " 7.801426872770511\n",
       " 6.6884661117717\n",
       " 5.661117717003568\n",
       " 4.719381688466112\n",
       " 3.863258026159334\n",
       " 3.0927467300832343\n",
       " 2.4078478002378123\n",
       " 1.808561236623068\n",
       " 1.2948870392390013\n",
       " 0.8668252080856124\n",
       " 0.5243757431629014\n",
       " 0.26753864447086806\n",
       " ⋮\n",
       " 0.5243757431629014\n",
       " 0.8668252080856124\n",
       " 1.2948870392390013\n",
       " 1.808561236623068\n",
       " 2.4078478002378123\n",
       " 3.0927467300832343\n",
       " 3.863258026159334\n",
       " 4.719381688466112\n",
       " 5.661117717003568\n",
       " 6.6884661117717\n",
       " 7.801426872770511\n",
       " 9.0"
      ]
     },
     "execution_count": 86,
     "metadata": {},
     "output_type": "execute_result"
    }
   ],
   "source": [
    "y = f.(x)"
   ]
  },
  {
   "cell_type": "code",
   "execution_count": 87,
   "id": "cb67f57c-80c5-4214-94c2-43b0047cd92b",
   "metadata": {},
   "outputs": [
    {
     "data": {
      "image/svg+xml": [
       "<?xml version=\"1.0\" encoding=\"utf-8\"?>\n",
       "<svg xmlns=\"http://www.w3.org/2000/svg\" xmlns:xlink=\"http://www.w3.org/1999/xlink\" width=\"600\" height=\"400\" viewBox=\"0 0 2400 1600\">\n",
       "<defs>\n",
       "  <clipPath id=\"clip270\">\n",
       "    <rect x=\"0\" y=\"0\" width=\"2400\" height=\"1600\"/>\n",
       "  </clipPath>\n",
       "</defs>\n",
       "<path clip-path=\"url(#clip270)\" d=\"\n",
       "M0 1600 L2400 1600 L2400 0 L0 0  Z\n",
       "  \" fill=\"#ffffff\" fill-rule=\"evenodd\" fill-opacity=\"1\"/>\n",
       "<defs>\n",
       "  <clipPath id=\"clip271\">\n",
       "    <rect x=\"480\" y=\"0\" width=\"1681\" height=\"1600\"/>\n",
       "  </clipPath>\n",
       "</defs>\n",
       "<path clip-path=\"url(#clip270)\" d=\"\n",
       "M112.177 1486.45 L2352.76 1486.45 L2352.76 47.2441 L112.177 47.2441  Z\n",
       "  \" fill=\"#ffffff\" fill-rule=\"evenodd\" fill-opacity=\"1\"/>\n",
       "<defs>\n",
       "  <clipPath id=\"clip272\">\n",
       "    <rect x=\"112\" y=\"47\" width=\"2242\" height=\"1440\"/>\n",
       "  </clipPath>\n",
       "</defs>\n",
       "<polyline clip-path=\"url(#clip272)\" style=\"stroke:#000000; stroke-linecap:butt; stroke-linejoin:round; stroke-width:2; stroke-opacity:0.1; fill:none\" points=\"\n",
       "  175.59,1486.45 175.59,47.2441 \n",
       "  \"/>\n",
       "<polyline clip-path=\"url(#clip272)\" style=\"stroke:#000000; stroke-linecap:butt; stroke-linejoin:round; stroke-width:2; stroke-opacity:0.1; fill:none\" points=\"\n",
       "  527.882,1486.45 527.882,47.2441 \n",
       "  \"/>\n",
       "<polyline clip-path=\"url(#clip272)\" style=\"stroke:#000000; stroke-linecap:butt; stroke-linejoin:round; stroke-width:2; stroke-opacity:0.1; fill:none\" points=\"\n",
       "  880.174,1486.45 880.174,47.2441 \n",
       "  \"/>\n",
       "<polyline clip-path=\"url(#clip272)\" style=\"stroke:#000000; stroke-linecap:butt; stroke-linejoin:round; stroke-width:2; stroke-opacity:0.1; fill:none\" points=\"\n",
       "  1232.47,1486.45 1232.47,47.2441 \n",
       "  \"/>\n",
       "<polyline clip-path=\"url(#clip272)\" style=\"stroke:#000000; stroke-linecap:butt; stroke-linejoin:round; stroke-width:2; stroke-opacity:0.1; fill:none\" points=\"\n",
       "  1584.76,1486.45 1584.76,47.2441 \n",
       "  \"/>\n",
       "<polyline clip-path=\"url(#clip272)\" style=\"stroke:#000000; stroke-linecap:butt; stroke-linejoin:round; stroke-width:2; stroke-opacity:0.1; fill:none\" points=\"\n",
       "  1937.05,1486.45 1937.05,47.2441 \n",
       "  \"/>\n",
       "<polyline clip-path=\"url(#clip272)\" style=\"stroke:#000000; stroke-linecap:butt; stroke-linejoin:round; stroke-width:2; stroke-opacity:0.1; fill:none\" points=\"\n",
       "  2289.34,1486.45 2289.34,47.2441 \n",
       "  \"/>\n",
       "<polyline clip-path=\"url(#clip270)\" style=\"stroke:#000000; stroke-linecap:butt; stroke-linejoin:round; stroke-width:4; stroke-opacity:1; fill:none\" points=\"\n",
       "  112.177,1486.45 2352.76,1486.45 \n",
       "  \"/>\n",
       "<polyline clip-path=\"url(#clip270)\" style=\"stroke:#000000; stroke-linecap:butt; stroke-linejoin:round; stroke-width:4; stroke-opacity:1; fill:none\" points=\"\n",
       "  175.59,1486.45 175.59,1467.55 \n",
       "  \"/>\n",
       "<polyline clip-path=\"url(#clip270)\" style=\"stroke:#000000; stroke-linecap:butt; stroke-linejoin:round; stroke-width:4; stroke-opacity:1; fill:none\" points=\"\n",
       "  527.882,1486.45 527.882,1467.55 \n",
       "  \"/>\n",
       "<polyline clip-path=\"url(#clip270)\" style=\"stroke:#000000; stroke-linecap:butt; stroke-linejoin:round; stroke-width:4; stroke-opacity:1; fill:none\" points=\"\n",
       "  880.174,1486.45 880.174,1467.55 \n",
       "  \"/>\n",
       "<polyline clip-path=\"url(#clip270)\" style=\"stroke:#000000; stroke-linecap:butt; stroke-linejoin:round; stroke-width:4; stroke-opacity:1; fill:none\" points=\"\n",
       "  1232.47,1486.45 1232.47,1467.55 \n",
       "  \"/>\n",
       "<polyline clip-path=\"url(#clip270)\" style=\"stroke:#000000; stroke-linecap:butt; stroke-linejoin:round; stroke-width:4; stroke-opacity:1; fill:none\" points=\"\n",
       "  1584.76,1486.45 1584.76,1467.55 \n",
       "  \"/>\n",
       "<polyline clip-path=\"url(#clip270)\" style=\"stroke:#000000; stroke-linecap:butt; stroke-linejoin:round; stroke-width:4; stroke-opacity:1; fill:none\" points=\"\n",
       "  1937.05,1486.45 1937.05,1467.55 \n",
       "  \"/>\n",
       "<polyline clip-path=\"url(#clip270)\" style=\"stroke:#000000; stroke-linecap:butt; stroke-linejoin:round; stroke-width:4; stroke-opacity:1; fill:none\" points=\"\n",
       "  2289.34,1486.45 2289.34,1467.55 \n",
       "  \"/>\n",
       "<path clip-path=\"url(#clip270)\" d=\"M145.058 1532.02 L174.733 1532.02 L174.733 1535.95 L145.058 1535.95 L145.058 1532.02 Z\" fill=\"#000000\" fill-rule=\"evenodd\" fill-opacity=\"1\" /><path clip-path=\"url(#clip270)\" d=\"M198.992 1530.21 Q202.349 1530.93 204.224 1533.2 Q206.122 1535.47 206.122 1538.8 Q206.122 1543.92 202.604 1546.72 Q199.085 1549.52 192.604 1549.52 Q190.428 1549.52 188.113 1549.08 Q185.821 1548.66 183.368 1547.81 L183.368 1543.29 Q185.312 1544.43 187.627 1545.01 Q189.942 1545.58 192.465 1545.58 Q196.863 1545.58 199.154 1543.85 Q201.469 1542.11 201.469 1538.8 Q201.469 1535.75 199.317 1534.03 Q197.187 1532.3 193.367 1532.3 L189.34 1532.3 L189.34 1528.45 L193.553 1528.45 Q197.002 1528.45 198.83 1527.09 Q200.659 1525.7 200.659 1523.11 Q200.659 1520.45 198.761 1519.03 Q196.886 1517.6 193.367 1517.6 Q191.446 1517.6 189.247 1518.01 Q187.048 1518.43 184.409 1519.31 L184.409 1515.14 Q187.071 1514.4 189.386 1514.03 Q191.724 1513.66 193.784 1513.66 Q199.108 1513.66 202.21 1516.09 Q205.312 1518.5 205.312 1522.62 Q205.312 1525.49 203.668 1527.48 Q202.025 1529.45 198.992 1530.21 Z\" fill=\"#000000\" fill-rule=\"evenodd\" fill-opacity=\"1\" /><path clip-path=\"url(#clip270)\" d=\"M497.824 1532.02 L527.5 1532.02 L527.5 1535.95 L497.824 1535.95 L497.824 1532.02 Z\" fill=\"#000000\" fill-rule=\"evenodd\" fill-opacity=\"1\" /><path clip-path=\"url(#clip270)\" d=\"M541.62 1544.91 L557.94 1544.91 L557.94 1548.85 L535.995 1548.85 L535.995 1544.91 Q538.657 1542.16 543.241 1537.53 Q547.847 1532.88 549.028 1531.53 Q551.273 1529.01 552.153 1527.27 Q553.056 1525.51 553.056 1523.82 Q553.056 1521.07 551.111 1519.33 Q549.19 1517.6 546.088 1517.6 Q543.889 1517.6 541.435 1518.36 Q539.005 1519.13 536.227 1520.68 L536.227 1515.95 Q539.051 1514.82 541.505 1514.24 Q543.958 1513.66 545.995 1513.66 Q551.366 1513.66 554.56 1516.35 Q557.755 1519.03 557.755 1523.52 Q557.755 1525.65 556.944 1527.57 Q556.157 1529.47 554.051 1532.07 Q553.472 1532.74 550.37 1535.95 Q547.269 1539.15 541.62 1544.91 Z\" fill=\"#000000\" fill-rule=\"evenodd\" fill-opacity=\"1\" /><path clip-path=\"url(#clip270)\" d=\"M849.931 1532.02 L879.607 1532.02 L879.607 1535.95 L849.931 1535.95 L849.931 1532.02 Z\" fill=\"#000000\" fill-rule=\"evenodd\" fill-opacity=\"1\" /><path clip-path=\"url(#clip270)\" d=\"M890.51 1544.91 L898.149 1544.91 L898.149 1518.55 L889.839 1520.21 L889.839 1515.95 L898.102 1514.29 L902.778 1514.29 L902.778 1544.91 L910.417 1544.91 L910.417 1548.85 L890.51 1548.85 L890.51 1544.91 Z\" fill=\"#000000\" fill-rule=\"evenodd\" fill-opacity=\"1\" /><path clip-path=\"url(#clip270)\" d=\"M1232.47 1517.37 Q1228.86 1517.37 1227.03 1520.93 Q1225.22 1524.47 1225.22 1531.6 Q1225.22 1538.71 1227.03 1542.27 Q1228.86 1545.82 1232.47 1545.82 Q1236.1 1545.82 1237.91 1542.27 Q1239.74 1538.71 1239.74 1531.6 Q1239.74 1524.47 1237.91 1520.93 Q1236.1 1517.37 1232.47 1517.37 M1232.47 1513.66 Q1238.28 1513.66 1241.33 1518.27 Q1244.41 1522.85 1244.41 1531.6 Q1244.41 1540.33 1241.33 1544.94 Q1238.28 1549.52 1232.47 1549.52 Q1226.66 1549.52 1223.58 1544.94 Q1220.52 1540.33 1220.52 1531.6 Q1220.52 1522.85 1223.58 1518.27 Q1226.66 1513.66 1232.47 1513.66 Z\" fill=\"#000000\" fill-rule=\"evenodd\" fill-opacity=\"1\" /><path clip-path=\"url(#clip270)\" d=\"M1575.14 1544.91 L1582.78 1544.91 L1582.78 1518.55 L1574.47 1520.21 L1574.47 1515.95 L1582.73 1514.29 L1587.41 1514.29 L1587.41 1544.91 L1595.05 1544.91 L1595.05 1548.85 L1575.14 1548.85 L1575.14 1544.91 Z\" fill=\"#000000\" fill-rule=\"evenodd\" fill-opacity=\"1\" /><path clip-path=\"url(#clip270)\" d=\"M1931.7 1544.91 L1948.02 1544.91 L1948.02 1548.85 L1926.08 1548.85 L1926.08 1544.91 Q1928.74 1542.16 1933.32 1537.53 Q1937.93 1532.88 1939.11 1531.53 Q1941.36 1529.01 1942.24 1527.27 Q1943.14 1525.51 1943.14 1523.82 Q1943.14 1521.07 1941.19 1519.33 Q1939.27 1517.6 1936.17 1517.6 Q1933.97 1517.6 1931.52 1518.36 Q1929.09 1519.13 1926.31 1520.68 L1926.31 1515.95 Q1929.13 1514.82 1931.59 1514.24 Q1934.04 1513.66 1936.08 1513.66 Q1941.45 1513.66 1944.64 1516.35 Q1947.84 1519.03 1947.84 1523.52 Q1947.84 1525.65 1947.03 1527.57 Q1946.24 1529.47 1944.13 1532.07 Q1943.56 1532.74 1940.45 1535.95 Q1937.35 1539.15 1931.7 1544.91 Z\" fill=\"#000000\" fill-rule=\"evenodd\" fill-opacity=\"1\" /><path clip-path=\"url(#clip270)\" d=\"M2293.59 1530.21 Q2296.95 1530.93 2298.82 1533.2 Q2300.72 1535.47 2300.72 1538.8 Q2300.72 1543.92 2297.2 1546.72 Q2293.68 1549.52 2287.2 1549.52 Q2285.03 1549.52 2282.71 1549.08 Q2280.42 1548.66 2277.97 1547.81 L2277.97 1543.29 Q2279.91 1544.43 2282.23 1545.01 Q2284.54 1545.58 2287.06 1545.58 Q2291.46 1545.58 2293.75 1543.85 Q2296.07 1542.11 2296.07 1538.8 Q2296.07 1535.75 2293.92 1534.03 Q2291.79 1532.3 2287.97 1532.3 L2283.94 1532.3 L2283.94 1528.45 L2288.15 1528.45 Q2291.6 1528.45 2293.43 1527.09 Q2295.26 1525.7 2295.26 1523.11 Q2295.26 1520.45 2293.36 1519.03 Q2291.48 1517.6 2287.97 1517.6 Q2286.04 1517.6 2283.85 1518.01 Q2281.65 1518.43 2279.01 1519.31 L2279.01 1515.14 Q2281.67 1514.4 2283.98 1514.03 Q2286.32 1513.66 2288.38 1513.66 Q2293.71 1513.66 2296.81 1516.09 Q2299.91 1518.5 2299.91 1522.62 Q2299.91 1525.49 2298.27 1527.48 Q2296.62 1529.45 2293.59 1530.21 Z\" fill=\"#000000\" fill-rule=\"evenodd\" fill-opacity=\"1\" /><polyline clip-path=\"url(#clip272)\" style=\"stroke:#000000; stroke-linecap:butt; stroke-linejoin:round; stroke-width:2; stroke-opacity:0.1; fill:none\" points=\"\n",
       "  112.177,1447.33 2352.76,1447.33 \n",
       "  \"/>\n",
       "<polyline clip-path=\"url(#clip272)\" style=\"stroke:#000000; stroke-linecap:butt; stroke-linejoin:round; stroke-width:2; stroke-opacity:0.1; fill:none\" points=\"\n",
       "  112.177,1145.25 2352.76,1145.25 \n",
       "  \"/>\n",
       "<polyline clip-path=\"url(#clip272)\" style=\"stroke:#000000; stroke-linecap:butt; stroke-linejoin:round; stroke-width:2; stroke-opacity:0.1; fill:none\" points=\"\n",
       "  112.177,843.174 2352.76,843.174 \n",
       "  \"/>\n",
       "<polyline clip-path=\"url(#clip272)\" style=\"stroke:#000000; stroke-linecap:butt; stroke-linejoin:round; stroke-width:2; stroke-opacity:0.1; fill:none\" points=\"\n",
       "  112.177,541.095 2352.76,541.095 \n",
       "  \"/>\n",
       "<polyline clip-path=\"url(#clip272)\" style=\"stroke:#000000; stroke-linecap:butt; stroke-linejoin:round; stroke-width:2; stroke-opacity:0.1; fill:none\" points=\"\n",
       "  112.177,239.016 2352.76,239.016 \n",
       "  \"/>\n",
       "<polyline clip-path=\"url(#clip270)\" style=\"stroke:#000000; stroke-linecap:butt; stroke-linejoin:round; stroke-width:4; stroke-opacity:1; fill:none\" points=\"\n",
       "  112.177,1486.45 112.177,47.2441 \n",
       "  \"/>\n",
       "<polyline clip-path=\"url(#clip270)\" style=\"stroke:#000000; stroke-linecap:butt; stroke-linejoin:round; stroke-width:4; stroke-opacity:1; fill:none\" points=\"\n",
       "  112.177,1447.33 131.075,1447.33 \n",
       "  \"/>\n",
       "<polyline clip-path=\"url(#clip270)\" style=\"stroke:#000000; stroke-linecap:butt; stroke-linejoin:round; stroke-width:4; stroke-opacity:1; fill:none\" points=\"\n",
       "  112.177,1145.25 131.075,1145.25 \n",
       "  \"/>\n",
       "<polyline clip-path=\"url(#clip270)\" style=\"stroke:#000000; stroke-linecap:butt; stroke-linejoin:round; stroke-width:4; stroke-opacity:1; fill:none\" points=\"\n",
       "  112.177,843.174 131.075,843.174 \n",
       "  \"/>\n",
       "<polyline clip-path=\"url(#clip270)\" style=\"stroke:#000000; stroke-linecap:butt; stroke-linejoin:round; stroke-width:4; stroke-opacity:1; fill:none\" points=\"\n",
       "  112.177,541.095 131.075,541.095 \n",
       "  \"/>\n",
       "<polyline clip-path=\"url(#clip270)\" style=\"stroke:#000000; stroke-linecap:butt; stroke-linejoin:round; stroke-width:4; stroke-opacity:1; fill:none\" points=\"\n",
       "  112.177,239.016 131.075,239.016 \n",
       "  \"/>\n",
       "<path clip-path=\"url(#clip270)\" d=\"M64.2328 1433.13 Q60.6217 1433.13 58.793 1436.7 Q56.9875 1440.24 56.9875 1447.37 Q56.9875 1454.47 58.793 1458.04 Q60.6217 1461.58 64.2328 1461.58 Q67.867 1461.58 69.6726 1458.04 Q71.5013 1454.47 71.5013 1447.37 Q71.5013 1440.24 69.6726 1436.7 Q67.867 1433.13 64.2328 1433.13 M64.2328 1429.43 Q70.0429 1429.43 73.0985 1434.03 Q76.1772 1438.62 76.1772 1447.37 Q76.1772 1456.09 73.0985 1460.7 Q70.0429 1465.28 64.2328 1465.28 Q58.4226 1465.28 55.344 1460.7 Q52.2884 1456.09 52.2884 1447.37 Q52.2884 1438.62 55.344 1434.03 Q58.4226 1429.43 64.2328 1429.43 Z\" fill=\"#000000\" fill-rule=\"evenodd\" fill-opacity=\"1\" /><path clip-path=\"url(#clip270)\" d=\"M59.8578 1158.6 L76.1772 1158.6 L76.1772 1162.53 L54.2328 1162.53 L54.2328 1158.6 Q56.8949 1155.84 61.4782 1151.21 Q66.0846 1146.56 67.2652 1145.22 Q69.5105 1142.7 70.3902 1140.96 Q71.2929 1139.2 71.2929 1137.51 Q71.2929 1134.76 69.3485 1133.02 Q67.4272 1131.28 64.3254 1131.28 Q62.1263 1131.28 59.6726 1132.05 Q57.2421 1132.81 54.4643 1134.36 L54.4643 1129.64 Q57.2884 1128.51 59.7421 1127.93 Q62.1958 1127.35 64.2328 1127.35 Q69.6031 1127.35 72.7976 1130.03 Q75.992 1132.72 75.992 1137.21 Q75.992 1139.34 75.1818 1141.26 Q74.3948 1143.16 72.2883 1145.75 Q71.7096 1146.42 68.6078 1149.64 Q65.5059 1152.83 59.8578 1158.6 Z\" fill=\"#000000\" fill-rule=\"evenodd\" fill-opacity=\"1\" /><path clip-path=\"url(#clip270)\" d=\"M66.5939 829.968 L54.7884 848.417 L66.5939 848.417 L66.5939 829.968 M65.367 825.894 L71.2466 825.894 L71.2466 848.417 L76.1772 848.417 L76.1772 852.306 L71.2466 852.306 L71.2466 860.454 L66.5939 860.454 L66.5939 852.306 L50.9921 852.306 L50.9921 847.792 L65.367 825.894 Z\" fill=\"#000000\" fill-rule=\"evenodd\" fill-opacity=\"1\" /><path clip-path=\"url(#clip270)\" d=\"M64.6495 539.231 Q61.5013 539.231 59.6495 541.384 Q57.8208 543.537 57.8208 547.287 Q57.8208 551.014 59.6495 553.19 Q61.5013 555.342 64.6495 555.342 Q67.7976 555.342 69.6263 553.19 Q71.4781 551.014 71.4781 547.287 Q71.4781 543.537 69.6263 541.384 Q67.7976 539.231 64.6495 539.231 M73.9318 524.579 L73.9318 528.838 Q72.1726 528.005 70.367 527.565 Q68.5846 527.125 66.8254 527.125 Q62.1958 527.125 59.7421 530.25 Q57.3115 533.375 56.9643 539.694 Q58.33 537.681 60.3902 536.616 Q62.4504 535.528 64.9272 535.528 Q70.1355 535.528 73.1448 538.699 Q76.1772 541.847 76.1772 547.287 Q76.1772 552.611 73.029 555.829 Q69.8809 559.046 64.6495 559.046 Q58.6541 559.046 55.4828 554.463 Q52.3116 549.856 52.3116 541.13 Q52.3116 532.935 56.2004 528.074 Q60.0893 523.19 66.6402 523.19 Q68.3994 523.19 70.1818 523.537 Q71.9874 523.884 73.9318 524.579 Z\" fill=\"#000000\" fill-rule=\"evenodd\" fill-opacity=\"1\" /><path clip-path=\"url(#clip270)\" d=\"M64.3254 239.884 Q60.9921 239.884 59.0708 241.666 Q57.1726 243.449 57.1726 246.574 Q57.1726 249.699 59.0708 251.481 Q60.9921 253.263 64.3254 253.263 Q67.6587 253.263 69.58 251.481 Q71.5013 249.675 71.5013 246.574 Q71.5013 243.449 69.58 241.666 Q67.6819 239.884 64.3254 239.884 M59.6495 237.893 Q56.6402 237.152 54.9504 235.092 Q53.2838 233.032 53.2838 230.069 Q53.2838 225.926 56.2236 223.518 Q59.1865 221.111 64.3254 221.111 Q69.4874 221.111 72.4272 223.518 Q75.367 225.926 75.367 230.069 Q75.367 233.032 73.6772 235.092 Q72.0105 237.152 69.0244 237.893 Q72.404 238.68 74.279 240.972 Q76.1772 243.263 76.1772 246.574 Q76.1772 251.597 73.0985 254.282 Q70.0429 256.967 64.3254 256.967 Q58.6078 256.967 55.5291 254.282 Q52.4736 251.597 52.4736 246.574 Q52.4736 243.263 54.3717 240.972 Q56.2699 238.68 59.6495 237.893 M57.9365 230.509 Q57.9365 233.194 59.6032 234.699 Q61.293 236.203 64.3254 236.203 Q67.3346 236.203 69.0244 234.699 Q70.7374 233.194 70.7374 230.509 Q70.7374 227.824 69.0244 226.319 Q67.3346 224.814 64.3254 224.814 Q61.293 224.814 59.6032 226.319 Q57.9365 227.824 57.9365 230.509 Z\" fill=\"#000000\" fill-rule=\"evenodd\" fill-opacity=\"1\" /><polyline clip-path=\"url(#clip272)\" style=\"stroke:#009af9; stroke-linecap:butt; stroke-linejoin:round; stroke-width:4; stroke-opacity:1; fill:none\" points=\"\n",
       "  175.59,87.9763 248.478,269.008 321.366,437.109 394.254,592.279 467.142,734.519 540.03,863.827 612.918,980.205 685.806,1083.65 758.694,1174.17 831.582,1251.75 \n",
       "  904.47,1316.41 977.358,1368.13 1050.25,1406.92 1123.13,1432.78 1196.02,1445.72 1268.91,1445.72 1341.8,1432.78 1414.69,1406.92 1487.57,1368.13 1560.46,1316.41 \n",
       "  1633.35,1251.75 1706.24,1174.17 1779.13,1083.65 1852.01,980.205 1924.9,863.827 1997.79,734.519 2070.68,592.279 2143.57,437.109 2216.46,269.008 2289.34,87.9763 \n",
       "  \n",
       "  \"/>\n",
       "<circle clip-path=\"url(#clip272)\" cx=\"175.59\" cy=\"87.9763\" r=\"14\" fill=\"#e26f46\" fill-rule=\"evenodd\" fill-opacity=\"1\" stroke=\"#000000\" stroke-opacity=\"1\" stroke-width=\"3.2\"/>\n",
       "<circle clip-path=\"url(#clip272)\" cx=\"248.478\" cy=\"269.008\" r=\"14\" fill=\"#e26f46\" fill-rule=\"evenodd\" fill-opacity=\"1\" stroke=\"#000000\" stroke-opacity=\"1\" stroke-width=\"3.2\"/>\n",
       "<circle clip-path=\"url(#clip272)\" cx=\"321.366\" cy=\"437.109\" r=\"14\" fill=\"#e26f46\" fill-rule=\"evenodd\" fill-opacity=\"1\" stroke=\"#000000\" stroke-opacity=\"1\" stroke-width=\"3.2\"/>\n",
       "<circle clip-path=\"url(#clip272)\" cx=\"394.254\" cy=\"592.279\" r=\"14\" fill=\"#e26f46\" fill-rule=\"evenodd\" fill-opacity=\"1\" stroke=\"#000000\" stroke-opacity=\"1\" stroke-width=\"3.2\"/>\n",
       "<circle clip-path=\"url(#clip272)\" cx=\"467.142\" cy=\"734.519\" r=\"14\" fill=\"#e26f46\" fill-rule=\"evenodd\" fill-opacity=\"1\" stroke=\"#000000\" stroke-opacity=\"1\" stroke-width=\"3.2\"/>\n",
       "<circle clip-path=\"url(#clip272)\" cx=\"540.03\" cy=\"863.827\" r=\"14\" fill=\"#e26f46\" fill-rule=\"evenodd\" fill-opacity=\"1\" stroke=\"#000000\" stroke-opacity=\"1\" stroke-width=\"3.2\"/>\n",
       "<circle clip-path=\"url(#clip272)\" cx=\"612.918\" cy=\"980.205\" r=\"14\" fill=\"#e26f46\" fill-rule=\"evenodd\" fill-opacity=\"1\" stroke=\"#000000\" stroke-opacity=\"1\" stroke-width=\"3.2\"/>\n",
       "<circle clip-path=\"url(#clip272)\" cx=\"685.806\" cy=\"1083.65\" r=\"14\" fill=\"#e26f46\" fill-rule=\"evenodd\" fill-opacity=\"1\" stroke=\"#000000\" stroke-opacity=\"1\" stroke-width=\"3.2\"/>\n",
       "<circle clip-path=\"url(#clip272)\" cx=\"758.694\" cy=\"1174.17\" r=\"14\" fill=\"#e26f46\" fill-rule=\"evenodd\" fill-opacity=\"1\" stroke=\"#000000\" stroke-opacity=\"1\" stroke-width=\"3.2\"/>\n",
       "<circle clip-path=\"url(#clip272)\" cx=\"831.582\" cy=\"1251.75\" r=\"14\" fill=\"#e26f46\" fill-rule=\"evenodd\" fill-opacity=\"1\" stroke=\"#000000\" stroke-opacity=\"1\" stroke-width=\"3.2\"/>\n",
       "<circle clip-path=\"url(#clip272)\" cx=\"904.47\" cy=\"1316.41\" r=\"14\" fill=\"#e26f46\" fill-rule=\"evenodd\" fill-opacity=\"1\" stroke=\"#000000\" stroke-opacity=\"1\" stroke-width=\"3.2\"/>\n",
       "<circle clip-path=\"url(#clip272)\" cx=\"977.358\" cy=\"1368.13\" r=\"14\" fill=\"#e26f46\" fill-rule=\"evenodd\" fill-opacity=\"1\" stroke=\"#000000\" stroke-opacity=\"1\" stroke-width=\"3.2\"/>\n",
       "<circle clip-path=\"url(#clip272)\" cx=\"1050.25\" cy=\"1406.92\" r=\"14\" fill=\"#e26f46\" fill-rule=\"evenodd\" fill-opacity=\"1\" stroke=\"#000000\" stroke-opacity=\"1\" stroke-width=\"3.2\"/>\n",
       "<circle clip-path=\"url(#clip272)\" cx=\"1123.13\" cy=\"1432.78\" r=\"14\" fill=\"#e26f46\" fill-rule=\"evenodd\" fill-opacity=\"1\" stroke=\"#000000\" stroke-opacity=\"1\" stroke-width=\"3.2\"/>\n",
       "<circle clip-path=\"url(#clip272)\" cx=\"1196.02\" cy=\"1445.72\" r=\"14\" fill=\"#e26f46\" fill-rule=\"evenodd\" fill-opacity=\"1\" stroke=\"#000000\" stroke-opacity=\"1\" stroke-width=\"3.2\"/>\n",
       "<circle clip-path=\"url(#clip272)\" cx=\"1268.91\" cy=\"1445.72\" r=\"14\" fill=\"#e26f46\" fill-rule=\"evenodd\" fill-opacity=\"1\" stroke=\"#000000\" stroke-opacity=\"1\" stroke-width=\"3.2\"/>\n",
       "<circle clip-path=\"url(#clip272)\" cx=\"1341.8\" cy=\"1432.78\" r=\"14\" fill=\"#e26f46\" fill-rule=\"evenodd\" fill-opacity=\"1\" stroke=\"#000000\" stroke-opacity=\"1\" stroke-width=\"3.2\"/>\n",
       "<circle clip-path=\"url(#clip272)\" cx=\"1414.69\" cy=\"1406.92\" r=\"14\" fill=\"#e26f46\" fill-rule=\"evenodd\" fill-opacity=\"1\" stroke=\"#000000\" stroke-opacity=\"1\" stroke-width=\"3.2\"/>\n",
       "<circle clip-path=\"url(#clip272)\" cx=\"1487.57\" cy=\"1368.13\" r=\"14\" fill=\"#e26f46\" fill-rule=\"evenodd\" fill-opacity=\"1\" stroke=\"#000000\" stroke-opacity=\"1\" stroke-width=\"3.2\"/>\n",
       "<circle clip-path=\"url(#clip272)\" cx=\"1560.46\" cy=\"1316.41\" r=\"14\" fill=\"#e26f46\" fill-rule=\"evenodd\" fill-opacity=\"1\" stroke=\"#000000\" stroke-opacity=\"1\" stroke-width=\"3.2\"/>\n",
       "<circle clip-path=\"url(#clip272)\" cx=\"1633.35\" cy=\"1251.75\" r=\"14\" fill=\"#e26f46\" fill-rule=\"evenodd\" fill-opacity=\"1\" stroke=\"#000000\" stroke-opacity=\"1\" stroke-width=\"3.2\"/>\n",
       "<circle clip-path=\"url(#clip272)\" cx=\"1706.24\" cy=\"1174.17\" r=\"14\" fill=\"#e26f46\" fill-rule=\"evenodd\" fill-opacity=\"1\" stroke=\"#000000\" stroke-opacity=\"1\" stroke-width=\"3.2\"/>\n",
       "<circle clip-path=\"url(#clip272)\" cx=\"1779.13\" cy=\"1083.65\" r=\"14\" fill=\"#e26f46\" fill-rule=\"evenodd\" fill-opacity=\"1\" stroke=\"#000000\" stroke-opacity=\"1\" stroke-width=\"3.2\"/>\n",
       "<circle clip-path=\"url(#clip272)\" cx=\"1852.01\" cy=\"980.205\" r=\"14\" fill=\"#e26f46\" fill-rule=\"evenodd\" fill-opacity=\"1\" stroke=\"#000000\" stroke-opacity=\"1\" stroke-width=\"3.2\"/>\n",
       "<circle clip-path=\"url(#clip272)\" cx=\"1924.9\" cy=\"863.827\" r=\"14\" fill=\"#e26f46\" fill-rule=\"evenodd\" fill-opacity=\"1\" stroke=\"#000000\" stroke-opacity=\"1\" stroke-width=\"3.2\"/>\n",
       "<circle clip-path=\"url(#clip272)\" cx=\"1997.79\" cy=\"734.519\" r=\"14\" fill=\"#e26f46\" fill-rule=\"evenodd\" fill-opacity=\"1\" stroke=\"#000000\" stroke-opacity=\"1\" stroke-width=\"3.2\"/>\n",
       "<circle clip-path=\"url(#clip272)\" cx=\"2070.68\" cy=\"592.279\" r=\"14\" fill=\"#e26f46\" fill-rule=\"evenodd\" fill-opacity=\"1\" stroke=\"#000000\" stroke-opacity=\"1\" stroke-width=\"3.2\"/>\n",
       "<circle clip-path=\"url(#clip272)\" cx=\"2143.57\" cy=\"437.109\" r=\"14\" fill=\"#e26f46\" fill-rule=\"evenodd\" fill-opacity=\"1\" stroke=\"#000000\" stroke-opacity=\"1\" stroke-width=\"3.2\"/>\n",
       "<circle clip-path=\"url(#clip272)\" cx=\"2216.46\" cy=\"269.008\" r=\"14\" fill=\"#e26f46\" fill-rule=\"evenodd\" fill-opacity=\"1\" stroke=\"#000000\" stroke-opacity=\"1\" stroke-width=\"3.2\"/>\n",
       "<circle clip-path=\"url(#clip272)\" cx=\"2289.34\" cy=\"87.9763\" r=\"14\" fill=\"#e26f46\" fill-rule=\"evenodd\" fill-opacity=\"1\" stroke=\"#000000\" stroke-opacity=\"1\" stroke-width=\"3.2\"/>\n",
       "<path clip-path=\"url(#clip270)\" d=\"\n",
       "M1913.65 250.738 L2278.07 250.738 L2278.07 95.2176 L1913.65 95.2176  Z\n",
       "  \" fill=\"#ffffff\" fill-rule=\"evenodd\" fill-opacity=\"1\"/>\n",
       "<polyline clip-path=\"url(#clip270)\" style=\"stroke:#000000; stroke-linecap:butt; stroke-linejoin:round; stroke-width:4; stroke-opacity:1; fill:none\" points=\"\n",
       "  1913.65,250.738 2278.07,250.738 2278.07,95.2176 1913.65,95.2176 1913.65,250.738 \n",
       "  \"/>\n",
       "<polyline clip-path=\"url(#clip270)\" style=\"stroke:#009af9; stroke-linecap:butt; stroke-linejoin:round; stroke-width:4; stroke-opacity:1; fill:none\" points=\"\n",
       "  1938.55,147.058 2087.92,147.058 \n",
       "  \"/>\n",
       "<path clip-path=\"url(#clip270)\" d=\"M2112.82 128.319 L2117.08 128.319 L2117.08 164.338 L2112.82 164.338 L2112.82 128.319 Z\" fill=\"#000000\" fill-rule=\"evenodd\" fill-opacity=\"1\" /><path clip-path=\"url(#clip270)\" d=\"M2125.99 138.412 L2130.25 138.412 L2130.25 164.338 L2125.99 164.338 L2125.99 138.412 M2125.99 128.319 L2130.25 128.319 L2130.25 133.713 L2125.99 133.713 L2125.99 128.319 Z\" fill=\"#000000\" fill-rule=\"evenodd\" fill-opacity=\"1\" /><path clip-path=\"url(#clip270)\" d=\"M2160.71 148.689 L2160.71 164.338 L2156.45 164.338 L2156.45 148.828 Q2156.45 145.148 2155.02 143.319 Q2153.58 141.49 2150.71 141.49 Q2147.26 141.49 2145.27 143.69 Q2143.28 145.889 2143.28 149.685 L2143.28 164.338 L2139 164.338 L2139 138.412 L2143.28 138.412 L2143.28 142.44 Q2144.81 140.102 2146.87 138.944 Q2148.95 137.787 2151.66 137.787 Q2156.13 137.787 2158.42 140.565 Q2160.71 143.319 2160.71 148.689 Z\" fill=\"#000000\" fill-rule=\"evenodd\" fill-opacity=\"1\" /><path clip-path=\"url(#clip270)\" d=\"M2191.38 150.31 L2191.38 152.393 L2171.8 152.393 Q2172.08 156.791 2174.44 159.106 Q2176.82 161.398 2181.06 161.398 Q2183.51 161.398 2185.8 160.796 Q2188.12 160.194 2190.39 158.99 L2190.39 163.018 Q2188.09 163.99 2185.69 164.5 Q2183.28 165.009 2180.8 165.009 Q2174.6 165.009 2170.96 161.398 Q2167.35 157.787 2167.35 151.629 Q2167.35 145.264 2170.78 141.537 Q2174.23 137.787 2180.06 137.787 Q2185.29 137.787 2188.33 141.166 Q2191.38 144.523 2191.38 150.31 M2187.12 149.06 Q2187.08 145.565 2185.15 143.481 Q2183.26 141.398 2180.11 141.398 Q2176.54 141.398 2174.39 143.412 Q2172.26 145.426 2171.94 149.083 L2187.12 149.06 Z\" fill=\"#000000\" fill-rule=\"evenodd\" fill-opacity=\"1\" /><circle clip-path=\"url(#clip270)\" cx=\"2013.24\" cy=\"198.898\" r=\"23\" fill=\"#e26f46\" fill-rule=\"evenodd\" fill-opacity=\"1\" stroke=\"#000000\" stroke-opacity=\"1\" stroke-width=\"5.12\"/>\n",
       "<path clip-path=\"url(#clip270)\" d=\"M2117.1 212.289 L2117.1 226.039 L2112.82 226.039 L2112.82 190.252 L2117.1 190.252 L2117.1 194.187 Q2118.44 191.872 2120.48 190.761 Q2122.54 189.627 2125.39 189.627 Q2130.11 189.627 2133.05 193.377 Q2136.01 197.127 2136.01 203.238 Q2136.01 209.349 2133.05 213.099 Q2130.11 216.849 2125.39 216.849 Q2122.54 216.849 2120.48 215.738 Q2118.44 214.603 2117.1 212.289 M2131.59 203.238 Q2131.59 198.539 2129.65 195.877 Q2127.72 193.192 2124.34 193.192 Q2120.97 193.192 2119.02 195.877 Q2117.1 198.539 2117.1 203.238 Q2117.1 207.937 2119.02 210.622 Q2120.97 213.284 2124.34 213.284 Q2127.72 213.284 2129.65 210.622 Q2131.59 207.937 2131.59 203.238 Z\" fill=\"#000000\" fill-rule=\"evenodd\" fill-opacity=\"1\" /><path clip-path=\"url(#clip270)\" d=\"M2153.12 193.238 Q2149.69 193.238 2147.7 195.923 Q2145.71 198.585 2145.71 203.238 Q2145.71 207.891 2147.68 210.576 Q2149.67 213.238 2153.12 213.238 Q2156.52 213.238 2158.51 210.553 Q2160.5 207.867 2160.5 203.238 Q2160.5 198.631 2158.51 195.946 Q2156.52 193.238 2153.12 193.238 M2153.12 189.627 Q2158.67 189.627 2161.84 193.238 Q2165.02 196.849 2165.02 203.238 Q2165.02 209.604 2161.84 213.238 Q2158.67 216.849 2153.12 216.849 Q2147.54 216.849 2144.37 213.238 Q2141.22 209.604 2141.22 203.238 Q2141.22 196.849 2144.37 193.238 Q2147.54 189.627 2153.12 189.627 Z\" fill=\"#000000\" fill-rule=\"evenodd\" fill-opacity=\"1\" /><path clip-path=\"url(#clip270)\" d=\"M2172.08 190.252 L2176.34 190.252 L2176.34 216.178 L2172.08 216.178 L2172.08 190.252 M2172.08 180.159 L2176.34 180.159 L2176.34 185.553 L2172.08 185.553 L2172.08 180.159 Z\" fill=\"#000000\" fill-rule=\"evenodd\" fill-opacity=\"1\" /><path clip-path=\"url(#clip270)\" d=\"M2206.8 200.529 L2206.8 216.178 L2202.54 216.178 L2202.54 200.668 Q2202.54 196.988 2201.1 195.159 Q2199.67 193.33 2196.8 193.33 Q2193.35 193.33 2191.36 195.53 Q2189.37 197.729 2189.37 201.525 L2189.37 216.178 L2185.09 216.178 L2185.09 190.252 L2189.37 190.252 L2189.37 194.28 Q2190.9 191.942 2192.96 190.784 Q2195.04 189.627 2197.75 189.627 Q2202.21 189.627 2204.51 192.405 Q2206.8 195.159 2206.8 200.529 Z\" fill=\"#000000\" fill-rule=\"evenodd\" fill-opacity=\"1\" /><path clip-path=\"url(#clip270)\" d=\"M2219.51 182.891 L2219.51 190.252 L2228.28 190.252 L2228.28 193.562 L2219.51 193.562 L2219.51 207.636 Q2219.51 210.807 2220.36 211.71 Q2221.24 212.613 2223.9 212.613 L2228.28 212.613 L2228.28 216.178 L2223.9 216.178 Q2218.97 216.178 2217.1 214.349 Q2215.22 212.497 2215.22 207.636 L2215.22 193.562 L2212.1 193.562 L2212.1 190.252 L2215.22 190.252 L2215.22 182.891 L2219.51 182.891 Z\" fill=\"#000000\" fill-rule=\"evenodd\" fill-opacity=\"1\" /></svg>\n"
      ]
     },
     "execution_count": 87,
     "metadata": {},
     "output_type": "execute_result"
    }
   ],
   "source": [
    "plot(x, y, label=\"line\")\n",
    "scatter!(x, y, label=\"point\")"
   ]
  },
  {
   "cell_type": "code",
   "execution_count": 88,
   "id": "c620d53a-0c72-4bca-a6df-4c42e69497f4",
   "metadata": {},
   "outputs": [
    {
     "data": {
      "image/svg+xml": [
       "<?xml version=\"1.0\" encoding=\"utf-8\"?>\n",
       "<svg xmlns=\"http://www.w3.org/2000/svg\" xmlns:xlink=\"http://www.w3.org/1999/xlink\" width=\"600\" height=\"400\" viewBox=\"0 0 2400 1600\">\n",
       "<defs>\n",
       "  <clipPath id=\"clip310\">\n",
       "    <rect x=\"0\" y=\"0\" width=\"2400\" height=\"1600\"/>\n",
       "  </clipPath>\n",
       "</defs>\n",
       "<path clip-path=\"url(#clip310)\" d=\"\n",
       "M0 1600 L2400 1600 L2400 0 L0 0  Z\n",
       "  \" fill=\"#ffffff\" fill-rule=\"evenodd\" fill-opacity=\"1\"/>\n",
       "<defs>\n",
       "  <clipPath id=\"clip311\">\n",
       "    <rect x=\"480\" y=\"0\" width=\"1681\" height=\"1600\"/>\n",
       "  </clipPath>\n",
       "</defs>\n",
       "<path clip-path=\"url(#clip310)\" d=\"\n",
       "M178.867 686.448 L1171.26 686.448 L1171.26 47.2441 L178.867 47.2441  Z\n",
       "  \" fill=\"#ffffff\" fill-rule=\"evenodd\" fill-opacity=\"1\"/>\n",
       "<defs>\n",
       "  <clipPath id=\"clip312\">\n",
       "    <rect x=\"178\" y=\"47\" width=\"993\" height=\"640\"/>\n",
       "  </clipPath>\n",
       "</defs>\n",
       "<polyline clip-path=\"url(#clip312)\" style=\"stroke:#000000; stroke-linecap:butt; stroke-linejoin:round; stroke-width:2; stroke-opacity:0.1; fill:none\" points=\"\n",
       "  206.953,686.448 206.953,47.2441 \n",
       "  \"/>\n",
       "<polyline clip-path=\"url(#clip312)\" style=\"stroke:#000000; stroke-linecap:butt; stroke-linejoin:round; stroke-width:2; stroke-opacity:0.1; fill:none\" points=\"\n",
       "  362.99,686.448 362.99,47.2441 \n",
       "  \"/>\n",
       "<polyline clip-path=\"url(#clip312)\" style=\"stroke:#000000; stroke-linecap:butt; stroke-linejoin:round; stroke-width:2; stroke-opacity:0.1; fill:none\" points=\"\n",
       "  519.028,686.448 519.028,47.2441 \n",
       "  \"/>\n",
       "<polyline clip-path=\"url(#clip312)\" style=\"stroke:#000000; stroke-linecap:butt; stroke-linejoin:round; stroke-width:2; stroke-opacity:0.1; fill:none\" points=\"\n",
       "  675.065,686.448 675.065,47.2441 \n",
       "  \"/>\n",
       "<polyline clip-path=\"url(#clip312)\" style=\"stroke:#000000; stroke-linecap:butt; stroke-linejoin:round; stroke-width:2; stroke-opacity:0.1; fill:none\" points=\"\n",
       "  831.102,686.448 831.102,47.2441 \n",
       "  \"/>\n",
       "<polyline clip-path=\"url(#clip312)\" style=\"stroke:#000000; stroke-linecap:butt; stroke-linejoin:round; stroke-width:2; stroke-opacity:0.1; fill:none\" points=\"\n",
       "  987.139,686.448 987.139,47.2441 \n",
       "  \"/>\n",
       "<polyline clip-path=\"url(#clip312)\" style=\"stroke:#000000; stroke-linecap:butt; stroke-linejoin:round; stroke-width:2; stroke-opacity:0.1; fill:none\" points=\"\n",
       "  1143.18,686.448 1143.18,47.2441 \n",
       "  \"/>\n",
       "<polyline clip-path=\"url(#clip310)\" style=\"stroke:#000000; stroke-linecap:butt; stroke-linejoin:round; stroke-width:4; stroke-opacity:1; fill:none\" points=\"\n",
       "  178.867,686.448 1171.26,686.448 \n",
       "  \"/>\n",
       "<polyline clip-path=\"url(#clip310)\" style=\"stroke:#000000; stroke-linecap:butt; stroke-linejoin:round; stroke-width:4; stroke-opacity:1; fill:none\" points=\"\n",
       "  206.953,686.448 206.953,667.55 \n",
       "  \"/>\n",
       "<polyline clip-path=\"url(#clip310)\" style=\"stroke:#000000; stroke-linecap:butt; stroke-linejoin:round; stroke-width:4; stroke-opacity:1; fill:none\" points=\"\n",
       "  362.99,686.448 362.99,667.55 \n",
       "  \"/>\n",
       "<polyline clip-path=\"url(#clip310)\" style=\"stroke:#000000; stroke-linecap:butt; stroke-linejoin:round; stroke-width:4; stroke-opacity:1; fill:none\" points=\"\n",
       "  519.028,686.448 519.028,667.55 \n",
       "  \"/>\n",
       "<polyline clip-path=\"url(#clip310)\" style=\"stroke:#000000; stroke-linecap:butt; stroke-linejoin:round; stroke-width:4; stroke-opacity:1; fill:none\" points=\"\n",
       "  675.065,686.448 675.065,667.55 \n",
       "  \"/>\n",
       "<polyline clip-path=\"url(#clip310)\" style=\"stroke:#000000; stroke-linecap:butt; stroke-linejoin:round; stroke-width:4; stroke-opacity:1; fill:none\" points=\"\n",
       "  831.102,686.448 831.102,667.55 \n",
       "  \"/>\n",
       "<polyline clip-path=\"url(#clip310)\" style=\"stroke:#000000; stroke-linecap:butt; stroke-linejoin:round; stroke-width:4; stroke-opacity:1; fill:none\" points=\"\n",
       "  987.139,686.448 987.139,667.55 \n",
       "  \"/>\n",
       "<polyline clip-path=\"url(#clip310)\" style=\"stroke:#000000; stroke-linecap:butt; stroke-linejoin:round; stroke-width:4; stroke-opacity:1; fill:none\" points=\"\n",
       "  1143.18,686.448 1143.18,667.55 \n",
       "  \"/>\n",
       "<path clip-path=\"url(#clip310)\" d=\"M176.421 732.019 L206.097 732.019 L206.097 735.954 L176.421 735.954 L176.421 732.019 Z\" fill=\"#000000\" fill-rule=\"evenodd\" fill-opacity=\"1\" /><path clip-path=\"url(#clip310)\" d=\"M230.356 730.214 Q233.712 730.931 235.587 733.2 Q237.486 735.468 237.486 738.802 Q237.486 743.917 233.967 746.718 Q230.449 749.519 223.967 749.519 Q221.791 749.519 219.476 749.079 Q217.185 748.663 214.731 747.806 L214.731 743.292 Q216.675 744.427 218.99 745.005 Q221.305 745.584 223.828 745.584 Q228.226 745.584 230.518 743.848 Q232.833 742.112 232.833 738.802 Q232.833 735.746 230.68 734.033 Q228.55 732.297 224.731 732.297 L220.703 732.297 L220.703 728.454 L224.916 728.454 Q228.365 728.454 230.194 727.089 Q232.023 725.7 232.023 723.107 Q232.023 720.445 230.124 719.033 Q228.249 717.598 224.731 717.598 Q222.81 717.598 220.611 718.015 Q218.412 718.431 215.773 719.311 L215.773 715.144 Q218.435 714.404 220.75 714.033 Q223.087 713.663 225.148 713.663 Q230.472 713.663 233.574 716.093 Q236.675 718.501 236.675 722.621 Q236.675 725.492 235.032 727.482 Q233.388 729.45 230.356 730.214 Z\" fill=\"#000000\" fill-rule=\"evenodd\" fill-opacity=\"1\" /><path clip-path=\"url(#clip310)\" d=\"M332.933 732.019 L362.608 732.019 L362.608 735.954 L332.933 735.954 L332.933 732.019 Z\" fill=\"#000000\" fill-rule=\"evenodd\" fill-opacity=\"1\" /><path clip-path=\"url(#clip310)\" d=\"M376.729 744.913 L393.048 744.913 L393.048 748.848 L371.104 748.848 L371.104 744.913 Q373.766 742.158 378.349 737.528 Q382.956 732.876 384.136 731.533 Q386.382 729.01 387.261 727.274 Q388.164 725.515 388.164 723.825 Q388.164 721.07 386.219 719.334 Q384.298 717.598 381.196 717.598 Q378.997 717.598 376.544 718.362 Q374.113 719.126 371.335 720.677 L371.335 715.955 Q374.159 714.82 376.613 714.242 Q379.067 713.663 381.104 713.663 Q386.474 713.663 389.669 716.348 Q392.863 719.033 392.863 723.524 Q392.863 725.654 392.053 727.575 Q391.266 729.473 389.159 732.066 Q388.581 732.737 385.479 735.954 Q382.377 739.149 376.729 744.913 Z\" fill=\"#000000\" fill-rule=\"evenodd\" fill-opacity=\"1\" /><path clip-path=\"url(#clip310)\" d=\"M488.785 732.019 L518.46 732.019 L518.46 735.954 L488.785 735.954 L488.785 732.019 Z\" fill=\"#000000\" fill-rule=\"evenodd\" fill-opacity=\"1\" /><path clip-path=\"url(#clip310)\" d=\"M529.363 744.913 L537.002 744.913 L537.002 718.547 L528.692 720.214 L528.692 715.955 L536.956 714.288 L541.632 714.288 L541.632 744.913 L549.27 744.913 L549.27 748.848 L529.363 748.848 L529.363 744.913 Z\" fill=\"#000000\" fill-rule=\"evenodd\" fill-opacity=\"1\" /><path clip-path=\"url(#clip310)\" d=\"M675.065 717.367 Q671.454 717.367 669.625 720.931 Q667.819 724.473 667.819 731.603 Q667.819 738.709 669.625 742.274 Q671.454 745.815 675.065 745.815 Q678.699 745.815 680.504 742.274 Q682.333 738.709 682.333 731.603 Q682.333 724.473 680.504 720.931 Q678.699 717.367 675.065 717.367 M675.065 713.663 Q680.875 713.663 683.93 718.269 Q687.009 722.853 687.009 731.603 Q687.009 740.329 683.93 744.936 Q680.875 749.519 675.065 749.519 Q669.255 749.519 666.176 744.936 Q663.12 740.329 663.12 731.603 Q663.12 722.853 666.176 718.269 Q669.255 713.663 675.065 713.663 Z\" fill=\"#000000\" fill-rule=\"evenodd\" fill-opacity=\"1\" /><path clip-path=\"url(#clip310)\" d=\"M821.484 744.913 L829.123 744.913 L829.123 718.547 L820.813 720.214 L820.813 715.955 L829.076 714.288 L833.752 714.288 L833.752 744.913 L841.391 744.913 L841.391 748.848 L821.484 748.848 L821.484 744.913 Z\" fill=\"#000000\" fill-rule=\"evenodd\" fill-opacity=\"1\" /><path clip-path=\"url(#clip310)\" d=\"M981.792 744.913 L998.111 744.913 L998.111 748.848 L976.167 748.848 L976.167 744.913 Q978.829 742.158 983.412 737.528 Q988.019 732.876 989.199 731.533 Q991.444 729.01 992.324 727.274 Q993.227 725.515 993.227 723.825 Q993.227 721.07 991.282 719.334 Q989.361 717.598 986.259 717.598 Q984.06 717.598 981.607 718.362 Q979.176 719.126 976.398 720.677 L976.398 715.955 Q979.222 714.82 981.676 714.242 Q984.13 713.663 986.167 713.663 Q991.537 713.663 994.731 716.348 Q997.926 719.033 997.926 723.524 Q997.926 725.654 997.116 727.575 Q996.329 729.473 994.222 732.066 Q993.644 732.737 990.542 735.954 Q987.44 739.149 981.792 744.913 Z\" fill=\"#000000\" fill-rule=\"evenodd\" fill-opacity=\"1\" /><path clip-path=\"url(#clip310)\" d=\"M1147.42 730.214 Q1150.78 730.931 1152.66 733.2 Q1154.55 735.468 1154.55 738.802 Q1154.55 743.917 1151.03 746.718 Q1147.52 749.519 1141.03 749.519 Q1138.86 749.519 1136.54 749.079 Q1134.25 748.663 1131.8 747.806 L1131.8 743.292 Q1133.74 744.427 1136.06 745.005 Q1138.37 745.584 1140.9 745.584 Q1145.29 745.584 1147.59 743.848 Q1149.9 742.112 1149.9 738.802 Q1149.9 735.746 1147.75 734.033 Q1145.62 732.297 1141.8 732.297 L1137.77 732.297 L1137.77 728.454 L1141.98 728.454 Q1145.43 728.454 1147.26 727.089 Q1149.09 725.7 1149.09 723.107 Q1149.09 720.445 1147.19 719.033 Q1145.32 717.598 1141.8 717.598 Q1139.88 717.598 1137.68 718.015 Q1135.48 718.431 1132.84 719.311 L1132.84 715.144 Q1135.5 714.404 1137.82 714.033 Q1140.16 713.663 1142.22 713.663 Q1147.54 713.663 1150.64 716.093 Q1153.74 718.501 1153.74 722.621 Q1153.74 725.492 1152.1 727.482 Q1150.46 729.45 1147.42 730.214 Z\" fill=\"#000000\" fill-rule=\"evenodd\" fill-opacity=\"1\" /><polyline clip-path=\"url(#clip312)\" style=\"stroke:#000000; stroke-linecap:butt; stroke-linejoin:round; stroke-width:2; stroke-opacity:0.1; fill:none\" points=\"\n",
       "  178.867,668.357 1171.26,668.357 \n",
       "  \"/>\n",
       "<polyline clip-path=\"url(#clip312)\" style=\"stroke:#000000; stroke-linecap:butt; stroke-linejoin:round; stroke-width:2; stroke-opacity:0.1; fill:none\" points=\"\n",
       "  178.867,567.853 1171.26,567.853 \n",
       "  \"/>\n",
       "<polyline clip-path=\"url(#clip312)\" style=\"stroke:#000000; stroke-linecap:butt; stroke-linejoin:round; stroke-width:2; stroke-opacity:0.1; fill:none\" points=\"\n",
       "  178.867,467.35 1171.26,467.35 \n",
       "  \"/>\n",
       "<polyline clip-path=\"url(#clip312)\" style=\"stroke:#000000; stroke-linecap:butt; stroke-linejoin:round; stroke-width:2; stroke-opacity:0.1; fill:none\" points=\"\n",
       "  178.867,366.846 1171.26,366.846 \n",
       "  \"/>\n",
       "<polyline clip-path=\"url(#clip312)\" style=\"stroke:#000000; stroke-linecap:butt; stroke-linejoin:round; stroke-width:2; stroke-opacity:0.1; fill:none\" points=\"\n",
       "  178.867,266.342 1171.26,266.342 \n",
       "  \"/>\n",
       "<polyline clip-path=\"url(#clip312)\" style=\"stroke:#000000; stroke-linecap:butt; stroke-linejoin:round; stroke-width:2; stroke-opacity:0.1; fill:none\" points=\"\n",
       "  178.867,165.839 1171.26,165.839 \n",
       "  \"/>\n",
       "<polyline clip-path=\"url(#clip312)\" style=\"stroke:#000000; stroke-linecap:butt; stroke-linejoin:round; stroke-width:2; stroke-opacity:0.1; fill:none\" points=\"\n",
       "  178.867,65.3348 1171.26,65.3348 \n",
       "  \"/>\n",
       "<polyline clip-path=\"url(#clip310)\" style=\"stroke:#000000; stroke-linecap:butt; stroke-linejoin:round; stroke-width:4; stroke-opacity:1; fill:none\" points=\"\n",
       "  178.867,686.448 178.867,47.2441 \n",
       "  \"/>\n",
       "<polyline clip-path=\"url(#clip310)\" style=\"stroke:#000000; stroke-linecap:butt; stroke-linejoin:round; stroke-width:4; stroke-opacity:1; fill:none\" points=\"\n",
       "  178.867,668.357 197.764,668.357 \n",
       "  \"/>\n",
       "<polyline clip-path=\"url(#clip310)\" style=\"stroke:#000000; stroke-linecap:butt; stroke-linejoin:round; stroke-width:4; stroke-opacity:1; fill:none\" points=\"\n",
       "  178.867,567.853 197.764,567.853 \n",
       "  \"/>\n",
       "<polyline clip-path=\"url(#clip310)\" style=\"stroke:#000000; stroke-linecap:butt; stroke-linejoin:round; stroke-width:4; stroke-opacity:1; fill:none\" points=\"\n",
       "  178.867,467.35 197.764,467.35 \n",
       "  \"/>\n",
       "<polyline clip-path=\"url(#clip310)\" style=\"stroke:#000000; stroke-linecap:butt; stroke-linejoin:round; stroke-width:4; stroke-opacity:1; fill:none\" points=\"\n",
       "  178.867,366.846 197.764,366.846 \n",
       "  \"/>\n",
       "<polyline clip-path=\"url(#clip310)\" style=\"stroke:#000000; stroke-linecap:butt; stroke-linejoin:round; stroke-width:4; stroke-opacity:1; fill:none\" points=\"\n",
       "  178.867,266.342 197.764,266.342 \n",
       "  \"/>\n",
       "<polyline clip-path=\"url(#clip310)\" style=\"stroke:#000000; stroke-linecap:butt; stroke-linejoin:round; stroke-width:4; stroke-opacity:1; fill:none\" points=\"\n",
       "  178.867,165.839 197.764,165.839 \n",
       "  \"/>\n",
       "<polyline clip-path=\"url(#clip310)\" style=\"stroke:#000000; stroke-linecap:butt; stroke-linejoin:round; stroke-width:4; stroke-opacity:1; fill:none\" points=\"\n",
       "  178.867,65.3348 197.764,65.3348 \n",
       "  \"/>\n",
       "<path clip-path=\"url(#clip310)\" d=\"M81.8021 668.809 L111.478 668.809 L111.478 672.744 L81.8021 672.744 L81.8021 668.809 Z\" fill=\"#000000\" fill-rule=\"evenodd\" fill-opacity=\"1\" /><path clip-path=\"url(#clip310)\" d=\"M135.737 667.003 Q139.094 667.721 140.968 669.989 Q142.867 672.258 142.867 675.591 Q142.867 680.707 139.348 683.508 Q135.83 686.308 129.348 686.308 Q127.172 686.308 124.857 685.869 Q122.566 685.452 120.112 684.596 L120.112 680.082 Q122.057 681.216 124.371 681.795 Q126.686 682.373 129.209 682.373 Q133.607 682.373 135.899 680.637 Q138.214 678.901 138.214 675.591 Q138.214 672.535 136.061 670.822 Q133.931 669.086 130.112 669.086 L126.084 669.086 L126.084 665.244 L130.297 665.244 Q133.746 665.244 135.575 663.878 Q137.404 662.489 137.404 659.897 Q137.404 657.235 135.506 655.823 Q133.631 654.387 130.112 654.387 Q128.191 654.387 125.992 654.804 Q123.793 655.221 121.154 656.1 L121.154 651.934 Q123.816 651.193 126.131 650.823 Q128.469 650.452 130.529 650.452 Q135.853 650.452 138.955 652.883 Q142.056 655.29 142.056 659.41 Q142.056 662.281 140.413 664.272 Q138.769 666.239 135.737 667.003 Z\" fill=\"#000000\" fill-rule=\"evenodd\" fill-opacity=\"1\" /><path clip-path=\"url(#clip310)\" d=\"M82.7512 568.305 L112.427 568.305 L112.427 572.24 L82.7512 572.24 L82.7512 568.305 Z\" fill=\"#000000\" fill-rule=\"evenodd\" fill-opacity=\"1\" /><path clip-path=\"url(#clip310)\" d=\"M126.547 581.198 L142.867 581.198 L142.867 585.133 L120.922 585.133 L120.922 581.198 Q123.584 578.444 128.168 573.814 Q132.774 569.161 133.955 567.819 Q136.2 565.296 137.08 563.56 Q137.982 561.8 137.982 560.11 Q137.982 557.356 136.038 555.62 Q134.117 553.884 131.015 553.884 Q128.816 553.884 126.362 554.648 Q123.932 555.411 121.154 556.962 L121.154 552.24 Q123.978 551.106 126.432 550.527 Q128.885 549.948 130.922 549.948 Q136.293 549.948 139.487 552.634 Q142.681 555.319 142.681 559.81 Q142.681 561.939 141.871 563.86 Q141.084 565.759 138.978 568.351 Q138.399 569.022 135.297 572.24 Q132.195 575.434 126.547 581.198 Z\" fill=\"#000000\" fill-rule=\"evenodd\" fill-opacity=\"1\" /><path clip-path=\"url(#clip310)\" d=\"M82.3808 467.801 L112.057 467.801 L112.057 471.736 L82.3808 471.736 L82.3808 467.801 Z\" fill=\"#000000\" fill-rule=\"evenodd\" fill-opacity=\"1\" /><path clip-path=\"url(#clip310)\" d=\"M122.959 480.695 L130.598 480.695 L130.598 454.329 L122.288 455.996 L122.288 451.736 L130.552 450.07 L135.228 450.07 L135.228 480.695 L142.867 480.695 L142.867 484.63 L122.959 484.63 L122.959 480.695 Z\" fill=\"#000000\" fill-rule=\"evenodd\" fill-opacity=\"1\" /><path clip-path=\"url(#clip310)\" d=\"M130.922 352.645 Q127.311 352.645 125.482 356.209 Q123.677 359.751 123.677 366.881 Q123.677 373.987 125.482 377.552 Q127.311 381.094 130.922 381.094 Q134.556 381.094 136.362 377.552 Q138.191 373.987 138.191 366.881 Q138.191 359.751 136.362 356.209 Q134.556 352.645 130.922 352.645 M130.922 348.941 Q136.732 348.941 139.788 353.547 Q142.867 358.131 142.867 366.881 Q142.867 375.608 139.788 380.214 Q136.732 384.797 130.922 384.797 Q125.112 384.797 122.033 380.214 Q118.978 375.608 118.978 366.881 Q118.978 358.131 122.033 353.547 Q125.112 348.941 130.922 348.941 Z\" fill=\"#000000\" fill-rule=\"evenodd\" fill-opacity=\"1\" /><path clip-path=\"url(#clip310)\" d=\"M122.959 279.687 L130.598 279.687 L130.598 253.321 L122.288 254.988 L122.288 250.729 L130.552 249.062 L135.228 249.062 L135.228 279.687 L142.867 279.687 L142.867 283.622 L122.959 283.622 L122.959 279.687 Z\" fill=\"#000000\" fill-rule=\"evenodd\" fill-opacity=\"1\" /><path clip-path=\"url(#clip310)\" d=\"M126.547 179.183 L142.867 179.183 L142.867 183.119 L120.922 183.119 L120.922 179.183 Q123.584 176.429 128.168 171.799 Q132.774 167.146 133.955 165.804 Q136.2 163.281 137.08 161.545 Q137.982 159.785 137.982 158.095 Q137.982 155.341 136.038 153.605 Q134.117 151.869 131.015 151.869 Q128.816 151.869 126.362 152.633 Q123.932 153.396 121.154 154.947 L121.154 150.225 Q123.978 149.091 126.432 148.512 Q128.885 147.934 130.922 147.934 Q136.293 147.934 139.487 150.619 Q142.681 153.304 142.681 157.795 Q142.681 159.924 141.871 161.845 Q141.084 163.744 138.978 166.336 Q138.399 167.007 135.297 170.225 Q132.195 173.419 126.547 179.183 Z\" fill=\"#000000\" fill-rule=\"evenodd\" fill-opacity=\"1\" /><path clip-path=\"url(#clip310)\" d=\"M135.737 63.9806 Q139.094 64.6982 140.968 66.9667 Q142.867 69.2352 142.867 72.5685 Q142.867 77.6842 139.348 80.4851 Q135.83 83.2861 129.348 83.2861 Q127.172 83.2861 124.857 82.8462 Q122.566 82.4296 120.112 81.5731 L120.112 77.0592 Q122.057 78.1935 124.371 78.7722 Q126.686 79.3509 129.209 79.3509 Q133.607 79.3509 135.899 77.6148 Q138.214 75.8787 138.214 72.5685 Q138.214 69.513 136.061 67.8 Q133.931 66.0639 130.112 66.0639 L126.084 66.0639 L126.084 62.2214 L130.297 62.2214 Q133.746 62.2214 135.575 60.8556 Q137.404 59.4667 137.404 56.8742 Q137.404 54.2121 135.506 52.8001 Q133.631 51.3649 130.112 51.3649 Q128.191 51.3649 125.992 51.7816 Q123.793 52.1983 121.154 53.0779 L121.154 48.9112 Q123.816 48.1705 126.131 47.8001 Q128.469 47.4298 130.529 47.4298 Q135.853 47.4298 138.955 49.8603 Q142.056 52.2677 142.056 56.3881 Q142.056 59.2584 140.413 61.2491 Q138.769 63.2167 135.737 63.9806 Z\" fill=\"#000000\" fill-rule=\"evenodd\" fill-opacity=\"1\" /><polyline clip-path=\"url(#clip312)\" style=\"stroke:#009af9; stroke-linecap:butt; stroke-linejoin:round; stroke-width:4; stroke-opacity:1; fill:none\" points=\"\n",
       "  206.953,668.357 239.237,647.563 271.52,626.769 303.804,605.976 336.087,585.182 368.371,564.388 400.655,543.594 432.938,522.8 465.222,502.006 497.505,481.212 \n",
       "  529.789,460.418 562.072,439.625 594.356,418.831 626.639,398.037 658.923,377.243 691.206,356.449 723.49,335.655 755.774,314.861 788.057,294.067 820.341,273.274 \n",
       "  852.624,252.48 884.908,231.686 917.191,210.892 949.475,190.098 981.758,169.304 1014.04,148.51 1046.33,127.716 1078.61,106.923 1110.89,86.1286 1143.18,65.3348 \n",
       "  \n",
       "  \"/>\n",
       "<path clip-path=\"url(#clip310)\" d=\"\n",
       "M1360.36 686.448 L2352.76 686.448 L2352.76 47.2441 L1360.36 47.2441  Z\n",
       "  \" fill=\"#ffffff\" fill-rule=\"evenodd\" fill-opacity=\"1\"/>\n",
       "<defs>\n",
       "  <clipPath id=\"clip313\">\n",
       "    <rect x=\"1360\" y=\"47\" width=\"993\" height=\"640\"/>\n",
       "  </clipPath>\n",
       "</defs>\n",
       "<polyline clip-path=\"url(#clip313)\" style=\"stroke:#000000; stroke-linecap:butt; stroke-linejoin:round; stroke-width:2; stroke-opacity:0.1; fill:none\" points=\"\n",
       "  1388.45,686.448 1388.45,47.2441 \n",
       "  \"/>\n",
       "<polyline clip-path=\"url(#clip313)\" style=\"stroke:#000000; stroke-linecap:butt; stroke-linejoin:round; stroke-width:2; stroke-opacity:0.1; fill:none\" points=\"\n",
       "  1544.48,686.448 1544.48,47.2441 \n",
       "  \"/>\n",
       "<polyline clip-path=\"url(#clip313)\" style=\"stroke:#000000; stroke-linecap:butt; stroke-linejoin:round; stroke-width:2; stroke-opacity:0.1; fill:none\" points=\"\n",
       "  1700.52,686.448 1700.52,47.2441 \n",
       "  \"/>\n",
       "<polyline clip-path=\"url(#clip313)\" style=\"stroke:#000000; stroke-linecap:butt; stroke-linejoin:round; stroke-width:2; stroke-opacity:0.1; fill:none\" points=\"\n",
       "  1856.56,686.448 1856.56,47.2441 \n",
       "  \"/>\n",
       "<polyline clip-path=\"url(#clip313)\" style=\"stroke:#000000; stroke-linecap:butt; stroke-linejoin:round; stroke-width:2; stroke-opacity:0.1; fill:none\" points=\"\n",
       "  2012.59,686.448 2012.59,47.2441 \n",
       "  \"/>\n",
       "<polyline clip-path=\"url(#clip313)\" style=\"stroke:#000000; stroke-linecap:butt; stroke-linejoin:round; stroke-width:2; stroke-opacity:0.1; fill:none\" points=\"\n",
       "  2168.63,686.448 2168.63,47.2441 \n",
       "  \"/>\n",
       "<polyline clip-path=\"url(#clip313)\" style=\"stroke:#000000; stroke-linecap:butt; stroke-linejoin:round; stroke-width:2; stroke-opacity:0.1; fill:none\" points=\"\n",
       "  2324.67,686.448 2324.67,47.2441 \n",
       "  \"/>\n",
       "<polyline clip-path=\"url(#clip310)\" style=\"stroke:#000000; stroke-linecap:butt; stroke-linejoin:round; stroke-width:4; stroke-opacity:1; fill:none\" points=\"\n",
       "  1360.36,686.448 2352.76,686.448 \n",
       "  \"/>\n",
       "<polyline clip-path=\"url(#clip310)\" style=\"stroke:#000000; stroke-linecap:butt; stroke-linejoin:round; stroke-width:4; stroke-opacity:1; fill:none\" points=\"\n",
       "  1388.45,686.448 1388.45,667.55 \n",
       "  \"/>\n",
       "<polyline clip-path=\"url(#clip310)\" style=\"stroke:#000000; stroke-linecap:butt; stroke-linejoin:round; stroke-width:4; stroke-opacity:1; fill:none\" points=\"\n",
       "  1544.48,686.448 1544.48,667.55 \n",
       "  \"/>\n",
       "<polyline clip-path=\"url(#clip310)\" style=\"stroke:#000000; stroke-linecap:butt; stroke-linejoin:round; stroke-width:4; stroke-opacity:1; fill:none\" points=\"\n",
       "  1700.52,686.448 1700.52,667.55 \n",
       "  \"/>\n",
       "<polyline clip-path=\"url(#clip310)\" style=\"stroke:#000000; stroke-linecap:butt; stroke-linejoin:round; stroke-width:4; stroke-opacity:1; fill:none\" points=\"\n",
       "  1856.56,686.448 1856.56,667.55 \n",
       "  \"/>\n",
       "<polyline clip-path=\"url(#clip310)\" style=\"stroke:#000000; stroke-linecap:butt; stroke-linejoin:round; stroke-width:4; stroke-opacity:1; fill:none\" points=\"\n",
       "  2012.59,686.448 2012.59,667.55 \n",
       "  \"/>\n",
       "<polyline clip-path=\"url(#clip310)\" style=\"stroke:#000000; stroke-linecap:butt; stroke-linejoin:round; stroke-width:4; stroke-opacity:1; fill:none\" points=\"\n",
       "  2168.63,686.448 2168.63,667.55 \n",
       "  \"/>\n",
       "<polyline clip-path=\"url(#clip310)\" style=\"stroke:#000000; stroke-linecap:butt; stroke-linejoin:round; stroke-width:4; stroke-opacity:1; fill:none\" points=\"\n",
       "  2324.67,686.448 2324.67,667.55 \n",
       "  \"/>\n",
       "<path clip-path=\"url(#clip310)\" d=\"M1357.91 732.019 L1387.59 732.019 L1387.59 735.954 L1357.91 735.954 L1357.91 732.019 Z\" fill=\"#000000\" fill-rule=\"evenodd\" fill-opacity=\"1\" /><path clip-path=\"url(#clip310)\" d=\"M1411.85 730.214 Q1415.21 730.931 1417.08 733.2 Q1418.98 735.468 1418.98 738.802 Q1418.98 743.917 1415.46 746.718 Q1411.94 749.519 1405.46 749.519 Q1403.28 749.519 1400.97 749.079 Q1398.68 748.663 1396.22 747.806 L1396.22 743.292 Q1398.17 744.427 1400.48 745.005 Q1402.8 745.584 1405.32 745.584 Q1409.72 745.584 1412.01 743.848 Q1414.33 742.112 1414.33 738.802 Q1414.33 735.746 1412.17 734.033 Q1410.04 732.297 1406.22 732.297 L1402.2 732.297 L1402.2 728.454 L1406.41 728.454 Q1409.86 728.454 1411.69 727.089 Q1413.52 725.7 1413.52 723.107 Q1413.52 720.445 1411.62 719.033 Q1409.74 717.598 1406.22 717.598 Q1404.3 717.598 1402.1 718.015 Q1399.9 718.431 1397.27 719.311 L1397.27 715.144 Q1399.93 714.404 1402.24 714.033 Q1404.58 713.663 1406.64 713.663 Q1411.96 713.663 1415.07 716.093 Q1418.17 718.501 1418.17 722.621 Q1418.17 725.492 1416.53 727.482 Q1414.88 729.45 1411.85 730.214 Z\" fill=\"#000000\" fill-rule=\"evenodd\" fill-opacity=\"1\" /><path clip-path=\"url(#clip310)\" d=\"M1514.43 732.019 L1544.1 732.019 L1544.1 735.954 L1514.43 735.954 L1514.43 732.019 Z\" fill=\"#000000\" fill-rule=\"evenodd\" fill-opacity=\"1\" /><path clip-path=\"url(#clip310)\" d=\"M1558.22 744.913 L1574.54 744.913 L1574.54 748.848 L1552.6 748.848 L1552.6 744.913 Q1555.26 742.158 1559.84 737.528 Q1564.45 732.876 1565.63 731.533 Q1567.87 729.01 1568.75 727.274 Q1569.66 725.515 1569.66 723.825 Q1569.66 721.07 1567.71 719.334 Q1565.79 717.598 1562.69 717.598 Q1560.49 717.598 1558.04 718.362 Q1555.61 719.126 1552.83 720.677 L1552.83 715.955 Q1555.65 714.82 1558.11 714.242 Q1560.56 713.663 1562.6 713.663 Q1567.97 713.663 1571.16 716.348 Q1574.36 719.033 1574.36 723.524 Q1574.36 725.654 1573.55 727.575 Q1572.76 729.473 1570.65 732.066 Q1570.07 732.737 1566.97 735.954 Q1563.87 739.149 1558.22 744.913 Z\" fill=\"#000000\" fill-rule=\"evenodd\" fill-opacity=\"1\" /><path clip-path=\"url(#clip310)\" d=\"M1670.28 732.019 L1699.95 732.019 L1699.95 735.954 L1670.28 735.954 L1670.28 732.019 Z\" fill=\"#000000\" fill-rule=\"evenodd\" fill-opacity=\"1\" /><path clip-path=\"url(#clip310)\" d=\"M1710.86 744.913 L1718.5 744.913 L1718.5 718.547 L1710.19 720.214 L1710.19 715.955 L1718.45 714.288 L1723.12 714.288 L1723.12 744.913 L1730.76 744.913 L1730.76 748.848 L1710.86 748.848 L1710.86 744.913 Z\" fill=\"#000000\" fill-rule=\"evenodd\" fill-opacity=\"1\" /><path clip-path=\"url(#clip310)\" d=\"M1856.56 717.367 Q1852.95 717.367 1851.12 720.931 Q1849.31 724.473 1849.31 731.603 Q1849.31 738.709 1851.12 742.274 Q1852.95 745.815 1856.56 745.815 Q1860.19 745.815 1862 742.274 Q1863.83 738.709 1863.83 731.603 Q1863.83 724.473 1862 720.931 Q1860.19 717.367 1856.56 717.367 M1856.56 713.663 Q1862.37 713.663 1865.42 718.269 Q1868.5 722.853 1868.5 731.603 Q1868.5 740.329 1865.42 744.936 Q1862.37 749.519 1856.56 749.519 Q1850.75 749.519 1847.67 744.936 Q1844.61 740.329 1844.61 731.603 Q1844.61 722.853 1847.67 718.269 Q1850.75 713.663 1856.56 713.663 Z\" fill=\"#000000\" fill-rule=\"evenodd\" fill-opacity=\"1\" /><path clip-path=\"url(#clip310)\" d=\"M2002.98 744.913 L2010.62 744.913 L2010.62 718.547 L2002.31 720.214 L2002.31 715.955 L2010.57 714.288 L2015.25 714.288 L2015.25 744.913 L2022.88 744.913 L2022.88 748.848 L2002.98 748.848 L2002.98 744.913 Z\" fill=\"#000000\" fill-rule=\"evenodd\" fill-opacity=\"1\" /><path clip-path=\"url(#clip310)\" d=\"M2163.28 744.913 L2179.6 744.913 L2179.6 748.848 L2157.66 748.848 L2157.66 744.913 Q2160.32 742.158 2164.91 737.528 Q2169.51 732.876 2170.69 731.533 Q2172.94 729.01 2173.82 727.274 Q2174.72 725.515 2174.72 723.825 Q2174.72 721.07 2172.78 719.334 Q2170.85 717.598 2167.75 717.598 Q2165.55 717.598 2163.1 718.362 Q2160.67 719.126 2157.89 720.677 L2157.89 715.955 Q2160.72 714.82 2163.17 714.242 Q2165.62 713.663 2167.66 713.663 Q2173.03 713.663 2176.22 716.348 Q2179.42 719.033 2179.42 723.524 Q2179.42 725.654 2178.61 727.575 Q2177.82 729.473 2175.72 732.066 Q2175.14 732.737 2172.03 735.954 Q2168.93 739.149 2163.28 744.913 Z\" fill=\"#000000\" fill-rule=\"evenodd\" fill-opacity=\"1\" /><path clip-path=\"url(#clip310)\" d=\"M2328.92 730.214 Q2332.27 730.931 2334.15 733.2 Q2336.05 735.468 2336.05 738.802 Q2336.05 743.917 2332.53 746.718 Q2329.01 749.519 2322.53 749.519 Q2320.35 749.519 2318.04 749.079 Q2315.75 748.663 2313.29 747.806 L2313.29 743.292 Q2315.24 744.427 2317.55 745.005 Q2319.87 745.584 2322.39 745.584 Q2326.79 745.584 2329.08 743.848 Q2331.39 742.112 2331.39 738.802 Q2331.39 735.746 2329.24 734.033 Q2327.11 732.297 2323.29 732.297 L2319.26 732.297 L2319.26 728.454 L2323.48 728.454 Q2326.93 728.454 2328.75 727.089 Q2330.58 725.7 2330.58 723.107 Q2330.58 720.445 2328.69 719.033 Q2326.81 717.598 2323.29 717.598 Q2321.37 717.598 2319.17 718.015 Q2316.97 718.431 2314.33 719.311 L2314.33 715.144 Q2317 714.404 2319.31 714.033 Q2321.65 713.663 2323.71 713.663 Q2329.03 713.663 2332.13 716.093 Q2335.24 718.501 2335.24 722.621 Q2335.24 725.492 2333.59 727.482 Q2331.95 729.45 2328.92 730.214 Z\" fill=\"#000000\" fill-rule=\"evenodd\" fill-opacity=\"1\" /><polyline clip-path=\"url(#clip313)\" style=\"stroke:#000000; stroke-linecap:butt; stroke-linejoin:round; stroke-width:2; stroke-opacity:0.1; fill:none\" points=\"\n",
       "  1360.36,669.075 2352.76,669.075 \n",
       "  \"/>\n",
       "<polyline clip-path=\"url(#clip313)\" style=\"stroke:#000000; stroke-linecap:butt; stroke-linejoin:round; stroke-width:2; stroke-opacity:0.1; fill:none\" points=\"\n",
       "  1360.36,534.911 2352.76,534.911 \n",
       "  \"/>\n",
       "<polyline clip-path=\"url(#clip313)\" style=\"stroke:#000000; stroke-linecap:butt; stroke-linejoin:round; stroke-width:2; stroke-opacity:0.1; fill:none\" points=\"\n",
       "  1360.36,400.746 2352.76,400.746 \n",
       "  \"/>\n",
       "<polyline clip-path=\"url(#clip313)\" style=\"stroke:#000000; stroke-linecap:butt; stroke-linejoin:round; stroke-width:2; stroke-opacity:0.1; fill:none\" points=\"\n",
       "  1360.36,266.582 2352.76,266.582 \n",
       "  \"/>\n",
       "<polyline clip-path=\"url(#clip313)\" style=\"stroke:#000000; stroke-linecap:butt; stroke-linejoin:round; stroke-width:2; stroke-opacity:0.1; fill:none\" points=\"\n",
       "  1360.36,132.417 2352.76,132.417 \n",
       "  \"/>\n",
       "<polyline clip-path=\"url(#clip310)\" style=\"stroke:#000000; stroke-linecap:butt; stroke-linejoin:round; stroke-width:4; stroke-opacity:1; fill:none\" points=\"\n",
       "  1360.36,686.448 1360.36,47.2441 \n",
       "  \"/>\n",
       "<polyline clip-path=\"url(#clip310)\" style=\"stroke:#000000; stroke-linecap:butt; stroke-linejoin:round; stroke-width:4; stroke-opacity:1; fill:none\" points=\"\n",
       "  1360.36,669.075 1379.26,669.075 \n",
       "  \"/>\n",
       "<polyline clip-path=\"url(#clip310)\" style=\"stroke:#000000; stroke-linecap:butt; stroke-linejoin:round; stroke-width:4; stroke-opacity:1; fill:none\" points=\"\n",
       "  1360.36,534.911 1379.26,534.911 \n",
       "  \"/>\n",
       "<polyline clip-path=\"url(#clip310)\" style=\"stroke:#000000; stroke-linecap:butt; stroke-linejoin:round; stroke-width:4; stroke-opacity:1; fill:none\" points=\"\n",
       "  1360.36,400.746 1379.26,400.746 \n",
       "  \"/>\n",
       "<polyline clip-path=\"url(#clip310)\" style=\"stroke:#000000; stroke-linecap:butt; stroke-linejoin:round; stroke-width:4; stroke-opacity:1; fill:none\" points=\"\n",
       "  1360.36,266.582 1379.26,266.582 \n",
       "  \"/>\n",
       "<polyline clip-path=\"url(#clip310)\" style=\"stroke:#000000; stroke-linecap:butt; stroke-linejoin:round; stroke-width:4; stroke-opacity:1; fill:none\" points=\"\n",
       "  1360.36,132.417 1379.26,132.417 \n",
       "  \"/>\n",
       "<path clip-path=\"url(#clip310)\" d=\"M1312.42 654.874 Q1308.8 654.874 1306.98 658.439 Q1305.17 661.98 1305.17 669.11 Q1305.17 676.216 1306.98 679.781 Q1308.8 683.323 1312.42 683.323 Q1316.05 683.323 1317.86 679.781 Q1319.68 676.216 1319.68 669.11 Q1319.68 661.98 1317.86 658.439 Q1316.05 654.874 1312.42 654.874 M1312.42 651.17 Q1318.23 651.17 1321.28 655.777 Q1324.36 660.36 1324.36 669.11 Q1324.36 677.837 1321.28 682.443 Q1318.23 687.026 1312.42 687.026 Q1306.61 687.026 1303.53 682.443 Q1300.47 677.837 1300.47 669.11 Q1300.47 660.36 1303.53 655.777 Q1306.61 651.17 1312.42 651.17 Z\" fill=\"#000000\" fill-rule=\"evenodd\" fill-opacity=\"1\" /><path clip-path=\"url(#clip310)\" d=\"M1308.04 548.255 L1324.36 548.255 L1324.36 552.191 L1302.42 552.191 L1302.42 548.255 Q1305.08 545.501 1309.66 540.871 Q1314.27 536.218 1315.45 534.876 Q1317.69 532.353 1318.57 530.617 Q1319.48 528.857 1319.48 527.168 Q1319.48 524.413 1317.53 522.677 Q1315.61 520.941 1312.51 520.941 Q1310.31 520.941 1307.86 521.705 Q1305.42 522.469 1302.65 524.019 L1302.65 519.297 Q1305.47 518.163 1307.92 517.584 Q1310.38 517.006 1312.42 517.006 Q1317.79 517.006 1320.98 519.691 Q1324.17 522.376 1324.17 526.867 Q1324.17 528.996 1323.36 530.918 Q1322.58 532.816 1320.47 535.408 Q1319.89 536.08 1316.79 539.297 Q1313.69 542.492 1308.04 548.255 Z\" fill=\"#000000\" fill-rule=\"evenodd\" fill-opacity=\"1\" /><path clip-path=\"url(#clip310)\" d=\"M1314.78 387.54 L1302.97 405.989 L1314.78 405.989 L1314.78 387.54 M1313.55 383.466 L1319.43 383.466 L1319.43 405.989 L1324.36 405.989 L1324.36 409.878 L1319.43 409.878 L1319.43 418.026 L1314.78 418.026 L1314.78 409.878 L1299.17 409.878 L1299.17 405.364 L1313.55 383.466 Z\" fill=\"#000000\" fill-rule=\"evenodd\" fill-opacity=\"1\" /><path clip-path=\"url(#clip310)\" d=\"M1312.83 264.718 Q1309.68 264.718 1307.83 266.871 Q1306 269.024 1306 272.774 Q1306 276.5 1307.83 278.676 Q1309.68 280.829 1312.83 280.829 Q1315.98 280.829 1317.81 278.676 Q1319.66 276.5 1319.66 272.774 Q1319.66 269.024 1317.81 266.871 Q1315.98 264.718 1312.83 264.718 M1322.11 250.065 L1322.11 254.325 Q1320.36 253.491 1318.55 253.052 Q1316.77 252.612 1315.01 252.612 Q1310.38 252.612 1307.92 255.737 Q1305.49 258.862 1305.15 265.181 Q1306.51 263.167 1308.57 262.102 Q1310.63 261.014 1313.11 261.014 Q1318.32 261.014 1321.33 264.186 Q1324.36 267.334 1324.36 272.774 Q1324.36 278.098 1321.21 281.315 Q1318.06 284.533 1312.83 284.533 Q1306.84 284.533 1303.67 279.95 Q1300.49 275.343 1300.49 266.616 Q1300.49 258.422 1304.38 253.561 Q1308.27 248.677 1314.82 248.677 Q1316.58 248.677 1318.36 249.024 Q1320.17 249.371 1322.11 250.065 Z\" fill=\"#000000\" fill-rule=\"evenodd\" fill-opacity=\"1\" /><path clip-path=\"url(#clip310)\" d=\"M1312.51 133.285 Q1309.17 133.285 1307.25 135.067 Q1305.36 136.85 1305.36 139.975 Q1305.36 143.1 1307.25 144.882 Q1309.17 146.665 1312.51 146.665 Q1315.84 146.665 1317.76 144.882 Q1319.68 143.077 1319.68 139.975 Q1319.68 136.85 1317.76 135.067 Q1315.86 133.285 1312.51 133.285 M1307.83 131.294 Q1304.82 130.554 1303.13 128.493 Q1301.47 126.433 1301.47 123.47 Q1301.47 119.327 1304.41 116.919 Q1307.37 114.512 1312.51 114.512 Q1317.67 114.512 1320.61 116.919 Q1323.55 119.327 1323.55 123.47 Q1323.55 126.433 1321.86 128.493 Q1320.19 130.554 1317.21 131.294 Q1320.59 132.081 1322.46 134.373 Q1324.36 136.665 1324.36 139.975 Q1324.36 144.998 1321.28 147.683 Q1318.23 150.368 1312.51 150.368 Q1306.79 150.368 1303.71 147.683 Q1300.66 144.998 1300.66 139.975 Q1300.66 136.665 1302.55 134.373 Q1304.45 132.081 1307.83 131.294 M1306.12 123.91 Q1306.12 126.595 1307.79 128.1 Q1309.48 129.605 1312.51 129.605 Q1315.52 129.605 1317.21 128.1 Q1318.92 126.595 1318.92 123.91 Q1318.92 121.225 1317.21 119.72 Q1315.52 118.216 1312.51 118.216 Q1309.48 118.216 1307.79 119.72 Q1306.12 121.225 1306.12 123.91 Z\" fill=\"#000000\" fill-rule=\"evenodd\" fill-opacity=\"1\" /><polyline clip-path=\"url(#clip313)\" style=\"stroke:#009af9; stroke-linecap:butt; stroke-linejoin:round; stroke-width:4; stroke-opacity:1; fill:none\" points=\"\n",
       "  1388.45,65.3348 1420.73,145.738 1453.01,220.398 1485.3,289.315 1517.58,352.488 1549.86,409.919 1582.15,461.607 1614.43,507.551 1646.71,547.753 1679,582.211 \n",
       "  1711.28,610.926 1743.57,633.899 1775.85,651.128 1808.13,662.614 1840.42,668.357 1872.7,668.357 1904.98,662.614 1937.27,651.128 1969.55,633.899 2001.83,610.926 \n",
       "  2034.12,582.211 2066.4,547.753 2098.68,507.551 2130.97,461.607 2163.25,409.919 2195.54,352.488 2227.82,289.315 2260.1,220.398 2292.39,145.738 2324.67,65.3348 \n",
       "  \n",
       "  \"/>\n",
       "<path clip-path=\"url(#clip310)\" d=\"\n",
       "M178.867 1486.45 L1171.26 1486.45 L1171.26 847.244 L178.867 847.244  Z\n",
       "  \" fill=\"#ffffff\" fill-rule=\"evenodd\" fill-opacity=\"1\"/>\n",
       "<defs>\n",
       "  <clipPath id=\"clip314\">\n",
       "    <rect x=\"178\" y=\"847\" width=\"993\" height=\"640\"/>\n",
       "  </clipPath>\n",
       "</defs>\n",
       "<polyline clip-path=\"url(#clip314)\" style=\"stroke:#000000; stroke-linecap:butt; stroke-linejoin:round; stroke-width:2; stroke-opacity:0.1; fill:none\" points=\"\n",
       "  206.953,1486.45 206.953,847.244 \n",
       "  \"/>\n",
       "<polyline clip-path=\"url(#clip314)\" style=\"stroke:#000000; stroke-linecap:butt; stroke-linejoin:round; stroke-width:2; stroke-opacity:0.1; fill:none\" points=\"\n",
       "  362.99,1486.45 362.99,847.244 \n",
       "  \"/>\n",
       "<polyline clip-path=\"url(#clip314)\" style=\"stroke:#000000; stroke-linecap:butt; stroke-linejoin:round; stroke-width:2; stroke-opacity:0.1; fill:none\" points=\"\n",
       "  519.028,1486.45 519.028,847.244 \n",
       "  \"/>\n",
       "<polyline clip-path=\"url(#clip314)\" style=\"stroke:#000000; stroke-linecap:butt; stroke-linejoin:round; stroke-width:2; stroke-opacity:0.1; fill:none\" points=\"\n",
       "  675.065,1486.45 675.065,847.244 \n",
       "  \"/>\n",
       "<polyline clip-path=\"url(#clip314)\" style=\"stroke:#000000; stroke-linecap:butt; stroke-linejoin:round; stroke-width:2; stroke-opacity:0.1; fill:none\" points=\"\n",
       "  831.102,1486.45 831.102,847.244 \n",
       "  \"/>\n",
       "<polyline clip-path=\"url(#clip314)\" style=\"stroke:#000000; stroke-linecap:butt; stroke-linejoin:round; stroke-width:2; stroke-opacity:0.1; fill:none\" points=\"\n",
       "  987.139,1486.45 987.139,847.244 \n",
       "  \"/>\n",
       "<polyline clip-path=\"url(#clip314)\" style=\"stroke:#000000; stroke-linecap:butt; stroke-linejoin:round; stroke-width:2; stroke-opacity:0.1; fill:none\" points=\"\n",
       "  1143.18,1486.45 1143.18,847.244 \n",
       "  \"/>\n",
       "<polyline clip-path=\"url(#clip310)\" style=\"stroke:#000000; stroke-linecap:butt; stroke-linejoin:round; stroke-width:4; stroke-opacity:1; fill:none\" points=\"\n",
       "  178.867,1486.45 1171.26,1486.45 \n",
       "  \"/>\n",
       "<polyline clip-path=\"url(#clip310)\" style=\"stroke:#000000; stroke-linecap:butt; stroke-linejoin:round; stroke-width:4; stroke-opacity:1; fill:none\" points=\"\n",
       "  206.953,1486.45 206.953,1467.55 \n",
       "  \"/>\n",
       "<polyline clip-path=\"url(#clip310)\" style=\"stroke:#000000; stroke-linecap:butt; stroke-linejoin:round; stroke-width:4; stroke-opacity:1; fill:none\" points=\"\n",
       "  362.99,1486.45 362.99,1467.55 \n",
       "  \"/>\n",
       "<polyline clip-path=\"url(#clip310)\" style=\"stroke:#000000; stroke-linecap:butt; stroke-linejoin:round; stroke-width:4; stroke-opacity:1; fill:none\" points=\"\n",
       "  519.028,1486.45 519.028,1467.55 \n",
       "  \"/>\n",
       "<polyline clip-path=\"url(#clip310)\" style=\"stroke:#000000; stroke-linecap:butt; stroke-linejoin:round; stroke-width:4; stroke-opacity:1; fill:none\" points=\"\n",
       "  675.065,1486.45 675.065,1467.55 \n",
       "  \"/>\n",
       "<polyline clip-path=\"url(#clip310)\" style=\"stroke:#000000; stroke-linecap:butt; stroke-linejoin:round; stroke-width:4; stroke-opacity:1; fill:none\" points=\"\n",
       "  831.102,1486.45 831.102,1467.55 \n",
       "  \"/>\n",
       "<polyline clip-path=\"url(#clip310)\" style=\"stroke:#000000; stroke-linecap:butt; stroke-linejoin:round; stroke-width:4; stroke-opacity:1; fill:none\" points=\"\n",
       "  987.139,1486.45 987.139,1467.55 \n",
       "  \"/>\n",
       "<polyline clip-path=\"url(#clip310)\" style=\"stroke:#000000; stroke-linecap:butt; stroke-linejoin:round; stroke-width:4; stroke-opacity:1; fill:none\" points=\"\n",
       "  1143.18,1486.45 1143.18,1467.55 \n",
       "  \"/>\n",
       "<path clip-path=\"url(#clip310)\" d=\"M176.421 1532.02 L206.097 1532.02 L206.097 1535.95 L176.421 1535.95 L176.421 1532.02 Z\" fill=\"#000000\" fill-rule=\"evenodd\" fill-opacity=\"1\" /><path clip-path=\"url(#clip310)\" d=\"M230.356 1530.21 Q233.712 1530.93 235.587 1533.2 Q237.486 1535.47 237.486 1538.8 Q237.486 1543.92 233.967 1546.72 Q230.449 1549.52 223.967 1549.52 Q221.791 1549.52 219.476 1549.08 Q217.185 1548.66 214.731 1547.81 L214.731 1543.29 Q216.675 1544.43 218.99 1545.01 Q221.305 1545.58 223.828 1545.58 Q228.226 1545.58 230.518 1543.85 Q232.833 1542.11 232.833 1538.8 Q232.833 1535.75 230.68 1534.03 Q228.55 1532.3 224.731 1532.3 L220.703 1532.3 L220.703 1528.45 L224.916 1528.45 Q228.365 1528.45 230.194 1527.09 Q232.023 1525.7 232.023 1523.11 Q232.023 1520.45 230.124 1519.03 Q228.249 1517.6 224.731 1517.6 Q222.81 1517.6 220.611 1518.01 Q218.412 1518.43 215.773 1519.31 L215.773 1515.14 Q218.435 1514.4 220.75 1514.03 Q223.087 1513.66 225.148 1513.66 Q230.472 1513.66 233.574 1516.09 Q236.675 1518.5 236.675 1522.62 Q236.675 1525.49 235.032 1527.48 Q233.388 1529.45 230.356 1530.21 Z\" fill=\"#000000\" fill-rule=\"evenodd\" fill-opacity=\"1\" /><path clip-path=\"url(#clip310)\" d=\"M332.933 1532.02 L362.608 1532.02 L362.608 1535.95 L332.933 1535.95 L332.933 1532.02 Z\" fill=\"#000000\" fill-rule=\"evenodd\" fill-opacity=\"1\" /><path clip-path=\"url(#clip310)\" d=\"M376.729 1544.91 L393.048 1544.91 L393.048 1548.85 L371.104 1548.85 L371.104 1544.91 Q373.766 1542.16 378.349 1537.53 Q382.956 1532.88 384.136 1531.53 Q386.382 1529.01 387.261 1527.27 Q388.164 1525.51 388.164 1523.82 Q388.164 1521.07 386.219 1519.33 Q384.298 1517.6 381.196 1517.6 Q378.997 1517.6 376.544 1518.36 Q374.113 1519.13 371.335 1520.68 L371.335 1515.95 Q374.159 1514.82 376.613 1514.24 Q379.067 1513.66 381.104 1513.66 Q386.474 1513.66 389.669 1516.35 Q392.863 1519.03 392.863 1523.52 Q392.863 1525.65 392.053 1527.57 Q391.266 1529.47 389.159 1532.07 Q388.581 1532.74 385.479 1535.95 Q382.377 1539.15 376.729 1544.91 Z\" fill=\"#000000\" fill-rule=\"evenodd\" fill-opacity=\"1\" /><path clip-path=\"url(#clip310)\" d=\"M488.785 1532.02 L518.46 1532.02 L518.46 1535.95 L488.785 1535.95 L488.785 1532.02 Z\" fill=\"#000000\" fill-rule=\"evenodd\" fill-opacity=\"1\" /><path clip-path=\"url(#clip310)\" d=\"M529.363 1544.91 L537.002 1544.91 L537.002 1518.55 L528.692 1520.21 L528.692 1515.95 L536.956 1514.29 L541.632 1514.29 L541.632 1544.91 L549.27 1544.91 L549.27 1548.85 L529.363 1548.85 L529.363 1544.91 Z\" fill=\"#000000\" fill-rule=\"evenodd\" fill-opacity=\"1\" /><path clip-path=\"url(#clip310)\" d=\"M675.065 1517.37 Q671.454 1517.37 669.625 1520.93 Q667.819 1524.47 667.819 1531.6 Q667.819 1538.71 669.625 1542.27 Q671.454 1545.82 675.065 1545.82 Q678.699 1545.82 680.504 1542.27 Q682.333 1538.71 682.333 1531.6 Q682.333 1524.47 680.504 1520.93 Q678.699 1517.37 675.065 1517.37 M675.065 1513.66 Q680.875 1513.66 683.93 1518.27 Q687.009 1522.85 687.009 1531.6 Q687.009 1540.33 683.93 1544.94 Q680.875 1549.52 675.065 1549.52 Q669.255 1549.52 666.176 1544.94 Q663.12 1540.33 663.12 1531.6 Q663.12 1522.85 666.176 1518.27 Q669.255 1513.66 675.065 1513.66 Z\" fill=\"#000000\" fill-rule=\"evenodd\" fill-opacity=\"1\" /><path clip-path=\"url(#clip310)\" d=\"M821.484 1544.91 L829.123 1544.91 L829.123 1518.55 L820.813 1520.21 L820.813 1515.95 L829.076 1514.29 L833.752 1514.29 L833.752 1544.91 L841.391 1544.91 L841.391 1548.85 L821.484 1548.85 L821.484 1544.91 Z\" fill=\"#000000\" fill-rule=\"evenodd\" fill-opacity=\"1\" /><path clip-path=\"url(#clip310)\" d=\"M981.792 1544.91 L998.111 1544.91 L998.111 1548.85 L976.167 1548.85 L976.167 1544.91 Q978.829 1542.16 983.412 1537.53 Q988.019 1532.88 989.199 1531.53 Q991.444 1529.01 992.324 1527.27 Q993.227 1525.51 993.227 1523.82 Q993.227 1521.07 991.282 1519.33 Q989.361 1517.6 986.259 1517.6 Q984.06 1517.6 981.607 1518.36 Q979.176 1519.13 976.398 1520.68 L976.398 1515.95 Q979.222 1514.82 981.676 1514.24 Q984.13 1513.66 986.167 1513.66 Q991.537 1513.66 994.731 1516.35 Q997.926 1519.03 997.926 1523.52 Q997.926 1525.65 997.116 1527.57 Q996.329 1529.47 994.222 1532.07 Q993.644 1532.74 990.542 1535.95 Q987.44 1539.15 981.792 1544.91 Z\" fill=\"#000000\" fill-rule=\"evenodd\" fill-opacity=\"1\" /><path clip-path=\"url(#clip310)\" d=\"M1147.42 1530.21 Q1150.78 1530.93 1152.66 1533.2 Q1154.55 1535.47 1154.55 1538.8 Q1154.55 1543.92 1151.03 1546.72 Q1147.52 1549.52 1141.03 1549.52 Q1138.86 1549.52 1136.54 1549.08 Q1134.25 1548.66 1131.8 1547.81 L1131.8 1543.29 Q1133.74 1544.43 1136.06 1545.01 Q1138.37 1545.58 1140.9 1545.58 Q1145.29 1545.58 1147.59 1543.85 Q1149.9 1542.11 1149.9 1538.8 Q1149.9 1535.75 1147.75 1534.03 Q1145.62 1532.3 1141.8 1532.3 L1137.77 1532.3 L1137.77 1528.45 L1141.98 1528.45 Q1145.43 1528.45 1147.26 1527.09 Q1149.09 1525.7 1149.09 1523.11 Q1149.09 1520.45 1147.19 1519.03 Q1145.32 1517.6 1141.8 1517.6 Q1139.88 1517.6 1137.68 1518.01 Q1135.48 1518.43 1132.84 1519.31 L1132.84 1515.14 Q1135.5 1514.4 1137.82 1514.03 Q1140.16 1513.66 1142.22 1513.66 Q1147.54 1513.66 1150.64 1516.09 Q1153.74 1518.5 1153.74 1522.62 Q1153.74 1525.49 1152.1 1527.48 Q1150.46 1529.45 1147.42 1530.21 Z\" fill=\"#000000\" fill-rule=\"evenodd\" fill-opacity=\"1\" /><polyline clip-path=\"url(#clip314)\" style=\"stroke:#000000; stroke-linecap:butt; stroke-linejoin:round; stroke-width:2; stroke-opacity:0.1; fill:none\" points=\"\n",
       "  178.867,1390.19 1171.26,1390.19 \n",
       "  \"/>\n",
       "<polyline clip-path=\"url(#clip314)\" style=\"stroke:#000000; stroke-linecap:butt; stroke-linejoin:round; stroke-width:2; stroke-opacity:0.1; fill:none\" points=\"\n",
       "  178.867,1278.52 1171.26,1278.52 \n",
       "  \"/>\n",
       "<polyline clip-path=\"url(#clip314)\" style=\"stroke:#000000; stroke-linecap:butt; stroke-linejoin:round; stroke-width:2; stroke-opacity:0.1; fill:none\" points=\"\n",
       "  178.867,1166.85 1171.26,1166.85 \n",
       "  \"/>\n",
       "<polyline clip-path=\"url(#clip314)\" style=\"stroke:#000000; stroke-linecap:butt; stroke-linejoin:round; stroke-width:2; stroke-opacity:0.1; fill:none\" points=\"\n",
       "  178.867,1055.18 1171.26,1055.18 \n",
       "  \"/>\n",
       "<polyline clip-path=\"url(#clip314)\" style=\"stroke:#000000; stroke-linecap:butt; stroke-linejoin:round; stroke-width:2; stroke-opacity:0.1; fill:none\" points=\"\n",
       "  178.867,943.504 1171.26,943.504 \n",
       "  \"/>\n",
       "<polyline clip-path=\"url(#clip310)\" style=\"stroke:#000000; stroke-linecap:butt; stroke-linejoin:round; stroke-width:4; stroke-opacity:1; fill:none\" points=\"\n",
       "  178.867,1486.45 178.867,847.244 \n",
       "  \"/>\n",
       "<polyline clip-path=\"url(#clip310)\" style=\"stroke:#000000; stroke-linecap:butt; stroke-linejoin:round; stroke-width:4; stroke-opacity:1; fill:none\" points=\"\n",
       "  178.867,1390.19 197.764,1390.19 \n",
       "  \"/>\n",
       "<polyline clip-path=\"url(#clip310)\" style=\"stroke:#000000; stroke-linecap:butt; stroke-linejoin:round; stroke-width:4; stroke-opacity:1; fill:none\" points=\"\n",
       "  178.867,1278.52 197.764,1278.52 \n",
       "  \"/>\n",
       "<polyline clip-path=\"url(#clip310)\" style=\"stroke:#000000; stroke-linecap:butt; stroke-linejoin:round; stroke-width:4; stroke-opacity:1; fill:none\" points=\"\n",
       "  178.867,1166.85 197.764,1166.85 \n",
       "  \"/>\n",
       "<polyline clip-path=\"url(#clip310)\" style=\"stroke:#000000; stroke-linecap:butt; stroke-linejoin:round; stroke-width:4; stroke-opacity:1; fill:none\" points=\"\n",
       "  178.867,1055.18 197.764,1055.18 \n",
       "  \"/>\n",
       "<polyline clip-path=\"url(#clip310)\" style=\"stroke:#000000; stroke-linecap:butt; stroke-linejoin:round; stroke-width:4; stroke-opacity:1; fill:none\" points=\"\n",
       "  178.867,943.504 197.764,943.504 \n",
       "  \"/>\n",
       "<path clip-path=\"url(#clip310)\" d=\"M50.9921 1390.64 L80.6679 1390.64 L80.6679 1394.57 L50.9921 1394.57 L50.9921 1390.64 Z\" fill=\"#000000\" fill-rule=\"evenodd\" fill-opacity=\"1\" /><path clip-path=\"url(#clip310)\" d=\"M94.7882 1403.53 L111.108 1403.53 L111.108 1407.47 L89.1632 1407.47 L89.1632 1403.53 Q91.8252 1400.78 96.4085 1396.15 Q101.015 1391.5 102.196 1390.15 Q104.441 1387.63 105.321 1385.89 Q106.223 1384.13 106.223 1382.44 Q106.223 1379.69 104.279 1377.95 Q102.358 1376.22 99.2558 1376.22 Q97.0567 1376.22 94.603 1376.98 Q92.1725 1377.75 89.3947 1379.3 L89.3947 1374.57 Q92.2188 1373.44 94.6724 1372.86 Q97.1261 1372.28 99.1632 1372.28 Q104.534 1372.28 107.728 1374.97 Q110.922 1377.65 110.922 1382.14 Q110.922 1384.27 110.112 1386.19 Q109.325 1388.09 107.219 1390.69 Q106.64 1391.36 103.538 1394.57 Q100.436 1397.77 94.7882 1403.53 Z\" fill=\"#000000\" fill-rule=\"evenodd\" fill-opacity=\"1\" /><path clip-path=\"url(#clip310)\" d=\"M130.922 1375.99 Q127.311 1375.99 125.482 1379.55 Q123.677 1383.09 123.677 1390.22 Q123.677 1397.33 125.482 1400.89 Q127.311 1404.44 130.922 1404.44 Q134.556 1404.44 136.362 1400.89 Q138.191 1397.33 138.191 1390.22 Q138.191 1383.09 136.362 1379.55 Q134.556 1375.99 130.922 1375.99 M130.922 1372.28 Q136.732 1372.28 139.788 1376.89 Q142.867 1381.47 142.867 1390.22 Q142.867 1398.95 139.788 1403.56 Q136.732 1408.14 130.922 1408.14 Q125.112 1408.14 122.033 1403.56 Q118.978 1398.95 118.978 1390.22 Q118.978 1381.47 122.033 1376.89 Q125.112 1372.28 130.922 1372.28 Z\" fill=\"#000000\" fill-rule=\"evenodd\" fill-opacity=\"1\" /><path clip-path=\"url(#clip310)\" d=\"M50.9921 1278.97 L80.6679 1278.97 L80.6679 1282.9 L50.9921 1282.9 L50.9921 1278.97 Z\" fill=\"#000000\" fill-rule=\"evenodd\" fill-opacity=\"1\" /><path clip-path=\"url(#clip310)\" d=\"M91.5706 1291.86 L99.2095 1291.86 L99.2095 1265.5 L90.8993 1267.16 L90.8993 1262.9 L99.1632 1261.24 L103.839 1261.24 L103.839 1291.86 L111.478 1291.86 L111.478 1295.8 L91.5706 1295.8 L91.5706 1291.86 Z\" fill=\"#000000\" fill-rule=\"evenodd\" fill-opacity=\"1\" /><path clip-path=\"url(#clip310)\" d=\"M130.922 1264.32 Q127.311 1264.32 125.482 1267.88 Q123.677 1271.42 123.677 1278.55 Q123.677 1285.66 125.482 1289.22 Q127.311 1292.76 130.922 1292.76 Q134.556 1292.76 136.362 1289.22 Q138.191 1285.66 138.191 1278.55 Q138.191 1271.42 136.362 1267.88 Q134.556 1264.32 130.922 1264.32 M130.922 1260.61 Q136.732 1260.61 139.788 1265.22 Q142.867 1269.8 142.867 1278.55 Q142.867 1287.28 139.788 1291.88 Q136.732 1296.47 130.922 1296.47 Q125.112 1296.47 122.033 1291.88 Q118.978 1287.28 118.978 1278.55 Q118.978 1269.8 122.033 1265.22 Q125.112 1260.61 130.922 1260.61 Z\" fill=\"#000000\" fill-rule=\"evenodd\" fill-opacity=\"1\" /><path clip-path=\"url(#clip310)\" d=\"M130.922 1152.64 Q127.311 1152.64 125.482 1156.21 Q123.677 1159.75 123.677 1166.88 Q123.677 1173.99 125.482 1177.55 Q127.311 1181.09 130.922 1181.09 Q134.556 1181.09 136.362 1177.55 Q138.191 1173.99 138.191 1166.88 Q138.191 1159.75 136.362 1156.21 Q134.556 1152.64 130.922 1152.64 M130.922 1148.94 Q136.732 1148.94 139.788 1153.55 Q142.867 1158.13 142.867 1166.88 Q142.867 1175.61 139.788 1180.21 Q136.732 1184.8 130.922 1184.8 Q125.112 1184.8 122.033 1180.21 Q118.978 1175.61 118.978 1166.88 Q118.978 1158.13 122.033 1153.55 Q125.112 1148.94 130.922 1148.94 Z\" fill=\"#000000\" fill-rule=\"evenodd\" fill-opacity=\"1\" /><path clip-path=\"url(#clip310)\" d=\"M91.5706 1068.52 L99.2095 1068.52 L99.2095 1042.15 L90.8993 1043.82 L90.8993 1039.56 L99.1632 1037.9 L103.839 1037.9 L103.839 1068.52 L111.478 1068.52 L111.478 1072.46 L91.5706 1072.46 L91.5706 1068.52 Z\" fill=\"#000000\" fill-rule=\"evenodd\" fill-opacity=\"1\" /><path clip-path=\"url(#clip310)\" d=\"M130.922 1040.97 Q127.311 1040.97 125.482 1044.54 Q123.677 1048.08 123.677 1055.21 Q123.677 1062.32 125.482 1065.88 Q127.311 1069.42 130.922 1069.42 Q134.556 1069.42 136.362 1065.88 Q138.191 1062.32 138.191 1055.21 Q138.191 1048.08 136.362 1044.54 Q134.556 1040.97 130.922 1040.97 M130.922 1037.27 Q136.732 1037.27 139.788 1041.88 Q142.867 1046.46 142.867 1055.21 Q142.867 1063.94 139.788 1068.54 Q136.732 1073.13 130.922 1073.13 Q125.112 1073.13 122.033 1068.54 Q118.978 1063.94 118.978 1055.21 Q118.978 1046.46 122.033 1041.88 Q125.112 1037.27 130.922 1037.27 Z\" fill=\"#000000\" fill-rule=\"evenodd\" fill-opacity=\"1\" /><path clip-path=\"url(#clip310)\" d=\"M94.7882 956.849 L111.108 956.849 L111.108 960.784 L89.1632 960.784 L89.1632 956.849 Q91.8252 954.095 96.4085 949.465 Q101.015 944.812 102.196 943.47 Q104.441 940.946 105.321 939.21 Q106.223 937.451 106.223 935.761 Q106.223 933.007 104.279 931.271 Q102.358 929.535 99.2558 929.535 Q97.0567 929.535 94.603 930.298 Q92.1725 931.062 89.3947 932.613 L89.3947 927.891 Q92.2188 926.757 94.6724 926.178 Q97.1261 925.599 99.1632 925.599 Q104.534 925.599 107.728 928.285 Q110.922 930.97 110.922 935.46 Q110.922 937.59 110.112 939.511 Q109.325 941.409 107.219 944.002 Q106.64 944.673 103.538 947.891 Q100.436 951.085 94.7882 956.849 Z\" fill=\"#000000\" fill-rule=\"evenodd\" fill-opacity=\"1\" /><path clip-path=\"url(#clip310)\" d=\"M130.922 929.303 Q127.311 929.303 125.482 932.868 Q123.677 936.409 123.677 943.539 Q123.677 950.646 125.482 954.21 Q127.311 957.752 130.922 957.752 Q134.556 957.752 136.362 954.21 Q138.191 950.646 138.191 943.539 Q138.191 936.409 136.362 932.868 Q134.556 929.303 130.922 929.303 M130.922 925.599 Q136.732 925.599 139.788 930.206 Q142.867 934.789 142.867 943.539 Q142.867 952.266 139.788 956.872 Q136.732 961.456 130.922 961.456 Q125.112 961.456 122.033 956.872 Q118.978 952.266 118.978 943.539 Q118.978 934.789 122.033 930.206 Q125.112 925.599 130.922 925.599 Z\" fill=\"#000000\" fill-rule=\"evenodd\" fill-opacity=\"1\" /><polyline clip-path=\"url(#clip314)\" style=\"stroke:#009af9; stroke-linecap:butt; stroke-linejoin:round; stroke-width:4; stroke-opacity:1; fill:none\" points=\"\n",
       "  206.953,1468.36 239.237,1410.18 271.52,1360.01 303.804,1317.26 336.087,1281.34 368.371,1251.64 400.655,1227.58 432.938,1208.57 465.222,1194.01 497.505,1183.3 \n",
       "  529.789,1175.86 562.072,1171.09 594.356,1168.39 626.639,1167.18 658.923,1166.86 691.206,1166.83 723.49,1166.51 755.774,1165.3 788.057,1162.61 820.341,1157.83 \n",
       "  852.624,1150.39 884.908,1139.69 917.191,1125.12 949.475,1106.11 981.758,1082.05 1014.04,1052.36 1046.33,1016.43 1078.61,973.681 1110.89,923.513 1143.18,865.335 \n",
       "  \n",
       "  \"/>\n",
       "<path clip-path=\"url(#clip310)\" d=\"\n",
       "M1360.36 1486.45 L2352.76 1486.45 L2352.76 847.244 L1360.36 847.244  Z\n",
       "  \" fill=\"#ffffff\" fill-rule=\"evenodd\" fill-opacity=\"1\"/>\n",
       "<defs>\n",
       "  <clipPath id=\"clip315\">\n",
       "    <rect x=\"1360\" y=\"847\" width=\"993\" height=\"640\"/>\n",
       "  </clipPath>\n",
       "</defs>\n",
       "<polyline clip-path=\"url(#clip315)\" style=\"stroke:#000000; stroke-linecap:butt; stroke-linejoin:round; stroke-width:2; stroke-opacity:0.1; fill:none\" points=\"\n",
       "  1388.45,1486.45 1388.45,847.244 \n",
       "  \"/>\n",
       "<polyline clip-path=\"url(#clip315)\" style=\"stroke:#000000; stroke-linecap:butt; stroke-linejoin:round; stroke-width:2; stroke-opacity:0.1; fill:none\" points=\"\n",
       "  1544.48,1486.45 1544.48,847.244 \n",
       "  \"/>\n",
       "<polyline clip-path=\"url(#clip315)\" style=\"stroke:#000000; stroke-linecap:butt; stroke-linejoin:round; stroke-width:2; stroke-opacity:0.1; fill:none\" points=\"\n",
       "  1700.52,1486.45 1700.52,847.244 \n",
       "  \"/>\n",
       "<polyline clip-path=\"url(#clip315)\" style=\"stroke:#000000; stroke-linecap:butt; stroke-linejoin:round; stroke-width:2; stroke-opacity:0.1; fill:none\" points=\"\n",
       "  1856.56,1486.45 1856.56,847.244 \n",
       "  \"/>\n",
       "<polyline clip-path=\"url(#clip315)\" style=\"stroke:#000000; stroke-linecap:butt; stroke-linejoin:round; stroke-width:2; stroke-opacity:0.1; fill:none\" points=\"\n",
       "  2012.59,1486.45 2012.59,847.244 \n",
       "  \"/>\n",
       "<polyline clip-path=\"url(#clip315)\" style=\"stroke:#000000; stroke-linecap:butt; stroke-linejoin:round; stroke-width:2; stroke-opacity:0.1; fill:none\" points=\"\n",
       "  2168.63,1486.45 2168.63,847.244 \n",
       "  \"/>\n",
       "<polyline clip-path=\"url(#clip315)\" style=\"stroke:#000000; stroke-linecap:butt; stroke-linejoin:round; stroke-width:2; stroke-opacity:0.1; fill:none\" points=\"\n",
       "  2324.67,1486.45 2324.67,847.244 \n",
       "  \"/>\n",
       "<polyline clip-path=\"url(#clip310)\" style=\"stroke:#000000; stroke-linecap:butt; stroke-linejoin:round; stroke-width:4; stroke-opacity:1; fill:none\" points=\"\n",
       "  1360.36,1486.45 2352.76,1486.45 \n",
       "  \"/>\n",
       "<polyline clip-path=\"url(#clip310)\" style=\"stroke:#000000; stroke-linecap:butt; stroke-linejoin:round; stroke-width:4; stroke-opacity:1; fill:none\" points=\"\n",
       "  1388.45,1486.45 1388.45,1467.55 \n",
       "  \"/>\n",
       "<polyline clip-path=\"url(#clip310)\" style=\"stroke:#000000; stroke-linecap:butt; stroke-linejoin:round; stroke-width:4; stroke-opacity:1; fill:none\" points=\"\n",
       "  1544.48,1486.45 1544.48,1467.55 \n",
       "  \"/>\n",
       "<polyline clip-path=\"url(#clip310)\" style=\"stroke:#000000; stroke-linecap:butt; stroke-linejoin:round; stroke-width:4; stroke-opacity:1; fill:none\" points=\"\n",
       "  1700.52,1486.45 1700.52,1467.55 \n",
       "  \"/>\n",
       "<polyline clip-path=\"url(#clip310)\" style=\"stroke:#000000; stroke-linecap:butt; stroke-linejoin:round; stroke-width:4; stroke-opacity:1; fill:none\" points=\"\n",
       "  1856.56,1486.45 1856.56,1467.55 \n",
       "  \"/>\n",
       "<polyline clip-path=\"url(#clip310)\" style=\"stroke:#000000; stroke-linecap:butt; stroke-linejoin:round; stroke-width:4; stroke-opacity:1; fill:none\" points=\"\n",
       "  2012.59,1486.45 2012.59,1467.55 \n",
       "  \"/>\n",
       "<polyline clip-path=\"url(#clip310)\" style=\"stroke:#000000; stroke-linecap:butt; stroke-linejoin:round; stroke-width:4; stroke-opacity:1; fill:none\" points=\"\n",
       "  2168.63,1486.45 2168.63,1467.55 \n",
       "  \"/>\n",
       "<polyline clip-path=\"url(#clip310)\" style=\"stroke:#000000; stroke-linecap:butt; stroke-linejoin:round; stroke-width:4; stroke-opacity:1; fill:none\" points=\"\n",
       "  2324.67,1486.45 2324.67,1467.55 \n",
       "  \"/>\n",
       "<path clip-path=\"url(#clip310)\" d=\"M1357.91 1532.02 L1387.59 1532.02 L1387.59 1535.95 L1357.91 1535.95 L1357.91 1532.02 Z\" fill=\"#000000\" fill-rule=\"evenodd\" fill-opacity=\"1\" /><path clip-path=\"url(#clip310)\" d=\"M1411.85 1530.21 Q1415.21 1530.93 1417.08 1533.2 Q1418.98 1535.47 1418.98 1538.8 Q1418.98 1543.92 1415.46 1546.72 Q1411.94 1549.52 1405.46 1549.52 Q1403.28 1549.52 1400.97 1549.08 Q1398.68 1548.66 1396.22 1547.81 L1396.22 1543.29 Q1398.17 1544.43 1400.48 1545.01 Q1402.8 1545.58 1405.32 1545.58 Q1409.72 1545.58 1412.01 1543.85 Q1414.33 1542.11 1414.33 1538.8 Q1414.33 1535.75 1412.17 1534.03 Q1410.04 1532.3 1406.22 1532.3 L1402.2 1532.3 L1402.2 1528.45 L1406.41 1528.45 Q1409.86 1528.45 1411.69 1527.09 Q1413.52 1525.7 1413.52 1523.11 Q1413.52 1520.45 1411.62 1519.03 Q1409.74 1517.6 1406.22 1517.6 Q1404.3 1517.6 1402.1 1518.01 Q1399.9 1518.43 1397.27 1519.31 L1397.27 1515.14 Q1399.93 1514.4 1402.24 1514.03 Q1404.58 1513.66 1406.64 1513.66 Q1411.96 1513.66 1415.07 1516.09 Q1418.17 1518.5 1418.17 1522.62 Q1418.17 1525.49 1416.53 1527.48 Q1414.88 1529.45 1411.85 1530.21 Z\" fill=\"#000000\" fill-rule=\"evenodd\" fill-opacity=\"1\" /><path clip-path=\"url(#clip310)\" d=\"M1514.43 1532.02 L1544.1 1532.02 L1544.1 1535.95 L1514.43 1535.95 L1514.43 1532.02 Z\" fill=\"#000000\" fill-rule=\"evenodd\" fill-opacity=\"1\" /><path clip-path=\"url(#clip310)\" d=\"M1558.22 1544.91 L1574.54 1544.91 L1574.54 1548.85 L1552.6 1548.85 L1552.6 1544.91 Q1555.26 1542.16 1559.84 1537.53 Q1564.45 1532.88 1565.63 1531.53 Q1567.87 1529.01 1568.75 1527.27 Q1569.66 1525.51 1569.66 1523.82 Q1569.66 1521.07 1567.71 1519.33 Q1565.79 1517.6 1562.69 1517.6 Q1560.49 1517.6 1558.04 1518.36 Q1555.61 1519.13 1552.83 1520.68 L1552.83 1515.95 Q1555.65 1514.82 1558.11 1514.24 Q1560.56 1513.66 1562.6 1513.66 Q1567.97 1513.66 1571.16 1516.35 Q1574.36 1519.03 1574.36 1523.52 Q1574.36 1525.65 1573.55 1527.57 Q1572.76 1529.47 1570.65 1532.07 Q1570.07 1532.74 1566.97 1535.95 Q1563.87 1539.15 1558.22 1544.91 Z\" fill=\"#000000\" fill-rule=\"evenodd\" fill-opacity=\"1\" /><path clip-path=\"url(#clip310)\" d=\"M1670.28 1532.02 L1699.95 1532.02 L1699.95 1535.95 L1670.28 1535.95 L1670.28 1532.02 Z\" fill=\"#000000\" fill-rule=\"evenodd\" fill-opacity=\"1\" /><path clip-path=\"url(#clip310)\" d=\"M1710.86 1544.91 L1718.5 1544.91 L1718.5 1518.55 L1710.19 1520.21 L1710.19 1515.95 L1718.45 1514.29 L1723.12 1514.29 L1723.12 1544.91 L1730.76 1544.91 L1730.76 1548.85 L1710.86 1548.85 L1710.86 1544.91 Z\" fill=\"#000000\" fill-rule=\"evenodd\" fill-opacity=\"1\" /><path clip-path=\"url(#clip310)\" d=\"M1856.56 1517.37 Q1852.95 1517.37 1851.12 1520.93 Q1849.31 1524.47 1849.31 1531.6 Q1849.31 1538.71 1851.12 1542.27 Q1852.95 1545.82 1856.56 1545.82 Q1860.19 1545.82 1862 1542.27 Q1863.83 1538.71 1863.83 1531.6 Q1863.83 1524.47 1862 1520.93 Q1860.19 1517.37 1856.56 1517.37 M1856.56 1513.66 Q1862.37 1513.66 1865.42 1518.27 Q1868.5 1522.85 1868.5 1531.6 Q1868.5 1540.33 1865.42 1544.94 Q1862.37 1549.52 1856.56 1549.52 Q1850.75 1549.52 1847.67 1544.94 Q1844.61 1540.33 1844.61 1531.6 Q1844.61 1522.85 1847.67 1518.27 Q1850.75 1513.66 1856.56 1513.66 Z\" fill=\"#000000\" fill-rule=\"evenodd\" fill-opacity=\"1\" /><path clip-path=\"url(#clip310)\" d=\"M2002.98 1544.91 L2010.62 1544.91 L2010.62 1518.55 L2002.31 1520.21 L2002.31 1515.95 L2010.57 1514.29 L2015.25 1514.29 L2015.25 1544.91 L2022.88 1544.91 L2022.88 1548.85 L2002.98 1548.85 L2002.98 1544.91 Z\" fill=\"#000000\" fill-rule=\"evenodd\" fill-opacity=\"1\" /><path clip-path=\"url(#clip310)\" d=\"M2163.28 1544.91 L2179.6 1544.91 L2179.6 1548.85 L2157.66 1548.85 L2157.66 1544.91 Q2160.32 1542.16 2164.91 1537.53 Q2169.51 1532.88 2170.69 1531.53 Q2172.94 1529.01 2173.82 1527.27 Q2174.72 1525.51 2174.72 1523.82 Q2174.72 1521.07 2172.78 1519.33 Q2170.85 1517.6 2167.75 1517.6 Q2165.55 1517.6 2163.1 1518.36 Q2160.67 1519.13 2157.89 1520.68 L2157.89 1515.95 Q2160.72 1514.82 2163.17 1514.24 Q2165.62 1513.66 2167.66 1513.66 Q2173.03 1513.66 2176.22 1516.35 Q2179.42 1519.03 2179.42 1523.52 Q2179.42 1525.65 2178.61 1527.57 Q2177.82 1529.47 2175.72 1532.07 Q2175.14 1532.74 2172.03 1535.95 Q2168.93 1539.15 2163.28 1544.91 Z\" fill=\"#000000\" fill-rule=\"evenodd\" fill-opacity=\"1\" /><path clip-path=\"url(#clip310)\" d=\"M2328.92 1530.21 Q2332.27 1530.93 2334.15 1533.2 Q2336.05 1535.47 2336.05 1538.8 Q2336.05 1543.92 2332.53 1546.72 Q2329.01 1549.52 2322.53 1549.52 Q2320.35 1549.52 2318.04 1549.08 Q2315.75 1548.66 2313.29 1547.81 L2313.29 1543.29 Q2315.24 1544.43 2317.55 1545.01 Q2319.87 1545.58 2322.39 1545.58 Q2326.79 1545.58 2329.08 1543.85 Q2331.39 1542.11 2331.39 1538.8 Q2331.39 1535.75 2329.24 1534.03 Q2327.11 1532.3 2323.29 1532.3 L2319.26 1532.3 L2319.26 1528.45 L2323.48 1528.45 Q2326.93 1528.45 2328.75 1527.09 Q2330.58 1525.7 2330.58 1523.11 Q2330.58 1520.45 2328.69 1519.03 Q2326.81 1517.6 2323.29 1517.6 Q2321.37 1517.6 2319.17 1518.01 Q2316.97 1518.43 2314.33 1519.31 L2314.33 1515.14 Q2317 1514.4 2319.31 1514.03 Q2321.65 1513.66 2323.71 1513.66 Q2329.03 1513.66 2332.13 1516.09 Q2335.24 1518.5 2335.24 1522.62 Q2335.24 1525.49 2333.59 1527.48 Q2331.95 1529.45 2328.92 1530.21 Z\" fill=\"#000000\" fill-rule=\"evenodd\" fill-opacity=\"1\" /><polyline clip-path=\"url(#clip315)\" style=\"stroke:#000000; stroke-linecap:butt; stroke-linejoin:round; stroke-width:2; stroke-opacity:0.1; fill:none\" points=\"\n",
       "  1360.36,1468.36 2352.76,1468.36 \n",
       "  \"/>\n",
       "<polyline clip-path=\"url(#clip315)\" style=\"stroke:#000000; stroke-linecap:butt; stroke-linejoin:round; stroke-width:2; stroke-opacity:0.1; fill:none\" points=\"\n",
       "  1360.36,1319.46 2352.76,1319.46 \n",
       "  \"/>\n",
       "<polyline clip-path=\"url(#clip315)\" style=\"stroke:#000000; stroke-linecap:butt; stroke-linejoin:round; stroke-width:2; stroke-opacity:0.1; fill:none\" points=\"\n",
       "  1360.36,1170.57 2352.76,1170.57 \n",
       "  \"/>\n",
       "<polyline clip-path=\"url(#clip315)\" style=\"stroke:#000000; stroke-linecap:butt; stroke-linejoin:round; stroke-width:2; stroke-opacity:0.1; fill:none\" points=\"\n",
       "  1360.36,1021.67 2352.76,1021.67 \n",
       "  \"/>\n",
       "<polyline clip-path=\"url(#clip315)\" style=\"stroke:#000000; stroke-linecap:butt; stroke-linejoin:round; stroke-width:2; stroke-opacity:0.1; fill:none\" points=\"\n",
       "  1360.36,872.779 2352.76,872.779 \n",
       "  \"/>\n",
       "<polyline clip-path=\"url(#clip310)\" style=\"stroke:#000000; stroke-linecap:butt; stroke-linejoin:round; stroke-width:4; stroke-opacity:1; fill:none\" points=\"\n",
       "  1360.36,1486.45 1360.36,847.244 \n",
       "  \"/>\n",
       "<polyline clip-path=\"url(#clip310)\" style=\"stroke:#000000; stroke-linecap:butt; stroke-linejoin:round; stroke-width:4; stroke-opacity:1; fill:none\" points=\"\n",
       "  1360.36,1468.36 1379.26,1468.36 \n",
       "  \"/>\n",
       "<polyline clip-path=\"url(#clip310)\" style=\"stroke:#000000; stroke-linecap:butt; stroke-linejoin:round; stroke-width:4; stroke-opacity:1; fill:none\" points=\"\n",
       "  1360.36,1319.46 1379.26,1319.46 \n",
       "  \"/>\n",
       "<polyline clip-path=\"url(#clip310)\" style=\"stroke:#000000; stroke-linecap:butt; stroke-linejoin:round; stroke-width:4; stroke-opacity:1; fill:none\" points=\"\n",
       "  1360.36,1170.57 1379.26,1170.57 \n",
       "  \"/>\n",
       "<polyline clip-path=\"url(#clip310)\" style=\"stroke:#000000; stroke-linecap:butt; stroke-linejoin:round; stroke-width:4; stroke-opacity:1; fill:none\" points=\"\n",
       "  1360.36,1021.67 1379.26,1021.67 \n",
       "  \"/>\n",
       "<polyline clip-path=\"url(#clip310)\" style=\"stroke:#000000; stroke-linecap:butt; stroke-linejoin:round; stroke-width:4; stroke-opacity:1; fill:none\" points=\"\n",
       "  1360.36,872.779 1379.26,872.779 \n",
       "  \"/>\n",
       "<path clip-path=\"url(#clip310)\" d=\"M1312.42 1454.16 Q1308.8 1454.16 1306.98 1457.72 Q1305.17 1461.26 1305.17 1468.39 Q1305.17 1475.5 1306.98 1479.06 Q1308.8 1482.61 1312.42 1482.61 Q1316.05 1482.61 1317.86 1479.06 Q1319.68 1475.5 1319.68 1468.39 Q1319.68 1461.26 1317.86 1457.72 Q1316.05 1454.16 1312.42 1454.16 M1312.42 1450.45 Q1318.23 1450.45 1321.28 1455.06 Q1324.36 1459.64 1324.36 1468.39 Q1324.36 1477.12 1321.28 1481.73 Q1318.23 1486.31 1312.42 1486.31 Q1306.61 1486.31 1303.53 1481.73 Q1300.47 1477.12 1300.47 1468.39 Q1300.47 1459.64 1303.53 1455.06 Q1306.61 1450.45 1312.42 1450.45 Z\" fill=\"#000000\" fill-rule=\"evenodd\" fill-opacity=\"1\" /><path clip-path=\"url(#clip310)\" d=\"M1276.28 1332.81 L1292.6 1332.81 L1292.6 1336.74 L1270.66 1336.74 L1270.66 1332.81 Q1273.32 1330.05 1277.9 1325.42 Q1282.51 1320.77 1283.69 1319.43 Q1285.93 1316.91 1286.81 1315.17 Q1287.72 1313.41 1287.72 1311.72 Q1287.72 1308.97 1285.77 1307.23 Q1283.85 1305.49 1280.75 1305.49 Q1278.55 1305.49 1276.1 1306.26 Q1273.67 1307.02 1270.89 1308.57 L1270.89 1303.85 Q1273.71 1302.72 1276.17 1302.14 Q1278.62 1301.56 1280.66 1301.56 Q1286.03 1301.56 1289.22 1304.24 Q1292.42 1306.93 1292.42 1311.42 Q1292.42 1313.55 1291.61 1315.47 Q1290.82 1317.37 1288.71 1319.96 Q1288.13 1320.63 1285.03 1323.85 Q1281.93 1327.04 1276.28 1332.81 Z\" fill=\"#000000\" fill-rule=\"evenodd\" fill-opacity=\"1\" /><path clip-path=\"url(#clip310)\" d=\"M1312.42 1305.26 Q1308.8 1305.26 1306.98 1308.83 Q1305.17 1312.37 1305.17 1319.5 Q1305.17 1326.6 1306.98 1330.17 Q1308.8 1333.71 1312.42 1333.71 Q1316.05 1333.71 1317.86 1330.17 Q1319.68 1326.6 1319.68 1319.5 Q1319.68 1312.37 1317.86 1308.83 Q1316.05 1305.26 1312.42 1305.26 M1312.42 1301.56 Q1318.23 1301.56 1321.28 1306.16 Q1324.36 1310.75 1324.36 1319.5 Q1324.36 1328.22 1321.28 1332.83 Q1318.23 1337.41 1312.42 1337.41 Q1306.61 1337.41 1303.53 1332.83 Q1300.47 1328.22 1300.47 1319.5 Q1300.47 1310.75 1303.53 1306.16 Q1306.61 1301.56 1312.42 1301.56 Z\" fill=\"#000000\" fill-rule=\"evenodd\" fill-opacity=\"1\" /><path clip-path=\"url(#clip310)\" d=\"M1285.1 1157.36 L1273.3 1175.81 L1285.1 1175.81 L1285.1 1157.36 M1283.87 1153.29 L1289.75 1153.29 L1289.75 1175.81 L1294.68 1175.81 L1294.68 1179.7 L1289.75 1179.7 L1289.75 1187.85 L1285.1 1187.85 L1285.1 1179.7 L1269.5 1179.7 L1269.5 1175.19 L1283.87 1153.29 Z\" fill=\"#000000\" fill-rule=\"evenodd\" fill-opacity=\"1\" /><path clip-path=\"url(#clip310)\" d=\"M1312.42 1156.37 Q1308.8 1156.37 1306.98 1159.93 Q1305.17 1163.47 1305.17 1170.6 Q1305.17 1177.71 1306.98 1181.27 Q1308.8 1184.82 1312.42 1184.82 Q1316.05 1184.82 1317.86 1181.27 Q1319.68 1177.71 1319.68 1170.6 Q1319.68 1163.47 1317.86 1159.93 Q1316.05 1156.37 1312.42 1156.37 M1312.42 1152.66 Q1318.23 1152.66 1321.28 1157.27 Q1324.36 1161.85 1324.36 1170.6 Q1324.36 1179.33 1321.28 1183.94 Q1318.23 1188.52 1312.42 1188.52 Q1306.61 1188.52 1303.53 1183.94 Q1300.47 1179.33 1300.47 1170.6 Q1300.47 1161.85 1303.53 1157.27 Q1306.61 1152.66 1312.42 1152.66 Z\" fill=\"#000000\" fill-rule=\"evenodd\" fill-opacity=\"1\" /><path clip-path=\"url(#clip310)\" d=\"M1282.83 1019.81 Q1279.68 1019.81 1277.83 1021.96 Q1276 1024.12 1276 1027.87 Q1276 1031.59 1277.83 1033.77 Q1279.68 1035.92 1282.83 1035.92 Q1285.98 1035.92 1287.81 1033.77 Q1289.66 1031.59 1289.66 1027.87 Q1289.66 1024.12 1287.81 1021.96 Q1285.98 1019.81 1282.83 1019.81 M1292.11 1005.16 L1292.11 1009.42 Q1290.36 1008.58 1288.55 1008.14 Q1286.77 1007.7 1285.01 1007.7 Q1280.38 1007.7 1277.92 1010.83 Q1275.49 1013.95 1275.15 1020.27 Q1276.51 1018.26 1278.57 1017.19 Q1280.63 1016.11 1283.11 1016.11 Q1288.32 1016.11 1291.33 1019.28 Q1294.36 1022.43 1294.36 1027.87 Q1294.36 1033.19 1291.21 1036.41 Q1288.06 1039.63 1282.83 1039.63 Q1276.84 1039.63 1273.67 1035.04 Q1270.49 1030.44 1270.49 1021.71 Q1270.49 1013.51 1274.38 1008.65 Q1278.27 1003.77 1284.82 1003.77 Q1286.58 1003.77 1288.36 1004.12 Q1290.17 1004.46 1292.11 1005.16 Z\" fill=\"#000000\" fill-rule=\"evenodd\" fill-opacity=\"1\" /><path clip-path=\"url(#clip310)\" d=\"M1312.42 1007.47 Q1308.8 1007.47 1306.98 1011.04 Q1305.17 1014.58 1305.17 1021.71 Q1305.17 1028.82 1306.98 1032.38 Q1308.8 1035.92 1312.42 1035.92 Q1316.05 1035.92 1317.86 1032.38 Q1319.68 1028.82 1319.68 1021.71 Q1319.68 1014.58 1317.86 1011.04 Q1316.05 1007.47 1312.42 1007.47 M1312.42 1003.77 Q1318.23 1003.77 1321.28 1008.38 Q1324.36 1012.96 1324.36 1021.71 Q1324.36 1030.44 1321.28 1035.04 Q1318.23 1039.63 1312.42 1039.63 Q1306.61 1039.63 1303.53 1035.04 Q1300.47 1030.44 1300.47 1021.71 Q1300.47 1012.96 1303.53 1008.38 Q1306.61 1003.77 1312.42 1003.77 Z\" fill=\"#000000\" fill-rule=\"evenodd\" fill-opacity=\"1\" /><path clip-path=\"url(#clip310)\" d=\"M1282.25 873.648 Q1278.92 873.648 1277 875.43 Q1275.1 877.212 1275.1 880.337 Q1275.1 883.462 1277 885.245 Q1278.92 887.027 1282.25 887.027 Q1285.59 887.027 1287.51 885.245 Q1289.43 883.439 1289.43 880.337 Q1289.43 877.212 1287.51 875.43 Q1285.61 873.648 1282.25 873.648 M1277.58 871.657 Q1274.57 870.916 1272.88 868.856 Q1271.21 866.796 1271.21 863.833 Q1271.21 859.689 1274.15 857.282 Q1277.11 854.875 1282.25 854.875 Q1287.42 854.875 1290.36 857.282 Q1293.3 859.689 1293.3 863.833 Q1293.3 866.796 1291.61 868.856 Q1289.94 870.916 1286.95 871.657 Q1290.33 872.444 1292.21 874.736 Q1294.11 877.027 1294.11 880.337 Q1294.11 885.36 1291.03 888.046 Q1287.97 890.731 1282.25 890.731 Q1276.54 890.731 1273.46 888.046 Q1270.4 885.36 1270.4 880.337 Q1270.4 877.027 1272.3 874.736 Q1274.2 872.444 1277.58 871.657 M1275.86 864.273 Q1275.86 866.958 1277.53 868.462 Q1279.22 869.967 1282.25 869.967 Q1285.26 869.967 1286.95 868.462 Q1288.67 866.958 1288.67 864.273 Q1288.67 861.587 1286.95 860.083 Q1285.26 858.578 1282.25 858.578 Q1279.22 858.578 1277.53 860.083 Q1275.86 861.587 1275.86 864.273 Z\" fill=\"#000000\" fill-rule=\"evenodd\" fill-opacity=\"1\" /><path clip-path=\"url(#clip310)\" d=\"M1312.42 858.578 Q1308.8 858.578 1306.98 862.143 Q1305.17 865.685 1305.17 872.814 Q1305.17 879.921 1306.98 883.485 Q1308.8 887.027 1312.42 887.027 Q1316.05 887.027 1317.86 883.485 Q1319.68 879.921 1319.68 872.814 Q1319.68 865.685 1317.86 862.143 Q1316.05 858.578 1312.42 858.578 M1312.42 854.875 Q1318.23 854.875 1321.28 859.481 Q1324.36 864.064 1324.36 872.814 Q1324.36 881.541 1321.28 886.147 Q1318.23 890.731 1312.42 890.731 Q1306.61 890.731 1303.53 886.147 Q1300.47 881.541 1300.47 872.814 Q1300.47 864.064 1303.53 859.481 Q1306.61 854.875 1312.42 854.875 Z\" fill=\"#000000\" fill-rule=\"evenodd\" fill-opacity=\"1\" /><polyline clip-path=\"url(#clip315)\" style=\"stroke:#009af9; stroke-linecap:butt; stroke-linejoin:round; stroke-width:4; stroke-opacity:1; fill:none\" points=\"\n",
       "  1388.45,865.335 1420.73,1015.25 1453.01,1135.31 1485.3,1229.77 1517.58,1302.54 1549.86,1357.25 1582.15,1397.15 1614.43,1425.2 1646.71,1444.01 1679,1455.88 \n",
       "  1711.28,1462.76 1743.57,1466.31 1775.85,1467.83 1808.13,1468.29 1840.42,1468.36 1872.7,1468.36 1904.98,1468.29 1937.27,1467.83 1969.55,1466.31 2001.83,1462.76 \n",
       "  2034.12,1455.88 2066.4,1444.01 2098.68,1425.2 2130.97,1397.15 2163.25,1357.25 2195.54,1302.54 2227.82,1229.77 2260.1,1135.31 2292.39,1015.25 2324.67,865.335 \n",
       "  \n",
       "  \"/>\n",
       "</svg>\n"
      ]
     },
     "execution_count": 88,
     "metadata": {},
     "output_type": "execute_result"
    }
   ],
   "source": [
    "p1 = plot(x, x)\n",
    "p2 = plot(x, x.^2)\n",
    "p3 = plot(x, x.^3)\n",
    "p4 = plot(x, x.^4)\n",
    "plot(p1, p2, p3, p4, layout = (2, 2), legend = false)"
   ]
  },
  {
   "cell_type": "code",
   "execution_count": 89,
   "id": "544ee3d8-843a-4847-b808-26ef5324fb70",
   "metadata": {},
   "outputs": [
    {
     "data": {
      "text/html": [
       "# 261 methods for generic function <b>+</b>:<ul><li> +(x::<b>T</b>, y::<b>T</b>)<i> where T<:Union{Int128, Int16, Int32, Int64, Int8, UInt128, UInt16, UInt32, UInt64, UInt8}</i> in Base at <a href=\"https://github.com/JuliaLang/julia/tree/3bf9d1773144bc4943232dc2ffaac307a700853d/base/int.jl#L87\" target=\"_blank\">int.jl:87</a></li> <li> +(c::<b>Union{UInt16, UInt32, UInt64, UInt8}</b>, x::<b>BigInt</b>) in Base.GMP at <a href=\"https://github.com/JuliaLang/julia/tree/3bf9d1773144bc4943232dc2ffaac307a700853d/base/gmp.jl#L529\" target=\"_blank\">gmp.jl:529</a></li> <li> +(c::<b>Union{Int16, Int32, Int64, Int8}</b>, x::<b>BigInt</b>) in Base.GMP at <a href=\"https://github.com/JuliaLang/julia/tree/3bf9d1773144bc4943232dc2ffaac307a700853d/base/gmp.jl#L535\" target=\"_blank\">gmp.jl:535</a></li> <li> +(c::<b>Union{UInt16, UInt32, UInt64, UInt8}</b>, x::<b>BigFloat</b>) in Base.MPFR at <a href=\"https://github.com/JuliaLang/julia/tree/3bf9d1773144bc4943232dc2ffaac307a700853d/base/mpfr.jl#L390\" target=\"_blank\">mpfr.jl:390</a></li> <li> +(c::<b>Union{Int16, Int32, Int64, Int8}</b>, x::<b>BigFloat</b>) in Base.MPFR at <a href=\"https://github.com/JuliaLang/julia/tree/3bf9d1773144bc4943232dc2ffaac307a700853d/base/mpfr.jl#L398\" target=\"_blank\">mpfr.jl:398</a></li> <li> +(c::<b>Union{Float16, Float32, Float64}</b>, x::<b>BigFloat</b>) in Base.MPFR at <a href=\"https://github.com/JuliaLang/julia/tree/3bf9d1773144bc4943232dc2ffaac307a700853d/base/mpfr.jl#L406\" target=\"_blank\">mpfr.jl:406</a></li> <li> +(x::<b>Union{Dates.CompoundPeriod, Dates.Period}</b>) in Dates at <a href=\"file:///buildworker/worker/package_linux64/build/usr/share/julia/stdlib/v1.7/Dates/src/periods.jl\" target=\"_blank\">/home/cicuser/julia-1.7.0/share/julia/stdlib/v1.7/Dates/src/periods.jl:372</a></li> <li> +(a::<b>Union{LMS, XYZ}</b>, b::<b>Union{LMS, XYZ}</b>) in Colors at <a href=\"file:///home/cicuser/.julia/packages/Colors/yDxFN/src/algorithms.jl\" target=\"_blank\">/home/cicuser/.julia/packages/Colors/yDxFN/src/algorithms.jl:4</a></li> <li> +(y::<b>AbstractFloat</b>, x::<b>Bool</b>) in Base at <a href=\"https://github.com/JuliaLang/julia/tree/3bf9d1773144bc4943232dc2ffaac307a700853d/base/bool.jl#L172\" target=\"_blank\">bool.jl:172</a></li> <li> +(x::<b>Base.TwicePrecision</b>, y::<b>Number</b>) in Base at <a href=\"https://github.com/JuliaLang/julia/tree/3bf9d1773144bc4943232dc2ffaac307a700853d/base/twiceprecision.jl#L279\" target=\"_blank\">twiceprecision.jl:279</a></li> <li> +(x::<b>Base.TwicePrecision{T}</b>, y::<b>Base.TwicePrecision{T}</b>)<i> where T</i> in Base at <a href=\"https://github.com/JuliaLang/julia/tree/3bf9d1773144bc4943232dc2ffaac307a700853d/base/twiceprecision.jl#L285\" target=\"_blank\">twiceprecision.jl:285</a></li> <li> +(x::<b>Base.TwicePrecision</b>, y::<b>Base.TwicePrecision</b>) in Base at <a href=\"https://github.com/JuliaLang/julia/tree/3bf9d1773144bc4943232dc2ffaac307a700853d/base/twiceprecision.jl#L290\" target=\"_blank\">twiceprecision.jl:290</a></li> <li> +(z::<b>Complex</b>, w::<b>Complex</b>) in Base at <a href=\"https://github.com/JuliaLang/julia/tree/3bf9d1773144bc4943232dc2ffaac307a700853d/base/complex.jl#L288\" target=\"_blank\">complex.jl:288</a></li> <li> +(A::<b>SparseArrays.AbstractSparseMatrixCSC</b>, B::<b>SparseArrays.AbstractSparseMatrixCSC</b>) in SparseArrays at <a href=\"file:///buildworker/worker/package_linux64/build/usr/share/julia/stdlib/v1.7/SparseArrays/src/sparsematrix.jl\" target=\"_blank\">/home/cicuser/julia-1.7.0/share/julia/stdlib/v1.7/SparseArrays/src/sparsematrix.jl:1771</a></li> <li> +(A::<b>SparseArrays.AbstractSparseMatrixCSC</b>, B::<b>Array</b>) in SparseArrays at <a href=\"file:///buildworker/worker/package_linux64/build/usr/share/julia/stdlib/v1.7/SparseArrays/src/sparsematrix.jl\" target=\"_blank\">/home/cicuser/julia-1.7.0/share/julia/stdlib/v1.7/SparseArrays/src/sparsematrix.jl:1774</a></li> <li> +(A::<b>SparseArrays.AbstractSparseMatrixCSC</b>, J::<b>LinearAlgebra.UniformScaling</b>) in SparseArrays at <a href=\"file:///buildworker/worker/package_linux64/build/usr/share/julia/stdlib/v1.7/SparseArrays/src/sparsematrix.jl\" target=\"_blank\">/home/cicuser/julia-1.7.0/share/julia/stdlib/v1.7/SparseArrays/src/sparsematrix.jl:3760</a></li> <li> +(r1::<b>LinRange{T}</b>, r2::<b>LinRange{T}</b>)<i> where T</i> in Base at <a href=\"https://github.com/JuliaLang/julia/tree/3bf9d1773144bc4943232dc2ffaac307a700853d/base/range.jl#L1354\" target=\"_blank\">range.jl:1354</a></li> <li> +(Da::<b>LinearAlgebra.Diagonal</b>, Db::<b>LinearAlgebra.Diagonal</b>) in LinearAlgebra at <a href=\"file:///buildworker/worker/package_linux64/build/usr/share/julia/stdlib/v1.7/LinearAlgebra/src/diagonal.jl\" target=\"_blank\">/home/cicuser/julia-1.7.0/share/julia/stdlib/v1.7/LinearAlgebra/src/diagonal.jl:172</a></li> <li> +(D::<b>LinearAlgebra.Diagonal</b>, S::<b>LinearAlgebra.Symmetric</b>) in LinearAlgebra at <a href=\"file:///buildworker/worker/package_linux64/build/usr/share/julia/stdlib/v1.7/LinearAlgebra/src/diagonal.jl\" target=\"_blank\">/home/cicuser/julia-1.7.0/share/julia/stdlib/v1.7/LinearAlgebra/src/diagonal.jl:176</a></li> <li> +(D::<b>LinearAlgebra.Diagonal{var\"#s859\", V} where {var\"#s859\"<:Real, V<:AbstractVector{var\"#s859\"}}</b>, H::<b>LinearAlgebra.Hermitian</b>) in LinearAlgebra at <a href=\"file:///buildworker/worker/package_linux64/build/usr/share/julia/stdlib/v1.7/LinearAlgebra/src/diagonal.jl\" target=\"_blank\">/home/cicuser/julia-1.7.0/share/julia/stdlib/v1.7/LinearAlgebra/src/diagonal.jl:182</a></li> <li> +(x::<b>LinearAlgebra.Diagonal</b>, H::<b>LinearAlgebra.UpperHessenberg</b>) in LinearAlgebra at <a href=\"file:///buildworker/worker/package_linux64/build/usr/share/julia/stdlib/v1.7/LinearAlgebra/src/hessenberg.jl\" target=\"_blank\">/home/cicuser/julia-1.7.0/share/julia/stdlib/v1.7/LinearAlgebra/src/hessenberg.jl:107</a></li> <li> +(A::<b>LinearAlgebra.Diagonal</b>, B::<b>LinearAlgebra.Bidiagonal</b>) in LinearAlgebra at <a href=\"file:///buildworker/worker/package_linux64/build/usr/share/julia/stdlib/v1.7/LinearAlgebra/src/special.jl\" target=\"_blank\">/home/cicuser/julia-1.7.0/share/julia/stdlib/v1.7/LinearAlgebra/src/special.jl:125</a></li> <li> +(A::<b>LinearAlgebra.Diagonal</b>, B::<b>LinearAlgebra.SymTridiagonal</b>) in LinearAlgebra at <a href=\"file:///buildworker/worker/package_linux64/build/usr/share/julia/stdlib/v1.7/LinearAlgebra/src/special.jl\" target=\"_blank\">/home/cicuser/julia-1.7.0/share/julia/stdlib/v1.7/LinearAlgebra/src/special.jl:135</a></li> <li> +(A::<b>LinearAlgebra.Diagonal</b>, B::<b>LinearAlgebra.Tridiagonal</b>) in LinearAlgebra at <a href=\"file:///buildworker/worker/package_linux64/build/usr/share/julia/stdlib/v1.7/LinearAlgebra/src/special.jl\" target=\"_blank\">/home/cicuser/julia-1.7.0/share/julia/stdlib/v1.7/LinearAlgebra/src/special.jl:163</a></li> <li> +(A::<b>LinearAlgebra.Diagonal{var\"#s859\", V} where {var\"#s859\"<:Number, V<:AbstractVector{var\"#s859\"}}</b>, B::<b>LinearAlgebra.UniformScaling</b>) in LinearAlgebra at <a href=\"file:///buildworker/worker/package_linux64/build/usr/share/julia/stdlib/v1.7/LinearAlgebra/src/special.jl\" target=\"_blank\">/home/cicuser/julia-1.7.0/share/julia/stdlib/v1.7/LinearAlgebra/src/special.jl:241</a></li> <li> +(x::<b>Rational</b>, y::<b>Integer</b>) in Base at <a href=\"https://github.com/JuliaLang/julia/tree/3bf9d1773144bc4943232dc2ffaac307a700853d/base/rational.jl#L311\" target=\"_blank\">rational.jl:311</a></li> <li> +(A::<b>LinearAlgebra.UnitLowerTriangular</b>, B::<b>LinearAlgebra.LowerTriangular</b>) in LinearAlgebra at <a href=\"file:///buildworker/worker/package_linux64/build/usr/share/julia/stdlib/v1.7/LinearAlgebra/src/triangular.jl\" target=\"_blank\">/home/cicuser/julia-1.7.0/share/julia/stdlib/v1.7/LinearAlgebra/src/triangular.jl:641</a></li> <li> +(A::<b>LinearAlgebra.UnitLowerTriangular</b>, B::<b>LinearAlgebra.UnitLowerTriangular</b>) in LinearAlgebra at <a href=\"file:///buildworker/worker/package_linux64/build/usr/share/julia/stdlib/v1.7/LinearAlgebra/src/triangular.jl\" target=\"_blank\">/home/cicuser/julia-1.7.0/share/julia/stdlib/v1.7/LinearAlgebra/src/triangular.jl:643</a></li> <li> +(UL::<b>LinearAlgebra.UnitLowerTriangular</b>, J::<b>LinearAlgebra.UniformScaling</b>) in LinearAlgebra at <a href=\"file:///buildworker/worker/package_linux64/build/usr/share/julia/stdlib/v1.7/LinearAlgebra/src/uniformscaling.jl\" target=\"_blank\">/home/cicuser/julia-1.7.0/share/julia/stdlib/v1.7/LinearAlgebra/src/uniformscaling.jl:182</a></li> <li> +(A::<b>LinearAlgebra.UnitLowerTriangular</b>, B::<b>LinearAlgebra.Bidiagonal</b>) in LinearAlgebra at <a href=\"file:///buildworker/worker/package_linux64/build/usr/share/julia/stdlib/v1.7/LinearAlgebra/src/special.jl\" target=\"_blank\">/home/cicuser/julia-1.7.0/share/julia/stdlib/v1.7/LinearAlgebra/src/special.jl:86</a></li> <li> +(a::<b>ChainRulesCore.AbstractThunk</b>, b::<b>ChainRulesCore.Tangent</b>) in ChainRulesCore at <a href=\"file:///home/cicuser/.julia/packages/ChainRulesCore/sHMAp/src/tangent_arithmetic.jl\" target=\"_blank\">/home/cicuser/.julia/packages/ChainRulesCore/sHMAp/src/tangent_arithmetic.jl:122</a></li> <li> +(a::<b>ChainRulesCore.AbstractThunk</b>, b::<b>ChainRulesCore.AbstractThunk</b>) in ChainRulesCore at <a href=\"file:///home/cicuser/.julia/packages/ChainRulesCore/sHMAp/src/tangent_arithmetic.jl\" target=\"_blank\">/home/cicuser/.julia/packages/ChainRulesCore/sHMAp/src/tangent_arithmetic.jl:119</a></li> <li> +(a::<b>ChainRulesCore.AbstractThunk</b>, ::<b>ChainRulesCore.ZeroTangent</b>) in ChainRulesCore at <a href=\"file:///home/cicuser/.julia/packages/ChainRulesCore/sHMAp/src/tangent_arithmetic.jl\" target=\"_blank\">/home/cicuser/.julia/packages/ChainRulesCore/sHMAp/src/tangent_arithmetic.jl:100</a></li> <li> +(a::<b>ChainRulesCore.AbstractThunk</b>, ::<b>ChainRulesCore.NoTangent</b>) in ChainRulesCore at <a href=\"file:///home/cicuser/.julia/packages/ChainRulesCore/sHMAp/src/tangent_arithmetic.jl\" target=\"_blank\">/home/cicuser/.julia/packages/ChainRulesCore/sHMAp/src/tangent_arithmetic.jl:60</a></li> <li> +(::<b>ChainRulesCore.AbstractThunk</b>, x::<b>ChainRulesCore.NotImplemented</b>) in ChainRulesCore at <a href=\"file:///home/cicuser/.julia/packages/ChainRulesCore/sHMAp/src/tangent_arithmetic.jl\" target=\"_blank\">/home/cicuser/.julia/packages/ChainRulesCore/sHMAp/src/tangent_arithmetic.jl:25</a></li> <li> +(a::<b>ChainRulesCore.AbstractThunk</b>, b) in ChainRulesCore at <a href=\"file:///home/cicuser/.julia/packages/ChainRulesCore/sHMAp/src/tangent_arithmetic.jl\" target=\"_blank\">/home/cicuser/.julia/packages/ChainRulesCore/sHMAp/src/tangent_arithmetic.jl:122</a></li> <li> +(F::<b>LinearAlgebra.Hessenberg</b>, J::<b>LinearAlgebra.UniformScaling</b>) in LinearAlgebra at <a href=\"file:///buildworker/worker/package_linux64/build/usr/share/julia/stdlib/v1.7/LinearAlgebra/src/hessenberg.jl\" target=\"_blank\">/home/cicuser/julia-1.7.0/share/julia/stdlib/v1.7/LinearAlgebra/src/hessenberg.jl:640</a></li> <li> +(x::<b>AbstractIrrational</b>, y::<b>AbstractIrrational</b>) in Base at <a href=\"https://github.com/JuliaLang/julia/tree/3bf9d1773144bc4943232dc2ffaac307a700853d/base/irrationals.jl#L158\" target=\"_blank\">irrationals.jl:158</a></li> <li> +(A::<b>LinearAlgebra.Tridiagonal</b>, B::<b>LinearAlgebra.Tridiagonal</b>) in LinearAlgebra at <a href=\"file:///buildworker/worker/package_linux64/build/usr/share/julia/stdlib/v1.7/LinearAlgebra/src/tridiag.jl\" target=\"_blank\">/home/cicuser/julia-1.7.0/share/julia/stdlib/v1.7/LinearAlgebra/src/tridiag.jl:740</a></li> <li> +(x::<b>LinearAlgebra.Tridiagonal</b>, H::<b>LinearAlgebra.UpperHessenberg</b>) in LinearAlgebra at <a href=\"file:///buildworker/worker/package_linux64/build/usr/share/julia/stdlib/v1.7/LinearAlgebra/src/hessenberg.jl\" target=\"_blank\">/home/cicuser/julia-1.7.0/share/julia/stdlib/v1.7/LinearAlgebra/src/hessenberg.jl:107</a></li> <li> +(A::<b>LinearAlgebra.Tridiagonal</b>, B::<b>LinearAlgebra.SymTridiagonal</b>) in LinearAlgebra at <a href=\"file:///buildworker/worker/package_linux64/build/usr/share/julia/stdlib/v1.7/LinearAlgebra/src/special.jl\" target=\"_blank\">/home/cicuser/julia-1.7.0/share/julia/stdlib/v1.7/LinearAlgebra/src/special.jl:157</a></li> <li> +(A::<b>LinearAlgebra.Tridiagonal</b>, B::<b>LinearAlgebra.Diagonal</b>) in LinearAlgebra at <a href=\"file:///buildworker/worker/package_linux64/build/usr/share/julia/stdlib/v1.7/LinearAlgebra/src/special.jl\" target=\"_blank\">/home/cicuser/julia-1.7.0/share/julia/stdlib/v1.7/LinearAlgebra/src/special.jl:173</a></li> <li> +(A::<b>LinearAlgebra.Tridiagonal</b>, B::<b>LinearAlgebra.Bidiagonal</b>) in LinearAlgebra at <a href=\"file:///buildworker/worker/package_linux64/build/usr/share/julia/stdlib/v1.7/LinearAlgebra/src/special.jl\" target=\"_blank\">/home/cicuser/julia-1.7.0/share/julia/stdlib/v1.7/LinearAlgebra/src/special.jl:193</a></li> <li> +(A::<b>LinearAlgebra.Tridiagonal{var\"#s859\", V} where {var\"#s859\"<:Number, V<:AbstractVector{var\"#s859\"}}</b>, B::<b>LinearAlgebra.UniformScaling</b>) in LinearAlgebra at <a href=\"file:///buildworker/worker/package_linux64/build/usr/share/julia/stdlib/v1.7/LinearAlgebra/src/special.jl\" target=\"_blank\">/home/cicuser/julia-1.7.0/share/julia/stdlib/v1.7/LinearAlgebra/src/special.jl:226</a></li> <li> +(index1::<b>CartesianIndex{N}</b>, index2::<b>CartesianIndex{N}</b>)<i> where N</i> in Base.IteratorsMD at <a href=\"https://github.com/JuliaLang/julia/tree/3bf9d1773144bc4943232dc2ffaac307a700853d/base/multidimensional.jl#L114\" target=\"_blank\">multidimensional.jl:114</a></li> <li> +(y::<b>Dates.TimeType</b>, x::<b>StridedArray{<:Union{Dates.CompoundPeriod, Dates.Period}}</b>) in Dates at <a href=\"file:///buildworker/worker/package_linux64/build/usr/share/julia/stdlib/v1.7/Dates/src/deprecated.jl\" target=\"_blank\">/home/cicuser/julia-1.7.0/share/julia/stdlib/v1.7/Dates/src/deprecated.jl:18</a></li> <li> +(a::<b>StaticArrays.StaticMatrix</b>, b::<b>LinearAlgebra.UniformScaling</b>) in StaticArrays at <a href=\"file:///home/cicuser/.julia/packages/StaticArrays/OWJK7/src/linalg.jl\" target=\"_blank\">/home/cicuser/.julia/packages/StaticArrays/OWJK7/src/linalg.jl:29</a></li> <li> +(a::<b>StaticArrays.StaticArray</b>) in StaticArrays at <a href=\"file:///home/cicuser/.julia/packages/StaticArrays/OWJK7/src/linalg.jl\" target=\"_blank\">/home/cicuser/.julia/packages/StaticArrays/OWJK7/src/linalg.jl:7</a></li> <li> +(a::<b>StaticArrays.StaticArray</b>, b::<b>StaticArrays.StaticArray</b>) in StaticArrays at <a href=\"file:///home/cicuser/.julia/packages/StaticArrays/OWJK7/src/linalg.jl\" target=\"_blank\">/home/cicuser/.julia/packages/StaticArrays/OWJK7/src/linalg.jl:12</a></li> <li> +(a::<b>AbstractArray</b>, b::<b>StaticArrays.StaticArray</b>) in StaticArrays at <a href=\"file:///home/cicuser/.julia/packages/StaticArrays/OWJK7/src/linalg.jl\" target=\"_blank\">/home/cicuser/.julia/packages/StaticArrays/OWJK7/src/linalg.jl:13</a></li> <li> +(a::<b>StaticArrays.StaticArray</b>, b::<b>AbstractArray</b>) in StaticArrays at <a href=\"file:///home/cicuser/.julia/packages/StaticArrays/OWJK7/src/linalg.jl\" target=\"_blank\">/home/cicuser/.julia/packages/StaticArrays/OWJK7/src/linalg.jl:14</a></li> <li> +(A::<b>LinearAlgebra.LowerTriangular</b>, B::<b>LinearAlgebra.LowerTriangular</b>) in LinearAlgebra at <a href=\"file:///buildworker/worker/package_linux64/build/usr/share/julia/stdlib/v1.7/LinearAlgebra/src/triangular.jl\" target=\"_blank\">/home/cicuser/julia-1.7.0/share/julia/stdlib/v1.7/LinearAlgebra/src/triangular.jl:637</a></li> <li> +(A::<b>LinearAlgebra.LowerTriangular</b>, B::<b>LinearAlgebra.UnitLowerTriangular</b>) in LinearAlgebra at <a href=\"file:///buildworker/worker/package_linux64/build/usr/share/julia/stdlib/v1.7/LinearAlgebra/src/triangular.jl\" target=\"_blank\">/home/cicuser/julia-1.7.0/share/julia/stdlib/v1.7/LinearAlgebra/src/triangular.jl:639</a></li> <li> +(A::<b>LinearAlgebra.LowerTriangular</b>, B::<b>LinearAlgebra.Bidiagonal</b>) in LinearAlgebra at <a href=\"file:///buildworker/worker/package_linux64/build/usr/share/julia/stdlib/v1.7/LinearAlgebra/src/special.jl\" target=\"_blank\">/home/cicuser/julia-1.7.0/share/julia/stdlib/v1.7/LinearAlgebra/src/special.jl:86</a></li> <li> +(r1::<b>OrdinalRange</b>, r2::<b>OrdinalRange</b>) in Base at <a href=\"https://github.com/JuliaLang/julia/tree/3bf9d1773144bc4943232dc2ffaac307a700853d/base/range.jl#L1347\" target=\"_blank\">range.jl:1347</a></li> <li> +(A::<b>LinearAlgebra.UpperHessenberg</b>, B::<b>LinearAlgebra.UpperHessenberg</b>) in LinearAlgebra at <a href=\"file:///buildworker/worker/package_linux64/build/usr/share/julia/stdlib/v1.7/LinearAlgebra/src/hessenberg.jl\" target=\"_blank\">/home/cicuser/julia-1.7.0/share/julia/stdlib/v1.7/LinearAlgebra/src/hessenberg.jl:99</a></li> <li> +(H::<b>LinearAlgebra.UpperHessenberg</b>, x::<b>LinearAlgebra.UniformScaling</b>) in LinearAlgebra at <a href=\"file:///buildworker/worker/package_linux64/build/usr/share/julia/stdlib/v1.7/LinearAlgebra/src/hessenberg.jl\" target=\"_blank\">/home/cicuser/julia-1.7.0/share/julia/stdlib/v1.7/LinearAlgebra/src/hessenberg.jl:106</a></li> <li> +(H::<b>LinearAlgebra.UpperHessenberg</b>, x::<b>LinearAlgebra.Diagonal</b>) in LinearAlgebra at <a href=\"file:///buildworker/worker/package_linux64/build/usr/share/julia/stdlib/v1.7/LinearAlgebra/src/hessenberg.jl\" target=\"_blank\">/home/cicuser/julia-1.7.0/share/julia/stdlib/v1.7/LinearAlgebra/src/hessenberg.jl:106</a></li> <li> +(H::<b>LinearAlgebra.UpperHessenberg</b>, x::<b>LinearAlgebra.Bidiagonal</b>) in LinearAlgebra at <a href=\"file:///buildworker/worker/package_linux64/build/usr/share/julia/stdlib/v1.7/LinearAlgebra/src/hessenberg.jl\" target=\"_blank\">/home/cicuser/julia-1.7.0/share/julia/stdlib/v1.7/LinearAlgebra/src/hessenberg.jl:106</a></li> <li> +(H::<b>LinearAlgebra.UpperHessenberg</b>, x::<b>LinearAlgebra.Tridiagonal</b>) in LinearAlgebra at <a href=\"file:///buildworker/worker/package_linux64/build/usr/share/julia/stdlib/v1.7/LinearAlgebra/src/hessenberg.jl\" target=\"_blank\">/home/cicuser/julia-1.7.0/share/julia/stdlib/v1.7/LinearAlgebra/src/hessenberg.jl:106</a></li> <li> +(H::<b>LinearAlgebra.UpperHessenberg</b>, x::<b>LinearAlgebra.SymTridiagonal</b>) in LinearAlgebra at <a href=\"file:///buildworker/worker/package_linux64/build/usr/share/julia/stdlib/v1.7/LinearAlgebra/src/hessenberg.jl\" target=\"_blank\">/home/cicuser/julia-1.7.0/share/julia/stdlib/v1.7/LinearAlgebra/src/hessenberg.jl:106</a></li> <li> +(H::<b>LinearAlgebra.UpperHessenberg</b>, x::<b>LinearAlgebra.UpperTriangular</b>) in LinearAlgebra at <a href=\"file:///buildworker/worker/package_linux64/build/usr/share/julia/stdlib/v1.7/LinearAlgebra/src/hessenberg.jl\" target=\"_blank\">/home/cicuser/julia-1.7.0/share/julia/stdlib/v1.7/LinearAlgebra/src/hessenberg.jl:106</a></li> <li> +(H::<b>LinearAlgebra.UpperHessenberg</b>, x::<b>LinearAlgebra.UnitUpperTriangular</b>) in LinearAlgebra at <a href=\"file:///buildworker/worker/package_linux64/build/usr/share/julia/stdlib/v1.7/LinearAlgebra/src/hessenberg.jl\" target=\"_blank\">/home/cicuser/julia-1.7.0/share/julia/stdlib/v1.7/LinearAlgebra/src/hessenberg.jl:106</a></li> <li> +(x::<b>P</b>, y::<b>P</b>)<i> where P<:Dates.Period</i> in Dates at <a href=\"file:///buildworker/worker/package_linux64/build/usr/share/julia/stdlib/v1.7/Dates/src/periods.jl\" target=\"_blank\">/home/cicuser/julia-1.7.0/share/julia/stdlib/v1.7/Dates/src/periods.jl:79</a></li> <li> +(x::<b>Dates.Period</b>, y::<b>Dates.Period</b>) in Dates at <a href=\"file:///buildworker/worker/package_linux64/build/usr/share/julia/stdlib/v1.7/Dates/src/periods.jl\" target=\"_blank\">/home/cicuser/julia-1.7.0/share/julia/stdlib/v1.7/Dates/src/periods.jl:361</a></li> <li> +(y::<b>Dates.Period</b>, x::<b>Dates.CompoundPeriod</b>) in Dates at <a href=\"file:///buildworker/worker/package_linux64/build/usr/share/julia/stdlib/v1.7/Dates/src/periods.jl\" target=\"_blank\">/home/cicuser/julia-1.7.0/share/julia/stdlib/v1.7/Dates/src/periods.jl:363</a></li> <li> +(y::<b>Dates.Period</b>, x::<b>Dates.TimeType</b>) in Dates at <a href=\"file:///buildworker/worker/package_linux64/build/usr/share/julia/stdlib/v1.7/Dates/src/arithmetic.jl\" target=\"_blank\">/home/cicuser/julia-1.7.0/share/julia/stdlib/v1.7/Dates/src/arithmetic.jl:85</a></li> <li> +(x::<b>Dates.Period</b>, r::<b>AbstractRange{<:Dates.TimeType}</b>) in Dates at <a href=\"file:///buildworker/worker/package_linux64/build/usr/share/julia/stdlib/v1.7/Dates/src/ranges.jl\" target=\"_blank\">/home/cicuser/julia-1.7.0/share/julia/stdlib/v1.7/Dates/src/ranges.jl:62</a></li> <li> +(y::<b>Union{Dates.CompoundPeriod, Dates.Period}</b>, x::<b>AbstractArray{<:Dates.TimeType}</b>) in Dates at <a href=\"file:///buildworker/worker/package_linux64/build/usr/share/julia/stdlib/v1.7/Dates/src/deprecated.jl\" target=\"_blank\">/home/cicuser/julia-1.7.0/share/julia/stdlib/v1.7/Dates/src/deprecated.jl:14</a></li> <li> +(a::<b>Tuple{Vararg{Measures.Measure, N}}</b>, b::<b>Tuple{Vararg{Measures.Measure, N}}</b>)<i> where N</i> in Measures at <a href=\"file:///home/cicuser/.julia/packages/Measures/0Zkai/src/point.jl\" target=\"_blank\">/home/cicuser/.julia/packages/Measures/0Zkai/src/point.jl:21</a></li> <li> +(a::<b>Tuple{Vararg{Measures.Measure, N}} where N</b>, b::<b>Tuple{Vararg{Measures.Measure, N}} where N</b>) in Measures at <a href=\"file:///home/cicuser/.julia/packages/Measures/0Zkai/src/point.jl\" target=\"_blank\">/home/cicuser/.julia/packages/Measures/0Zkai/src/point.jl:15</a></li> <li> +(A::<b>LinearAlgebra.Symmetric</b>, B::<b>LinearAlgebra.Symmetric</b>) in LinearAlgebra at <a href=\"file:///buildworker/worker/package_linux64/build/usr/share/julia/stdlib/v1.7/LinearAlgebra/src/symmetric.jl\" target=\"_blank\">/home/cicuser/julia-1.7.0/share/julia/stdlib/v1.7/LinearAlgebra/src/symmetric.jl:469</a></li> <li> +(A::<b>LinearAlgebra.Symmetric</b>, B::<b>LinearAlgebra.SymTridiagonal</b>) in LinearAlgebra at <a href=\"file:///buildworker/worker/package_linux64/build/usr/share/julia/stdlib/v1.7/LinearAlgebra/src/symmetric.jl\" target=\"_blank\">/home/cicuser/julia-1.7.0/share/julia/stdlib/v1.7/LinearAlgebra/src/symmetric.jl:486</a></li> <li> +(S::<b>LinearAlgebra.Symmetric</b>, D::<b>LinearAlgebra.Diagonal</b>) in LinearAlgebra at <a href=\"file:///buildworker/worker/package_linux64/build/usr/share/julia/stdlib/v1.7/LinearAlgebra/src/diagonal.jl\" target=\"_blank\">/home/cicuser/julia-1.7.0/share/julia/stdlib/v1.7/LinearAlgebra/src/diagonal.jl:179</a></li> <li> +(A::<b>LinearAlgebra.Symmetric{<:Any, <:SparseArrays.AbstractSparseMatrix}</b>, B::<b>SparseArrays.AbstractSparseMatrix</b>) in SparseArrays at <a href=\"file:///buildworker/worker/package_linux64/build/usr/share/julia/stdlib/v1.7/SparseArrays/src/linalg.jl\" target=\"_blank\">/home/cicuser/julia-1.7.0/share/julia/stdlib/v1.7/SparseArrays/src/linalg.jl:15</a></li> <li> +(A::<b>LinearAlgebra.Symmetric</b>, B::<b>SparseArrays.AbstractSparseMatrix</b>) in SparseArrays at <a href=\"file:///buildworker/worker/package_linux64/build/usr/share/julia/stdlib/v1.7/SparseArrays/src/linalg.jl\" target=\"_blank\">/home/cicuser/julia-1.7.0/share/julia/stdlib/v1.7/SparseArrays/src/linalg.jl:18</a></li> <li> +(A::<b>LinearAlgebra.Symmetric{<:Real, <:SparseArrays.AbstractSparseMatrix}</b>, B::<b>LinearAlgebra.Hermitian{<:Any, <:SparseArrays.AbstractSparseMatrix}</b>) in SparseArrays at <a href=\"file:///buildworker/worker/package_linux64/build/usr/share/julia/stdlib/v1.7/SparseArrays/src/linalg.jl\" target=\"_blank\">/home/cicuser/julia-1.7.0/share/julia/stdlib/v1.7/SparseArrays/src/linalg.jl:25</a></li> <li> +(A::<b>LinearAlgebra.Symmetric{var\"#s858\", S} where {var\"#s858\"<:Real, S<:(AbstractMatrix{<:var\"#s858\"})}</b>, B::<b>LinearAlgebra.Hermitian</b>) in LinearAlgebra at <a href=\"file:///buildworker/worker/package_linux64/build/usr/share/julia/stdlib/v1.7/LinearAlgebra/src/symmetric.jl\" target=\"_blank\">/home/cicuser/julia-1.7.0/share/julia/stdlib/v1.7/LinearAlgebra/src/symmetric.jl:484</a></li> <li> +(A::<b>LinearAlgebra.Symmetric{<:Any, <:SparseArrays.AbstractSparseMatrix}</b>, B::<b>LinearAlgebra.Hermitian{<:Any, <:SparseArrays.AbstractSparseMatrix}</b>) in SparseArrays at <a href=\"file:///buildworker/worker/package_linux64/build/usr/share/julia/stdlib/v1.7/SparseArrays/src/linalg.jl\" target=\"_blank\">/home/cicuser/julia-1.7.0/share/julia/stdlib/v1.7/SparseArrays/src/linalg.jl:23</a></li> <li> +(a::<b>Measures.Length{U}</b>, b::<b>Measures.Length{U}</b>)<i> where U</i> in Measures at <a href=\"file:///home/cicuser/.julia/packages/Measures/0Zkai/src/length.jl\" target=\"_blank\">/home/cicuser/.julia/packages/Measures/0Zkai/src/length.jl:28</a></li> <li> +(a::<b>Measures.Measure</b>, b::<b>Measures.Measure</b>) in Measures at <a href=\"file:///home/cicuser/.julia/packages/Measures/0Zkai/src/operations.jl\" target=\"_blank\">/home/cicuser/.julia/packages/Measures/0Zkai/src/operations.jl:41</a></li> <li> +(a::<b>Dict</b>, d::<b>ChainRulesCore.Tangent{P}</b>)<i> where P</i> in ChainRulesCore at <a href=\"file:///home/cicuser/.julia/packages/ChainRulesCore/sHMAp/src/tangent_arithmetic.jl\" target=\"_blank\">/home/cicuser/.julia/packages/ChainRulesCore/sHMAp/src/tangent_arithmetic.jl:145</a></li> <li> +(A::<b>LinearAlgebra.UpperTriangular</b>, B::<b>LinearAlgebra.UpperTriangular</b>) in LinearAlgebra at <a href=\"file:///buildworker/worker/package_linux64/build/usr/share/julia/stdlib/v1.7/LinearAlgebra/src/triangular.jl\" target=\"_blank\">/home/cicuser/julia-1.7.0/share/julia/stdlib/v1.7/LinearAlgebra/src/triangular.jl:636</a></li> <li> +(A::<b>LinearAlgebra.UpperTriangular</b>, B::<b>LinearAlgebra.UnitUpperTriangular</b>) in LinearAlgebra at <a href=\"file:///buildworker/worker/package_linux64/build/usr/share/julia/stdlib/v1.7/LinearAlgebra/src/triangular.jl\" target=\"_blank\">/home/cicuser/julia-1.7.0/share/julia/stdlib/v1.7/LinearAlgebra/src/triangular.jl:638</a></li> <li> +(x::<b>LinearAlgebra.UpperTriangular</b>, H::<b>LinearAlgebra.UpperHessenberg</b>) in LinearAlgebra at <a href=\"file:///buildworker/worker/package_linux64/build/usr/share/julia/stdlib/v1.7/LinearAlgebra/src/hessenberg.jl\" target=\"_blank\">/home/cicuser/julia-1.7.0/share/julia/stdlib/v1.7/LinearAlgebra/src/hessenberg.jl:107</a></li> <li> +(A::<b>LinearAlgebra.UpperTriangular</b>, B::<b>LinearAlgebra.Bidiagonal</b>) in LinearAlgebra at <a href=\"file:///buildworker/worker/package_linux64/build/usr/share/julia/stdlib/v1.7/LinearAlgebra/src/special.jl\" target=\"_blank\">/home/cicuser/julia-1.7.0/share/julia/stdlib/v1.7/LinearAlgebra/src/special.jl:86</a></li> <li> +(h::<b>GeometryBasics.HyperRectangle{N, T}</b>, move::<b>StaticArrays.StaticVector{N}</b>)<i> where {N, T}</i> in GeometryBasics at <a href=\"file:///home/cicuser/.julia/packages/GeometryBasics/WMp6v/src/primitives/rectangles.jl\" target=\"_blank\">/home/cicuser/.julia/packages/GeometryBasics/WMp6v/src/primitives/rectangles.jl:273</a></li> <li> +(h::<b>GeometryBasics.HyperRectangle{N, T}</b>, move::<b>Number</b>)<i> where {N, T}</i> in GeometryBasics at <a href=\"file:///home/cicuser/.julia/packages/GeometryBasics/WMp6v/src/primitives/rectangles.jl\" target=\"_blank\">/home/cicuser/.julia/packages/GeometryBasics/WMp6v/src/primitives/rectangles.jl:267</a></li> <li> +(x::<b>SparseArrays.AbstractSparseVector</b>, y::<b>SparseArrays.AbstractSparseVector</b>) in SparseArrays at <a href=\"file:///buildworker/worker/package_linux64/build/usr/share/julia/stdlib/v1.7/SparseArrays/src/sparsevector.jl\" target=\"_blank\">/home/cicuser/julia-1.7.0/share/julia/stdlib/v1.7/SparseArrays/src/sparsevector.jl:1355</a></li> <li> +(A::<b>SparseArrays.AbstractSparseMatrix</b>, B::<b>LinearAlgebra.Hermitian{<:Any, <:SparseArrays.AbstractSparseMatrix}</b>) in SparseArrays at <a href=\"file:///buildworker/worker/package_linux64/build/usr/share/julia/stdlib/v1.7/SparseArrays/src/linalg.jl\" target=\"_blank\">/home/cicuser/julia-1.7.0/share/julia/stdlib/v1.7/SparseArrays/src/linalg.jl:14</a></li> <li> +(A::<b>SparseArrays.AbstractSparseMatrix</b>, B::<b>LinearAlgebra.Hermitian</b>) in SparseArrays at <a href=\"file:///buildworker/worker/package_linux64/build/usr/share/julia/stdlib/v1.7/SparseArrays/src/linalg.jl\" target=\"_blank\">/home/cicuser/julia-1.7.0/share/julia/stdlib/v1.7/SparseArrays/src/linalg.jl:17</a></li> <li> +(A::<b>SparseArrays.AbstractSparseMatrix</b>, B::<b>LinearAlgebra.Symmetric{<:Any, <:SparseArrays.AbstractSparseMatrix}</b>) in SparseArrays at <a href=\"file:///buildworker/worker/package_linux64/build/usr/share/julia/stdlib/v1.7/SparseArrays/src/linalg.jl\" target=\"_blank\">/home/cicuser/julia-1.7.0/share/julia/stdlib/v1.7/SparseArrays/src/linalg.jl:14</a></li> <li> +(A::<b>SparseArrays.AbstractSparseMatrix</b>, B::<b>LinearAlgebra.Symmetric</b>) in SparseArrays at <a href=\"file:///buildworker/worker/package_linux64/build/usr/share/julia/stdlib/v1.7/SparseArrays/src/linalg.jl\" target=\"_blank\">/home/cicuser/julia-1.7.0/share/julia/stdlib/v1.7/SparseArrays/src/linalg.jl:17</a></li> <li> +(A::<b>LinearAlgebra.SymTridiagonal</b>, B::<b>LinearAlgebra.SymTridiagonal</b>) in LinearAlgebra at <a href=\"file:///buildworker/worker/package_linux64/build/usr/share/julia/stdlib/v1.7/LinearAlgebra/src/tridiag.jl\" target=\"_blank\">/home/cicuser/julia-1.7.0/share/julia/stdlib/v1.7/LinearAlgebra/src/tridiag.jl:208</a></li> <li> +(A::<b>LinearAlgebra.SymTridiagonal</b>, B::<b>LinearAlgebra.Symmetric</b>) in LinearAlgebra at <a href=\"file:///buildworker/worker/package_linux64/build/usr/share/julia/stdlib/v1.7/LinearAlgebra/src/symmetric.jl\" target=\"_blank\">/home/cicuser/julia-1.7.0/share/julia/stdlib/v1.7/LinearAlgebra/src/symmetric.jl:485</a></li> <li> +(A::<b>LinearAlgebra.SymTridiagonal{var\"#s857\", V} where {var\"#s857\"<:Real, V<:AbstractVector{var\"#s857\"}}</b>, B::<b>LinearAlgebra.Hermitian</b>) in LinearAlgebra at <a href=\"file:///buildworker/worker/package_linux64/build/usr/share/julia/stdlib/v1.7/LinearAlgebra/src/symmetric.jl\" target=\"_blank\">/home/cicuser/julia-1.7.0/share/julia/stdlib/v1.7/LinearAlgebra/src/symmetric.jl:487</a></li> <li> +(x::<b>LinearAlgebra.SymTridiagonal</b>, H::<b>LinearAlgebra.UpperHessenberg</b>) in LinearAlgebra at <a href=\"file:///buildworker/worker/package_linux64/build/usr/share/julia/stdlib/v1.7/LinearAlgebra/src/hessenberg.jl\" target=\"_blank\">/home/cicuser/julia-1.7.0/share/julia/stdlib/v1.7/LinearAlgebra/src/hessenberg.jl:107</a></li> <li> +(A::<b>LinearAlgebra.SymTridiagonal</b>, B::<b>LinearAlgebra.Diagonal</b>) in LinearAlgebra at <a href=\"file:///buildworker/worker/package_linux64/build/usr/share/julia/stdlib/v1.7/LinearAlgebra/src/special.jl\" target=\"_blank\">/home/cicuser/julia-1.7.0/share/julia/stdlib/v1.7/LinearAlgebra/src/special.jl:145</a></li> <li> +(A::<b>LinearAlgebra.SymTridiagonal</b>, B::<b>LinearAlgebra.Tridiagonal</b>) in LinearAlgebra at <a href=\"file:///buildworker/worker/package_linux64/build/usr/share/julia/stdlib/v1.7/LinearAlgebra/src/special.jl\" target=\"_blank\">/home/cicuser/julia-1.7.0/share/julia/stdlib/v1.7/LinearAlgebra/src/special.jl:159</a></li> <li> +(A::<b>LinearAlgebra.SymTridiagonal</b>, B::<b>LinearAlgebra.Bidiagonal</b>) in LinearAlgebra at <a href=\"file:///buildworker/worker/package_linux64/build/usr/share/julia/stdlib/v1.7/LinearAlgebra/src/special.jl\" target=\"_blank\">/home/cicuser/julia-1.7.0/share/julia/stdlib/v1.7/LinearAlgebra/src/special.jl:213</a></li> <li> +(A::<b>LinearAlgebra.SymTridiagonal{var\"#s859\", V} where {var\"#s859\"<:Number, V<:AbstractVector{var\"#s859\"}}</b>, B::<b>LinearAlgebra.UniformScaling</b>) in LinearAlgebra at <a href=\"file:///buildworker/worker/package_linux64/build/usr/share/julia/stdlib/v1.7/LinearAlgebra/src/special.jl\" target=\"_blank\">/home/cicuser/julia-1.7.0/share/julia/stdlib/v1.7/LinearAlgebra/src/special.jl:231</a></li> <li> +(r1::<b>StepRangeLen{T, R}</b>, r2::<b>StepRangeLen{T, R}</b>)<i> where {R<:Base.TwicePrecision, T}</i> in Base at <a href=\"https://github.com/JuliaLang/julia/tree/3bf9d1773144bc4943232dc2ffaac307a700853d/base/twiceprecision.jl#L613\" target=\"_blank\">twiceprecision.jl:613</a></li> <li> +(r1::<b>StepRangeLen{T, S}</b>, r2::<b>StepRangeLen{T, S}</b>)<i> where {T, S}</i> in Base at <a href=\"https://github.com/JuliaLang/julia/tree/3bf9d1773144bc4943232dc2ffaac307a700853d/base/range.jl#L1370\" target=\"_blank\">range.jl:1370</a></li> <li> +(r1::<b>Union{LinRange, OrdinalRange, StepRangeLen}</b>, r2::<b>Union{LinRange, OrdinalRange, StepRangeLen}</b>) in Base at <a href=\"https://github.com/JuliaLang/julia/tree/3bf9d1773144bc4943232dc2ffaac307a700853d/base/range.jl#L1363\" target=\"_blank\">range.jl:1363</a></li> <li> +(x::<b>Ptr</b>, y::<b>Integer</b>) in Base at <a href=\"https://github.com/JuliaLang/julia/tree/3bf9d1773144bc4943232dc2ffaac307a700853d/base/pointer.jl#L159\" target=\"_blank\">pointer.jl:159</a></li> <li> +(x::<b>Dates.Instant</b>) in Dates at <a href=\"file:///buildworker/worker/package_linux64/build/usr/share/julia/stdlib/v1.7/Dates/src/arithmetic.jl\" target=\"_blank\">/home/cicuser/julia-1.7.0/share/julia/stdlib/v1.7/Dates/src/arithmetic.jl:4</a></li> <li> +(A::<b>LinearAlgebra.Bidiagonal</b>, B::<b>LinearAlgebra.Bidiagonal</b>) in LinearAlgebra at <a href=\"file:///buildworker/worker/package_linux64/build/usr/share/julia/stdlib/v1.7/LinearAlgebra/src/bidiag.jl\" target=\"_blank\">/home/cicuser/julia-1.7.0/share/julia/stdlib/v1.7/LinearAlgebra/src/bidiag.jl:354</a></li> <li> +(x::<b>LinearAlgebra.Bidiagonal</b>, H::<b>LinearAlgebra.UpperHessenberg</b>) in LinearAlgebra at <a href=\"file:///buildworker/worker/package_linux64/build/usr/share/julia/stdlib/v1.7/LinearAlgebra/src/hessenberg.jl\" target=\"_blank\">/home/cicuser/julia-1.7.0/share/julia/stdlib/v1.7/LinearAlgebra/src/hessenberg.jl:107</a></li> <li> +(A::<b>LinearAlgebra.Bidiagonal</b>, B::<b>LinearAlgebra.UpperTriangular</b>) in LinearAlgebra at <a href=\"file:///buildworker/worker/package_linux64/build/usr/share/julia/stdlib/v1.7/LinearAlgebra/src/special.jl\" target=\"_blank\">/home/cicuser/julia-1.7.0/share/julia/stdlib/v1.7/LinearAlgebra/src/special.jl:94</a></li> <li> +(A::<b>LinearAlgebra.Bidiagonal</b>, B::<b>LinearAlgebra.UnitUpperTriangular</b>) in LinearAlgebra at <a href=\"file:///buildworker/worker/package_linux64/build/usr/share/julia/stdlib/v1.7/LinearAlgebra/src/special.jl\" target=\"_blank\">/home/cicuser/julia-1.7.0/share/julia/stdlib/v1.7/LinearAlgebra/src/special.jl:94</a></li> <li> +(A::<b>LinearAlgebra.Bidiagonal</b>, B::<b>LinearAlgebra.LowerTriangular</b>) in LinearAlgebra at <a href=\"file:///buildworker/worker/package_linux64/build/usr/share/julia/stdlib/v1.7/LinearAlgebra/src/special.jl\" target=\"_blank\">/home/cicuser/julia-1.7.0/share/julia/stdlib/v1.7/LinearAlgebra/src/special.jl:94</a></li> <li> +(A::<b>LinearAlgebra.Bidiagonal</b>, B::<b>LinearAlgebra.UnitLowerTriangular</b>) in LinearAlgebra at <a href=\"file:///buildworker/worker/package_linux64/build/usr/share/julia/stdlib/v1.7/LinearAlgebra/src/special.jl\" target=\"_blank\">/home/cicuser/julia-1.7.0/share/julia/stdlib/v1.7/LinearAlgebra/src/special.jl:94</a></li> <li> +(A::<b>LinearAlgebra.Bidiagonal</b>, B::<b>LinearAlgebra.Diagonal</b>) in LinearAlgebra at <a href=\"file:///buildworker/worker/package_linux64/build/usr/share/julia/stdlib/v1.7/LinearAlgebra/src/special.jl\" target=\"_blank\">/home/cicuser/julia-1.7.0/share/julia/stdlib/v1.7/LinearAlgebra/src/special.jl:115</a></li> <li> +(A::<b>LinearAlgebra.Bidiagonal</b>, B::<b>LinearAlgebra.Tridiagonal</b>) in LinearAlgebra at <a href=\"file:///buildworker/worker/package_linux64/build/usr/share/julia/stdlib/v1.7/LinearAlgebra/src/special.jl\" target=\"_blank\">/home/cicuser/julia-1.7.0/share/julia/stdlib/v1.7/LinearAlgebra/src/special.jl:183</a></li> <li> +(A::<b>LinearAlgebra.Bidiagonal</b>, B::<b>LinearAlgebra.SymTridiagonal</b>) in LinearAlgebra at <a href=\"file:///buildworker/worker/package_linux64/build/usr/share/julia/stdlib/v1.7/LinearAlgebra/src/special.jl\" target=\"_blank\">/home/cicuser/julia-1.7.0/share/julia/stdlib/v1.7/LinearAlgebra/src/special.jl:203</a></li> <li> +(A::<b>LinearAlgebra.Bidiagonal{var\"#s859\", V} where {var\"#s859\"<:Number, V<:AbstractVector{var\"#s859\"}}</b>, B::<b>LinearAlgebra.UniformScaling</b>) in LinearAlgebra at <a href=\"file:///buildworker/worker/package_linux64/build/usr/share/julia/stdlib/v1.7/LinearAlgebra/src/special.jl\" target=\"_blank\">/home/cicuser/julia-1.7.0/share/julia/stdlib/v1.7/LinearAlgebra/src/special.jl:236</a></li> <li> +(A::<b>LinearAlgebra.Hermitian</b>, B::<b>LinearAlgebra.Hermitian</b>) in LinearAlgebra at <a href=\"file:///buildworker/worker/package_linux64/build/usr/share/julia/stdlib/v1.7/LinearAlgebra/src/symmetric.jl\" target=\"_blank\">/home/cicuser/julia-1.7.0/share/julia/stdlib/v1.7/LinearAlgebra/src/symmetric.jl:469</a></li> <li> +(A::<b>LinearAlgebra.Hermitian</b>, B::<b>LinearAlgebra.SymTridiagonal{var\"#s856\", V} where {var\"#s856\"<:Real, V<:AbstractVector{var\"#s856\"}}</b>) in LinearAlgebra at <a href=\"file:///buildworker/worker/package_linux64/build/usr/share/julia/stdlib/v1.7/LinearAlgebra/src/symmetric.jl\" target=\"_blank\">/home/cicuser/julia-1.7.0/share/julia/stdlib/v1.7/LinearAlgebra/src/symmetric.jl:488</a></li> <li> +(H::<b>LinearAlgebra.Hermitian</b>, D::<b>LinearAlgebra.Diagonal{var\"#s859\", V} where {var\"#s859\"<:Real, V<:AbstractVector{var\"#s859\"}}</b>) in LinearAlgebra at <a href=\"file:///buildworker/worker/package_linux64/build/usr/share/julia/stdlib/v1.7/LinearAlgebra/src/diagonal.jl\" target=\"_blank\">/home/cicuser/julia-1.7.0/share/julia/stdlib/v1.7/LinearAlgebra/src/diagonal.jl:185</a></li> <li> +(A::<b>LinearAlgebra.Hermitian</b>, J::<b>LinearAlgebra.UniformScaling{<:Complex}</b>) in LinearAlgebra at <a href=\"file:///buildworker/worker/package_linux64/build/usr/share/julia/stdlib/v1.7/LinearAlgebra/src/uniformscaling.jl\" target=\"_blank\">/home/cicuser/julia-1.7.0/share/julia/stdlib/v1.7/LinearAlgebra/src/uniformscaling.jl:196</a></li> <li> +(A::<b>LinearAlgebra.Hermitian{<:Any, <:SparseArrays.AbstractSparseMatrix}</b>, B::<b>SparseArrays.AbstractSparseMatrix</b>) in SparseArrays at <a href=\"file:///buildworker/worker/package_linux64/build/usr/share/julia/stdlib/v1.7/SparseArrays/src/linalg.jl\" target=\"_blank\">/home/cicuser/julia-1.7.0/share/julia/stdlib/v1.7/SparseArrays/src/linalg.jl:15</a></li> <li> +(A::<b>LinearAlgebra.Hermitian</b>, B::<b>SparseArrays.AbstractSparseMatrix</b>) in SparseArrays at <a href=\"file:///buildworker/worker/package_linux64/build/usr/share/julia/stdlib/v1.7/SparseArrays/src/linalg.jl\" target=\"_blank\">/home/cicuser/julia-1.7.0/share/julia/stdlib/v1.7/SparseArrays/src/linalg.jl:18</a></li> <li> +(A::<b>LinearAlgebra.Hermitian{<:Any, <:SparseArrays.AbstractSparseMatrix}</b>, B::<b>LinearAlgebra.Symmetric{<:Real, <:SparseArrays.AbstractSparseMatrix}</b>) in SparseArrays at <a href=\"file:///buildworker/worker/package_linux64/build/usr/share/julia/stdlib/v1.7/SparseArrays/src/linalg.jl\" target=\"_blank\">/home/cicuser/julia-1.7.0/share/julia/stdlib/v1.7/SparseArrays/src/linalg.jl:26</a></li> <li> +(A::<b>LinearAlgebra.Hermitian</b>, B::<b>LinearAlgebra.Symmetric{var\"#s859\", S} where {var\"#s859\"<:Real, S<:(AbstractMatrix{<:var\"#s859\"})}</b>) in LinearAlgebra at <a href=\"file:///buildworker/worker/package_linux64/build/usr/share/julia/stdlib/v1.7/LinearAlgebra/src/symmetric.jl\" target=\"_blank\">/home/cicuser/julia-1.7.0/share/julia/stdlib/v1.7/LinearAlgebra/src/symmetric.jl:483</a></li> <li> +(A::<b>LinearAlgebra.Hermitian{<:Any, <:SparseArrays.AbstractSparseMatrix}</b>, B::<b>LinearAlgebra.Symmetric{<:Any, <:SparseArrays.AbstractSparseMatrix}</b>) in SparseArrays at <a href=\"file:///buildworker/worker/package_linux64/build/usr/share/julia/stdlib/v1.7/SparseArrays/src/linalg.jl\" target=\"_blank\">/home/cicuser/julia-1.7.0/share/julia/stdlib/v1.7/SparseArrays/src/linalg.jl:24</a></li> <li> +(bb1::<b>Measures.BoundingBox</b>, bb2::<b>Measures.BoundingBox</b>) in Plots at <a href=\"file:///home/cicuser/.julia/packages/Plots/FCM0H/src/layouts.jl\" target=\"_blank\">/home/cicuser/.julia/packages/Plots/FCM0H/src/layouts.jl:19</a></li> <li> +(A::<b>BitArray</b>, B::<b>BitArray</b>) in Base at <a href=\"https://github.com/JuliaLang/julia/tree/3bf9d1773144bc4943232dc2ffaac307a700853d/base/bitarray.jl#L1180\" target=\"_blank\">bitarray.jl:1180</a></li> <li> +(x::<b>X</b>, y::<b>X</b>)<i> where X<:FixedPointNumbers.FixedPoint</i> in FixedPointNumbers at <a href=\"file:///home/cicuser/.julia/packages/FixedPointNumbers/HAGk2/src/FixedPointNumbers.jl\" target=\"_blank\">/home/cicuser/.julia/packages/FixedPointNumbers/HAGk2/src/FixedPointNumbers.jl:237</a></li> <li> +(r::<b>AbstractRange{<:Dates.TimeType}</b>, x::<b>Dates.Period</b>) in Dates at <a href=\"file:///buildworker/worker/package_linux64/build/usr/share/julia/stdlib/v1.7/Dates/src/ranges.jl\" target=\"_blank\">/home/cicuser/julia-1.7.0/share/julia/stdlib/v1.7/Dates/src/ranges.jl:63</a></li> <li> +(x::<b>AbstractArray{<:Dates.TimeType}</b>, y::<b>Union{Dates.CompoundPeriod, Dates.Period}</b>) in Dates at <a href=\"file:///buildworker/worker/package_linux64/build/usr/share/julia/stdlib/v1.7/Dates/src/deprecated.jl\" target=\"_blank\">/home/cicuser/julia-1.7.0/share/julia/stdlib/v1.7/Dates/src/deprecated.jl:6</a></li> <li> +(x::<b>GeometryBasics.OffsetInteger{O}</b>, y::<b>GeometryBasics.OffsetInteger{O}</b>)<i> where O</i> in GeometryBasics at <a href=\"file:///home/cicuser/.julia/packages/GeometryBasics/WMp6v/src/offsetintegers.jl\" target=\"_blank\">/home/cicuser/.julia/packages/GeometryBasics/WMp6v/src/offsetintegers.jl:63</a></li> <li> +(A::<b>LinearAlgebra.UnitUpperTriangular</b>, B::<b>LinearAlgebra.UpperTriangular</b>) in LinearAlgebra at <a href=\"file:///buildworker/worker/package_linux64/build/usr/share/julia/stdlib/v1.7/LinearAlgebra/src/triangular.jl\" target=\"_blank\">/home/cicuser/julia-1.7.0/share/julia/stdlib/v1.7/LinearAlgebra/src/triangular.jl:640</a></li> <li> +(A::<b>LinearAlgebra.UnitUpperTriangular</b>, B::<b>LinearAlgebra.UnitUpperTriangular</b>) in LinearAlgebra at <a href=\"file:///buildworker/worker/package_linux64/build/usr/share/julia/stdlib/v1.7/LinearAlgebra/src/triangular.jl\" target=\"_blank\">/home/cicuser/julia-1.7.0/share/julia/stdlib/v1.7/LinearAlgebra/src/triangular.jl:642</a></li> <li> +(A::<b>LinearAlgebra.AbstractTriangular</b>, B::<b>LinearAlgebra.AbstractTriangular</b>) in LinearAlgebra at <a href=\"file:///buildworker/worker/package_linux64/build/usr/share/julia/stdlib/v1.7/LinearAlgebra/src/triangular.jl\" target=\"_blank\">/home/cicuser/julia-1.7.0/share/julia/stdlib/v1.7/LinearAlgebra/src/triangular.jl:644</a></li> <li> +(UL::<b>LinearAlgebra.UnitUpperTriangular</b>, J::<b>LinearAlgebra.UniformScaling</b>) in LinearAlgebra at <a href=\"file:///buildworker/worker/package_linux64/build/usr/share/julia/stdlib/v1.7/LinearAlgebra/src/uniformscaling.jl\" target=\"_blank\">/home/cicuser/julia-1.7.0/share/julia/stdlib/v1.7/LinearAlgebra/src/uniformscaling.jl:182</a></li> <li> +(x::<b>LinearAlgebra.UnitUpperTriangular</b>, H::<b>LinearAlgebra.UpperHessenberg</b>) in LinearAlgebra at <a href=\"file:///buildworker/worker/package_linux64/build/usr/share/julia/stdlib/v1.7/LinearAlgebra/src/hessenberg.jl\" target=\"_blank\">/home/cicuser/julia-1.7.0/share/julia/stdlib/v1.7/LinearAlgebra/src/hessenberg.jl:107</a></li> <li> +(A::<b>LinearAlgebra.UnitUpperTriangular</b>, B::<b>LinearAlgebra.Bidiagonal</b>) in LinearAlgebra at <a href=\"file:///buildworker/worker/package_linux64/build/usr/share/julia/stdlib/v1.7/LinearAlgebra/src/special.jl\" target=\"_blank\">/home/cicuser/julia-1.7.0/share/julia/stdlib/v1.7/LinearAlgebra/src/special.jl:86</a></li> <li> +(x::<b>T</b>, y::<b>Integer</b>)<i> where T<:AbstractChar</i> in Base at <a href=\"https://github.com/JuliaLang/julia/tree/3bf9d1773144bc4943232dc2ffaac307a700853d/base/char.jl#L237\" target=\"_blank\">char.jl:237</a></li> <li> +(a::<b>ChainRulesCore.Tangent{P}</b>, b::<b>ChainRulesCore.Tangent{P}</b>)<i> where P</i> in ChainRulesCore at <a href=\"file:///home/cicuser/.julia/packages/ChainRulesCore/sHMAp/src/tangent_arithmetic.jl\" target=\"_blank\">/home/cicuser/.julia/packages/ChainRulesCore/sHMAp/src/tangent_arithmetic.jl:129</a></li> <li> +(a::<b>ChainRulesCore.Tangent</b>, b::<b>ChainRulesCore.AbstractThunk</b>) in ChainRulesCore at <a href=\"file:///home/cicuser/.julia/packages/ChainRulesCore/sHMAp/src/tangent_arithmetic.jl\" target=\"_blank\">/home/cicuser/.julia/packages/ChainRulesCore/sHMAp/src/tangent_arithmetic.jl:123</a></li> <li> +(a::<b>ChainRulesCore.Tangent</b>, ::<b>ChainRulesCore.ZeroTangent</b>) in ChainRulesCore at <a href=\"file:///home/cicuser/.julia/packages/ChainRulesCore/sHMAp/src/tangent_arithmetic.jl\" target=\"_blank\">/home/cicuser/.julia/packages/ChainRulesCore/sHMAp/src/tangent_arithmetic.jl:100</a></li> <li> +(a::<b>ChainRulesCore.Tangent</b>, ::<b>ChainRulesCore.NoTangent</b>) in ChainRulesCore at <a href=\"file:///home/cicuser/.julia/packages/ChainRulesCore/sHMAp/src/tangent_arithmetic.jl\" target=\"_blank\">/home/cicuser/.julia/packages/ChainRulesCore/sHMAp/src/tangent_arithmetic.jl:60</a></li> <li> +(::<b>ChainRulesCore.Tangent</b>, x::<b>ChainRulesCore.NotImplemented</b>) in ChainRulesCore at <a href=\"file:///home/cicuser/.julia/packages/ChainRulesCore/sHMAp/src/tangent_arithmetic.jl\" target=\"_blank\">/home/cicuser/.julia/packages/ChainRulesCore/sHMAp/src/tangent_arithmetic.jl:25</a></li> <li> +(a::<b>ChainRulesCore.Tangent{P}</b>, b::<b>P</b>)<i> where P</i> in ChainRulesCore at <a href=\"file:///home/cicuser/.julia/packages/ChainRulesCore/sHMAp/src/tangent_arithmetic.jl\" target=\"_blank\">/home/cicuser/.julia/packages/ChainRulesCore/sHMAp/src/tangent_arithmetic.jl:146</a></li> <li> +(A::<b>Array</b>, Bs::<b>Array...</b>) in Base at <a href=\"https://github.com/JuliaLang/julia/tree/3bf9d1773144bc4943232dc2ffaac307a700853d/base/arraymath.jl#L43\" target=\"_blank\">arraymath.jl:43</a></li> <li> +(X::<b>StridedArray{<:Union{Dates.CompoundPeriod, Dates.Period}}</b>, Y::<b>StridedArray{<:Union{Dates.CompoundPeriod, Dates.Period}}</b>) in Dates at <a href=\"file:///buildworker/worker/package_linux64/build/usr/share/julia/stdlib/v1.7/Dates/src/deprecated.jl\" target=\"_blank\">/home/cicuser/julia-1.7.0/share/julia/stdlib/v1.7/Dates/src/deprecated.jl:62</a></li> <li> +(A::<b>Array</b>, B::<b>SparseArrays.AbstractSparseMatrixCSC</b>) in SparseArrays at <a href=\"file:///buildworker/worker/package_linux64/build/usr/share/julia/stdlib/v1.7/SparseArrays/src/sparsematrix.jl\" target=\"_blank\">/home/cicuser/julia-1.7.0/share/julia/stdlib/v1.7/SparseArrays/src/sparsematrix.jl:1775</a></li> <li> +(x::<b>StridedArray{<:Union{Dates.CompoundPeriod, Dates.Period}}</b>) in Dates at <a href=\"file:///buildworker/worker/package_linux64/build/usr/share/julia/stdlib/v1.7/Dates/src/deprecated.jl\" target=\"_blank\">/home/cicuser/julia-1.7.0/share/julia/stdlib/v1.7/Dates/src/deprecated.jl:55</a></li> <li> +(x::<b>StridedArray{<:Union{Dates.CompoundPeriod, Dates.Period}}</b>, y::<b>Dates.TimeType</b>) in Dates at <a href=\"file:///buildworker/worker/package_linux64/build/usr/share/julia/stdlib/v1.7/Dates/src/deprecated.jl\" target=\"_blank\">/home/cicuser/julia-1.7.0/share/julia/stdlib/v1.7/Dates/src/deprecated.jl:10</a></li> <li> +(A::<b>AbstractArray</b>, B::<b>AbstractArray</b>) in Base at <a href=\"https://github.com/JuliaLang/julia/tree/3bf9d1773144bc4943232dc2ffaac307a700853d/base/arraymath.jl#L37\" target=\"_blank\">arraymath.jl:37</a></li> <li> +(J::<b>LinearAlgebra.UniformScaling</b>) in LinearAlgebra at <a href=\"file:///buildworker/worker/package_linux64/build/usr/share/julia/stdlib/v1.7/LinearAlgebra/src/uniformscaling.jl\" target=\"_blank\">/home/cicuser/julia-1.7.0/share/julia/stdlib/v1.7/LinearAlgebra/src/uniformscaling.jl:150</a></li> <li> +(J::<b>LinearAlgebra.UniformScaling</b>, x::<b>Number</b>) in LinearAlgebra at <a href=\"file:///buildworker/worker/package_linux64/build/usr/share/julia/stdlib/v1.7/LinearAlgebra/src/uniformscaling.jl\" target=\"_blank\">/home/cicuser/julia-1.7.0/share/julia/stdlib/v1.7/LinearAlgebra/src/uniformscaling.jl:145</a></li> <li> +(J1::<b>LinearAlgebra.UniformScaling</b>, J2::<b>LinearAlgebra.UniformScaling</b>) in LinearAlgebra at <a href=\"file:///buildworker/worker/package_linux64/build/usr/share/julia/stdlib/v1.7/LinearAlgebra/src/uniformscaling.jl\" target=\"_blank\">/home/cicuser/julia-1.7.0/share/julia/stdlib/v1.7/LinearAlgebra/src/uniformscaling.jl:151</a></li> <li> +(J::<b>LinearAlgebra.UniformScaling</b>, B::<b>BitMatrix</b>) in LinearAlgebra at <a href=\"file:///buildworker/worker/package_linux64/build/usr/share/julia/stdlib/v1.7/LinearAlgebra/src/uniformscaling.jl\" target=\"_blank\">/home/cicuser/julia-1.7.0/share/julia/stdlib/v1.7/LinearAlgebra/src/uniformscaling.jl:153</a></li> <li> +(x::<b>LinearAlgebra.UniformScaling</b>, H::<b>LinearAlgebra.UpperHessenberg</b>) in LinearAlgebra at <a href=\"file:///buildworker/worker/package_linux64/build/usr/share/julia/stdlib/v1.7/LinearAlgebra/src/hessenberg.jl\" target=\"_blank\">/home/cicuser/julia-1.7.0/share/julia/stdlib/v1.7/LinearAlgebra/src/hessenberg.jl:107</a></li> <li> +(J::<b>LinearAlgebra.UniformScaling</b>, F::<b>LinearAlgebra.Hessenberg</b>) in LinearAlgebra at <a href=\"file:///buildworker/worker/package_linux64/build/usr/share/julia/stdlib/v1.7/LinearAlgebra/src/hessenberg.jl\" target=\"_blank\">/home/cicuser/julia-1.7.0/share/julia/stdlib/v1.7/LinearAlgebra/src/hessenberg.jl:641</a></li> <li> +(A::<b>LinearAlgebra.UniformScaling</b>, B::<b>LinearAlgebra.Tridiagonal{var\"#s859\", V} where {var\"#s859\"<:Number, V<:AbstractVector{var\"#s859\"}}</b>) in LinearAlgebra at <a href=\"file:///buildworker/worker/package_linux64/build/usr/share/julia/stdlib/v1.7/LinearAlgebra/src/special.jl\" target=\"_blank\">/home/cicuser/julia-1.7.0/share/julia/stdlib/v1.7/LinearAlgebra/src/special.jl:245</a></li> <li> +(A::<b>LinearAlgebra.UniformScaling</b>, B::<b>LinearAlgebra.SymTridiagonal{var\"#s859\", V} where {var\"#s859\"<:Number, V<:AbstractVector{var\"#s859\"}}</b>) in LinearAlgebra at <a href=\"file:///buildworker/worker/package_linux64/build/usr/share/julia/stdlib/v1.7/LinearAlgebra/src/special.jl\" target=\"_blank\">/home/cicuser/julia-1.7.0/share/julia/stdlib/v1.7/LinearAlgebra/src/special.jl:250</a></li> <li> +(A::<b>LinearAlgebra.UniformScaling</b>, B::<b>LinearAlgebra.Bidiagonal{var\"#s859\", V} where {var\"#s859\"<:Number, V<:AbstractVector{var\"#s859\"}}</b>) in LinearAlgebra at <a href=\"file:///buildworker/worker/package_linux64/build/usr/share/julia/stdlib/v1.7/LinearAlgebra/src/special.jl\" target=\"_blank\">/home/cicuser/julia-1.7.0/share/julia/stdlib/v1.7/LinearAlgebra/src/special.jl:255</a></li> <li> +(A::<b>LinearAlgebra.UniformScaling</b>, B::<b>LinearAlgebra.Diagonal{var\"#s859\", V} where {var\"#s859\"<:Number, V<:AbstractVector{var\"#s859\"}}</b>) in LinearAlgebra at <a href=\"file:///buildworker/worker/package_linux64/build/usr/share/julia/stdlib/v1.7/LinearAlgebra/src/special.jl\" target=\"_blank\">/home/cicuser/julia-1.7.0/share/julia/stdlib/v1.7/LinearAlgebra/src/special.jl:260</a></li> <li> +(a::<b>LinearAlgebra.UniformScaling</b>, b::<b>StaticArrays.StaticMatrix</b>) in StaticArrays at <a href=\"file:///home/cicuser/.julia/packages/StaticArrays/OWJK7/src/linalg.jl\" target=\"_blank\">/home/cicuser/.julia/packages/StaticArrays/OWJK7/src/linalg.jl:30</a></li> <li> +(J::<b>LinearAlgebra.UniformScaling</b>, A::<b>AbstractMatrix</b>) in LinearAlgebra at <a href=\"file:///buildworker/worker/package_linux64/build/usr/share/julia/stdlib/v1.7/LinearAlgebra/src/uniformscaling.jl\" target=\"_blank\">/home/cicuser/julia-1.7.0/share/julia/stdlib/v1.7/LinearAlgebra/src/uniformscaling.jl:154</a></li> <li> +(x::<b>BigFloat</b>, c::<b>Union{UInt16, UInt32, UInt64, UInt8}</b>) in Base.MPFR at <a href=\"https://github.com/JuliaLang/julia/tree/3bf9d1773144bc4943232dc2ffaac307a700853d/base/mpfr.jl#L385\" target=\"_blank\">mpfr.jl:385</a></li> <li> +(x::<b>BigFloat</b>, c::<b>Union{Int16, Int32, Int64, Int8}</b>) in Base.MPFR at <a href=\"https://github.com/JuliaLang/julia/tree/3bf9d1773144bc4943232dc2ffaac307a700853d/base/mpfr.jl#L393\" target=\"_blank\">mpfr.jl:393</a></li> <li> +(x::<b>BigFloat</b>, c::<b>Union{Float16, Float32, Float64}</b>) in Base.MPFR at <a href=\"https://github.com/JuliaLang/julia/tree/3bf9d1773144bc4943232dc2ffaac307a700853d/base/mpfr.jl#L401\" target=\"_blank\">mpfr.jl:401</a></li> <li> +(x::<b>BigFloat</b>, y::<b>BigFloat</b>) in Base.MPFR at <a href=\"https://github.com/JuliaLang/julia/tree/3bf9d1773144bc4943232dc2ffaac307a700853d/base/mpfr.jl#L378\" target=\"_blank\">mpfr.jl:378</a></li> <li> +(x::<b>BigFloat</b>, c::<b>BigInt</b>) in Base.MPFR at <a href=\"https://github.com/JuliaLang/julia/tree/3bf9d1773144bc4943232dc2ffaac307a700853d/base/mpfr.jl#L409\" target=\"_blank\">mpfr.jl:409</a></li> <li> +(a::<b>BigFloat</b>, b::<b>BigFloat</b>, c::<b>BigFloat</b>) in Base.MPFR at <a href=\"https://github.com/JuliaLang/julia/tree/3bf9d1773144bc4943232dc2ffaac307a700853d/base/mpfr.jl#L550\" target=\"_blank\">mpfr.jl:550</a></li> <li> +(a::<b>BigFloat</b>, b::<b>BigFloat</b>, c::<b>BigFloat</b>, d::<b>BigFloat</b>) in Base.MPFR at <a href=\"https://github.com/JuliaLang/julia/tree/3bf9d1773144bc4943232dc2ffaac307a700853d/base/mpfr.jl#L556\" target=\"_blank\">mpfr.jl:556</a></li> <li> +(a::<b>BigFloat</b>, b::<b>BigFloat</b>, c::<b>BigFloat</b>, d::<b>BigFloat</b>, e::<b>BigFloat</b>) in Base.MPFR at <a href=\"https://github.com/JuliaLang/julia/tree/3bf9d1773144bc4943232dc2ffaac307a700853d/base/mpfr.jl#L563\" target=\"_blank\">mpfr.jl:563</a></li> <li> +(z::<b>Complex{Bool}</b>, x::<b>Bool</b>) in Base at <a href=\"https://github.com/JuliaLang/julia/tree/3bf9d1773144bc4943232dc2ffaac307a700853d/base/complex.jl#L300\" target=\"_blank\">complex.jl:300</a></li> <li> +(z::<b>Complex</b>, x::<b>Bool</b>) in Base at <a href=\"https://github.com/JuliaLang/julia/tree/3bf9d1773144bc4943232dc2ffaac307a700853d/base/complex.jl#L307\" target=\"_blank\">complex.jl:307</a></li> <li> +(z::<b>Complex{Bool}</b>, x::<b>Real</b>) in Base at <a href=\"https://github.com/JuliaLang/julia/tree/3bf9d1773144bc4943232dc2ffaac307a700853d/base/complex.jl#L314\" target=\"_blank\">complex.jl:314</a></li> <li> +(z::<b>Complex</b>) in Base at <a href=\"https://github.com/JuliaLang/julia/tree/3bf9d1773144bc4943232dc2ffaac307a700853d/base/complex.jl#L286\" target=\"_blank\">complex.jl:286</a></li> <li> +(z::<b>Complex</b>, x::<b>Real</b>) in Base at <a href=\"https://github.com/JuliaLang/julia/tree/3bf9d1773144bc4943232dc2ffaac307a700853d/base/complex.jl#L326\" target=\"_blank\">complex.jl:326</a></li> <li> +(x::<b>Float64</b>, y::<b>Float64</b>) in Base at <a href=\"https://github.com/JuliaLang/julia/tree/3bf9d1773144bc4943232dc2ffaac307a700853d/base/float.jl#L399\" target=\"_blank\">float.jl:399</a></li> <li> +(x::<b>Dates.CompoundPeriod</b>, y::<b>Dates.Period</b>) in Dates at <a href=\"file:///buildworker/worker/package_linux64/build/usr/share/julia/stdlib/v1.7/Dates/src/periods.jl\" target=\"_blank\">/home/cicuser/julia-1.7.0/share/julia/stdlib/v1.7/Dates/src/periods.jl:362</a></li> <li> +(x::<b>Dates.CompoundPeriod</b>, y::<b>Dates.TimeType</b>) in Dates at <a href=\"file:///buildworker/worker/package_linux64/build/usr/share/julia/stdlib/v1.7/Dates/src/periods.jl\" target=\"_blank\">/home/cicuser/julia-1.7.0/share/julia/stdlib/v1.7/Dates/src/periods.jl:392</a></li> <li> +(x::<b>Dates.CompoundPeriod</b>, y::<b>Dates.CompoundPeriod</b>) in Dates at <a href=\"file:///buildworker/worker/package_linux64/build/usr/share/julia/stdlib/v1.7/Dates/src/periods.jl\" target=\"_blank\">/home/cicuser/julia-1.7.0/share/julia/stdlib/v1.7/Dates/src/periods.jl:364</a></li> <li> +(x::<b>Bool</b>) in Base at <a href=\"https://github.com/JuliaLang/julia/tree/3bf9d1773144bc4943232dc2ffaac307a700853d/base/bool.jl#L159\" target=\"_blank\">bool.jl:159</a></li> <li> +(x::<b>Number</b>, y::<b>Base.TwicePrecision</b>) in Base at <a href=\"https://github.com/JuliaLang/julia/tree/3bf9d1773144bc4943232dc2ffaac307a700853d/base/twiceprecision.jl#L283\" target=\"_blank\">twiceprecision.jl:283</a></li> <li> +(::<b>Number</b>, ::<b>Missing</b>) in Base at <a href=\"https://github.com/JuliaLang/julia/tree/3bf9d1773144bc4943232dc2ffaac307a700853d/base/missing.jl#L124\" target=\"_blank\">missing.jl:124</a></li> <li> +(x::<b>Number</b>, J::<b>LinearAlgebra.UniformScaling</b>) in LinearAlgebra at <a href=\"file:///buildworker/worker/package_linux64/build/usr/share/julia/stdlib/v1.7/LinearAlgebra/src/uniformscaling.jl\" target=\"_blank\">/home/cicuser/julia-1.7.0/share/julia/stdlib/v1.7/LinearAlgebra/src/uniformscaling.jl:146</a></li> <li> +(x::<b>Integer</b>, y::<b>Ptr</b>) in Base at <a href=\"https://github.com/JuliaLang/julia/tree/3bf9d1773144bc4943232dc2ffaac307a700853d/base/pointer.jl#L161\" target=\"_blank\">pointer.jl:161</a></li> <li> +(y::<b>Integer</b>, x::<b>Rational</b>) in Base at <a href=\"https://github.com/JuliaLang/julia/tree/3bf9d1773144bc4943232dc2ffaac307a700853d/base/rational.jl#L318\" target=\"_blank\">rational.jl:318</a></li> <li> +(x::<b>Integer</b>, y::<b>AbstractChar</b>) in Base at <a href=\"https://github.com/JuliaLang/julia/tree/3bf9d1773144bc4943232dc2ffaac307a700853d/base/char.jl#L247\" target=\"_blank\">char.jl:247</a></li> <li> +(x::<b>Bool</b>, y::<b>T</b>)<i> where T<:AbstractFloat</i> in Base at <a href=\"https://github.com/JuliaLang/julia/tree/3bf9d1773144bc4943232dc2ffaac307a700853d/base/bool.jl#L169\" target=\"_blank\">bool.jl:169</a></li> <li> +(x::<b>Bool</b>, y::<b>Bool</b>) in Base at <a href=\"https://github.com/JuliaLang/julia/tree/3bf9d1773144bc4943232dc2ffaac307a700853d/base/bool.jl#L162\" target=\"_blank\">bool.jl:162</a></li> <li> +(x::<b>Bool</b>, z::<b>Complex{Bool}</b>) in Base at <a href=\"https://github.com/JuliaLang/julia/tree/3bf9d1773144bc4943232dc2ffaac307a700853d/base/complex.jl#L299\" target=\"_blank\">complex.jl:299</a></li> <li> +(x::<b>Real</b>, z::<b>Complex{Bool}</b>) in Base at <a href=\"https://github.com/JuliaLang/julia/tree/3bf9d1773144bc4943232dc2ffaac307a700853d/base/complex.jl#L313\" target=\"_blank\">complex.jl:313</a></li> <li> +(x::<b>Bool</b>, z::<b>Complex</b>) in Base at <a href=\"https://github.com/JuliaLang/julia/tree/3bf9d1773144bc4943232dc2ffaac307a700853d/base/complex.jl#L306\" target=\"_blank\">complex.jl:306</a></li> <li> +(x::<b>Real</b>, z::<b>Complex</b>) in Base at <a href=\"https://github.com/JuliaLang/julia/tree/3bf9d1773144bc4943232dc2ffaac307a700853d/base/complex.jl#L325\" target=\"_blank\">complex.jl:325</a></li> <li> +(x::<b>Dates.Time</b>, y::<b>Dates.TimePeriod</b>) in Dates at <a href=\"file:///buildworker/worker/package_linux64/build/usr/share/julia/stdlib/v1.7/Dates/src/arithmetic.jl\" target=\"_blank\">/home/cicuser/julia-1.7.0/share/julia/stdlib/v1.7/Dates/src/arithmetic.jl:83</a></li> <li> +(t::<b>Dates.Time</b>, dt::<b>Dates.Date</b>) in Dates at <a href=\"file:///buildworker/worker/package_linux64/build/usr/share/julia/stdlib/v1.7/Dates/src/arithmetic.jl\" target=\"_blank\">/home/cicuser/julia-1.7.0/share/julia/stdlib/v1.7/Dates/src/arithmetic.jl:20</a></li> <li> +(x::<b>Float16</b>, y::<b>Float16</b>) in Base at <a href=\"https://github.com/JuliaLang/julia/tree/3bf9d1773144bc4943232dc2ffaac307a700853d/base/float.jl#L397\" target=\"_blank\">float.jl:397</a></li> <li> +(x::<b>Float32</b>, y::<b>Float32</b>) in Base at <a href=\"https://github.com/JuliaLang/julia/tree/3bf9d1773144bc4943232dc2ffaac307a700853d/base/float.jl#L398\" target=\"_blank\">float.jl:398</a></li> <li> +(x::<b>ChainRulesCore.NotImplemented</b>, ::<b>ChainRulesCore.Tangent</b>) in ChainRulesCore at <a href=\"file:///home/cicuser/.julia/packages/ChainRulesCore/sHMAp/src/tangent_arithmetic.jl\" target=\"_blank\">/home/cicuser/.julia/packages/ChainRulesCore/sHMAp/src/tangent_arithmetic.jl:24</a></li> <li> +(x::<b>ChainRulesCore.NotImplemented</b>, ::<b>ChainRulesCore.AbstractThunk</b>) in ChainRulesCore at <a href=\"file:///home/cicuser/.julia/packages/ChainRulesCore/sHMAp/src/tangent_arithmetic.jl\" target=\"_blank\">/home/cicuser/.julia/packages/ChainRulesCore/sHMAp/src/tangent_arithmetic.jl:24</a></li> <li> +(x::<b>ChainRulesCore.NotImplemented</b>, ::<b>ChainRulesCore.NoTangent</b>) in ChainRulesCore at <a href=\"file:///home/cicuser/.julia/packages/ChainRulesCore/sHMAp/src/tangent_arithmetic.jl\" target=\"_blank\">/home/cicuser/.julia/packages/ChainRulesCore/sHMAp/src/tangent_arithmetic.jl:24</a></li> <li> +(x::<b>ChainRulesCore.NotImplemented</b>, ::<b>ChainRulesCore.ZeroTangent</b>) in ChainRulesCore at <a href=\"file:///home/cicuser/.julia/packages/ChainRulesCore/sHMAp/src/tangent_arithmetic.jl\" target=\"_blank\">/home/cicuser/.julia/packages/ChainRulesCore/sHMAp/src/tangent_arithmetic.jl:24</a></li> <li> +(x::<b>ChainRulesCore.NotImplemented</b>, ::<b>ChainRulesCore.NotImplemented</b>) in ChainRulesCore at <a href=\"file:///home/cicuser/.julia/packages/ChainRulesCore/sHMAp/src/tangent_arithmetic.jl\" target=\"_blank\">/home/cicuser/.julia/packages/ChainRulesCore/sHMAp/src/tangent_arithmetic.jl:19</a></li> <li> +(x::<b>ChainRulesCore.NotImplemented</b>, ::<b>Any</b>) in ChainRulesCore at <a href=\"file:///home/cicuser/.julia/packages/ChainRulesCore/sHMAp/src/tangent_arithmetic.jl\" target=\"_blank\">/home/cicuser/.julia/packages/ChainRulesCore/sHMAp/src/tangent_arithmetic.jl:24</a></li> <li> +(::<b>ChainRulesCore.ZeroTangent</b>, b::<b>ChainRulesCore.Tangent</b>) in ChainRulesCore at <a href=\"file:///home/cicuser/.julia/packages/ChainRulesCore/sHMAp/src/tangent_arithmetic.jl\" target=\"_blank\">/home/cicuser/.julia/packages/ChainRulesCore/sHMAp/src/tangent_arithmetic.jl:99</a></li> <li> +(::<b>ChainRulesCore.ZeroTangent</b>, b::<b>ChainRulesCore.AbstractThunk</b>) in ChainRulesCore at <a href=\"file:///home/cicuser/.julia/packages/ChainRulesCore/sHMAp/src/tangent_arithmetic.jl\" target=\"_blank\">/home/cicuser/.julia/packages/ChainRulesCore/sHMAp/src/tangent_arithmetic.jl:99</a></li> <li> +(::<b>ChainRulesCore.ZeroTangent</b>, ::<b>ChainRulesCore.ZeroTangent</b>) in ChainRulesCore at <a href=\"file:///home/cicuser/.julia/packages/ChainRulesCore/sHMAp/src/tangent_arithmetic.jl\" target=\"_blank\">/home/cicuser/.julia/packages/ChainRulesCore/sHMAp/src/tangent_arithmetic.jl:93</a></li> <li> +(::<b>ChainRulesCore.ZeroTangent</b>, ::<b>ChainRulesCore.NoTangent</b>) in ChainRulesCore at <a href=\"file:///home/cicuser/.julia/packages/ChainRulesCore/sHMAp/src/tangent_arithmetic.jl\" target=\"_blank\">/home/cicuser/.julia/packages/ChainRulesCore/sHMAp/src/tangent_arithmetic.jl:74</a></li> <li> +(::<b>ChainRulesCore.ZeroTangent</b>, x::<b>ChainRulesCore.NotImplemented</b>) in ChainRulesCore at <a href=\"file:///home/cicuser/.julia/packages/ChainRulesCore/sHMAp/src/tangent_arithmetic.jl\" target=\"_blank\">/home/cicuser/.julia/packages/ChainRulesCore/sHMAp/src/tangent_arithmetic.jl:25</a></li> <li> +(::<b>ChainRulesCore.ZeroTangent</b>, b) in ChainRulesCore at <a href=\"file:///home/cicuser/.julia/packages/ChainRulesCore/sHMAp/src/tangent_arithmetic.jl\" target=\"_blank\">/home/cicuser/.julia/packages/ChainRulesCore/sHMAp/src/tangent_arithmetic.jl:99</a></li> <li> +(a::<b>Pkg.Resolve.VersionWeight</b>, b::<b>Pkg.Resolve.VersionWeight</b>) in Pkg.Resolve at <a href=\"file:///buildworker/worker/package_linux64/build/usr/share/julia/stdlib/v1.7/Pkg/src/Resolve/versionweights.jl\" target=\"_blank\">/home/cicuser/julia-1.7.0/share/julia/stdlib/v1.7/Pkg/src/Resolve/versionweights.jl:22</a></li> <li> +(B::<b>BitMatrix</b>, J::<b>LinearAlgebra.UniformScaling</b>) in LinearAlgebra at <a href=\"file:///buildworker/worker/package_linux64/build/usr/share/julia/stdlib/v1.7/LinearAlgebra/src/uniformscaling.jl\" target=\"_blank\">/home/cicuser/julia-1.7.0/share/julia/stdlib/v1.7/LinearAlgebra/src/uniformscaling.jl:152</a></li> <li> +(A::<b>AbstractMatrix</b>, J::<b>LinearAlgebra.UniformScaling</b>) in LinearAlgebra at <a href=\"file:///buildworker/worker/package_linux64/build/usr/share/julia/stdlib/v1.7/LinearAlgebra/src/uniformscaling.jl\" target=\"_blank\">/home/cicuser/julia-1.7.0/share/julia/stdlib/v1.7/LinearAlgebra/src/uniformscaling.jl:215</a></li> <li> +(x::<b>AbstractArray{<:Number}</b>) in Base at <a href=\"https://github.com/JuliaLang/julia/tree/3bf9d1773144bc4943232dc2ffaac307a700853d/base/abstractarraymath.jl#L104\" target=\"_blank\">abstractarraymath.jl:104</a></li> <li> +(dt::<b>Dates.Date</b>, t::<b>Dates.Time</b>) in Dates at <a href=\"file:///buildworker/worker/package_linux64/build/usr/share/julia/stdlib/v1.7/Dates/src/arithmetic.jl\" target=\"_blank\">/home/cicuser/julia-1.7.0/share/julia/stdlib/v1.7/Dates/src/arithmetic.jl:19</a></li> <li> +(dt::<b>Dates.Date</b>, y::<b>Dates.Year</b>) in Dates at <a href=\"file:///buildworker/worker/package_linux64/build/usr/share/julia/stdlib/v1.7/Dates/src/arithmetic.jl\" target=\"_blank\">/home/cicuser/julia-1.7.0/share/julia/stdlib/v1.7/Dates/src/arithmetic.jl:27</a></li> <li> +(dt::<b>Dates.Date</b>, z::<b>Dates.Month</b>) in Dates at <a href=\"file:///buildworker/worker/package_linux64/build/usr/share/julia/stdlib/v1.7/Dates/src/arithmetic.jl\" target=\"_blank\">/home/cicuser/julia-1.7.0/share/julia/stdlib/v1.7/Dates/src/arithmetic.jl:54</a></li> <li> +(x::<b>Dates.Date</b>, y::<b>Dates.Quarter</b>) in Dates at <a href=\"file:///buildworker/worker/package_linux64/build/usr/share/julia/stdlib/v1.7/Dates/src/arithmetic.jl\" target=\"_blank\">/home/cicuser/julia-1.7.0/share/julia/stdlib/v1.7/Dates/src/arithmetic.jl:73</a></li> <li> +(x::<b>Dates.Date</b>, y::<b>Dates.Week</b>) in Dates at <a href=\"file:///buildworker/worker/package_linux64/build/usr/share/julia/stdlib/v1.7/Dates/src/arithmetic.jl\" target=\"_blank\">/home/cicuser/julia-1.7.0/share/julia/stdlib/v1.7/Dates/src/arithmetic.jl:77</a></li> <li> +(x::<b>Dates.Date</b>, y::<b>Dates.Day</b>) in Dates at <a href=\"file:///buildworker/worker/package_linux64/build/usr/share/julia/stdlib/v1.7/Dates/src/arithmetic.jl\" target=\"_blank\">/home/cicuser/julia-1.7.0/share/julia/stdlib/v1.7/Dates/src/arithmetic.jl:79</a></li> <li> +(::<b>ChainRulesCore.NoTangent</b>, b::<b>ChainRulesCore.Tangent</b>) in ChainRulesCore at <a href=\"file:///home/cicuser/.julia/packages/ChainRulesCore/sHMAp/src/tangent_arithmetic.jl\" target=\"_blank\">/home/cicuser/.julia/packages/ChainRulesCore/sHMAp/src/tangent_arithmetic.jl:59</a></li> <li> +(::<b>ChainRulesCore.NoTangent</b>, b::<b>ChainRulesCore.AbstractThunk</b>) in ChainRulesCore at <a href=\"file:///home/cicuser/.julia/packages/ChainRulesCore/sHMAp/src/tangent_arithmetic.jl\" target=\"_blank\">/home/cicuser/.julia/packages/ChainRulesCore/sHMAp/src/tangent_arithmetic.jl:59</a></li> <li> +(::<b>ChainRulesCore.NoTangent</b>, ::<b>ChainRulesCore.ZeroTangent</b>) in ChainRulesCore at <a href=\"file:///home/cicuser/.julia/packages/ChainRulesCore/sHMAp/src/tangent_arithmetic.jl\" target=\"_blank\">/home/cicuser/.julia/packages/ChainRulesCore/sHMAp/src/tangent_arithmetic.jl:73</a></li> <li> +(::<b>ChainRulesCore.NoTangent</b>, ::<b>ChainRulesCore.NoTangent</b>) in ChainRulesCore at <a href=\"file:///home/cicuser/.julia/packages/ChainRulesCore/sHMAp/src/tangent_arithmetic.jl\" target=\"_blank\">/home/cicuser/.julia/packages/ChainRulesCore/sHMAp/src/tangent_arithmetic.jl:53</a></li> <li> +(::<b>ChainRulesCore.NoTangent</b>, x::<b>ChainRulesCore.NotImplemented</b>) in ChainRulesCore at <a href=\"file:///home/cicuser/.julia/packages/ChainRulesCore/sHMAp/src/tangent_arithmetic.jl\" target=\"_blank\">/home/cicuser/.julia/packages/ChainRulesCore/sHMAp/src/tangent_arithmetic.jl:25</a></li> <li> +(::<b>ChainRulesCore.NoTangent</b>, b) in ChainRulesCore at <a href=\"file:///home/cicuser/.julia/packages/ChainRulesCore/sHMAp/src/tangent_arithmetic.jl\" target=\"_blank\">/home/cicuser/.julia/packages/ChainRulesCore/sHMAp/src/tangent_arithmetic.jl:59</a></li> <li> +(x::<b>ChainRulesCore.AbstractTangent</b>) in ChainRulesCore at <a href=\"file:///home/cicuser/.julia/packages/ChainRulesCore/sHMAp/src/tangent_types/abstract_tangent.jl\" target=\"_blank\">/home/cicuser/.julia/packages/ChainRulesCore/sHMAp/src/tangent_types/abstract_tangent.jl:38</a></li> <li> +(::<b>Missing</b>) in Base at <a href=\"https://github.com/JuliaLang/julia/tree/3bf9d1773144bc4943232dc2ffaac307a700853d/base/missing.jl#L101\" target=\"_blank\">missing.jl:101</a></li> <li> +(::<b>Missing</b>, ::<b>Number</b>) in Base at <a href=\"https://github.com/JuliaLang/julia/tree/3bf9d1773144bc4943232dc2ffaac307a700853d/base/missing.jl#L123\" target=\"_blank\">missing.jl:123</a></li> <li> +(x::<b>Missing</b>, y::<b>Dates.AbstractTime</b>) in Dates at <a href=\"file:///buildworker/worker/package_linux64/build/usr/share/julia/stdlib/v1.7/Dates/src/arithmetic.jl\" target=\"_blank\">/home/cicuser/julia-1.7.0/share/julia/stdlib/v1.7/Dates/src/arithmetic.jl:89</a></li> <li> +(::<b>Missing</b>, ::<b>Missing</b>) in Base at <a href=\"https://github.com/JuliaLang/julia/tree/3bf9d1773144bc4943232dc2ffaac307a700853d/base/missing.jl#L122\" target=\"_blank\">missing.jl:122</a></li> <li> +(x::<b>Rational{BigInt}</b>, y::<b>Rational{BigInt}</b>) in Base.GMP.MPQ at <a href=\"https://github.com/JuliaLang/julia/tree/3bf9d1773144bc4943232dc2ffaac307a700853d/base/gmp.jl#L885\" target=\"_blank\">gmp.jl:885</a></li> <li> +(x::<b>Rational</b>) in Base at <a href=\"https://github.com/JuliaLang/julia/tree/3bf9d1773144bc4943232dc2ffaac307a700853d/base/rational.jl#L268\" target=\"_blank\">rational.jl:268</a></li> <li> +(x::<b>Rational</b>, y::<b>Rational</b>) in Base at <a href=\"https://github.com/JuliaLang/julia/tree/3bf9d1773144bc4943232dc2ffaac307a700853d/base/rational.jl#L282\" target=\"_blank\">rational.jl:282</a></li> <li> +(level::<b>Base.CoreLogging.LogLevel</b>, inc::<b>Integer</b>) in Base.CoreLogging at <a href=\"https://github.com/JuliaLang/julia/tree/3bf9d1773144bc4943232dc2ffaac307a700853d/base/logging.jl#L131\" target=\"_blank\">logging.jl:131</a></li> <li> +(a::<b>Pkg.Resolve.FieldValue</b>, b::<b>Pkg.Resolve.FieldValue</b>) in Pkg.Resolve at <a href=\"file:///buildworker/worker/package_linux64/build/usr/share/julia/stdlib/v1.7/Pkg/src/Resolve/fieldvalues.jl\" target=\"_blank\">/home/cicuser/julia-1.7.0/share/julia/stdlib/v1.7/Pkg/src/Resolve/fieldvalues.jl:43</a></li> <li> +(x::<b>BigInt</b>, c::<b>Union{UInt16, UInt32, UInt64, UInt8}</b>) in Base.GMP at <a href=\"https://github.com/JuliaLang/julia/tree/3bf9d1773144bc4943232dc2ffaac307a700853d/base/gmp.jl#L528\" target=\"_blank\">gmp.jl:528</a></li> <li> +(x::<b>BigInt</b>, c::<b>Union{Int16, Int32, Int64, Int8}</b>) in Base.GMP at <a href=\"https://github.com/JuliaLang/julia/tree/3bf9d1773144bc4943232dc2ffaac307a700853d/base/gmp.jl#L534\" target=\"_blank\">gmp.jl:534</a></li> <li> +(x::<b>BigInt</b>, y::<b>BigInt</b>) in Base.GMP at <a href=\"https://github.com/JuliaLang/julia/tree/3bf9d1773144bc4943232dc2ffaac307a700853d/base/gmp.jl#L480\" target=\"_blank\">gmp.jl:480</a></li> <li> +(a::<b>BigInt</b>, b::<b>BigInt</b>, c::<b>BigInt</b>) in Base.GMP at <a href=\"https://github.com/JuliaLang/julia/tree/3bf9d1773144bc4943232dc2ffaac307a700853d/base/gmp.jl#L520\" target=\"_blank\">gmp.jl:520</a></li> <li> +(a::<b>BigInt</b>, b::<b>BigInt</b>, c::<b>BigInt</b>, d::<b>BigInt</b>) in Base.GMP at <a href=\"https://github.com/JuliaLang/julia/tree/3bf9d1773144bc4943232dc2ffaac307a700853d/base/gmp.jl#L521\" target=\"_blank\">gmp.jl:521</a></li> <li> +(a::<b>BigInt</b>, b::<b>BigInt</b>, c::<b>BigInt</b>, d::<b>BigInt</b>, e::<b>BigInt</b>) in Base.GMP at <a href=\"https://github.com/JuliaLang/julia/tree/3bf9d1773144bc4943232dc2ffaac307a700853d/base/gmp.jl#L522\" target=\"_blank\">gmp.jl:522</a></li> <li> +(x::<b>BigInt</b>, y::<b>BigInt</b>, rest::<b>BigInt...</b>) in Base.GMP at <a href=\"https://github.com/JuliaLang/julia/tree/3bf9d1773144bc4943232dc2ffaac307a700853d/base/gmp.jl#L635\" target=\"_blank\">gmp.jl:635</a></li> <li> +(a::<b>Integer</b>, b::<b>Integer</b>) in Base at <a href=\"https://github.com/JuliaLang/julia/tree/3bf9d1773144bc4943232dc2ffaac307a700853d/base/int.jl#L978\" target=\"_blank\">int.jl:978</a></li> <li> +(c::<b>BigInt</b>, x::<b>BigFloat</b>) in Base.MPFR at <a href=\"https://github.com/JuliaLang/julia/tree/3bf9d1773144bc4943232dc2ffaac307a700853d/base/mpfr.jl#L414\" target=\"_blank\">mpfr.jl:414</a></li> <li> +(x::<b>Number</b>) in Base at <a href=\"https://github.com/JuliaLang/julia/tree/3bf9d1773144bc4943232dc2ffaac307a700853d/base/operators.jl#L592\" target=\"_blank\">operators.jl:592</a></li> <li> +(x::<b>T</b>, y::<b>T</b>)<i> where T<:Number</i> in Base at <a href=\"https://github.com/JuliaLang/julia/tree/3bf9d1773144bc4943232dc2ffaac307a700853d/base/promotion.jl#L454\" target=\"_blank\">promotion.jl:454</a></li> <li> +(x::<b>Number</b>, y::<b>Number</b>) in Base at <a href=\"https://github.com/JuliaLang/julia/tree/3bf9d1773144bc4943232dc2ffaac307a700853d/base/promotion.jl#L379\" target=\"_blank\">promotion.jl:379</a></li> <li> +(dt::<b>Dates.DateTime</b>, y::<b>Dates.Year</b>) in Dates at <a href=\"file:///buildworker/worker/package_linux64/build/usr/share/julia/stdlib/v1.7/Dates/src/arithmetic.jl\" target=\"_blank\">/home/cicuser/julia-1.7.0/share/julia/stdlib/v1.7/Dates/src/arithmetic.jl:23</a></li> <li> +(dt::<b>Dates.DateTime</b>, z::<b>Dates.Month</b>) in Dates at <a href=\"file:///buildworker/worker/package_linux64/build/usr/share/julia/stdlib/v1.7/Dates/src/arithmetic.jl\" target=\"_blank\">/home/cicuser/julia-1.7.0/share/julia/stdlib/v1.7/Dates/src/arithmetic.jl:47</a></li> <li> +(x::<b>Dates.DateTime</b>, y::<b>Dates.Quarter</b>) in Dates at <a href=\"file:///buildworker/worker/package_linux64/build/usr/share/julia/stdlib/v1.7/Dates/src/arithmetic.jl\" target=\"_blank\">/home/cicuser/julia-1.7.0/share/julia/stdlib/v1.7/Dates/src/arithmetic.jl:75</a></li> <li> +(x::<b>Dates.DateTime</b>, y::<b>Dates.Period</b>) in Dates at <a href=\"file:///buildworker/worker/package_linux64/build/usr/share/julia/stdlib/v1.7/Dates/src/arithmetic.jl\" target=\"_blank\">/home/cicuser/julia-1.7.0/share/julia/stdlib/v1.7/Dates/src/arithmetic.jl:81</a></li> <li> +(x::<b>Dates.TimeType</b>) in Dates at <a href=\"file:///buildworker/worker/package_linux64/build/usr/share/julia/stdlib/v1.7/Dates/src/arithmetic.jl\" target=\"_blank\">/home/cicuser/julia-1.7.0/share/julia/stdlib/v1.7/Dates/src/arithmetic.jl:8</a></li> <li> +(a::<b>P</b>, d::<b>ChainRulesCore.Tangent{P}</b>)<i> where P</i> in ChainRulesCore at <a href=\"file:///home/cicuser/.julia/packages/ChainRulesCore/sHMAp/src/tangent_arithmetic.jl\" target=\"_blank\">/home/cicuser/.julia/packages/ChainRulesCore/sHMAp/src/tangent_arithmetic.jl:133</a></li> <li> +(a, b::<b>ChainRulesCore.AbstractThunk</b>) in ChainRulesCore at <a href=\"file:///home/cicuser/.julia/packages/ChainRulesCore/sHMAp/src/tangent_arithmetic.jl\" target=\"_blank\">/home/cicuser/.julia/packages/ChainRulesCore/sHMAp/src/tangent_arithmetic.jl:123</a></li> <li> +(a, ::<b>ChainRulesCore.ZeroTangent</b>) in ChainRulesCore at <a href=\"file:///home/cicuser/.julia/packages/ChainRulesCore/sHMAp/src/tangent_arithmetic.jl\" target=\"_blank\">/home/cicuser/.julia/packages/ChainRulesCore/sHMAp/src/tangent_arithmetic.jl:100</a></li> <li> +(a, ::<b>ChainRulesCore.NoTangent</b>) in ChainRulesCore at <a href=\"file:///home/cicuser/.julia/packages/ChainRulesCore/sHMAp/src/tangent_arithmetic.jl\" target=\"_blank\">/home/cicuser/.julia/packages/ChainRulesCore/sHMAp/src/tangent_arithmetic.jl:60</a></li> <li> +(::<b>Any</b>, x::<b>ChainRulesCore.NotImplemented</b>) in ChainRulesCore at <a href=\"file:///home/cicuser/.julia/packages/ChainRulesCore/sHMAp/src/tangent_arithmetic.jl\" target=\"_blank\">/home/cicuser/.julia/packages/ChainRulesCore/sHMAp/src/tangent_arithmetic.jl:25</a></li> <li> +(x::<b>Dates.AbstractTime</b>, y::<b>Missing</b>) in Dates at <a href=\"file:///buildworker/worker/package_linux64/build/usr/share/julia/stdlib/v1.7/Dates/src/arithmetic.jl\" target=\"_blank\">/home/cicuser/julia-1.7.0/share/julia/stdlib/v1.7/Dates/src/arithmetic.jl:88</a></li> <li> +(a::<b>Dates.TimeType</b>, b::<b>Dates.Period</b>, c::<b>Dates.Period</b>) in Dates at <a href=\"file:///buildworker/worker/package_linux64/build/usr/share/julia/stdlib/v1.7/Dates/src/periods.jl\" target=\"_blank\">/home/cicuser/julia-1.7.0/share/julia/stdlib/v1.7/Dates/src/periods.jl:383</a></li> <li> +(a::<b>Dates.TimeType</b>, b::<b>Dates.Period</b>, c::<b>Dates.Period</b>, d::<b>Dates.Period...</b>) in Dates at <a href=\"file:///buildworker/worker/package_linux64/build/usr/share/julia/stdlib/v1.7/Dates/src/periods.jl\" target=\"_blank\">/home/cicuser/julia-1.7.0/share/julia/stdlib/v1.7/Dates/src/periods.jl:384</a></li> <li> +(x::<b>Dates.TimeType</b>, y::<b>Dates.CompoundPeriod</b>) in Dates at <a href=\"file:///buildworker/worker/package_linux64/build/usr/share/julia/stdlib/v1.7/Dates/src/periods.jl\" target=\"_blank\">/home/cicuser/julia-1.7.0/share/julia/stdlib/v1.7/Dates/src/periods.jl:386</a></li> <li> +(a, b, c, xs...) in Base at <a href=\"https://github.com/JuliaLang/julia/tree/3bf9d1773144bc4943232dc2ffaac307a700853d/base/operators.jl#L655\" target=\"_blank\">operators.jl:655</a></li> </ul>"
      ],
      "text/plain": [
       "# 261 methods for generic function \"+\":\n",
       "[1] +(x::T, y::T) where T<:Union{Int128, Int16, Int32, Int64, Int8, UInt128, UInt16, UInt32, UInt64, UInt8} in Base at int.jl:87\n",
       "[2] +(c::Union{UInt16, UInt32, UInt64, UInt8}, x::BigInt) in Base.GMP at gmp.jl:529\n",
       "[3] +(c::Union{Int16, Int32, Int64, Int8}, x::BigInt) in Base.GMP at gmp.jl:535\n",
       "[4] +(c::Union{UInt16, UInt32, UInt64, UInt8}, x::BigFloat) in Base.MPFR at mpfr.jl:390\n",
       "[5] +(c::Union{Int16, Int32, Int64, Int8}, x::BigFloat) in Base.MPFR at mpfr.jl:398\n",
       "[6] +(c::Union{Float16, Float32, Float64}, x::BigFloat) in Base.MPFR at mpfr.jl:406\n",
       "[7] +(x::Union{Dates.CompoundPeriod, Dates.Period}) in Dates at /home/cicuser/julia-1.7.0/share/julia/stdlib/v1.7/Dates/src/periods.jl:372\n",
       "[8] +(a::Union{LMS, XYZ}, b::Union{LMS, XYZ}) in Colors at /home/cicuser/.julia/packages/Colors/yDxFN/src/algorithms.jl:4\n",
       "[9] +(y::AbstractFloat, x::Bool) in Base at bool.jl:172\n",
       "[10] +(x::Base.TwicePrecision, y::Number) in Base at twiceprecision.jl:279\n",
       "[11] +(x::Base.TwicePrecision{T}, y::Base.TwicePrecision{T}) where T in Base at twiceprecision.jl:285\n",
       "[12] +(x::Base.TwicePrecision, y::Base.TwicePrecision) in Base at twiceprecision.jl:290\n",
       "[13] +(z::Complex, w::Complex) in Base at complex.jl:288\n",
       "[14] +(A::SparseArrays.AbstractSparseMatrixCSC, B::SparseArrays.AbstractSparseMatrixCSC) in SparseArrays at /home/cicuser/julia-1.7.0/share/julia/stdlib/v1.7/SparseArrays/src/sparsematrix.jl:1771\n",
       "[15] +(A::SparseArrays.AbstractSparseMatrixCSC, B::Array) in SparseArrays at /home/cicuser/julia-1.7.0/share/julia/stdlib/v1.7/SparseArrays/src/sparsematrix.jl:1774\n",
       "[16] +(A::SparseArrays.AbstractSparseMatrixCSC, J::LinearAlgebra.UniformScaling) in SparseArrays at /home/cicuser/julia-1.7.0/share/julia/stdlib/v1.7/SparseArrays/src/sparsematrix.jl:3760\n",
       "[17] +(r1::LinRange{T}, r2::LinRange{T}) where T in Base at range.jl:1354\n",
       "[18] +(Da::LinearAlgebra.Diagonal, Db::LinearAlgebra.Diagonal) in LinearAlgebra at /home/cicuser/julia-1.7.0/share/julia/stdlib/v1.7/LinearAlgebra/src/diagonal.jl:172\n",
       "[19] +(D::LinearAlgebra.Diagonal, S::LinearAlgebra.Symmetric) in LinearAlgebra at /home/cicuser/julia-1.7.0/share/julia/stdlib/v1.7/LinearAlgebra/src/diagonal.jl:176\n",
       "[20] +(D::LinearAlgebra.Diagonal{var\"#s859\", V} where {var\"#s859\"<:Real, V<:AbstractVector{var\"#s859\"}}, H::LinearAlgebra.Hermitian) in LinearAlgebra at /home/cicuser/julia-1.7.0/share/julia/stdlib/v1.7/LinearAlgebra/src/diagonal.jl:182\n",
       "[21] +(x::LinearAlgebra.Diagonal, H::LinearAlgebra.UpperHessenberg) in LinearAlgebra at /home/cicuser/julia-1.7.0/share/julia/stdlib/v1.7/LinearAlgebra/src/hessenberg.jl:107\n",
       "[22] +(A::LinearAlgebra.Diagonal, B::LinearAlgebra.Bidiagonal) in LinearAlgebra at /home/cicuser/julia-1.7.0/share/julia/stdlib/v1.7/LinearAlgebra/src/special.jl:125\n",
       "[23] +(A::LinearAlgebra.Diagonal, B::LinearAlgebra.SymTridiagonal) in LinearAlgebra at /home/cicuser/julia-1.7.0/share/julia/stdlib/v1.7/LinearAlgebra/src/special.jl:135\n",
       "[24] +(A::LinearAlgebra.Diagonal, B::LinearAlgebra.Tridiagonal) in LinearAlgebra at /home/cicuser/julia-1.7.0/share/julia/stdlib/v1.7/LinearAlgebra/src/special.jl:163\n",
       "[25] +(A::LinearAlgebra.Diagonal{var\"#s859\", V} where {var\"#s859\"<:Number, V<:AbstractVector{var\"#s859\"}}, B::LinearAlgebra.UniformScaling) in LinearAlgebra at /home/cicuser/julia-1.7.0/share/julia/stdlib/v1.7/LinearAlgebra/src/special.jl:241\n",
       "[26] +(x::Rational, y::Integer) in Base at rational.jl:311\n",
       "[27] +(A::LinearAlgebra.UnitLowerTriangular, B::LinearAlgebra.LowerTriangular) in LinearAlgebra at /home/cicuser/julia-1.7.0/share/julia/stdlib/v1.7/LinearAlgebra/src/triangular.jl:641\n",
       "[28] +(A::LinearAlgebra.UnitLowerTriangular, B::LinearAlgebra.UnitLowerTriangular) in LinearAlgebra at /home/cicuser/julia-1.7.0/share/julia/stdlib/v1.7/LinearAlgebra/src/triangular.jl:643\n",
       "[29] +(UL::LinearAlgebra.UnitLowerTriangular, J::LinearAlgebra.UniformScaling) in LinearAlgebra at /home/cicuser/julia-1.7.0/share/julia/stdlib/v1.7/LinearAlgebra/src/uniformscaling.jl:182\n",
       "[30] +(A::LinearAlgebra.UnitLowerTriangular, B::LinearAlgebra.Bidiagonal) in LinearAlgebra at /home/cicuser/julia-1.7.0/share/julia/stdlib/v1.7/LinearAlgebra/src/special.jl:86\n",
       "[31] +(a::ChainRulesCore.AbstractThunk, b::ChainRulesCore.Tangent) in ChainRulesCore at /home/cicuser/.julia/packages/ChainRulesCore/sHMAp/src/tangent_arithmetic.jl:122\n",
       "[32] +(a::ChainRulesCore.AbstractThunk, b::ChainRulesCore.AbstractThunk) in ChainRulesCore at /home/cicuser/.julia/packages/ChainRulesCore/sHMAp/src/tangent_arithmetic.jl:119\n",
       "[33] +(a::ChainRulesCore.AbstractThunk, ::ChainRulesCore.ZeroTangent) in ChainRulesCore at /home/cicuser/.julia/packages/ChainRulesCore/sHMAp/src/tangent_arithmetic.jl:100\n",
       "[34] +(a::ChainRulesCore.AbstractThunk, ::ChainRulesCore.NoTangent) in ChainRulesCore at /home/cicuser/.julia/packages/ChainRulesCore/sHMAp/src/tangent_arithmetic.jl:60\n",
       "[35] +(::ChainRulesCore.AbstractThunk, x::ChainRulesCore.NotImplemented) in ChainRulesCore at /home/cicuser/.julia/packages/ChainRulesCore/sHMAp/src/tangent_arithmetic.jl:25\n",
       "[36] +(a::ChainRulesCore.AbstractThunk, b) in ChainRulesCore at /home/cicuser/.julia/packages/ChainRulesCore/sHMAp/src/tangent_arithmetic.jl:122\n",
       "[37] +(F::LinearAlgebra.Hessenberg, J::LinearAlgebra.UniformScaling) in LinearAlgebra at /home/cicuser/julia-1.7.0/share/julia/stdlib/v1.7/LinearAlgebra/src/hessenberg.jl:640\n",
       "[38] +(x::AbstractIrrational, y::AbstractIrrational) in Base at irrationals.jl:158\n",
       "[39] +(A::LinearAlgebra.Tridiagonal, B::LinearAlgebra.Tridiagonal) in LinearAlgebra at /home/cicuser/julia-1.7.0/share/julia/stdlib/v1.7/LinearAlgebra/src/tridiag.jl:740\n",
       "[40] +(x::LinearAlgebra.Tridiagonal, H::LinearAlgebra.UpperHessenberg) in LinearAlgebra at /home/cicuser/julia-1.7.0/share/julia/stdlib/v1.7/LinearAlgebra/src/hessenberg.jl:107\n",
       "[41] +(A::LinearAlgebra.Tridiagonal, B::LinearAlgebra.SymTridiagonal) in LinearAlgebra at /home/cicuser/julia-1.7.0/share/julia/stdlib/v1.7/LinearAlgebra/src/special.jl:157\n",
       "[42] +(A::LinearAlgebra.Tridiagonal, B::LinearAlgebra.Diagonal) in LinearAlgebra at /home/cicuser/julia-1.7.0/share/julia/stdlib/v1.7/LinearAlgebra/src/special.jl:173\n",
       "[43] +(A::LinearAlgebra.Tridiagonal, B::LinearAlgebra.Bidiagonal) in LinearAlgebra at /home/cicuser/julia-1.7.0/share/julia/stdlib/v1.7/LinearAlgebra/src/special.jl:193\n",
       "[44] +(A::LinearAlgebra.Tridiagonal{var\"#s859\", V} where {var\"#s859\"<:Number, V<:AbstractVector{var\"#s859\"}}, B::LinearAlgebra.UniformScaling) in LinearAlgebra at /home/cicuser/julia-1.7.0/share/julia/stdlib/v1.7/LinearAlgebra/src/special.jl:226\n",
       "[45] +(index1::CartesianIndex{N}, index2::CartesianIndex{N}) where N in Base.IteratorsMD at multidimensional.jl:114\n",
       "[46] +(y::Dates.TimeType, x::StridedArray{<:Union{Dates.CompoundPeriod, Dates.Period}}) in Dates at /home/cicuser/julia-1.7.0/share/julia/stdlib/v1.7/Dates/src/deprecated.jl:18\n",
       "[47] +(a::StaticArrays.StaticMatrix, b::LinearAlgebra.UniformScaling) in StaticArrays at /home/cicuser/.julia/packages/StaticArrays/OWJK7/src/linalg.jl:29\n",
       "[48] +(a::StaticArrays.StaticArray) in StaticArrays at /home/cicuser/.julia/packages/StaticArrays/OWJK7/src/linalg.jl:7\n",
       "[49] +(a::StaticArrays.StaticArray, b::StaticArrays.StaticArray) in StaticArrays at /home/cicuser/.julia/packages/StaticArrays/OWJK7/src/linalg.jl:12\n",
       "[50] +(a::AbstractArray, b::StaticArrays.StaticArray) in StaticArrays at /home/cicuser/.julia/packages/StaticArrays/OWJK7/src/linalg.jl:13\n",
       "[51] +(a::StaticArrays.StaticArray, b::AbstractArray) in StaticArrays at /home/cicuser/.julia/packages/StaticArrays/OWJK7/src/linalg.jl:14\n",
       "[52] +(A::LinearAlgebra.LowerTriangular, B::LinearAlgebra.LowerTriangular) in LinearAlgebra at /home/cicuser/julia-1.7.0/share/julia/stdlib/v1.7/LinearAlgebra/src/triangular.jl:637\n",
       "[53] +(A::LinearAlgebra.LowerTriangular, B::LinearAlgebra.UnitLowerTriangular) in LinearAlgebra at /home/cicuser/julia-1.7.0/share/julia/stdlib/v1.7/LinearAlgebra/src/triangular.jl:639\n",
       "[54] +(A::LinearAlgebra.LowerTriangular, B::LinearAlgebra.Bidiagonal) in LinearAlgebra at /home/cicuser/julia-1.7.0/share/julia/stdlib/v1.7/LinearAlgebra/src/special.jl:86\n",
       "[55] +(r1::OrdinalRange, r2::OrdinalRange) in Base at range.jl:1347\n",
       "[56] +(A::LinearAlgebra.UpperHessenberg, B::LinearAlgebra.UpperHessenberg) in LinearAlgebra at /home/cicuser/julia-1.7.0/share/julia/stdlib/v1.7/LinearAlgebra/src/hessenberg.jl:99\n",
       "[57] +(H::LinearAlgebra.UpperHessenberg, x::LinearAlgebra.UniformScaling) in LinearAlgebra at /home/cicuser/julia-1.7.0/share/julia/stdlib/v1.7/LinearAlgebra/src/hessenberg.jl:106\n",
       "[58] +(H::LinearAlgebra.UpperHessenberg, x::LinearAlgebra.Diagonal) in LinearAlgebra at /home/cicuser/julia-1.7.0/share/julia/stdlib/v1.7/LinearAlgebra/src/hessenberg.jl:106\n",
       "[59] +(H::LinearAlgebra.UpperHessenberg, x::LinearAlgebra.Bidiagonal) in LinearAlgebra at /home/cicuser/julia-1.7.0/share/julia/stdlib/v1.7/LinearAlgebra/src/hessenberg.jl:106\n",
       "[60] +(H::LinearAlgebra.UpperHessenberg, x::LinearAlgebra.Tridiagonal) in LinearAlgebra at /home/cicuser/julia-1.7.0/share/julia/stdlib/v1.7/LinearAlgebra/src/hessenberg.jl:106\n",
       "[61] +(H::LinearAlgebra.UpperHessenberg, x::LinearAlgebra.SymTridiagonal) in LinearAlgebra at /home/cicuser/julia-1.7.0/share/julia/stdlib/v1.7/LinearAlgebra/src/hessenberg.jl:106\n",
       "[62] +(H::LinearAlgebra.UpperHessenberg, x::LinearAlgebra.UpperTriangular) in LinearAlgebra at /home/cicuser/julia-1.7.0/share/julia/stdlib/v1.7/LinearAlgebra/src/hessenberg.jl:106\n",
       "[63] +(H::LinearAlgebra.UpperHessenberg, x::LinearAlgebra.UnitUpperTriangular) in LinearAlgebra at /home/cicuser/julia-1.7.0/share/julia/stdlib/v1.7/LinearAlgebra/src/hessenberg.jl:106\n",
       "[64] +(x::P, y::P) where P<:Dates.Period in Dates at /home/cicuser/julia-1.7.0/share/julia/stdlib/v1.7/Dates/src/periods.jl:79\n",
       "[65] +(x::Dates.Period, y::Dates.Period) in Dates at /home/cicuser/julia-1.7.0/share/julia/stdlib/v1.7/Dates/src/periods.jl:361\n",
       "[66] +(y::Dates.Period, x::Dates.CompoundPeriod) in Dates at /home/cicuser/julia-1.7.0/share/julia/stdlib/v1.7/Dates/src/periods.jl:363\n",
       "[67] +(y::Dates.Period, x::Dates.TimeType) in Dates at /home/cicuser/julia-1.7.0/share/julia/stdlib/v1.7/Dates/src/arithmetic.jl:85\n",
       "[68] +(x::Dates.Period, r::AbstractRange{<:Dates.TimeType}) in Dates at /home/cicuser/julia-1.7.0/share/julia/stdlib/v1.7/Dates/src/ranges.jl:62\n",
       "[69] +(y::Union{Dates.CompoundPeriod, Dates.Period}, x::AbstractArray{<:Dates.TimeType}) in Dates at /home/cicuser/julia-1.7.0/share/julia/stdlib/v1.7/Dates/src/deprecated.jl:14\n",
       "[70] +(a::Tuple{Vararg{Measures.Measure, N}}, b::Tuple{Vararg{Measures.Measure, N}}) where N in Measures at /home/cicuser/.julia/packages/Measures/0Zkai/src/point.jl:21\n",
       "[71] +(a::Tuple{Vararg{Measures.Measure, N}} where N, b::Tuple{Vararg{Measures.Measure, N}} where N) in Measures at /home/cicuser/.julia/packages/Measures/0Zkai/src/point.jl:15\n",
       "[72] +(A::LinearAlgebra.Symmetric, B::LinearAlgebra.Symmetric) in LinearAlgebra at /home/cicuser/julia-1.7.0/share/julia/stdlib/v1.7/LinearAlgebra/src/symmetric.jl:469\n",
       "[73] +(A::LinearAlgebra.Symmetric, B::LinearAlgebra.SymTridiagonal) in LinearAlgebra at /home/cicuser/julia-1.7.0/share/julia/stdlib/v1.7/LinearAlgebra/src/symmetric.jl:486\n",
       "[74] +(S::LinearAlgebra.Symmetric, D::LinearAlgebra.Diagonal) in LinearAlgebra at /home/cicuser/julia-1.7.0/share/julia/stdlib/v1.7/LinearAlgebra/src/diagonal.jl:179\n",
       "[75] +(A::LinearAlgebra.Symmetric{<:Any, <:SparseArrays.AbstractSparseMatrix}, B::SparseArrays.AbstractSparseMatrix) in SparseArrays at /home/cicuser/julia-1.7.0/share/julia/stdlib/v1.7/SparseArrays/src/linalg.jl:15\n",
       "[76] +(A::LinearAlgebra.Symmetric, B::SparseArrays.AbstractSparseMatrix) in SparseArrays at /home/cicuser/julia-1.7.0/share/julia/stdlib/v1.7/SparseArrays/src/linalg.jl:18\n",
       "[77] +(A::LinearAlgebra.Symmetric{<:Real, <:SparseArrays.AbstractSparseMatrix}, B::LinearAlgebra.Hermitian{<:Any, <:SparseArrays.AbstractSparseMatrix}) in SparseArrays at /home/cicuser/julia-1.7.0/share/julia/stdlib/v1.7/SparseArrays/src/linalg.jl:25\n",
       "[78] +(A::LinearAlgebra.Symmetric{var\"#s858\", S} where {var\"#s858\"<:Real, S<:(AbstractMatrix{<:var\"#s858\"})}, B::LinearAlgebra.Hermitian) in LinearAlgebra at /home/cicuser/julia-1.7.0/share/julia/stdlib/v1.7/LinearAlgebra/src/symmetric.jl:484\n",
       "[79] +(A::LinearAlgebra.Symmetric{<:Any, <:SparseArrays.AbstractSparseMatrix}, B::LinearAlgebra.Hermitian{<:Any, <:SparseArrays.AbstractSparseMatrix}) in SparseArrays at /home/cicuser/julia-1.7.0/share/julia/stdlib/v1.7/SparseArrays/src/linalg.jl:23\n",
       "[80] +(a::Measures.Length{U}, b::Measures.Length{U}) where U in Measures at /home/cicuser/.julia/packages/Measures/0Zkai/src/length.jl:28\n",
       "[81] +(a::Measures.Measure, b::Measures.Measure) in Measures at /home/cicuser/.julia/packages/Measures/0Zkai/src/operations.jl:41\n",
       "[82] +(a::Dict, d::ChainRulesCore.Tangent{P}) where P in ChainRulesCore at /home/cicuser/.julia/packages/ChainRulesCore/sHMAp/src/tangent_arithmetic.jl:145\n",
       "[83] +(A::LinearAlgebra.UpperTriangular, B::LinearAlgebra.UpperTriangular) in LinearAlgebra at /home/cicuser/julia-1.7.0/share/julia/stdlib/v1.7/LinearAlgebra/src/triangular.jl:636\n",
       "[84] +(A::LinearAlgebra.UpperTriangular, B::LinearAlgebra.UnitUpperTriangular) in LinearAlgebra at /home/cicuser/julia-1.7.0/share/julia/stdlib/v1.7/LinearAlgebra/src/triangular.jl:638\n",
       "[85] +(x::LinearAlgebra.UpperTriangular, H::LinearAlgebra.UpperHessenberg) in LinearAlgebra at /home/cicuser/julia-1.7.0/share/julia/stdlib/v1.7/LinearAlgebra/src/hessenberg.jl:107\n",
       "[86] +(A::LinearAlgebra.UpperTriangular, B::LinearAlgebra.Bidiagonal) in LinearAlgebra at /home/cicuser/julia-1.7.0/share/julia/stdlib/v1.7/LinearAlgebra/src/special.jl:86\n",
       "[87] +(h::GeometryBasics.HyperRectangle{N, T}, move::StaticArrays.StaticVector{N}) where {N, T} in GeometryBasics at /home/cicuser/.julia/packages/GeometryBasics/WMp6v/src/primitives/rectangles.jl:273\n",
       "[88] +(h::GeometryBasics.HyperRectangle{N, T}, move::Number) where {N, T} in GeometryBasics at /home/cicuser/.julia/packages/GeometryBasics/WMp6v/src/primitives/rectangles.jl:267\n",
       "[89] +(x::SparseArrays.AbstractSparseVector, y::SparseArrays.AbstractSparseVector) in SparseArrays at /home/cicuser/julia-1.7.0/share/julia/stdlib/v1.7/SparseArrays/src/sparsevector.jl:1355\n",
       "[90] +(A::SparseArrays.AbstractSparseMatrix, B::LinearAlgebra.Hermitian{<:Any, <:SparseArrays.AbstractSparseMatrix}) in SparseArrays at /home/cicuser/julia-1.7.0/share/julia/stdlib/v1.7/SparseArrays/src/linalg.jl:14\n",
       "[91] +(A::SparseArrays.AbstractSparseMatrix, B::LinearAlgebra.Hermitian) in SparseArrays at /home/cicuser/julia-1.7.0/share/julia/stdlib/v1.7/SparseArrays/src/linalg.jl:17\n",
       "[92] +(A::SparseArrays.AbstractSparseMatrix, B::LinearAlgebra.Symmetric{<:Any, <:SparseArrays.AbstractSparseMatrix}) in SparseArrays at /home/cicuser/julia-1.7.0/share/julia/stdlib/v1.7/SparseArrays/src/linalg.jl:14\n",
       "[93] +(A::SparseArrays.AbstractSparseMatrix, B::LinearAlgebra.Symmetric) in SparseArrays at /home/cicuser/julia-1.7.0/share/julia/stdlib/v1.7/SparseArrays/src/linalg.jl:17\n",
       "[94] +(A::LinearAlgebra.SymTridiagonal, B::LinearAlgebra.SymTridiagonal) in LinearAlgebra at /home/cicuser/julia-1.7.0/share/julia/stdlib/v1.7/LinearAlgebra/src/tridiag.jl:208\n",
       "[95] +(A::LinearAlgebra.SymTridiagonal, B::LinearAlgebra.Symmetric) in LinearAlgebra at /home/cicuser/julia-1.7.0/share/julia/stdlib/v1.7/LinearAlgebra/src/symmetric.jl:485\n",
       "[96] +(A::LinearAlgebra.SymTridiagonal{var\"#s857\", V} where {var\"#s857\"<:Real, V<:AbstractVector{var\"#s857\"}}, B::LinearAlgebra.Hermitian) in LinearAlgebra at /home/cicuser/julia-1.7.0/share/julia/stdlib/v1.7/LinearAlgebra/src/symmetric.jl:487\n",
       "[97] +(x::LinearAlgebra.SymTridiagonal, H::LinearAlgebra.UpperHessenberg) in LinearAlgebra at /home/cicuser/julia-1.7.0/share/julia/stdlib/v1.7/LinearAlgebra/src/hessenberg.jl:107\n",
       "[98] +(A::LinearAlgebra.SymTridiagonal, B::LinearAlgebra.Diagonal) in LinearAlgebra at /home/cicuser/julia-1.7.0/share/julia/stdlib/v1.7/LinearAlgebra/src/special.jl:145\n",
       "[99] +(A::LinearAlgebra.SymTridiagonal, B::LinearAlgebra.Tridiagonal) in LinearAlgebra at /home/cicuser/julia-1.7.0/share/julia/stdlib/v1.7/LinearAlgebra/src/special.jl:159\n",
       "[100] +(A::LinearAlgebra.SymTridiagonal, B::LinearAlgebra.Bidiagonal) in LinearAlgebra at /home/cicuser/julia-1.7.0/share/julia/stdlib/v1.7/LinearAlgebra/src/special.jl:213\n",
       "[101] +(A::LinearAlgebra.SymTridiagonal{var\"#s859\", V} where {var\"#s859\"<:Number, V<:AbstractVector{var\"#s859\"}}, B::LinearAlgebra.UniformScaling) in LinearAlgebra at /home/cicuser/julia-1.7.0/share/julia/stdlib/v1.7/LinearAlgebra/src/special.jl:231\n",
       "[102] +(r1::StepRangeLen{T, R}, r2::StepRangeLen{T, R}) where {R<:Base.TwicePrecision, T} in Base at twiceprecision.jl:613\n",
       "[103] +(r1::StepRangeLen{T, S}, r2::StepRangeLen{T, S}) where {T, S} in Base at range.jl:1370\n",
       "[104] +(r1::Union{LinRange, OrdinalRange, StepRangeLen}, r2::Union{LinRange, OrdinalRange, StepRangeLen}) in Base at range.jl:1363\n",
       "[105] +(x::Ptr, y::Integer) in Base at pointer.jl:159\n",
       "[106] +(x::Dates.Instant) in Dates at /home/cicuser/julia-1.7.0/share/julia/stdlib/v1.7/Dates/src/arithmetic.jl:4\n",
       "[107] +(A::LinearAlgebra.Bidiagonal, B::LinearAlgebra.Bidiagonal) in LinearAlgebra at /home/cicuser/julia-1.7.0/share/julia/stdlib/v1.7/LinearAlgebra/src/bidiag.jl:354\n",
       "[108] +(x::LinearAlgebra.Bidiagonal, H::LinearAlgebra.UpperHessenberg) in LinearAlgebra at /home/cicuser/julia-1.7.0/share/julia/stdlib/v1.7/LinearAlgebra/src/hessenberg.jl:107\n",
       "[109] +(A::LinearAlgebra.Bidiagonal, B::LinearAlgebra.UpperTriangular) in LinearAlgebra at /home/cicuser/julia-1.7.0/share/julia/stdlib/v1.7/LinearAlgebra/src/special.jl:94\n",
       "[110] +(A::LinearAlgebra.Bidiagonal, B::LinearAlgebra.UnitUpperTriangular) in LinearAlgebra at /home/cicuser/julia-1.7.0/share/julia/stdlib/v1.7/LinearAlgebra/src/special.jl:94\n",
       "[111] +(A::LinearAlgebra.Bidiagonal, B::LinearAlgebra.LowerTriangular) in LinearAlgebra at /home/cicuser/julia-1.7.0/share/julia/stdlib/v1.7/LinearAlgebra/src/special.jl:94\n",
       "[112] +(A::LinearAlgebra.Bidiagonal, B::LinearAlgebra.UnitLowerTriangular) in LinearAlgebra at /home/cicuser/julia-1.7.0/share/julia/stdlib/v1.7/LinearAlgebra/src/special.jl:94\n",
       "[113] +(A::LinearAlgebra.Bidiagonal, B::LinearAlgebra.Diagonal) in LinearAlgebra at /home/cicuser/julia-1.7.0/share/julia/stdlib/v1.7/LinearAlgebra/src/special.jl:115\n",
       "[114] +(A::LinearAlgebra.Bidiagonal, B::LinearAlgebra.Tridiagonal) in LinearAlgebra at /home/cicuser/julia-1.7.0/share/julia/stdlib/v1.7/LinearAlgebra/src/special.jl:183\n",
       "[115] +(A::LinearAlgebra.Bidiagonal, B::LinearAlgebra.SymTridiagonal) in LinearAlgebra at /home/cicuser/julia-1.7.0/share/julia/stdlib/v1.7/LinearAlgebra/src/special.jl:203\n",
       "[116] +(A::LinearAlgebra.Bidiagonal{var\"#s859\", V} where {var\"#s859\"<:Number, V<:AbstractVector{var\"#s859\"}}, B::LinearAlgebra.UniformScaling) in LinearAlgebra at /home/cicuser/julia-1.7.0/share/julia/stdlib/v1.7/LinearAlgebra/src/special.jl:236\n",
       "[117] +(A::LinearAlgebra.Hermitian, B::LinearAlgebra.Hermitian) in LinearAlgebra at /home/cicuser/julia-1.7.0/share/julia/stdlib/v1.7/LinearAlgebra/src/symmetric.jl:469\n",
       "[118] +(A::LinearAlgebra.Hermitian, B::LinearAlgebra.SymTridiagonal{var\"#s856\", V} where {var\"#s856\"<:Real, V<:AbstractVector{var\"#s856\"}}) in LinearAlgebra at /home/cicuser/julia-1.7.0/share/julia/stdlib/v1.7/LinearAlgebra/src/symmetric.jl:488\n",
       "[119] +(H::LinearAlgebra.Hermitian, D::LinearAlgebra.Diagonal{var\"#s859\", V} where {var\"#s859\"<:Real, V<:AbstractVector{var\"#s859\"}}) in LinearAlgebra at /home/cicuser/julia-1.7.0/share/julia/stdlib/v1.7/LinearAlgebra/src/diagonal.jl:185\n",
       "[120] +(A::LinearAlgebra.Hermitian, J::LinearAlgebra.UniformScaling{<:Complex}) in LinearAlgebra at /home/cicuser/julia-1.7.0/share/julia/stdlib/v1.7/LinearAlgebra/src/uniformscaling.jl:196\n",
       "[121] +(A::LinearAlgebra.Hermitian{<:Any, <:SparseArrays.AbstractSparseMatrix}, B::SparseArrays.AbstractSparseMatrix) in SparseArrays at /home/cicuser/julia-1.7.0/share/julia/stdlib/v1.7/SparseArrays/src/linalg.jl:15\n",
       "[122] +(A::LinearAlgebra.Hermitian, B::SparseArrays.AbstractSparseMatrix) in SparseArrays at /home/cicuser/julia-1.7.0/share/julia/stdlib/v1.7/SparseArrays/src/linalg.jl:18\n",
       "[123] +(A::LinearAlgebra.Hermitian{<:Any, <:SparseArrays.AbstractSparseMatrix}, B::LinearAlgebra.Symmetric{<:Real, <:SparseArrays.AbstractSparseMatrix}) in SparseArrays at /home/cicuser/julia-1.7.0/share/julia/stdlib/v1.7/SparseArrays/src/linalg.jl:26\n",
       "[124] +(A::LinearAlgebra.Hermitian, B::LinearAlgebra.Symmetric{var\"#s859\", S} where {var\"#s859\"<:Real, S<:(AbstractMatrix{<:var\"#s859\"})}) in LinearAlgebra at /home/cicuser/julia-1.7.0/share/julia/stdlib/v1.7/LinearAlgebra/src/symmetric.jl:483\n",
       "[125] +(A::LinearAlgebra.Hermitian{<:Any, <:SparseArrays.AbstractSparseMatrix}, B::LinearAlgebra.Symmetric{<:Any, <:SparseArrays.AbstractSparseMatrix}) in SparseArrays at /home/cicuser/julia-1.7.0/share/julia/stdlib/v1.7/SparseArrays/src/linalg.jl:24\n",
       "[126] +(bb1::Measures.BoundingBox, bb2::Measures.BoundingBox) in Plots at /home/cicuser/.julia/packages/Plots/FCM0H/src/layouts.jl:19\n",
       "[127] +(A::BitArray, B::BitArray) in Base at bitarray.jl:1180\n",
       "[128] +(x::X, y::X) where X<:FixedPointNumbers.FixedPoint in FixedPointNumbers at /home/cicuser/.julia/packages/FixedPointNumbers/HAGk2/src/FixedPointNumbers.jl:237\n",
       "[129] +(r::AbstractRange{<:Dates.TimeType}, x::Dates.Period) in Dates at /home/cicuser/julia-1.7.0/share/julia/stdlib/v1.7/Dates/src/ranges.jl:63\n",
       "[130] +(x::AbstractArray{<:Dates.TimeType}, y::Union{Dates.CompoundPeriod, Dates.Period}) in Dates at /home/cicuser/julia-1.7.0/share/julia/stdlib/v1.7/Dates/src/deprecated.jl:6\n",
       "[131] +(x::GeometryBasics.OffsetInteger{O}, y::GeometryBasics.OffsetInteger{O}) where O in GeometryBasics at /home/cicuser/.julia/packages/GeometryBasics/WMp6v/src/offsetintegers.jl:63\n",
       "[132] +(A::LinearAlgebra.UnitUpperTriangular, B::LinearAlgebra.UpperTriangular) in LinearAlgebra at /home/cicuser/julia-1.7.0/share/julia/stdlib/v1.7/LinearAlgebra/src/triangular.jl:640\n",
       "[133] +(A::LinearAlgebra.UnitUpperTriangular, B::LinearAlgebra.UnitUpperTriangular) in LinearAlgebra at /home/cicuser/julia-1.7.0/share/julia/stdlib/v1.7/LinearAlgebra/src/triangular.jl:642\n",
       "[134] +(A::LinearAlgebra.AbstractTriangular, B::LinearAlgebra.AbstractTriangular) in LinearAlgebra at /home/cicuser/julia-1.7.0/share/julia/stdlib/v1.7/LinearAlgebra/src/triangular.jl:644\n",
       "[135] +(UL::LinearAlgebra.UnitUpperTriangular, J::LinearAlgebra.UniformScaling) in LinearAlgebra at /home/cicuser/julia-1.7.0/share/julia/stdlib/v1.7/LinearAlgebra/src/uniformscaling.jl:182\n",
       "[136] +(x::LinearAlgebra.UnitUpperTriangular, H::LinearAlgebra.UpperHessenberg) in LinearAlgebra at /home/cicuser/julia-1.7.0/share/julia/stdlib/v1.7/LinearAlgebra/src/hessenberg.jl:107\n",
       "[137] +(A::LinearAlgebra.UnitUpperTriangular, B::LinearAlgebra.Bidiagonal) in LinearAlgebra at /home/cicuser/julia-1.7.0/share/julia/stdlib/v1.7/LinearAlgebra/src/special.jl:86\n",
       "[138] +(x::T, y::Integer) where T<:AbstractChar in Base at char.jl:237\n",
       "[139] +(a::ChainRulesCore.Tangent{P}, b::ChainRulesCore.Tangent{P}) where P in ChainRulesCore at /home/cicuser/.julia/packages/ChainRulesCore/sHMAp/src/tangent_arithmetic.jl:129\n",
       "[140] +(a::ChainRulesCore.Tangent, b::ChainRulesCore.AbstractThunk) in ChainRulesCore at /home/cicuser/.julia/packages/ChainRulesCore/sHMAp/src/tangent_arithmetic.jl:123\n",
       "[141] +(a::ChainRulesCore.Tangent, ::ChainRulesCore.ZeroTangent) in ChainRulesCore at /home/cicuser/.julia/packages/ChainRulesCore/sHMAp/src/tangent_arithmetic.jl:100\n",
       "[142] +(a::ChainRulesCore.Tangent, ::ChainRulesCore.NoTangent) in ChainRulesCore at /home/cicuser/.julia/packages/ChainRulesCore/sHMAp/src/tangent_arithmetic.jl:60\n",
       "[143] +(::ChainRulesCore.Tangent, x::ChainRulesCore.NotImplemented) in ChainRulesCore at /home/cicuser/.julia/packages/ChainRulesCore/sHMAp/src/tangent_arithmetic.jl:25\n",
       "[144] +(a::ChainRulesCore.Tangent{P}, b::P) where P in ChainRulesCore at /home/cicuser/.julia/packages/ChainRulesCore/sHMAp/src/tangent_arithmetic.jl:146\n",
       "[145] +(A::Array, Bs::Array...) in Base at arraymath.jl:43\n",
       "[146] +(X::StridedArray{<:Union{Dates.CompoundPeriod, Dates.Period}}, Y::StridedArray{<:Union{Dates.CompoundPeriod, Dates.Period}}) in Dates at /home/cicuser/julia-1.7.0/share/julia/stdlib/v1.7/Dates/src/deprecated.jl:62\n",
       "[147] +(A::Array, B::SparseArrays.AbstractSparseMatrixCSC) in SparseArrays at /home/cicuser/julia-1.7.0/share/julia/stdlib/v1.7/SparseArrays/src/sparsematrix.jl:1775\n",
       "[148] +(x::StridedArray{<:Union{Dates.CompoundPeriod, Dates.Period}}) in Dates at /home/cicuser/julia-1.7.0/share/julia/stdlib/v1.7/Dates/src/deprecated.jl:55\n",
       "[149] +(x::StridedArray{<:Union{Dates.CompoundPeriod, Dates.Period}}, y::Dates.TimeType) in Dates at /home/cicuser/julia-1.7.0/share/julia/stdlib/v1.7/Dates/src/deprecated.jl:10\n",
       "[150] +(A::AbstractArray, B::AbstractArray) in Base at arraymath.jl:37\n",
       "[151] +(J::LinearAlgebra.UniformScaling) in LinearAlgebra at /home/cicuser/julia-1.7.0/share/julia/stdlib/v1.7/LinearAlgebra/src/uniformscaling.jl:150\n",
       "[152] +(J::LinearAlgebra.UniformScaling, x::Number) in LinearAlgebra at /home/cicuser/julia-1.7.0/share/julia/stdlib/v1.7/LinearAlgebra/src/uniformscaling.jl:145\n",
       "[153] +(J1::LinearAlgebra.UniformScaling, J2::LinearAlgebra.UniformScaling) in LinearAlgebra at /home/cicuser/julia-1.7.0/share/julia/stdlib/v1.7/LinearAlgebra/src/uniformscaling.jl:151\n",
       "[154] +(J::LinearAlgebra.UniformScaling, B::BitMatrix) in LinearAlgebra at /home/cicuser/julia-1.7.0/share/julia/stdlib/v1.7/LinearAlgebra/src/uniformscaling.jl:153\n",
       "[155] +(x::LinearAlgebra.UniformScaling, H::LinearAlgebra.UpperHessenberg) in LinearAlgebra at /home/cicuser/julia-1.7.0/share/julia/stdlib/v1.7/LinearAlgebra/src/hessenberg.jl:107\n",
       "[156] +(J::LinearAlgebra.UniformScaling, F::LinearAlgebra.Hessenberg) in LinearAlgebra at /home/cicuser/julia-1.7.0/share/julia/stdlib/v1.7/LinearAlgebra/src/hessenberg.jl:641\n",
       "[157] +(A::LinearAlgebra.UniformScaling, B::LinearAlgebra.Tridiagonal{var\"#s859\", V} where {var\"#s859\"<:Number, V<:AbstractVector{var\"#s859\"}}) in LinearAlgebra at /home/cicuser/julia-1.7.0/share/julia/stdlib/v1.7/LinearAlgebra/src/special.jl:245\n",
       "[158] +(A::LinearAlgebra.UniformScaling, B::LinearAlgebra.SymTridiagonal{var\"#s859\", V} where {var\"#s859\"<:Number, V<:AbstractVector{var\"#s859\"}}) in LinearAlgebra at /home/cicuser/julia-1.7.0/share/julia/stdlib/v1.7/LinearAlgebra/src/special.jl:250\n",
       "[159] +(A::LinearAlgebra.UniformScaling, B::LinearAlgebra.Bidiagonal{var\"#s859\", V} where {var\"#s859\"<:Number, V<:AbstractVector{var\"#s859\"}}) in LinearAlgebra at /home/cicuser/julia-1.7.0/share/julia/stdlib/v1.7/LinearAlgebra/src/special.jl:255\n",
       "[160] +(A::LinearAlgebra.UniformScaling, B::LinearAlgebra.Diagonal{var\"#s859\", V} where {var\"#s859\"<:Number, V<:AbstractVector{var\"#s859\"}}) in LinearAlgebra at /home/cicuser/julia-1.7.0/share/julia/stdlib/v1.7/LinearAlgebra/src/special.jl:260\n",
       "[161] +(a::LinearAlgebra.UniformScaling, b::StaticArrays.StaticMatrix) in StaticArrays at /home/cicuser/.julia/packages/StaticArrays/OWJK7/src/linalg.jl:30\n",
       "[162] +(J::LinearAlgebra.UniformScaling, A::AbstractMatrix) in LinearAlgebra at /home/cicuser/julia-1.7.0/share/julia/stdlib/v1.7/LinearAlgebra/src/uniformscaling.jl:154\n",
       "[163] +(x::BigFloat, c::Union{UInt16, UInt32, UInt64, UInt8}) in Base.MPFR at mpfr.jl:385\n",
       "[164] +(x::BigFloat, c::Union{Int16, Int32, Int64, Int8}) in Base.MPFR at mpfr.jl:393\n",
       "[165] +(x::BigFloat, c::Union{Float16, Float32, Float64}) in Base.MPFR at mpfr.jl:401\n",
       "[166] +(x::BigFloat, y::BigFloat) in Base.MPFR at mpfr.jl:378\n",
       "[167] +(x::BigFloat, c::BigInt) in Base.MPFR at mpfr.jl:409\n",
       "[168] +(a::BigFloat, b::BigFloat, c::BigFloat) in Base.MPFR at mpfr.jl:550\n",
       "[169] +(a::BigFloat, b::BigFloat, c::BigFloat, d::BigFloat) in Base.MPFR at mpfr.jl:556\n",
       "[170] +(a::BigFloat, b::BigFloat, c::BigFloat, d::BigFloat, e::BigFloat) in Base.MPFR at mpfr.jl:563\n",
       "[171] +(z::Complex{Bool}, x::Bool) in Base at complex.jl:300\n",
       "[172] +(z::Complex, x::Bool) in Base at complex.jl:307\n",
       "[173] +(z::Complex{Bool}, x::Real) in Base at complex.jl:314\n",
       "[174] +(z::Complex) in Base at complex.jl:286\n",
       "[175] +(z::Complex, x::Real) in Base at complex.jl:326\n",
       "[176] +(x::Float64, y::Float64) in Base at float.jl:399\n",
       "[177] +(x::Dates.CompoundPeriod, y::Dates.Period) in Dates at /home/cicuser/julia-1.7.0/share/julia/stdlib/v1.7/Dates/src/periods.jl:362\n",
       "[178] +(x::Dates.CompoundPeriod, y::Dates.TimeType) in Dates at /home/cicuser/julia-1.7.0/share/julia/stdlib/v1.7/Dates/src/periods.jl:392\n",
       "[179] +(x::Dates.CompoundPeriod, y::Dates.CompoundPeriod) in Dates at /home/cicuser/julia-1.7.0/share/julia/stdlib/v1.7/Dates/src/periods.jl:364\n",
       "[180] +(x::Bool) in Base at bool.jl:159\n",
       "[181] +(x::Number, y::Base.TwicePrecision) in Base at twiceprecision.jl:283\n",
       "[182] +(::Number, ::Missing) in Base at missing.jl:124\n",
       "[183] +(x::Number, J::LinearAlgebra.UniformScaling) in LinearAlgebra at /home/cicuser/julia-1.7.0/share/julia/stdlib/v1.7/LinearAlgebra/src/uniformscaling.jl:146\n",
       "[184] +(x::Integer, y::Ptr) in Base at pointer.jl:161\n",
       "[185] +(y::Integer, x::Rational) in Base at rational.jl:318\n",
       "[186] +(x::Integer, y::AbstractChar) in Base at char.jl:247\n",
       "[187] +(x::Bool, y::T) where T<:AbstractFloat in Base at bool.jl:169\n",
       "[188] +(x::Bool, y::Bool) in Base at bool.jl:162\n",
       "[189] +(x::Bool, z::Complex{Bool}) in Base at complex.jl:299\n",
       "[190] +(x::Real, z::Complex{Bool}) in Base at complex.jl:313\n",
       "[191] +(x::Bool, z::Complex) in Base at complex.jl:306\n",
       "[192] +(x::Real, z::Complex) in Base at complex.jl:325\n",
       "[193] +(x::Dates.Time, y::Dates.TimePeriod) in Dates at /home/cicuser/julia-1.7.0/share/julia/stdlib/v1.7/Dates/src/arithmetic.jl:83\n",
       "[194] +(t::Dates.Time, dt::Dates.Date) in Dates at /home/cicuser/julia-1.7.0/share/julia/stdlib/v1.7/Dates/src/arithmetic.jl:20\n",
       "[195] +(x::Float16, y::Float16) in Base at float.jl:397\n",
       "[196] +(x::Float32, y::Float32) in Base at float.jl:398\n",
       "[197] +(x::ChainRulesCore.NotImplemented, ::ChainRulesCore.Tangent) in ChainRulesCore at /home/cicuser/.julia/packages/ChainRulesCore/sHMAp/src/tangent_arithmetic.jl:24\n",
       "[198] +(x::ChainRulesCore.NotImplemented, ::ChainRulesCore.AbstractThunk) in ChainRulesCore at /home/cicuser/.julia/packages/ChainRulesCore/sHMAp/src/tangent_arithmetic.jl:24\n",
       "[199] +(x::ChainRulesCore.NotImplemented, ::ChainRulesCore.NoTangent) in ChainRulesCore at /home/cicuser/.julia/packages/ChainRulesCore/sHMAp/src/tangent_arithmetic.jl:24\n",
       "[200] +(x::ChainRulesCore.NotImplemented, ::ChainRulesCore.ZeroTangent) in ChainRulesCore at /home/cicuser/.julia/packages/ChainRulesCore/sHMAp/src/tangent_arithmetic.jl:24\n",
       "[201] +(x::ChainRulesCore.NotImplemented, ::ChainRulesCore.NotImplemented) in ChainRulesCore at /home/cicuser/.julia/packages/ChainRulesCore/sHMAp/src/tangent_arithmetic.jl:19\n",
       "[202] +(x::ChainRulesCore.NotImplemented, ::Any) in ChainRulesCore at /home/cicuser/.julia/packages/ChainRulesCore/sHMAp/src/tangent_arithmetic.jl:24\n",
       "[203] +(::ChainRulesCore.ZeroTangent, b::ChainRulesCore.Tangent) in ChainRulesCore at /home/cicuser/.julia/packages/ChainRulesCore/sHMAp/src/tangent_arithmetic.jl:99\n",
       "[204] +(::ChainRulesCore.ZeroTangent, b::ChainRulesCore.AbstractThunk) in ChainRulesCore at /home/cicuser/.julia/packages/ChainRulesCore/sHMAp/src/tangent_arithmetic.jl:99\n",
       "[205] +(::ChainRulesCore.ZeroTangent, ::ChainRulesCore.ZeroTangent) in ChainRulesCore at /home/cicuser/.julia/packages/ChainRulesCore/sHMAp/src/tangent_arithmetic.jl:93\n",
       "[206] +(::ChainRulesCore.ZeroTangent, ::ChainRulesCore.NoTangent) in ChainRulesCore at /home/cicuser/.julia/packages/ChainRulesCore/sHMAp/src/tangent_arithmetic.jl:74\n",
       "[207] +(::ChainRulesCore.ZeroTangent, x::ChainRulesCore.NotImplemented) in ChainRulesCore at /home/cicuser/.julia/packages/ChainRulesCore/sHMAp/src/tangent_arithmetic.jl:25\n",
       "[208] +(::ChainRulesCore.ZeroTangent, b) in ChainRulesCore at /home/cicuser/.julia/packages/ChainRulesCore/sHMAp/src/tangent_arithmetic.jl:99\n",
       "[209] +(a::Pkg.Resolve.VersionWeight, b::Pkg.Resolve.VersionWeight) in Pkg.Resolve at /home/cicuser/julia-1.7.0/share/julia/stdlib/v1.7/Pkg/src/Resolve/versionweights.jl:22\n",
       "[210] +(B::BitMatrix, J::LinearAlgebra.UniformScaling) in LinearAlgebra at /home/cicuser/julia-1.7.0/share/julia/stdlib/v1.7/LinearAlgebra/src/uniformscaling.jl:152\n",
       "[211] +(A::AbstractMatrix, J::LinearAlgebra.UniformScaling) in LinearAlgebra at /home/cicuser/julia-1.7.0/share/julia/stdlib/v1.7/LinearAlgebra/src/uniformscaling.jl:215\n",
       "[212] +(x::AbstractArray{<:Number}) in Base at abstractarraymath.jl:104\n",
       "[213] +(dt::Dates.Date, t::Dates.Time) in Dates at /home/cicuser/julia-1.7.0/share/julia/stdlib/v1.7/Dates/src/arithmetic.jl:19\n",
       "[214] +(dt::Dates.Date, y::Dates.Year) in Dates at /home/cicuser/julia-1.7.0/share/julia/stdlib/v1.7/Dates/src/arithmetic.jl:27\n",
       "[215] +(dt::Dates.Date, z::Dates.Month) in Dates at /home/cicuser/julia-1.7.0/share/julia/stdlib/v1.7/Dates/src/arithmetic.jl:54\n",
       "[216] +(x::Dates.Date, y::Dates.Quarter) in Dates at /home/cicuser/julia-1.7.0/share/julia/stdlib/v1.7/Dates/src/arithmetic.jl:73\n",
       "[217] +(x::Dates.Date, y::Dates.Week) in Dates at /home/cicuser/julia-1.7.0/share/julia/stdlib/v1.7/Dates/src/arithmetic.jl:77\n",
       "[218] +(x::Dates.Date, y::Dates.Day) in Dates at /home/cicuser/julia-1.7.0/share/julia/stdlib/v1.7/Dates/src/arithmetic.jl:79\n",
       "[219] +(::ChainRulesCore.NoTangent, b::ChainRulesCore.Tangent) in ChainRulesCore at /home/cicuser/.julia/packages/ChainRulesCore/sHMAp/src/tangent_arithmetic.jl:59\n",
       "[220] +(::ChainRulesCore.NoTangent, b::ChainRulesCore.AbstractThunk) in ChainRulesCore at /home/cicuser/.julia/packages/ChainRulesCore/sHMAp/src/tangent_arithmetic.jl:59\n",
       "[221] +(::ChainRulesCore.NoTangent, ::ChainRulesCore.ZeroTangent) in ChainRulesCore at /home/cicuser/.julia/packages/ChainRulesCore/sHMAp/src/tangent_arithmetic.jl:73\n",
       "[222] +(::ChainRulesCore.NoTangent, ::ChainRulesCore.NoTangent) in ChainRulesCore at /home/cicuser/.julia/packages/ChainRulesCore/sHMAp/src/tangent_arithmetic.jl:53\n",
       "[223] +(::ChainRulesCore.NoTangent, x::ChainRulesCore.NotImplemented) in ChainRulesCore at /home/cicuser/.julia/packages/ChainRulesCore/sHMAp/src/tangent_arithmetic.jl:25\n",
       "[224] +(::ChainRulesCore.NoTangent, b) in ChainRulesCore at /home/cicuser/.julia/packages/ChainRulesCore/sHMAp/src/tangent_arithmetic.jl:59\n",
       "[225] +(x::ChainRulesCore.AbstractTangent) in ChainRulesCore at /home/cicuser/.julia/packages/ChainRulesCore/sHMAp/src/tangent_types/abstract_tangent.jl:38\n",
       "[226] +(::Missing) in Base at missing.jl:101\n",
       "[227] +(::Missing, ::Number) in Base at missing.jl:123\n",
       "[228] +(x::Missing, y::Dates.AbstractTime) in Dates at /home/cicuser/julia-1.7.0/share/julia/stdlib/v1.7/Dates/src/arithmetic.jl:89\n",
       "[229] +(::Missing, ::Missing) in Base at missing.jl:122\n",
       "[230] +(x::Rational{BigInt}, y::Rational{BigInt}) in Base.GMP.MPQ at gmp.jl:885\n",
       "[231] +(x::Rational) in Base at rational.jl:268\n",
       "[232] +(x::Rational, y::Rational) in Base at rational.jl:282\n",
       "[233] +(level::Base.CoreLogging.LogLevel, inc::Integer) in Base.CoreLogging at logging.jl:131\n",
       "[234] +(a::Pkg.Resolve.FieldValue, b::Pkg.Resolve.FieldValue) in Pkg.Resolve at /home/cicuser/julia-1.7.0/share/julia/stdlib/v1.7/Pkg/src/Resolve/fieldvalues.jl:43\n",
       "[235] +(x::BigInt, c::Union{UInt16, UInt32, UInt64, UInt8}) in Base.GMP at gmp.jl:528\n",
       "[236] +(x::BigInt, c::Union{Int16, Int32, Int64, Int8}) in Base.GMP at gmp.jl:534\n",
       "[237] +(x::BigInt, y::BigInt) in Base.GMP at gmp.jl:480\n",
       "[238] +(a::BigInt, b::BigInt, c::BigInt) in Base.GMP at gmp.jl:520\n",
       "[239] +(a::BigInt, b::BigInt, c::BigInt, d::BigInt) in Base.GMP at gmp.jl:521\n",
       "[240] +(a::BigInt, b::BigInt, c::BigInt, d::BigInt, e::BigInt) in Base.GMP at gmp.jl:522\n",
       "[241] +(x::BigInt, y::BigInt, rest::BigInt...) in Base.GMP at gmp.jl:635\n",
       "[242] +(a::Integer, b::Integer) in Base at int.jl:978\n",
       "[243] +(c::BigInt, x::BigFloat) in Base.MPFR at mpfr.jl:414\n",
       "[244] +(x::Number) in Base at operators.jl:592\n",
       "[245] +(x::T, y::T) where T<:Number in Base at promotion.jl:454\n",
       "[246] +(x::Number, y::Number) in Base at promotion.jl:379\n",
       "[247] +(dt::Dates.DateTime, y::Dates.Year) in Dates at /home/cicuser/julia-1.7.0/share/julia/stdlib/v1.7/Dates/src/arithmetic.jl:23\n",
       "[248] +(dt::Dates.DateTime, z::Dates.Month) in Dates at /home/cicuser/julia-1.7.0/share/julia/stdlib/v1.7/Dates/src/arithmetic.jl:47\n",
       "[249] +(x::Dates.DateTime, y::Dates.Quarter) in Dates at /home/cicuser/julia-1.7.0/share/julia/stdlib/v1.7/Dates/src/arithmetic.jl:75\n",
       "[250] +(x::Dates.DateTime, y::Dates.Period) in Dates at /home/cicuser/julia-1.7.0/share/julia/stdlib/v1.7/Dates/src/arithmetic.jl:81\n",
       "[251] +(x::Dates.TimeType) in Dates at /home/cicuser/julia-1.7.0/share/julia/stdlib/v1.7/Dates/src/arithmetic.jl:8\n",
       "[252] +(a::P, d::ChainRulesCore.Tangent{P}) where P in ChainRulesCore at /home/cicuser/.julia/packages/ChainRulesCore/sHMAp/src/tangent_arithmetic.jl:133\n",
       "[253] +(a, b::ChainRulesCore.AbstractThunk) in ChainRulesCore at /home/cicuser/.julia/packages/ChainRulesCore/sHMAp/src/tangent_arithmetic.jl:123\n",
       "[254] +(a, ::ChainRulesCore.ZeroTangent) in ChainRulesCore at /home/cicuser/.julia/packages/ChainRulesCore/sHMAp/src/tangent_arithmetic.jl:100\n",
       "[255] +(a, ::ChainRulesCore.NoTangent) in ChainRulesCore at /home/cicuser/.julia/packages/ChainRulesCore/sHMAp/src/tangent_arithmetic.jl:60\n",
       "[256] +(::Any, x::ChainRulesCore.NotImplemented) in ChainRulesCore at /home/cicuser/.julia/packages/ChainRulesCore/sHMAp/src/tangent_arithmetic.jl:25\n",
       "[257] +(x::Dates.AbstractTime, y::Missing) in Dates at /home/cicuser/julia-1.7.0/share/julia/stdlib/v1.7/Dates/src/arithmetic.jl:88\n",
       "[258] +(a::Dates.TimeType, b::Dates.Period, c::Dates.Period) in Dates at /home/cicuser/julia-1.7.0/share/julia/stdlib/v1.7/Dates/src/periods.jl:383\n",
       "[259] +(a::Dates.TimeType, b::Dates.Period, c::Dates.Period, d::Dates.Period...) in Dates at /home/cicuser/julia-1.7.0/share/julia/stdlib/v1.7/Dates/src/periods.jl:384\n",
       "[260] +(x::Dates.TimeType, y::Dates.CompoundPeriod) in Dates at /home/cicuser/julia-1.7.0/share/julia/stdlib/v1.7/Dates/src/periods.jl:386\n",
       "[261] +(a, b, c, xs...) in Base at operators.jl:655"
      ]
     },
     "execution_count": 89,
     "metadata": {},
     "output_type": "execute_result"
    }
   ],
   "source": [
    "#Multiple Dispatch\n",
    "methods(+)"
   ]
  },
  {
   "cell_type": "code",
   "execution_count": 90,
   "id": "be7de782-6f42-47f6-9eb9-71d7d6cfbe0d",
   "metadata": {},
   "outputs": [
    {
     "data": {
      "text/html": [
       "+(x::<b>T</b>, y::<b>T</b>)<i> where T<:Union{Int128, Int16, Int32, Int64, Int8, UInt128, UInt16, UInt32, UInt64, UInt8}</i> in Base at <a href=\"https://github.com/JuliaLang/julia/tree/3bf9d1773144bc4943232dc2ffaac307a700853d/base/int.jl#L87\" target=\"_blank\">int.jl:87</a>"
      ],
      "text/plain": [
       "+(x::T, y::T) where T<:Union{Int128, Int16, Int32, Int64, Int8, UInt128, UInt16, UInt32, UInt64, UInt8} in Base at int.jl:87"
      ]
     },
     "execution_count": 90,
     "metadata": {},
     "output_type": "execute_result"
    }
   ],
   "source": [
    "@which 3+3"
   ]
  },
  {
   "cell_type": "code",
   "execution_count": 91,
   "id": "79374cf8-8817-486d-8cb3-b6a3d58944d5",
   "metadata": {},
   "outputs": [
    {
     "data": {
      "text/html": [
       "+(x::<b>Float64</b>, y::<b>Float64</b>) in Base at <a href=\"https://github.com/JuliaLang/julia/tree/3bf9d1773144bc4943232dc2ffaac307a700853d/base/float.jl#L399\" target=\"_blank\">float.jl:399</a>"
      ],
      "text/plain": [
       "+(x::Float64, y::Float64) in Base at float.jl:399"
      ]
     },
     "execution_count": 91,
     "metadata": {},
     "output_type": "execute_result"
    }
   ],
   "source": [
    "@which 3.0 + 3.0"
   ]
  },
  {
   "cell_type": "code",
   "execution_count": 92,
   "id": "ae769da1-4990-481c-9a36-372576eeef8c",
   "metadata": {},
   "outputs": [
    {
     "data": {
      "text/html": [
       "+(x::<b>Number</b>, y::<b>Number</b>) in Base at <a href=\"https://github.com/JuliaLang/julia/tree/3bf9d1773144bc4943232dc2ffaac307a700853d/base/promotion.jl#L379\" target=\"_blank\">promotion.jl:379</a>"
      ],
      "text/plain": [
       "+(x::Number, y::Number) in Base at promotion.jl:379"
      ]
     },
     "execution_count": 92,
     "metadata": {},
     "output_type": "execute_result"
    }
   ],
   "source": [
    "@which 3 + 3.0"
   ]
  },
  {
   "cell_type": "code",
   "execution_count": 94,
   "id": "3328e888-a28d-4899-97d6-cfbc40ae8d81",
   "metadata": {},
   "outputs": [
    {
     "ename": "LoadError",
     "evalue": "MethodError: no method matching +(::String, ::String)\n\u001b[0mClosest candidates are:\n\u001b[0m  +(::Any, ::Any, \u001b[91m::Any\u001b[39m, \u001b[91m::Any...\u001b[39m) at ~/julia-1.7.0/share/julia/base/operators.jl:655\n\u001b[0m  +(\u001b[91m::ChainRulesCore.AbstractThunk\u001b[39m, ::Any) at ~/.julia/packages/ChainRulesCore/sHMAp/src/tangent_arithmetic.jl:122\n\u001b[0m  +(\u001b[91m::ChainRulesCore.Tangent{P}\u001b[39m, ::P) where P at ~/.julia/packages/ChainRulesCore/sHMAp/src/tangent_arithmetic.jl:146\n\u001b[0m  ...",
     "output_type": "error",
     "traceback": [
      "MethodError: no method matching +(::String, ::String)\n\u001b[0mClosest candidates are:\n\u001b[0m  +(::Any, ::Any, \u001b[91m::Any\u001b[39m, \u001b[91m::Any...\u001b[39m) at ~/julia-1.7.0/share/julia/base/operators.jl:655\n\u001b[0m  +(\u001b[91m::ChainRulesCore.AbstractThunk\u001b[39m, ::Any) at ~/.julia/packages/ChainRulesCore/sHMAp/src/tangent_arithmetic.jl:122\n\u001b[0m  +(\u001b[91m::ChainRulesCore.Tangent{P}\u001b[39m, ::P) where P at ~/.julia/packages/ChainRulesCore/sHMAp/src/tangent_arithmetic.jl:146\n\u001b[0m  ...",
      "",
      "Stacktrace:",
      " [1] top-level scope",
      "   @ In[94]:1",
      " [2] eval",
      "   @ ./boot.jl:373 [inlined]",
      " [3] include_string(mapexpr::typeof(REPL.softscope), mod::Module, code::String, filename::String)",
      "   @ Base ./loading.jl:1196"
     ]
    }
   ],
   "source": [
    "a^2 + b"
   ]
  },
  {
   "cell_type": "code",
   "execution_count": 95,
   "id": "c4337fe1-673a-4284-93cc-1fcfee19066b",
   "metadata": {},
   "outputs": [
    {
     "ename": "LoadError",
     "evalue": "no unique matching method found for the specified argument types",
     "output_type": "error",
     "traceback": [
      "no unique matching method found for the specified argument types",
      "",
      "Stacktrace:",
      " [1] error(s::String)",
      "   @ Base ./error.jl:33",
      " [2] _which",
      "   @ ./reflection.jl:1304 [inlined]",
      " [3] _which",
      "   @ ./reflection.jl:1298 [inlined]",
      " [4] which(tt::Type)",
      "   @ Base ./reflection.jl:1333",
      " [5] which(f::Any, t::Any)",
      "   @ Base ./reflection.jl:1324",
      " [6] top-level scope",
      "   @ In[95]:1",
      " [7] eval",
      "   @ ./boot.jl:373 [inlined]",
      " [8] include_string(mapexpr::typeof(REPL.softscope), mod::Module, code::String, filename::String)",
      "   @ Base ./loading.jl:1196"
     ]
    }
   ],
   "source": [
    "@which a^2 + b"
   ]
  },
  {
   "cell_type": "code",
   "execution_count": 96,
   "id": "239fcd6e-3242-4847-8385-2503eee895db",
   "metadata": {},
   "outputs": [],
   "source": [
    "import Base: +"
   ]
  },
  {
   "cell_type": "code",
   "execution_count": 98,
   "id": "2b206140-dfde-4dc4-bda8-4d81a3f22d1d",
   "metadata": {},
   "outputs": [
    {
     "data": {
      "text/plain": [
       "+ (generic function with 262 methods)"
      ]
     },
     "execution_count": 98,
     "metadata": {},
     "output_type": "execute_result"
    }
   ],
   "source": [
    "+(x::String, y::String) = string(x,y)"
   ]
  },
  {
   "cell_type": "code",
   "execution_count": 99,
   "id": "8f3bd4ec-2a45-4ece-9708-94a23ccbb9b4",
   "metadata": {},
   "outputs": [
    {
     "data": {
      "text/plain": [
       "\"😸😸😸😸\""
      ]
     },
     "execution_count": 99,
     "metadata": {},
     "output_type": "execute_result"
    }
   ],
   "source": [
    "a^2 + b"
   ]
  },
  {
   "cell_type": "code",
   "execution_count": 100,
   "id": "6ed57fa5-a1c8-413e-afac-15c892d29153",
   "metadata": {},
   "outputs": [
    {
     "data": {
      "text/html": [
       "+(x::<b>String</b>, y::<b>String</b>) in Main at In[98]:1"
      ],
      "text/plain": [
       "+(x::String, y::String) in Main at In[98]:1"
      ]
     },
     "execution_count": 100,
     "metadata": {},
     "output_type": "execute_result"
    }
   ],
   "source": [
    "@which a^2 + b"
   ]
  },
  {
   "cell_type": "code",
   "execution_count": null,
   "id": "a8b25aa5-1edd-4f6c-b745-ea83eadb6bfc",
   "metadata": {},
   "outputs": [],
   "source": []
  }
 ],
 "metadata": {
  "@webio": {
   "lastCommId": "e9a0c8c8-e585-46c9-af49-6c68a2bce99f",
   "lastKernelId": "17884a3b-609a-49db-a865-6626e987bee9"
  },
  "kernelspec": {
   "display_name": "Julia 1.7.0",
   "language": "julia",
   "name": "julia-1.7"
  },
  "language_info": {
   "file_extension": ".jl",
   "mimetype": "application/julia",
   "name": "julia",
   "version": "1.7.0"
  }
 },
 "nbformat": 4,
 "nbformat_minor": 5
}
