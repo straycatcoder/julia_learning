{
 "cells": [
  {
   "cell_type": "markdown",
   "id": "b5b4edae-fba8-4bef-a3cd-c093624450a5",
   "metadata": {},
   "source": [
    "https://github.com/JuliaAcademy/Introduction-to-Julia "
   ]
  },
  {
   "cell_type": "code",
   "execution_count": 1,
   "id": "1ca0e567-16d5-4f12-8c61-c4684b71b7f4",
   "metadata": {},
   "outputs": [
    {
     "data": {
      "text/plain": [
       "365.0f0"
      ]
     },
     "execution_count": 1,
     "metadata": {},
     "output_type": "execute_result"
    }
   ],
   "source": [
    "# covert variable type\n",
    "# https://docs.julialang.org/en/v1/base/base/#Base.convert\n",
    "days = 365\n",
    "days_float = convert(Float32, days)"
   ]
  },
  {
   "cell_type": "code",
   "execution_count": 2,
   "id": "284debc8-700c-4313-9faf-cfee36c5d1c4",
   "metadata": {},
   "outputs": [],
   "source": [
    "@assert days == 365\n",
    "@assert days_float == 365.0"
   ]
  },
  {
   "cell_type": "code",
   "execution_count": 3,
   "id": "830ee85b-3cc3-405c-a487-1d274e9843fd",
   "metadata": {},
   "outputs": [
    {
     "data": {
      "text/plain": [
       "true"
      ]
     },
     "execution_count": 3,
     "metadata": {},
     "output_type": "execute_result"
    }
   ],
   "source": [
    "days_float == 365.0"
   ]
  },
  {
   "cell_type": "code",
   "execution_count": 4,
   "id": "b050d22a-5cba-4551-8d2f-298f84179928",
   "metadata": {},
   "outputs": [
    {
     "data": {
      "text/plain": [
       "\"😸\\\"😸\\\"😸\""
      ]
     },
     "execution_count": 4,
     "metadata": {},
     "output_type": "execute_result"
    }
   ],
   "source": [
    "# string\n",
    "a='😸'\n",
    "b=\"😸😸\"\n",
    "c=\"\"\"😸\"😸\"😸\"\"\""
   ]
  },
  {
   "cell_type": "code",
   "execution_count": 5,
   "id": "ea1f1416-af3f-4ad9-a843-d8c5b07fe225",
   "metadata": {},
   "outputs": [
    {
     "data": {
      "text/plain": [
       "Char"
      ]
     },
     "execution_count": 5,
     "metadata": {},
     "output_type": "execute_result"
    }
   ],
   "source": [
    "typeof(a)"
   ]
  },
  {
   "cell_type": "code",
   "execution_count": 6,
   "id": "6b5ddb0c-2c94-4d08-8725-4f2e12dcea45",
   "metadata": {},
   "outputs": [
    {
     "data": {
      "text/plain": [
       "true"
      ]
     },
     "execution_count": 6,
     "metadata": {},
     "output_type": "execute_result"
    }
   ],
   "source": [
    "typeof(b) == typeof(c)"
   ]
  },
  {
   "cell_type": "code",
   "execution_count": 7,
   "id": "294d0e20-d914-4ca4-9374-2df18e671561",
   "metadata": {},
   "outputs": [
    {
     "data": {
      "text/plain": [
       "2"
      ]
     },
     "execution_count": 7,
     "metadata": {},
     "output_type": "execute_result"
    }
   ],
   "source": [
    "name = \"😸\"\n",
    "life = 9\n",
    "dead = 2"
   ]
  },
  {
   "cell_type": "code",
   "execution_count": 8,
   "id": "7ee793d7-7798-4c2c-a6b1-4334e0d03ce4",
   "metadata": {},
   "outputs": [
    {
     "name": "stdout",
     "output_type": "stream",
     "text": [
      "My name is 😸, I have 9 lives, and I have been dead 2 times, 7 lives left.\n"
     ]
    }
   ],
   "source": [
    "println(\"My name is $name, I have $life lives, and I have been dead $dead times, $(life - dead) lives left.\")"
   ]
  },
  {
   "cell_type": "code",
   "execution_count": 9,
   "id": "d66b8ce6-27d4-4d4a-aa00-23b3a924d3e5",
   "metadata": {},
   "outputs": [
    {
     "data": {
      "text/plain": [
       "\"😸😸😸😸\\\"😸\\\"😸\""
      ]
     },
     "execution_count": 9,
     "metadata": {},
     "output_type": "execute_result"
    }
   ],
   "source": [
    "string(a,b,c)"
   ]
  },
  {
   "cell_type": "code",
   "execution_count": 10,
   "id": "0423f38b-2330-4871-9901-b1d533a46291",
   "metadata": {},
   "outputs": [
    {
     "data": {
      "text/plain": [
       "\"😸😸😸😸\\\"😸\\\"😸\""
      ]
     },
     "execution_count": 10,
     "metadata": {},
     "output_type": "execute_result"
    }
   ],
   "source": [
    "a*b*c"
   ]
  },
  {
   "cell_type": "code",
   "execution_count": 11,
   "id": "a6b3cc84-3f7e-4b34-8831-eb50348a2b80",
   "metadata": {},
   "outputs": [
    {
     "data": {
      "text/plain": [
       "\"😸😸😸😸\\\"😸\\\"😸\""
      ]
     },
     "execution_count": 11,
     "metadata": {},
     "output_type": "execute_result"
    }
   ],
   "source": [
    "\"$a$b$c\""
   ]
  },
  {
   "cell_type": "code",
   "execution_count": 12,
   "id": "832bfca3-07e8-48e9-af8e-2584561627ba",
   "metadata": {},
   "outputs": [
    {
     "data": {
      "text/plain": [
       "true"
      ]
     },
     "execution_count": 12,
     "metadata": {},
     "output_type": "execute_result"
    }
   ],
   "source": [
    "string(a,b,c) == \"$a$b$c\""
   ]
  },
  {
   "cell_type": "code",
   "execution_count": 13,
   "id": "8c71e075-9d6f-47f5-87bb-9b0d9b3dbad5",
   "metadata": {},
   "outputs": [
    {
     "data": {
      "text/plain": [
       "true"
      ]
     },
     "execution_count": 13,
     "metadata": {},
     "output_type": "execute_result"
    }
   ],
   "source": [
    "a^2 == b"
   ]
  },
  {
   "cell_type": "code",
   "execution_count": 14,
   "id": "6a937aeb-5239-4fa8-a39f-fb10822ea9a3",
   "metadata": {},
   "outputs": [
    {
     "data": {
      "text/plain": [
       "Dict{String, Any} with 2 entries:\n",
       "  \"b\" => \"😸😸\"\n",
       "  \"a\" => '😸'"
      ]
     },
     "execution_count": 14,
     "metadata": {},
     "output_type": "execute_result"
    }
   ],
   "source": [
    "# dictionaries\n",
    "the_dict = Dict(\"a\" => a, \"b\" => b)"
   ]
  },
  {
   "cell_type": "code",
   "execution_count": 15,
   "id": "9490e791-bd1c-4a18-a50b-7d8dbd9807ea",
   "metadata": {},
   "outputs": [
    {
     "data": {
      "text/plain": [
       "\"😸\\\"😸\\\"😸\""
      ]
     },
     "execution_count": 15,
     "metadata": {},
     "output_type": "execute_result"
    }
   ],
   "source": [
    "the_dict[\"c\"]=c"
   ]
  },
  {
   "cell_type": "code",
   "execution_count": 16,
   "id": "908f6eda-ab1f-403d-be16-49591f9f5de7",
   "metadata": {},
   "outputs": [
    {
     "data": {
      "text/plain": [
       "Dict{String, Any} with 3 entries:\n",
       "  \"c\" => \"😸\\\"😸\\\"😸\"\n",
       "  \"b\" => \"😸😸\"\n",
       "  \"a\" => '😸'"
      ]
     },
     "execution_count": 16,
     "metadata": {},
     "output_type": "execute_result"
    }
   ],
   "source": [
    "the_dict"
   ]
  },
  {
   "cell_type": "code",
   "execution_count": 17,
   "id": "6c6f6bcf-b8de-45f5-9f3c-e6bbd2c6be07",
   "metadata": {},
   "outputs": [
    {
     "data": {
      "text/plain": [
       "\"😸😸😸😸😸😸\""
      ]
     },
     "execution_count": 17,
     "metadata": {},
     "output_type": "execute_result"
    }
   ],
   "source": [
    "the_dict[\"d\"]=b^3"
   ]
  },
  {
   "cell_type": "code",
   "execution_count": 18,
   "id": "e724ceb5-de81-46b7-ad97-aa248384f5fc",
   "metadata": {},
   "outputs": [
    {
     "data": {
      "text/plain": [
       "Dict{String, Any} with 4 entries:\n",
       "  \"c\" => \"😸\\\"😸\\\"😸\"\n",
       "  \"b\" => \"😸😸\"\n",
       "  \"a\" => '😸'\n",
       "  \"d\" => \"😸😸😸😸😸😸\""
      ]
     },
     "execution_count": 18,
     "metadata": {},
     "output_type": "execute_result"
    }
   ],
   "source": [
    "the_dict"
   ]
  },
  {
   "cell_type": "code",
   "execution_count": 19,
   "id": "c19d9b8d-8d2c-4191-8b50-d7e443683dfb",
   "metadata": {},
   "outputs": [
    {
     "data": {
      "text/plain": [
       "\"😸😸😸😸😸😸\""
      ]
     },
     "execution_count": 19,
     "metadata": {},
     "output_type": "execute_result"
    }
   ],
   "source": [
    "# remove a element\n",
    "pop!(the_dict, \"d\")"
   ]
  },
  {
   "cell_type": "code",
   "execution_count": 20,
   "id": "e95859e2-f5e1-4681-8d96-c5447c8939a3",
   "metadata": {},
   "outputs": [
    {
     "data": {
      "text/plain": [
       "Dict{String, Any} with 3 entries:\n",
       "  \"c\" => \"😸\\\"😸\\\"😸\"\n",
       "  \"b\" => \"😸😸\"\n",
       "  \"a\" => '😸'"
      ]
     },
     "execution_count": 20,
     "metadata": {},
     "output_type": "execute_result"
    }
   ],
   "source": [
    "the_dict"
   ]
  },
  {
   "cell_type": "code",
   "execution_count": 21,
   "id": "cca0ae3c-5f78-4a39-a252-4fa1bbf6eebe",
   "metadata": {},
   "outputs": [
    {
     "data": {
      "text/plain": [
       "('😸', \"😸😸\", \"😸😸😸\", \"😸😸😸😸\")"
      ]
     },
     "execution_count": 21,
     "metadata": {},
     "output_type": "execute_result"
    }
   ],
   "source": [
    "#tuples\n",
    "cats = (a, a^2, a^3, a^4)"
   ]
  },
  {
   "cell_type": "code",
   "execution_count": 22,
   "id": "d7385484-8802-4230-9ba4-cf190a764de6",
   "metadata": {},
   "outputs": [
    {
     "data": {
      "text/plain": [
       "\"😸😸😸\""
      ]
     },
     "execution_count": 22,
     "metadata": {},
     "output_type": "execute_result"
    }
   ],
   "source": [
    "cats[3]"
   ]
  },
  {
   "cell_type": "code",
   "execution_count": 23,
   "id": "1ff42e2f-11cc-4bf6-a592-86512e3cf59d",
   "metadata": {},
   "outputs": [
    {
     "data": {
      "text/plain": [
       "(cat1 = '😸', cat2 = \"😸😸\", cat3 = \"😸😸😸\", cat4 = \"😸😸😸😸\")"
      ]
     },
     "execution_count": 23,
     "metadata": {},
     "output_type": "execute_result"
    }
   ],
   "source": [
    "name_cats = (cat1=a, cat2=a^2, cat3=a^3, cat4=a^4)"
   ]
  },
  {
   "cell_type": "code",
   "execution_count": 24,
   "id": "cdd0f7a2-a393-4a7b-a21c-0d65984c6394",
   "metadata": {},
   "outputs": [
    {
     "data": {
      "text/plain": [
       "\"😸😸😸\""
      ]
     },
     "execution_count": 24,
     "metadata": {},
     "output_type": "execute_result"
    }
   ],
   "source": [
    "name_cats.cat3"
   ]
  },
  {
   "cell_type": "code",
   "execution_count": 25,
   "id": "b6d562ad-cf57-4cf9-aaea-ea6dca164d8e",
   "metadata": {},
   "outputs": [
    {
     "data": {
      "text/plain": [
       "3-element Vector{Any}:\n",
       " '😸': Unicode U+1F638 (category So: Symbol, other)\n",
       " \"😸😸\"\n",
       " \"😸😸😸\""
      ]
     },
     "execution_count": 25,
     "metadata": {},
     "output_type": "execute_result"
    }
   ],
   "source": [
    "#array\n",
    "cats_array = [a, a^2, a^3]"
   ]
  },
  {
   "cell_type": "code",
   "execution_count": 26,
   "id": "f0bbe165-9275-4a49-b2f1-9a93b6684650",
   "metadata": {},
   "outputs": [
    {
     "data": {
      "text/plain": [
       "\"😸\""
      ]
     },
     "execution_count": 26,
     "metadata": {},
     "output_type": "execute_result"
    }
   ],
   "source": [
    "cats_array[1]=string(a)"
   ]
  },
  {
   "cell_type": "code",
   "execution_count": 27,
   "id": "7c31ffe7-d1f9-41e5-98a3-48d748614372",
   "metadata": {},
   "outputs": [
    {
     "data": {
      "text/plain": [
       "3-element Vector{Any}:\n",
       " \"😸\"\n",
       " \"😸😸\"\n",
       " \"😸😸😸\""
      ]
     },
     "execution_count": 27,
     "metadata": {},
     "output_type": "execute_result"
    }
   ],
   "source": [
    "cats_array"
   ]
  },
  {
   "cell_type": "code",
   "execution_count": 28,
   "id": "babbb27f-0b5e-4806-b9e6-c48c1269d1fa",
   "metadata": {},
   "outputs": [
    {
     "data": {
      "text/plain": [
       "4-element Vector{Any}:\n",
       " \"😸\"\n",
       " \"😸😸\"\n",
       " \"😸😸😸\"\n",
       " \"😸😸😸😸\""
      ]
     },
     "execution_count": 28,
     "metadata": {},
     "output_type": "execute_result"
    }
   ],
   "source": [
    "# add emelemnt to array\n",
    "push!(cats_array, a^4)"
   ]
  },
  {
   "cell_type": "code",
   "execution_count": 29,
   "id": "a99172b2-4b07-4519-8140-aff203eb2330",
   "metadata": {},
   "outputs": [
    {
     "data": {
      "text/plain": [
       "6-element Vector{Any}:\n",
       " \"😸\"\n",
       " \"😸😸\"\n",
       " \"😸😸😸\"\n",
       " \"😸😸😸😸\"\n",
       " \"😸😸😸😸\"\n",
       " \"😸😸😸😸😸\""
      ]
     },
     "execution_count": 29,
     "metadata": {},
     "output_type": "execute_result"
    }
   ],
   "source": [
    "push!(cats_array, a^4, a^5)"
   ]
  },
  {
   "cell_type": "code",
   "execution_count": 30,
   "id": "769bb6e9-f8e8-449b-ab21-2680778c59e4",
   "metadata": {},
   "outputs": [
    {
     "data": {
      "text/plain": [
       "7-element Vector{Any}:\n",
       " \"😸\"\n",
       " \"😸😸\"\n",
       " \"😸😸😸\"\n",
       " \"😸😸😸😸\"\n",
       " \"😸😸😸😸\"\n",
       " \"😸😸😸😸😸\"\n",
       " [\"😸😸😸😸\", \"😸😸😸😸😸\"]"
      ]
     },
     "execution_count": 30,
     "metadata": {},
     "output_type": "execute_result"
    }
   ],
   "source": [
    "push!(cats_array, [a^4, a^5])"
   ]
  },
  {
   "cell_type": "code",
   "execution_count": 31,
   "id": "11cde5e4-2f54-45a0-bef0-3b79eeaa3ab0",
   "metadata": {},
   "outputs": [
    {
     "data": {
      "text/plain": [
       "2-element Vector{String}:\n",
       " \"😸😸😸😸\"\n",
       " \"😸😸😸😸😸\""
      ]
     },
     "execution_count": 31,
     "metadata": {},
     "output_type": "execute_result"
    }
   ],
   "source": [
    "pop!(cats_array)"
   ]
  },
  {
   "cell_type": "code",
   "execution_count": 32,
   "id": "f9865f59-5117-4737-a8b9-2d5a28e7dfcd",
   "metadata": {},
   "outputs": [
    {
     "data": {
      "text/plain": [
       "6-element Vector{Any}:\n",
       " \"😸\"\n",
       " \"😸😸\"\n",
       " \"😸😸😸\"\n",
       " \"😸😸😸😸\"\n",
       " \"😸😸😸😸\"\n",
       " \"😸😸😸😸😸\""
      ]
     },
     "execution_count": 32,
     "metadata": {},
     "output_type": "execute_result"
    }
   ],
   "source": [
    "cats_array"
   ]
  },
  {
   "cell_type": "code",
   "execution_count": 33,
   "id": "76122068-0685-4dfa-b6a0-4bbe5b1ce9c9",
   "metadata": {},
   "outputs": [
    {
     "data": {
      "text/plain": [
       "2×3 Matrix{Float64}:\n",
       " 0.96212   0.0868844  0.389101\n",
       " 0.644003  0.682275   0.679396"
      ]
     },
     "execution_count": 33,
     "metadata": {},
     "output_type": "execute_result"
    }
   ],
   "source": [
    "mat = rand(2,3)"
   ]
  },
  {
   "cell_type": "code",
   "execution_count": 34,
   "id": "e8fa62d7-2df6-44b6-bb44-083891dde334",
   "metadata": {},
   "outputs": [
    {
     "data": {
      "text/plain": [
       "0.6440030638100285"
      ]
     },
     "execution_count": 34,
     "metadata": {},
     "output_type": "execute_result"
    }
   ],
   "source": [
    "mat[2,1]"
   ]
  },
  {
   "cell_type": "code",
   "execution_count": 35,
   "id": "d266e335-4eb1-4f06-9fcb-39b3aefcb410",
   "metadata": {},
   "outputs": [
    {
     "name": "stdout",
     "output_type": "stream",
     "text": [
      "hana: 😸\n",
      "hana: 😸😸\n",
      "hana: 😸😸😸\n",
      "hana: 😸😸😸😸\n",
      "hana: 😸😸😸😸\n",
      "hana: 😸😸😸😸😸\n"
     ]
    }
   ],
   "source": [
    "#loops\n",
    "i=1\n",
    "while i<= length(cats_array)\n",
    "    cat = cats_array[i]\n",
    "    println(\"hana: $cat\")\n",
    "    i += 1\n",
    "end"
   ]
  },
  {
   "cell_type": "code",
   "execution_count": 36,
   "id": "f6de3dba-9881-409a-af93-b05a61d1a006",
   "metadata": {},
   "outputs": [
    {
     "name": "stdout",
     "output_type": "stream",
     "text": [
      "haha: 😸\n",
      "haha: 😸😸\n",
      "haha: 😸😸😸\n",
      "haha: 😸😸😸😸\n",
      "haha: 😸😸😸😸\n",
      "haha: 😸😸😸😸😸\n"
     ]
    }
   ],
   "source": [
    "for cat in cats_array\n",
    "    println(\"haha: $cat\")\n",
    "end"
   ]
  },
  {
   "cell_type": "code",
   "execution_count": 37,
   "id": "1e306254-9c6d-4d59-a789-ab6638188673",
   "metadata": {},
   "outputs": [
    {
     "data": {
      "text/plain": [
       "3×4 Matrix{Int64}:\n",
       " 2  3  4  5\n",
       " 3  4  5  6\n",
       " 4  5  6  7"
      ]
     },
     "execution_count": 37,
     "metadata": {},
     "output_type": "execute_result"
    }
   ],
   "source": [
    "mat_a = [i+j for i in 1:3, j in 1:4]"
   ]
  },
  {
   "cell_type": "code",
   "execution_count": 38,
   "id": "43259f53-25df-42ab-a001-925ebc19e2fd",
   "metadata": {},
   "outputs": [
    {
     "data": {
      "text/plain": [
       "10×10 Matrix{Int64}:\n",
       "  1   2   3   4   5   6   7   8   9   10\n",
       " 11  12  13  14  15  16  17  18  19   20\n",
       " 21  22  23  24  25  26  27  28  29   30\n",
       " 31  32  33  34  35  36  37  38  39   40\n",
       " 41  42  43  44  45  46  47  48  49   50\n",
       " 51  52  53  54  55  56  57  58  59   60\n",
       " 61  62  63  64  65  66  67  68  69   70\n",
       " 71  72  73  74  75  76  77  78  79   80\n",
       " 81  82  83  84  85  86  87  88  89   90\n",
       " 91  92  93  94  95  96  97  98  99  100"
      ]
     },
     "execution_count": 38,
     "metadata": {},
     "output_type": "execute_result"
    }
   ],
   "source": [
    "mat_b = [i*10+j for i in 0:9, j in 1:10]"
   ]
  },
  {
   "cell_type": "code",
   "execution_count": 44,
   "id": "27d10e52-6947-4b1d-a676-0d904d00a8c6",
   "metadata": {},
   "outputs": [
    {
     "name": "stdout",
     "output_type": "stream",
     "text": [
      "equal\n"
     ]
    }
   ],
   "source": [
    "#conditions\n",
    "if a^2 > b\n",
    "    println(\"larger\")\n",
    "elseif a^2 < b\n",
    "    println(\"smaller\")\n",
    "else\n",
    "    println(\"equal\")\n",
    "end"
   ]
  },
  {
   "cell_type": "code",
   "execution_count": 48,
   "id": "ab5e6d7e-bcd1-4377-9c83-26ba03c9c128",
   "metadata": {},
   "outputs": [
    {
     "name": "stdout",
     "output_type": "stream",
     "text": [
      "haha\n"
     ]
    }
   ],
   "source": [
    "(a^2 == b) && println(\"haha\")"
   ]
  },
  {
   "cell_type": "code",
   "execution_count": 49,
   "id": "b304c6d2-d623-4433-8315-543047c84939",
   "metadata": {},
   "outputs": [
    {
     "name": "stdout",
     "output_type": "stream",
     "text": [
      "haha\n"
     ]
    }
   ],
   "source": [
    "(a^2 > b) ? println(\"nono\") : println(\"haha\")"
   ]
  },
  {
   "cell_type": "code",
   "execution_count": 51,
   "id": "5ded9247-78ac-4f52-bfdc-6ce519064298",
   "metadata": {},
   "outputs": [
    {
     "name": "stdout",
     "output_type": "stream",
     "text": [
      "4 is even\n"
     ]
    }
   ],
   "source": [
    "x = 4\n",
    "((x % 2) == 0) ? println(\"$x is even\") : println(\"$x is odd\")"
   ]
  },
  {
   "cell_type": "code",
   "execution_count": 52,
   "id": "e3d96ddf-c09f-4862-bc1b-5caebc1442b8",
   "metadata": {},
   "outputs": [
    {
     "data": {
      "text/plain": [
       "sayhi (generic function with 1 method)"
      ]
     },
     "execution_count": 52,
     "metadata": {},
     "output_type": "execute_result"
    }
   ],
   "source": [
    "#function\n",
    "function sayhi(name)\n",
    "    println(\"hi, this is $name\")\n",
    "end"
   ]
  },
  {
   "cell_type": "code",
   "execution_count": 56,
   "id": "e0452840-fbca-42a9-837f-445e8b17654f",
   "metadata": {},
   "outputs": [
    {
     "name": "stdout",
     "output_type": "stream",
     "text": [
      "hi, this is 😸😸\n"
     ]
    }
   ],
   "source": [
    "sayhi(b)"
   ]
  },
  {
   "cell_type": "code",
   "execution_count": 57,
   "id": "f00008cd-bbf7-424c-9a13-f9ceb018a015",
   "metadata": {},
   "outputs": [
    {
     "data": {
      "text/plain": [
       "sayhi2 (generic function with 1 method)"
      ]
     },
     "execution_count": 57,
     "metadata": {},
     "output_type": "execute_result"
    }
   ],
   "source": [
    "sayhi2(name) = println(\"hi, this is $name\")"
   ]
  },
  {
   "cell_type": "code",
   "execution_count": 58,
   "id": "3b98eb23-ee4f-4fb9-b25b-97f0ad1be249",
   "metadata": {},
   "outputs": [
    {
     "name": "stdout",
     "output_type": "stream",
     "text": [
      "hi, this is 😸😸\n"
     ]
    }
   ],
   "source": [
    "sayhi2(b)"
   ]
  },
  {
   "cell_type": "code",
   "execution_count": 59,
   "id": "0e1709e3-4bf1-4430-8f99-49c6a9dac8ac",
   "metadata": {},
   "outputs": [
    {
     "data": {
      "text/plain": [
       "#5 (generic function with 1 method)"
      ]
     },
     "execution_count": 59,
     "metadata": {},
     "output_type": "execute_result"
    }
   ],
   "source": [
    "sayhi3 = name -> println(\"hi, this is $name\")"
   ]
  },
  {
   "cell_type": "code",
   "execution_count": 60,
   "id": "3db2f5e6-5a9c-4a69-98dd-8bd423e81fb1",
   "metadata": {},
   "outputs": [
    {
     "name": "stdout",
     "output_type": "stream",
     "text": [
      "hi, this is 😸😸\n"
     ]
    }
   ],
   "source": [
    "sayhi3(b)"
   ]
  },
  {
   "cell_type": "code",
   "execution_count": 61,
   "id": "21bff184-f704-44bb-9e38-450e6be621d7",
   "metadata": {},
   "outputs": [
    {
     "data": {
      "text/plain": [
       "4-element Vector{Float64}:\n",
       " 0.9781074942856353\n",
       " 0.632261302381493\n",
       " 0.6582698194758873\n",
       " 0.3474750881702192"
      ]
     },
     "execution_count": 61,
     "metadata": {},
     "output_type": "execute_result"
    }
   ],
   "source": [
    "#Mutating vs. non-mutating functions, e.g. pop!, push!\n",
    "v=rand(4)"
   ]
  },
  {
   "cell_type": "code",
   "execution_count": 62,
   "id": "eef6c9e7-04e8-4d69-802a-6693347ec41d",
   "metadata": {},
   "outputs": [
    {
     "data": {
      "text/plain": [
       "4-element Vector{Float64}:\n",
       " 0.3474750881702192\n",
       " 0.632261302381493\n",
       " 0.6582698194758873\n",
       " 0.9781074942856353"
      ]
     },
     "execution_count": 62,
     "metadata": {},
     "output_type": "execute_result"
    }
   ],
   "source": [
    "sort(v)"
   ]
  },
  {
   "cell_type": "code",
   "execution_count": 63,
   "id": "87344713-6b34-459d-be1d-c859ab00833b",
   "metadata": {},
   "outputs": [
    {
     "data": {
      "text/plain": [
       "4-element Vector{Float64}:\n",
       " 0.9781074942856353\n",
       " 0.632261302381493\n",
       " 0.6582698194758873\n",
       " 0.3474750881702192"
      ]
     },
     "execution_count": 63,
     "metadata": {},
     "output_type": "execute_result"
    }
   ],
   "source": [
    "v"
   ]
  },
  {
   "cell_type": "code",
   "execution_count": 64,
   "id": "1ba20ddc-65d8-4f24-85fc-3bd5f7c67c11",
   "metadata": {},
   "outputs": [
    {
     "data": {
      "text/plain": [
       "4-element Vector{Float64}:\n",
       " 0.3474750881702192\n",
       " 0.632261302381493\n",
       " 0.6582698194758873\n",
       " 0.9781074942856353"
      ]
     },
     "execution_count": 64,
     "metadata": {},
     "output_type": "execute_result"
    }
   ],
   "source": [
    "sort!(v)"
   ]
  },
  {
   "cell_type": "code",
   "execution_count": 65,
   "id": "b6fc5df1-dfdb-4b91-a96b-712c7b5a6c9a",
   "metadata": {},
   "outputs": [
    {
     "data": {
      "text/plain": [
       "4-element Vector{Float64}:\n",
       " 0.3474750881702192\n",
       " 0.632261302381493\n",
       " 0.6582698194758873\n",
       " 0.9781074942856353"
      ]
     },
     "execution_count": 65,
     "metadata": {},
     "output_type": "execute_result"
    }
   ],
   "source": [
    "v"
   ]
  },
  {
   "cell_type": "code",
   "execution_count": 66,
   "id": "7fb0a5db-ad5a-4c98-b154-6b946af19eec",
   "metadata": {},
   "outputs": [
    {
     "data": {
      "text/plain": [
       "f (generic function with 1 method)"
      ]
     },
     "execution_count": 66,
     "metadata": {},
     "output_type": "execute_result"
    }
   ],
   "source": [
    "#map function\n",
    "f(x)=x^2"
   ]
  },
  {
   "cell_type": "code",
   "execution_count": 67,
   "id": "258410ab-c5f9-47c5-88a3-e475ba735140",
   "metadata": {},
   "outputs": [
    {
     "data": {
      "text/plain": [
       "4-element Vector{Int64}:\n",
       "  1\n",
       "  4\n",
       "  9\n",
       " 16"
      ]
     },
     "execution_count": 67,
     "metadata": {},
     "output_type": "execute_result"
    }
   ],
   "source": [
    "map(f, [1,2,3,4])"
   ]
  },
  {
   "cell_type": "code",
   "execution_count": 68,
   "id": "2bbeaf0d-934d-41d6-b98d-2d9360fcb9c4",
   "metadata": {},
   "outputs": [
    {
     "data": {
      "text/plain": [
       "4-element Vector{Int64}:\n",
       "  1\n",
       "  4\n",
       "  9\n",
       " 16"
      ]
     },
     "execution_count": 68,
     "metadata": {},
     "output_type": "execute_result"
    }
   ],
   "source": [
    "map(x->x^2, [1,2,3,4])"
   ]
  },
  {
   "cell_type": "code",
   "execution_count": 69,
   "id": "ccbc6c33-b6e3-4888-8f37-7edd8ad1992f",
   "metadata": {},
   "outputs": [
    {
     "data": {
      "text/plain": [
       "3-element Vector{Int64}:\n",
       " 1\n",
       " 4\n",
       " 9"
      ]
     },
     "execution_count": 69,
     "metadata": {},
     "output_type": "execute_result"
    }
   ],
   "source": [
    "#broadcast, is a generalization of map, so it can do every thing map\n",
    "broadcast(f,[1,2,3])"
   ]
  },
  {
   "cell_type": "code",
   "execution_count": 70,
   "id": "1d60e65d-96dd-4a17-9ca9-8c5cb1906e3e",
   "metadata": {},
   "outputs": [
    {
     "data": {
      "text/plain": [
       "3-element Vector{Int64}:\n",
       " 1\n",
       " 4\n",
       " 9"
      ]
     },
     "execution_count": 70,
     "metadata": {},
     "output_type": "execute_result"
    }
   ],
   "source": [
    "f.([1,2,3])"
   ]
  },
  {
   "cell_type": "code",
   "execution_count": 71,
   "id": "77675c90-7fae-4119-a45f-05dcd71be003",
   "metadata": {},
   "outputs": [
    {
     "data": {
      "text/plain": [
       "3×3 Matrix{Int64}:\n",
       " 1  2  3\n",
       " 4  5  6\n",
       " 7  8  9"
      ]
     },
     "execution_count": 71,
     "metadata": {},
     "output_type": "execute_result"
    }
   ],
   "source": [
    "A = [i + 3*j for j in 0:2, i in 1:3]"
   ]
  },
  {
   "cell_type": "code",
   "execution_count": 72,
   "id": "1ff43047-4bbb-4d29-8944-d42d5d7ccb40",
   "metadata": {},
   "outputs": [
    {
     "data": {
      "text/plain": [
       "3×3 Matrix{Int64}:\n",
       "  30   36   42\n",
       "  66   81   96\n",
       " 102  126  150"
      ]
     },
     "execution_count": 72,
     "metadata": {},
     "output_type": "execute_result"
    }
   ],
   "source": [
    "f(A)"
   ]
  },
  {
   "cell_type": "code",
   "execution_count": 73,
   "id": "65b17477-719d-4fcf-88e8-587eaf928aa3",
   "metadata": {},
   "outputs": [
    {
     "data": {
      "text/plain": [
       "3×3 Matrix{Int64}:\n",
       "  1   4   9\n",
       " 16  25  36\n",
       " 49  64  81"
      ]
     },
     "execution_count": 73,
     "metadata": {},
     "output_type": "execute_result"
    }
   ],
   "source": [
    "f.(A)"
   ]
  },
  {
   "cell_type": "code",
   "execution_count": 79,
   "id": "c77a0474-6a79-41d8-b4c5-964b3b347dde",
   "metadata": {},
   "outputs": [
    {
     "data": {
      "text/plain": [
       "3×3 Matrix{Int64}:\n",
       "  2   6  12\n",
       " 20  30  42\n",
       " 56  72  90"
      ]
     },
     "execution_count": 79,
     "metadata": {},
     "output_type": "execute_result"
    }
   ],
   "source": [
    "A .+ f.(A)"
   ]
  },
  {
   "cell_type": "code",
   "execution_count": 80,
   "id": "cb858124-b1a8-4023-9ebf-8349947153b9",
   "metadata": {},
   "outputs": [
    {
     "data": {
      "text/plain": [
       "#11 (generic function with 1 method)"
      ]
     },
     "execution_count": 80,
     "metadata": {},
     "output_type": "execute_result"
    }
   ],
   "source": [
    "add_one = x -> x+1"
   ]
  },
  {
   "cell_type": "code",
   "execution_count": 81,
   "id": "116f19e4-5be7-4262-9676-a9531c9804c7",
   "metadata": {},
   "outputs": [],
   "source": [
    "@assert add_one(1) == 2"
   ]
  },
  {
   "cell_type": "code",
   "execution_count": 82,
   "id": "733f962e-9c35-42b8-a364-568a443ce04f",
   "metadata": {},
   "outputs": [],
   "source": [
    "@assert add_one(11) == 12"
   ]
  },
  {
   "cell_type": "code",
   "execution_count": 83,
   "id": "1c62b32a-361e-4f49-b953-1f0576c1162a",
   "metadata": {},
   "outputs": [
    {
     "data": {
      "text/plain": [
       "1:10"
      ]
     },
     "execution_count": 83,
     "metadata": {},
     "output_type": "execute_result"
    }
   ],
   "source": [
    "A1=1:10"
   ]
  },
  {
   "cell_type": "code",
   "execution_count": 85,
   "id": "3410f513-2a70-42fe-a320-1933309539ee",
   "metadata": {},
   "outputs": [
    {
     "data": {
      "text/plain": [
       "10-element Vector{Int64}:\n",
       "  2\n",
       "  3\n",
       "  4\n",
       "  5\n",
       "  6\n",
       "  7\n",
       "  8\n",
       "  9\n",
       " 10\n",
       " 11"
      ]
     },
     "execution_count": 85,
     "metadata": {},
     "output_type": "execute_result"
    }
   ],
   "source": [
    "add_one.(A1)"
   ]
  },
  {
   "cell_type": "code",
   "execution_count": 87,
   "id": "d74c59c4-99d5-401c-a7e9-798ce3177d1c",
   "metadata": {},
   "outputs": [
    {
     "data": {
      "text/plain": [
       "3×3 Matrix{Int64}:\n",
       " 1  2  3\n",
       " 4  5  6\n",
       " 7  8  9"
      ]
     },
     "execution_count": 87,
     "metadata": {},
     "output_type": "execute_result"
    }
   ],
   "source": [
    "A2=[3*i+j for i in 0:2,j in 1:3]"
   ]
  },
  {
   "cell_type": "code",
   "execution_count": 88,
   "id": "892237f9-99e6-426f-b19b-af5a2fba5a2e",
   "metadata": {},
   "outputs": [
    {
     "data": {
      "text/plain": [
       "3×3 Matrix{Int64}:\n",
       " 2  3   4\n",
       " 5  6   7\n",
       " 8  9  10"
      ]
     },
     "execution_count": 88,
     "metadata": {},
     "output_type": "execute_result"
    }
   ],
   "source": [
    "add_one.(A2)"
   ]
  },
  {
   "cell_type": "code",
   "execution_count": 90,
   "id": "4e60e680-1fde-493c-96e7-1b7d2dcec898",
   "metadata": {},
   "outputs": [],
   "source": [
    "#packages\n",
    "using Pkg"
   ]
  },
  {
   "cell_type": "code",
   "execution_count": 91,
   "id": "bf420417-44f1-43e5-93d4-50fd201a3bf7",
   "metadata": {},
   "outputs": [
    {
     "name": "stderr",
     "output_type": "stream",
     "text": [
      "\u001b[32m\u001b[1m    Updating\u001b[22m\u001b[39m registry at `~/.julia/registries/General.toml`\n",
      "\u001b[32m\u001b[1m   Resolving\u001b[22m\u001b[39m package versions...\n",
      "\u001b[32m\u001b[1m   Installed\u001b[22m\u001b[39m Reexport ────────── v1.2.2\n",
      "\u001b[32m\u001b[1m   Installed\u001b[22m\u001b[39m FixedPointNumbers ─ v0.8.4\n",
      "\u001b[32m\u001b[1m   Installed\u001b[22m\u001b[39m ColorTypes ──────── v0.11.0\n",
      "\u001b[32m\u001b[1m   Installed\u001b[22m\u001b[39m Colors ──────────── v0.12.8\n",
      "\u001b[32m\u001b[1m    Updating\u001b[22m\u001b[39m `~/.julia/environments/v1.7/Project.toml`\n",
      " \u001b[90m [5ae59095] \u001b[39m\u001b[92m+ Colors v0.12.8\u001b[39m\n",
      "\u001b[32m\u001b[1m    Updating\u001b[22m\u001b[39m `~/.julia/environments/v1.7/Manifest.toml`\n",
      " \u001b[90m [3da002f7] \u001b[39m\u001b[92m+ ColorTypes v0.11.0\u001b[39m\n",
      " \u001b[90m [5ae59095] \u001b[39m\u001b[92m+ Colors v0.12.8\u001b[39m\n",
      " \u001b[90m [53c48c17] \u001b[39m\u001b[92m+ FixedPointNumbers v0.8.4\u001b[39m\n",
      " \u001b[90m [189a3867] \u001b[39m\u001b[92m+ Reexport v1.2.2\u001b[39m\n",
      " \u001b[90m [37e2e46d] \u001b[39m\u001b[92m+ LinearAlgebra\u001b[39m\n",
      " \u001b[90m [2f01184e] \u001b[39m\u001b[92m+ SparseArrays\u001b[39m\n",
      " \u001b[90m [10745b16] \u001b[39m\u001b[92m+ Statistics\u001b[39m\n",
      " \u001b[90m [e66e0078] \u001b[39m\u001b[92m+ CompilerSupportLibraries_jll\u001b[39m\n",
      " \u001b[90m [4536629a] \u001b[39m\u001b[92m+ OpenBLAS_jll\u001b[39m\n",
      " \u001b[90m [8e850b90] \u001b[39m\u001b[92m+ libblastrampoline_jll\u001b[39m\n",
      "\u001b[32m\u001b[1mPrecompiling\u001b[22m\u001b[39m project...\n",
      "\u001b[32m  ✓ \u001b[39m\u001b[90mReexport\u001b[39m\n",
      "\u001b[32m  ✓ \u001b[39m\u001b[90mCompilerSupportLibraries_jll\u001b[39m\n",
      "\u001b[32m  ✓ \u001b[39m\u001b[90mOpenBLAS_jll\u001b[39m\n",
      "\u001b[32m  ✓ \u001b[39m\u001b[90mlibblastrampoline_jll\u001b[39m\n",
      "\u001b[32m  ✓ \u001b[39m\u001b[90mFixedPointNumbers\u001b[39m\n",
      "\u001b[32m  ✓ \u001b[39m\u001b[90mColorTypes\u001b[39m\n",
      "\u001b[32m  ✓ \u001b[39mColors\n",
      "  7 dependencies successfully precompiled in 9 seconds (15 already precompiled)\n"
     ]
    }
   ],
   "source": [
    "Pkg.add(\"Colors\")"
   ]
  },
  {
   "cell_type": "code",
   "execution_count": 92,
   "id": "6c1e7e37-51ac-4344-8f05-aa55afda4877",
   "metadata": {},
   "outputs": [],
   "source": [
    "using Colors"
   ]
  },
  {
   "cell_type": "code",
   "execution_count": 93,
   "id": "dd401a8a-7639-4db1-a7b0-481f6742f31d",
   "metadata": {},
   "outputs": [
    {
     "data": {
      "image/svg+xml": [
       "<?xml version=\"1.0\" encoding=\"UTF-8\"?>\n",
       "<!DOCTYPE svg PUBLIC \"-//W3C//DTD SVG 1.1//EN\"\n",
       " \"http://www.w3.org/Graphics/SVG/1.1/DTD/svg11.dtd\">\n",
       "<svg xmlns=\"http://www.w3.org/2000/svg\" version=\"1.1\"\n",
       "     width=\"180mm\" height=\"25mm\"\n",
       "     viewBox=\"0 0 100 1\" preserveAspectRatio=\"none\"\n",
       "     shape-rendering=\"crispEdges\" stroke=\"none\">\n",
       "<rect width=\"1\" height=\".96\" x=\"0\" y=\"0\" fill=\"#000000\" />\n",
       "<rect width=\"1\" height=\".96\" x=\"1\" y=\"0\" fill=\"#FFFF74\" />\n",
       "<rect width=\"1\" height=\".96\" x=\"2\" y=\"0\" fill=\"#FF9BFF\" />\n",
       "<rect width=\"1\" height=\".96\" x=\"3\" y=\"0\" fill=\"#00D3FF\" />\n",
       "<rect width=\"1\" height=\".96\" x=\"4\" y=\"0\" fill=\"#E2630D\" />\n",
       "<rect width=\"1\" height=\".96\" x=\"5\" y=\"0\" fill=\"#007E00\" />\n",
       "<rect width=\"1\" height=\".96\" x=\"6\" y=\"0\" fill=\"#0050E6\" />\n",
       "<rect width=\"1\" height=\".96\" x=\"7\" y=\"0\" fill=\"#AC0047\" />\n",
       "<rect width=\"1\" height=\".96\" x=\"8\" y=\"0\" fill=\"#00FFC8\" />\n",
       "<rect width=\"1\" height=\".96\" x=\"9\" y=\"0\" fill=\"#006468\" />\n",
       "<rect width=\"1\" height=\".96\" x=\"10\" y=\"0\" fill=\"#FFD5C4\" />\n",
       "<rect width=\"1\" height=\".96\" x=\"11\" y=\"0\" fill=\"#6C5200\" />\n",
       "<rect width=\"1\" height=\".96\" x=\"12\" y=\"0\" fill=\"#7A7581\" />\n",
       "<rect width=\"1\" height=\".96\" x=\"13\" y=\"0\" fill=\"#44005C\" />\n",
       "<rect width=\"1\" height=\".96\" x=\"14\" y=\"0\" fill=\"#9E9E77\" />\n",
       "<rect width=\"1\" height=\".96\" x=\"15\" y=\"0\" fill=\"#FF5C78\" />\n",
       "<rect width=\"1\" height=\".96\" x=\"16\" y=\"0\" fill=\"#8197F1\" />\n",
       "<rect width=\"1\" height=\".96\" x=\"17\" y=\"0\" fill=\"#003200\" />\n",
       "<rect width=\"1\" height=\".96\" x=\"18\" y=\"0\" fill=\"#C721DD\" />\n",
       "<rect width=\"1\" height=\".96\" x=\"19\" y=\"0\" fill=\"#FFAD07\" />\n",
       "<rect width=\"1\" height=\".96\" x=\"20\" y=\"0\" fill=\"#611C00\" />\n",
       "<rect width=\"1\" height=\".96\" x=\"21\" y=\"0\" fill=\"#F3FFFA\" />\n",
       "<rect width=\"1\" height=\".96\" x=\"22\" y=\"0\" fill=\"#009E88\" />\n",
       "<rect width=\"1\" height=\".96\" x=\"23\" y=\"0\" fill=\"#5EC700\" />\n",
       "<rect width=\"1\" height=\".96\" x=\"24\" y=\"0\" fill=\"#002D54\" />\n",
       "<rect width=\"1\" height=\".96\" x=\"25\" y=\"0\" fill=\"#553C4A\" />\n",
       "<rect width=\"1\" height=\".96\" x=\"26\" y=\"0\" fill=\"#444439\" />\n",
       "<rect width=\"1\" height=\".96\" x=\"27\" y=\"0\" fill=\"#008FB6\" />\n",
       "<rect width=\"1\" height=\".96\" x=\"28\" y=\"0\" fill=\"#CFD4FD\" />\n",
       "<rect width=\"1\" height=\".96\" x=\"29\" y=\"0\" fill=\"#C40000\" />\n",
       "<rect width=\"1\" height=\".96\" x=\"30\" y=\"0\" fill=\"#A4675C\" />\n",
       "<rect width=\"1\" height=\".96\" x=\"31\" y=\"0\" fill=\"#BB8FA8\" />\n",
       "<rect width=\"1\" height=\".96\" x=\"32\" y=\"0\" fill=\"#290001\" />\n",
       "<rect width=\"1\" height=\".96\" x=\"33\" y=\"0\" fill=\"#A78600\" />\n",
       "<rect width=\"1\" height=\".96\" x=\"34\" y=\"0\" fill=\"#002D30\" />\n",
       "<rect width=\"1\" height=\".96\" x=\"35\" y=\"0\" fill=\"#C7DEAA\" />\n",
       "<rect width=\"1\" height=\".96\" x=\"36\" y=\"0\" fill=\"#8D9FA3\" />\n",
       "<rect width=\"1\" height=\".96\" x=\"37\" y=\"0\" fill=\"#6F5B95\" />\n",
       "<rect width=\"1\" height=\".96\" x=\"38\" y=\"0\" fill=\"#A1FFFF\" />\n",
       "<rect width=\"1\" height=\".96\" x=\"39\" y=\"0\" fill=\"#B39688\" />\n",
       "<rect width=\"1\" height=\".96\" x=\"40\" y=\"0\" fill=\"#4E6D50\" />\n",
       "<rect width=\"1\" height=\".96\" x=\"41\" y=\"0\" fill=\"#FF977B\" />\n",
       "<rect width=\"1\" height=\".96\" x=\"42\" y=\"0\" fill=\"#FFD1EC\" />\n",
       "<rect width=\"1\" height=\".96\" x=\"43\" y=\"0\" fill=\"#9E5100\" />\n",
       "<rect width=\"1\" height=\".96\" x=\"44\" y=\"0\" fill=\"#AE5B8E\" />\n",
       "<rect width=\"1\" height=\".96\" x=\"45\" y=\"0\" fill=\"#799400\" />\n",
       "<rect width=\"1\" height=\".96\" x=\"46\" y=\"0\" fill=\"#362200\" />\n",
       "<rect width=\"1\" height=\".96\" x=\"47\" y=\"0\" fill=\"#0E0026\" />\n",
       "<rect width=\"1\" height=\".96\" x=\"48\" y=\"0\" fill=\"#80765F\" />\n",
       "<rect width=\"1\" height=\".96\" x=\"49\" y=\"0\" fill=\"#485C00\" />\n",
       "<rect width=\"1\" height=\".96\" x=\"50\" y=\"0\" fill=\"#C8C2B5\" />\n",
       "<rect width=\"1\" height=\".96\" x=\"51\" y=\"0\" fill=\"#8800A1\" />\n",
       "<rect width=\"1\" height=\".96\" x=\"52\" y=\"0\" fill=\"#00A853\" />\n",
       "<rect width=\"1\" height=\".96\" x=\"53\" y=\"0\" fill=\"#FFE1AA\" />\n",
       "<rect width=\"1\" height=\".96\" x=\"54\" y=\"0\" fill=\"#674F42\" />\n",
       "<rect width=\"1\" height=\".96\" x=\"55\" y=\"0\" fill=\"#FF342D\" />\n",
       "<rect width=\"1\" height=\".96\" x=\"56\" y=\"0\" fill=\"#6B0041\" />\n",
       "<rect width=\"1\" height=\".96\" x=\"57\" y=\"0\" fill=\"#0806B1\" />\n",
       "<rect width=\"1\" height=\".96\" x=\"58\" y=\"0\" fill=\"#986DFF\" />\n",
       "<rect width=\"1\" height=\".96\" x=\"59\" y=\"0\" fill=\"#FF4EC7\" />\n",
       "<rect width=\"1\" height=\".96\" x=\"60\" y=\"0\" fill=\"#8AB9A2\" />\n",
       "<rect width=\"1\" height=\".96\" x=\"61\" y=\"0\" fill=\"#2EFF71\" />\n",
       "<rect width=\"1\" height=\".96\" x=\"62\" y=\"0\" fill=\"#005577\" />\n",
       "<rect width=\"1\" height=\".96\" x=\"63\" y=\"0\" fill=\"#0078E3\" />\n",
       "<rect width=\"1\" height=\".96\" x=\"64\" y=\"0\" fill=\"#B2ADB9\" />\n",
       "<rect width=\"1\" height=\".96\" x=\"65\" y=\"0\" fill=\"#00C3C6\" />\n",
       "<rect width=\"1\" height=\".96\" x=\"66\" y=\"0\" fill=\"#00AEFF\" />\n",
       "<rect width=\"1\" height=\".96\" x=\"67\" y=\"0\" fill=\"#4E545F\" />\n",
       "<rect width=\"1\" height=\".96\" x=\"68\" y=\"0\" fill=\"#FF9BB0\" />\n",
       "<rect width=\"1\" height=\".96\" x=\"69\" y=\"0\" fill=\"#FED206\" />\n",
       "<rect width=\"1\" height=\".96\" x=\"70\" y=\"0\" fill=\"#687B7A\" />\n",
       "<rect width=\"1\" height=\".96\" x=\"71\" y=\"0\" fill=\"#B1DCFC\" />\n",
       "<rect width=\"1\" height=\".96\" x=\"72\" y=\"0\" fill=\"#FFF6FF\" />\n",
       "<rect width=\"1\" height=\".96\" x=\"73\" y=\"0\" fill=\"#620019\" />\n",
       "<rect width=\"1\" height=\".96\" x=\"74\" y=\"0\" fill=\"#C79253\" />\n",
       "<rect width=\"1\" height=\".96\" x=\"75\" y=\"0\" fill=\"#A891CF\" />\n",
       "<rect width=\"1\" height=\".96\" x=\"76\" y=\"0\" fill=\"#EF007A\" />\n",
       "<rect width=\"1\" height=\".96\" x=\"77\" y=\"0\" fill=\"#B8CE00\" />\n",
       "<rect width=\"1\" height=\".96\" x=\"78\" y=\"0\" fill=\"#001700\" />\n",
       "<rect width=\"1\" height=\".96\" x=\"79\" y=\"0\" fill=\"#204B39\" />\n",
       "<rect width=\"1\" height=\".96\" x=\"80\" y=\"0\" fill=\"#875866\" />\n",
       "<rect width=\"1\" height=\".96\" x=\"81\" y=\"0\" fill=\"#B5FF4E\" />\n",
       "<rect width=\"1\" height=\".96\" x=\"82\" y=\"0\" fill=\"#B40080\" />\n",
       "<rect width=\"1\" height=\".96\" x=\"83\" y=\"0\" fill=\"#853F34\" />\n",
       "<rect width=\"1\" height=\".96\" x=\"84\" y=\"0\" fill=\"#69936B\" />\n",
       "<rect width=\"1\" height=\".96\" x=\"85\" y=\"0\" fill=\"#FFBC80\" />\n",
       "<rect width=\"1\" height=\".96\" x=\"86\" y=\"0\" fill=\"#4C3779\" />\n",
       "<rect width=\"1\" height=\".96\" x=\"87\" y=\"0\" fill=\"#323606\" />\n",
       "<rect width=\"1\" height=\".96\" x=\"88\" y=\"0\" fill=\"#008E94\" />\n",
       "<rect width=\"1\" height=\".96\" x=\"89\" y=\"0\" fill=\"#CAAC51\" />\n",
       "<rect width=\"1\" height=\".96\" x=\"90\" y=\"0\" fill=\"#787B3B\" />\n",
       "<rect width=\"1\" height=\".96\" x=\"91\" y=\"0\" fill=\"#B6F9D9\" />\n",
       "<rect width=\"1\" height=\".96\" x=\"92\" y=\"0\" fill=\"#DA003F\" />\n",
       "<rect width=\"1\" height=\".96\" x=\"93\" y=\"0\" fill=\"#2E2124\" />\n",
       "<rect width=\"1\" height=\".96\" x=\"94\" y=\"0\" fill=\"#005815\" />\n",
       "<rect width=\"1\" height=\".96\" x=\"95\" y=\"0\" fill=\"#FF8E1D\" />\n",
       "<rect width=\"1\" height=\".96\" x=\"96\" y=\"0\" fill=\"#6674B1\" />\n",
       "<rect width=\"1\" height=\".96\" x=\"97\" y=\"0\" fill=\"#00CDAD\" />\n",
       "<rect width=\"1\" height=\".96\" x=\"98\" y=\"0\" fill=\"#007F63\" />\n",
       "<rect width=\"1\" height=\".96\" x=\"99\" y=\"0\" fill=\"#996F3D\" />\n",
       "</svg>"
      ],
      "text/plain": [
       "100-element Array{RGB{N0f8},1} with eltype RGB{FixedPointNumbers.N0f8}:\n",
       " RGB{N0f8}(0.0,0.0,0.0)\n",
       " RGB{N0f8}(1.0,1.0,0.455)\n",
       " RGB{N0f8}(1.0,0.608,1.0)\n",
       " RGB{N0f8}(0.0,0.827,1.0)\n",
       " RGB{N0f8}(0.886,0.388,0.051)\n",
       " RGB{N0f8}(0.0,0.494,0.0)\n",
       " RGB{N0f8}(0.0,0.314,0.902)\n",
       " RGB{N0f8}(0.675,0.0,0.278)\n",
       " RGB{N0f8}(0.0,1.0,0.784)\n",
       " RGB{N0f8}(0.0,0.392,0.408)\n",
       " RGB{N0f8}(1.0,0.835,0.769)\n",
       " RGB{N0f8}(0.424,0.322,0.0)\n",
       " RGB{N0f8}(0.478,0.459,0.506)\n",
       " ⋮\n",
       " RGB{N0f8}(0.0,0.557,0.58)\n",
       " RGB{N0f8}(0.792,0.675,0.318)\n",
       " RGB{N0f8}(0.471,0.482,0.231)\n",
       " RGB{N0f8}(0.714,0.976,0.851)\n",
       " RGB{N0f8}(0.855,0.0,0.247)\n",
       " RGB{N0f8}(0.18,0.129,0.141)\n",
       " RGB{N0f8}(0.0,0.345,0.082)\n",
       " RGB{N0f8}(1.0,0.557,0.114)\n",
       " RGB{N0f8}(0.4,0.455,0.694)\n",
       " RGB{N0f8}(0.0,0.804,0.678)\n",
       " RGB{N0f8}(0.0,0.498,0.388)\n",
       " RGB{N0f8}(0.6,0.435,0.239)"
      ]
     },
     "execution_count": 93,
     "metadata": {},
     "output_type": "execute_result"
    }
   ],
   "source": [
    "palette = distinguishable_colors(100)"
   ]
  },
  {
   "cell_type": "code",
   "execution_count": 94,
   "id": "c31474f2-879b-44f9-8f6b-97d294445f16",
   "metadata": {},
   "outputs": [
    {
     "data": {
      "image/svg+xml": [
       "<?xml version=\"1.0\" encoding=\"UTF-8\"?>\n",
       "<!DOCTYPE svg PUBLIC \"-//W3C//DTD SVG 1.1//EN\"\n",
       " \"http://www.w3.org/Graphics/SVG/1.1/DTD/svg11.dtd\">\n",
       "<svg xmlns=\"http://www.w3.org/2000/svg\" version=\"1.1\"\n",
       "     width=\"75mm\" height=\"75mm\"\n",
       "     viewBox=\"0 0 3 3\" preserveAspectRatio=\"none\"\n",
       "     shape-rendering=\"crispEdges\" stroke=\"none\">\n",
       "<rect width=\".96\" height=\".96\" x=\"0\" y=\"0\" fill=\"#996F3D\" />\n",
       "<rect width=\".96\" height=\".96\" x=\"1\" y=\"0\" fill=\"#DA003F\" />\n",
       "<rect width=\".96\" height=\".96\" x=\"2\" y=\"0\" fill=\"#008FB6\" />\n",
       "<rect width=\".96\" height=\".96\" x=\"0\" y=\"1\" fill=\"#FF342D\" />\n",
       "<rect width=\".96\" height=\".96\" x=\"1\" y=\"1\" fill=\"#00A853\" />\n",
       "<rect width=\".96\" height=\".96\" x=\"2\" y=\"1\" fill=\"#AE5B8E\" />\n",
       "<rect width=\".96\" height=\".96\" x=\"0\" y=\"2\" fill=\"#00CDAD\" />\n",
       "<rect width=\".96\" height=\".96\" x=\"1\" y=\"2\" fill=\"#00FFC8\" />\n",
       "<rect width=\".96\" height=\".96\" x=\"2\" y=\"2\" fill=\"#002D30\" />\n",
       "</svg>"
      ],
      "text/plain": [
       "3×3 Array{RGB{N0f8},2} with eltype RGB{FixedPointNumbers.N0f8}:\n",
       " RGB{N0f8}(0.6,0.435,0.239)  …  RGB{N0f8}(0.0,0.561,0.714)\n",
       " RGB{N0f8}(1.0,0.204,0.176)     RGB{N0f8}(0.682,0.357,0.557)\n",
       " RGB{N0f8}(0.0,0.804,0.678)     RGB{N0f8}(0.0,0.176,0.188)"
      ]
     },
     "execution_count": 94,
     "metadata": {},
     "output_type": "execute_result"
    }
   ],
   "source": [
    "rand(palette, 3, 3)"
   ]
  },
  {
   "cell_type": "code",
   "execution_count": 95,
   "id": "c9345715-cd39-4e10-b8ec-82c2c05b9120",
   "metadata": {},
   "outputs": [
    {
     "name": "stderr",
     "output_type": "stream",
     "text": [
      "\u001b[32m\u001b[1m   Resolving\u001b[22m\u001b[39m package versions...\n",
      "\u001b[32m\u001b[1m   Installed\u001b[22m\u001b[39m Primes ─ v0.5.1\n",
      "\u001b[32m\u001b[1m    Updating\u001b[22m\u001b[39m `~/.julia/environments/v1.7/Project.toml`\n",
      " \u001b[90m [27ebfcd6] \u001b[39m\u001b[92m+ Primes v0.5.1\u001b[39m\n",
      "\u001b[32m\u001b[1m    Updating\u001b[22m\u001b[39m `~/.julia/environments/v1.7/Manifest.toml`\n",
      " \u001b[90m [27ebfcd6] \u001b[39m\u001b[92m+ Primes v0.5.1\u001b[39m\n",
      "\u001b[32m\u001b[1mPrecompiling\u001b[22m\u001b[39m project...\n",
      "\u001b[32m  ✓ \u001b[39mPrimes\n",
      "  1 dependency successfully precompiled in 0 seconds (22 already precompiled)\n"
     ]
    }
   ],
   "source": [
    "Pkg.add(\"Primes\")"
   ]
  },
  {
   "cell_type": "code",
   "execution_count": 97,
   "id": "98a5c398-7340-4c56-a958-55ba1149c5f0",
   "metadata": {},
   "outputs": [
    {
     "data": {
      "text/plain": [
       "false"
      ]
     },
     "execution_count": 97,
     "metadata": {},
     "output_type": "execute_result"
    }
   ],
   "source": [
    "@isdefined Primes"
   ]
  },
  {
   "cell_type": "code",
   "execution_count": 98,
   "id": "b2fdfb71-38bb-4a47-9a8e-b0a79af39216",
   "metadata": {},
   "outputs": [],
   "source": [
    "using Primes"
   ]
  },
  {
   "cell_type": "code",
   "execution_count": 99,
   "id": "690d2dea-052d-48c3-b3ad-cac3979f507f",
   "metadata": {},
   "outputs": [
    {
     "data": {
      "text/plain": [
       "true"
      ]
     },
     "execution_count": 99,
     "metadata": {},
     "output_type": "execute_result"
    }
   ],
   "source": [
    "@isdefined Primes"
   ]
  },
  {
   "cell_type": "code",
   "execution_count": 103,
   "id": "4d226a80-d3ee-466d-8618-769ba957db95",
   "metadata": {},
   "outputs": [
    {
     "data": {
      "text/plain": [
       "8-element Vector{Int64}:\n",
       "  2\n",
       "  3\n",
       "  5\n",
       "  7\n",
       " 11\n",
       " 13\n",
       " 17\n",
       " 19"
      ]
     },
     "execution_count": 103,
     "metadata": {},
     "output_type": "execute_result"
    }
   ],
   "source": [
    "primes_list = primes(20)"
   ]
  },
  {
   "cell_type": "code",
   "execution_count": 104,
   "id": "d6645de5-ffb5-47d6-a540-b69a4b698f95",
   "metadata": {},
   "outputs": [
    {
     "name": "stderr",
     "output_type": "stream",
     "text": [
      "┌ Warning: Pkg.installed() is deprecated\n",
      "└ @ Pkg /buildworker/worker/package_linux64/build/usr/share/julia/stdlib/v1.7/Pkg/src/Pkg.jl:595\n"
     ]
    },
    {
     "data": {
      "text/plain": [
       "Dict{String, VersionNumber} with 3 entries:\n",
       "  \"IJulia\" => v\"1.23.2\"\n",
       "  \"Primes\" => v\"0.5.1\"\n",
       "  \"Colors\" => v\"0.12.8\""
      ]
     },
     "execution_count": 104,
     "metadata": {},
     "output_type": "execute_result"
    }
   ],
   "source": [
    "Pkg.installed()"
   ]
  },
  {
   "cell_type": "code",
   "execution_count": 106,
   "id": "c8579726-cb6f-44e6-86b7-e2bcf0e432aa",
   "metadata": {},
   "outputs": [
    {
     "data": {
      "text/plain": [
       "Dict{Base.UUID, Pkg.API.PackageInfo} with 56 entries:\n",
       "  UUID(\"3da002f7-5984-5a60… => PackageInfo(\"ColorTypes\", v\"0.11.0\", \"024fe24d83…\n",
       "  UUID(\"29816b5a-b9ab-546f… => PackageInfo(\"LibSSH2_jll\", nothing, nothing, fal…\n",
       "  UUID(\"81def892-9a0e-5fdd… => PackageInfo(\"VersionParsing\", v\"1.2.1\", \"e575cf8…\n",
       "  UUID(\"3f19e933-33d8-53b3… => PackageInfo(\"p7zip_jll\", nothing, nothing, false…\n",
       "  UUID(\"b85f4697-e234-5449… => PackageInfo(\"SoftGlobalScope\", v\"1.1.0\", \"986ec2…\n",
       "  UUID(\"14a3606d-f60d-562e… => PackageInfo(\"MozillaCACerts_jll\", nothing, nothi…\n",
       "  UUID(\"a63ad114-7e13-5084… => PackageInfo(\"Mmap\", nothing, nothing, false, fal…\n",
       "  UUID(\"d6f4376e-aef5-505a… => PackageInfo(\"Markdown\", nothing, nothing, false,…\n",
       "  UUID(\"76f85450-5226-5b5a… => PackageInfo(\"LibGit2\", nothing, nothing, false, …\n",
       "  UUID(\"2a0f44e3-6c83-55bd… => PackageInfo(\"Base64\", nothing, nothing, false, f…\n",
       "  UUID(\"f43a241f-c20a-4ad4… => PackageInfo(\"Downloads\", nothing, nothing, false…\n",
       "  UUID(\"9a3f8284-a2c9-5f02… => PackageInfo(\"Random\", nothing, nothing, false, f…\n",
       "  UUID(\"56f22d72-fd6d-98f1… => PackageInfo(\"Artifacts\", nothing, nothing, false…\n",
       "  UUID(\"682c06a0-de6a-54ab… => PackageInfo(\"JSON\", v\"0.21.2\", \"8076680b162ada2a…\n",
       "  UUID(\"b77e0a4c-d291-57a0… => PackageInfo(\"InteractiveUtils\", nothing, nothing…\n",
       "  UUID(\"8f4d0f93-b110-5947… => PackageInfo(\"Conda\", v\"1.6.0\", \"6cdc8832ba11c769…\n",
       "  UUID(\"9e88b42a-f829-5b0c… => PackageInfo(\"Serialization\", nothing, nothing, f…\n",
       "  UUID(\"deac9b47-8bc7-5906… => PackageInfo(\"LibCURL_jll\", nothing, nothing, fal…\n",
       "  UUID(\"a9144af2-ca23-56d9… => PackageInfo(\"libsodium_jll\", v\"1.0.20+0\", \"848ab…\n",
       "  UUID(\"8f1865be-045e-5c20… => PackageInfo(\"ZeroMQ_jll\", v\"4.3.4+0\", \"fe5c65a52…\n",
       "  UUID(\"21216c6a-2e73-6563… => PackageInfo(\"Preferences\", v\"1.2.2\", \"00cfd92944…\n",
       "  UUID(\"8dfed614-e22c-5e08… => PackageInfo(\"Test\", nothing, nothing, false, fal…\n",
       "  UUID(\"189a3867-3050-52da… => PackageInfo(\"Reexport\", v\"1.2.2\", \"45e4284216660…\n",
       "  UUID(\"739be429-bea8-5141… => PackageInfo(\"MbedTLS\", v\"1.0.3\", \"1c38e51c3d08ef…\n",
       "  UUID(\"10745b16-79ce-11e8… => PackageInfo(\"Statistics\", nothing, nothing, fals…\n",
       "  ⋮                         => ⋮"
      ]
     },
     "execution_count": 106,
     "metadata": {},
     "output_type": "execute_result"
    }
   ],
   "source": [
    "Pkg.dependencies()"
   ]
  },
  {
   "cell_type": "code",
   "execution_count": 108,
   "id": "d62a1ab4-f8fb-47ad-b084-9aa56be0e7f0",
   "metadata": {},
   "outputs": [
    {
     "name": "stderr",
     "output_type": "stream",
     "text": [
      "\u001b[32m\u001b[1m   Resolving\u001b[22m\u001b[39m package versions...\n",
      "\u001b[32m\u001b[1m   Installed\u001b[22m\u001b[39m IrrationalConstants ────────── v0.1.1\n",
      "\u001b[32m\u001b[1m   Installed\u001b[22m\u001b[39m Wayland_protocols_jll ──────── v1.23.0+0\n",
      "\u001b[32m\u001b[1m   Installed\u001b[22m\u001b[39m FFMPEG ─────────────────────── v0.4.1\n",
      "\u001b[32m\u001b[1m   Installed\u001b[22m\u001b[39m Scratch ────────────────────── v1.1.0\n",
      "\u001b[32m\u001b[1m   Installed\u001b[22m\u001b[39m Showoff ────────────────────── v1.0.3\n",
      "\u001b[32m\u001b[1m   Installed\u001b[22m\u001b[39m x265_jll ───────────────────── v3.5.0+0\n",
      "\u001b[32m\u001b[1m   Installed\u001b[22m\u001b[39m JpegTurbo_jll ──────────────── v2.1.0+0\n",
      "\u001b[32m\u001b[1m   Installed\u001b[22m\u001b[39m Xorg_xcb_util_renderutil_jll ─ v0.3.9+1\n",
      "\u001b[32m\u001b[1m   Installed\u001b[22m\u001b[39m Adapt ──────────────────────── v3.3.1\n",
      "\u001b[32m\u001b[1m   Installed\u001b[22m\u001b[39m libass_jll ─────────────────── v0.15.1+0\n",
      "\u001b[32m\u001b[1m   Installed\u001b[22m\u001b[39m libfdk_aac_jll ─────────────── v2.0.2+0\n",
      "\u001b[32m\u001b[1m   Installed\u001b[22m\u001b[39m Graphite2_jll ──────────────── v1.3.14+0\n",
      "\u001b[32m\u001b[1m   Installed\u001b[22m\u001b[39m XML2_jll ───────────────────── v2.9.12+0\n",
      "\u001b[32m\u001b[1m   Installed\u001b[22m\u001b[39m Pixman_jll ─────────────────── v0.40.1+0\n",
      "\u001b[32m\u001b[1m   Installed\u001b[22m\u001b[39m Libmount_jll ───────────────── v2.35.0+0\n",
      "\u001b[32m\u001b[1m   Installed\u001b[22m\u001b[39m GR_jll ─────────────────────── v0.62.0+0\n",
      "\u001b[32m\u001b[1m   Installed\u001b[22m\u001b[39m Plots ──────────────────────── v1.25.2\n",
      "\u001b[32m\u001b[1m   Installed\u001b[22m\u001b[39m Xorg_libXext_jll ───────────── v1.3.4+4\n",
      "\u001b[32m\u001b[1m   Installed\u001b[22m\u001b[39m Gettext_jll ────────────────── v0.21.0+0\n",
      "\u001b[32m\u001b[1m   Installed\u001b[22m\u001b[39m Zstd_jll ───────────────────── v1.5.0+0\n",
      "\u001b[32m\u001b[1m   Installed\u001b[22m\u001b[39m Wayland_jll ────────────────── v1.19.0+0\n",
      "\u001b[32m\u001b[1m   Installed\u001b[22m\u001b[39m Latexify ───────────────────── v0.15.9\n",
      "\u001b[32m\u001b[1m   Installed\u001b[22m\u001b[39m TableTraits ────────────────── v1.0.1\n",
      "\u001b[32m\u001b[1m   Installed\u001b[22m\u001b[39m IterTools ──────────────────── v1.4.0\n",
      "\u001b[32m\u001b[1m   Installed\u001b[22m\u001b[39m Qt5Base_jll ────────────────── v5.15.3+0\n",
      "\u001b[32m\u001b[1m   Installed\u001b[22m\u001b[39m Expat_jll ──────────────────── v2.2.10+0\n",
      "\u001b[32m\u001b[1m   Installed\u001b[22m\u001b[39m Xorg_xtrans_jll ────────────── v1.4.0+3\n",
      "\u001b[32m\u001b[1m   Installed\u001b[22m\u001b[39m OpenSSL_jll ────────────────── v1.1.10+0\n",
      "\u001b[32m\u001b[1m   Installed\u001b[22m\u001b[39m Opus_jll ───────────────────── v1.3.2+0\n",
      "\u001b[32m\u001b[1m   Installed\u001b[22m\u001b[39m FFMPEG_jll ─────────────────── v4.4.0+0\n",
      "\u001b[32m\u001b[1m   Installed\u001b[22m\u001b[39m xkbcommon_jll ──────────────── v0.9.1+5\n",
      "\u001b[32m\u001b[1m   Installed\u001b[22m\u001b[39m Xorg_xcb_util_keysyms_jll ──── v0.4.0+1\n",
      "\u001b[32m\u001b[1m   Installed\u001b[22m\u001b[39m Bzip2_jll ──────────────────── v1.0.8+0\n",
      "\u001b[32m\u001b[1m   Installed\u001b[22m\u001b[39m GeometryBasics ─────────────── v0.4.1\n",
      "\u001b[32m\u001b[1m   Installed\u001b[22m\u001b[39m Libgcrypt_jll ──────────────── v1.8.7+0\n",
      "\u001b[32m\u001b[1m   Installed\u001b[22m\u001b[39m Xorg_xkbcomp_jll ───────────── v1.4.2+4\n",
      "\u001b[32m\u001b[1m   Installed\u001b[22m\u001b[39m Tables ─────────────────────── v1.6.0\n",
      "\u001b[32m\u001b[1m   Installed\u001b[22m\u001b[39m HarfBuzz_jll ───────────────── v2.8.1+1\n",
      "\u001b[32m\u001b[1m   Installed\u001b[22m\u001b[39m Xorg_xkeyboard_config_jll ──── v2.27.0+4\n",
      "\u001b[32m\u001b[1m   Installed\u001b[22m\u001b[39m PlotThemes ─────────────────── v2.0.1\n",
      "\u001b[32m\u001b[1m   Installed\u001b[22m\u001b[39m Xorg_libXrandr_jll ─────────── v1.5.2+4\n",
      "\u001b[32m\u001b[1m   Installed\u001b[22m\u001b[39m DataAPI ────────────────────── v1.9.0\n",
      "\u001b[32m\u001b[1m   Installed\u001b[22m\u001b[39m Libtiff_jll ────────────────── v4.3.0+0\n",
      "\u001b[32m\u001b[1m   Installed\u001b[22m\u001b[39m EarCut_jll ─────────────────── v2.2.3+0\n",
      "\u001b[32m\u001b[1m   Installed\u001b[22m\u001b[39m Measures ───────────────────── v0.3.1\n",
      "\u001b[32m\u001b[1m   Installed\u001b[22m\u001b[39m RecipesBase ────────────────── v1.2.1\n",
      "\u001b[32m\u001b[1m   Installed\u001b[22m\u001b[39m Contour ────────────────────── v0.5.7\n",
      "\u001b[32m\u001b[1m   Installed\u001b[22m\u001b[39m StaticArrays ───────────────── v1.2.13\n",
      "\u001b[32m\u001b[1m   Installed\u001b[22m\u001b[39m Xorg_libXfixes_jll ─────────── v5.0.3+4\n",
      "\u001b[32m\u001b[1m   Installed\u001b[22m\u001b[39m ColorSchemes ───────────────── v3.15.0\n",
      "\u001b[32m\u001b[1m   Installed\u001b[22m\u001b[39m PCRE_jll ───────────────────── v8.44.0+0\n",
      "\u001b[32m\u001b[1m   Installed\u001b[22m\u001b[39m LAME_jll ───────────────────── v3.100.1+0\n",
      "\u001b[32m\u001b[1m   Installed\u001b[22m\u001b[39m Grisu ──────────────────────── v1.0.2\n",
      "\u001b[32m\u001b[1m   Installed\u001b[22m\u001b[39m NaNMath ────────────────────── v0.3.5\n",
      "\u001b[32m\u001b[1m   Installed\u001b[22m\u001b[39m Libiconv_jll ───────────────── v1.16.1+1\n",
      "\u001b[32m\u001b[1m   Installed\u001b[22m\u001b[39m IteratorInterfaceExtensions ── v1.0.0\n",
      "\u001b[32m\u001b[1m   Installed\u001b[22m\u001b[39m Formatting ─────────────────── v0.4.2\n",
      "\u001b[32m\u001b[1m   Installed\u001b[22m\u001b[39m Xorg_xcb_util_image_jll ────── v0.4.0+1\n",
      "\u001b[32m\u001b[1m   Installed\u001b[22m\u001b[39m IniFile ────────────────────── v0.5.0\n",
      "\u001b[32m\u001b[1m   Installed\u001b[22m\u001b[39m Xorg_xcb_util_wm_jll ───────── v0.4.1+1\n",
      "\u001b[32m\u001b[1m   Installed\u001b[22m\u001b[39m URIs ───────────────────────── v1.3.0\n",
      "\u001b[32m\u001b[1m   Installed\u001b[22m\u001b[39m LZO_jll ────────────────────── v2.10.1+0\n",
      "\u001b[32m\u001b[1m   Installed\u001b[22m\u001b[39m PlotUtils ──────────────────── v1.0.15\n",
      "\u001b[32m\u001b[1m   Installed\u001b[22m\u001b[39m StructArrays ───────────────── v0.6.3\n",
      "\u001b[32m\u001b[1m   Installed\u001b[22m\u001b[39m Libffi_jll ─────────────────── v3.2.2+1\n",
      "\u001b[32m\u001b[1m   Installed\u001b[22m\u001b[39m DataValueInterfaces ────────── v1.0.0\n",
      "\u001b[32m\u001b[1m   Installed\u001b[22m\u001b[39m OrderedCollections ─────────── v1.4.1\n",
      "\u001b[32m\u001b[1m   Installed\u001b[22m\u001b[39m RecipesPipeline ────────────── v0.4.1\n",
      "\u001b[32m\u001b[1m   Installed\u001b[22m\u001b[39m LaTeXStrings ───────────────── v1.3.0\n",
      "\u001b[32m\u001b[1m   Installed\u001b[22m\u001b[39m Xorg_libXrender_jll ────────── v0.9.10+4\n",
      "\u001b[32m\u001b[1m   Installed\u001b[22m\u001b[39m Glib_jll ───────────────────── v2.68.3+1\n",
      "\u001b[32m\u001b[1m   Installed\u001b[22m\u001b[39m libvorbis_jll ──────────────── v1.3.7+0\n",
      "\u001b[32m\u001b[1m   Installed\u001b[22m\u001b[39m FriBidi_jll ────────────────── v1.0.10+0\n",
      "\u001b[32m\u001b[1m   Installed\u001b[22m\u001b[39m ChainRulesCore ─────────────── v1.11.2\n",
      "\u001b[32m\u001b[1m   Installed\u001b[22m\u001b[39m GR ─────────────────────────── v0.62.1\n",
      "\u001b[32m\u001b[1m   Installed\u001b[22m\u001b[39m Ogg_jll ────────────────────── v1.3.5+0\n",
      "\u001b[32m\u001b[1m   Installed\u001b[22m\u001b[39m Libglvnd_jll ───────────────── v1.3.0+3\n",
      "\u001b[32m\u001b[1m   Installed\u001b[22m\u001b[39m Xorg_libpthread_stubs_jll ──── v0.1.0+3\n",
      "\u001b[32m\u001b[1m   Installed\u001b[22m\u001b[39m Xorg_libXi_jll ─────────────── v1.7.10+4\n",
      "\u001b[32m\u001b[1m   Installed\u001b[22m\u001b[39m Xorg_xcb_util_jll ──────────── v0.4.0+1\n",
      "\u001b[32m\u001b[1m   Installed\u001b[22m\u001b[39m XSLT_jll ───────────────────── v1.1.34+0\n",
      "\u001b[32m\u001b[1m   Installed\u001b[22m\u001b[39m Cairo_jll ──────────────────── v1.16.1+0\n",
      "\u001b[32m\u001b[1m   Installed\u001b[22m\u001b[39m Fontconfig_jll ─────────────── v2.13.93+0\n",
      "\u001b[32m\u001b[1m   Installed\u001b[22m\u001b[39m UnicodeFun ─────────────────── v0.4.1\n",
      "\u001b[32m\u001b[1m   Installed\u001b[22m\u001b[39m GLFW_jll ───────────────────── v3.3.5+1\n",
      "\u001b[32m\u001b[1m   Installed\u001b[22m\u001b[39m Libgpg_error_jll ───────────── v1.42.0+0\n",
      "\u001b[32m\u001b[1m   Installed\u001b[22m\u001b[39m HTTP ───────────────────────── v0.9.17\n",
      "\u001b[32m\u001b[1m   Installed\u001b[22m\u001b[39m x264_jll ───────────────────── v2021.5.5+0\n",
      "\u001b[32m\u001b[1m   Installed\u001b[22m\u001b[39m LogExpFunctions ────────────── v0.3.5\n",
      "\u001b[32m\u001b[1m   Installed\u001b[22m\u001b[39m Xorg_libXinerama_jll ───────── v1.1.4+4\n",
      "\u001b[32m\u001b[1m   Installed\u001b[22m\u001b[39m Xorg_libX11_jll ────────────── v1.6.9+4\n",
      "\u001b[32m\u001b[1m   Installed\u001b[22m\u001b[39m Requires ───────────────────── v1.1.3\n",
      "\u001b[32m\u001b[1m   Installed\u001b[22m\u001b[39m Xorg_libxkbfile_jll ────────── v1.1.0+4\n",
      "\u001b[32m\u001b[1m   Installed\u001b[22m\u001b[39m FreeType2_jll ──────────────── v2.10.4+0\n",
      "\u001b[32m\u001b[1m   Installed\u001b[22m\u001b[39m DataStructures ─────────────── v0.18.11\n",
      "\u001b[32m\u001b[1m   Installed\u001b[22m\u001b[39m Xorg_libXdmcp_jll ──────────── v1.1.3+4\n",
      "\u001b[32m\u001b[1m   Installed\u001b[22m\u001b[39m MacroTools ─────────────────── v0.5.9\n",
      "\u001b[32m\u001b[1m   Installed\u001b[22m\u001b[39m Compat ─────────────────────── v3.40.0\n",
      "\u001b[32m\u001b[1m   Installed\u001b[22m\u001b[39m Xorg_libXau_jll ────────────── v1.0.9+4\n",
      "\u001b[32m\u001b[1m   Installed\u001b[22m\u001b[39m StatsAPI ───────────────────── v1.1.0\n",
      "\u001b[32m\u001b[1m   Installed\u001b[22m\u001b[39m Xorg_libXcursor_jll ────────── v1.2.0+4\n",
      "\u001b[32m\u001b[1m   Installed\u001b[22m\u001b[39m InverseFunctions ───────────── v0.1.2\n",
      "\u001b[32m\u001b[1m   Installed\u001b[22m\u001b[39m Libuuid_jll ────────────────── v2.36.0+0\n",
      "\u001b[32m\u001b[1m   Installed\u001b[22m\u001b[39m SortingAlgorithms ──────────── v1.0.1\n",
      "\u001b[32m\u001b[1m   Installed\u001b[22m\u001b[39m Xorg_libxcb_jll ────────────── v1.13.0+3\n",
      "\u001b[32m\u001b[1m   Installed\u001b[22m\u001b[39m ChangesOfVariables ─────────── v0.1.2\n",
      "\u001b[32m\u001b[1m   Installed\u001b[22m\u001b[39m StatsBase ──────────────────── v0.33.13\n",
      "\u001b[32m\u001b[1m   Installed\u001b[22m\u001b[39m libpng_jll ─────────────────── v1.6.38+0\n",
      "\u001b[32m\u001b[1m   Installed\u001b[22m\u001b[39m Missings ───────────────────── v1.0.2\n",
      "\u001b[32m\u001b[1m   Installed\u001b[22m\u001b[39m DocStringExtensions ────────── v0.8.6\n",
      "\u001b[32m\u001b[1m    Updating\u001b[22m\u001b[39m `~/.julia/environments/v1.7/Project.toml`\n",
      " \u001b[90m [91a5bcdd] \u001b[39m\u001b[92m+ Plots v1.25.2\u001b[39m\n",
      "\u001b[32m\u001b[1m    Updating\u001b[22m\u001b[39m `~/.julia/environments/v1.7/Manifest.toml`\n",
      " \u001b[90m [79e6a3ab] \u001b[39m\u001b[92m+ Adapt v3.3.1\u001b[39m\n",
      " \u001b[90m [d360d2e6] \u001b[39m\u001b[92m+ ChainRulesCore v1.11.2\u001b[39m\n",
      " \u001b[90m [9e997f8a] \u001b[39m\u001b[92m+ ChangesOfVariables v0.1.2\u001b[39m\n",
      " \u001b[90m [35d6a980] \u001b[39m\u001b[92m+ ColorSchemes v3.15.0\u001b[39m\n",
      " \u001b[90m [34da2185] \u001b[39m\u001b[92m+ Compat v3.40.0\u001b[39m\n",
      " \u001b[90m [d38c429a] \u001b[39m\u001b[92m+ Contour v0.5.7\u001b[39m\n",
      " \u001b[90m [9a962f9c] \u001b[39m\u001b[92m+ DataAPI v1.9.0\u001b[39m\n",
      " \u001b[90m [864edb3b] \u001b[39m\u001b[92m+ DataStructures v0.18.11\u001b[39m\n",
      " \u001b[90m [e2d170a0] \u001b[39m\u001b[92m+ DataValueInterfaces v1.0.0\u001b[39m\n",
      " \u001b[90m [ffbed154] \u001b[39m\u001b[92m+ DocStringExtensions v0.8.6\u001b[39m\n",
      " \u001b[90m [c87230d0] \u001b[39m\u001b[92m+ FFMPEG v0.4.1\u001b[39m\n",
      " \u001b[90m [59287772] \u001b[39m\u001b[92m+ Formatting v0.4.2\u001b[39m\n",
      " \u001b[90m [28b8d3ca] \u001b[39m\u001b[92m+ GR v0.62.1\u001b[39m\n",
      " \u001b[90m [5c1252a2] \u001b[39m\u001b[92m+ GeometryBasics v0.4.1\u001b[39m\n",
      " \u001b[90m [42e2da0e] \u001b[39m\u001b[92m+ Grisu v1.0.2\u001b[39m\n",
      " \u001b[90m [cd3eb016] \u001b[39m\u001b[92m+ HTTP v0.9.17\u001b[39m\n",
      " \u001b[90m [83e8ac13] \u001b[39m\u001b[92m+ IniFile v0.5.0\u001b[39m\n",
      " \u001b[90m [3587e190] \u001b[39m\u001b[92m+ InverseFunctions v0.1.2\u001b[39m\n",
      " \u001b[90m [92d709cd] \u001b[39m\u001b[92m+ IrrationalConstants v0.1.1\u001b[39m\n",
      " \u001b[90m [c8e1da08] \u001b[39m\u001b[92m+ IterTools v1.4.0\u001b[39m\n",
      " \u001b[90m [82899510] \u001b[39m\u001b[92m+ IteratorInterfaceExtensions v1.0.0\u001b[39m\n",
      " \u001b[90m [b964fa9f] \u001b[39m\u001b[92m+ LaTeXStrings v1.3.0\u001b[39m\n",
      " \u001b[90m [23fbe1c1] \u001b[39m\u001b[92m+ Latexify v0.15.9\u001b[39m\n",
      " \u001b[90m [2ab3a3ac] \u001b[39m\u001b[92m+ LogExpFunctions v0.3.5\u001b[39m\n",
      " \u001b[90m [1914dd2f] \u001b[39m\u001b[92m+ MacroTools v0.5.9\u001b[39m\n",
      " \u001b[90m [442fdcdd] \u001b[39m\u001b[92m+ Measures v0.3.1\u001b[39m\n",
      " \u001b[90m [e1d29d7a] \u001b[39m\u001b[92m+ Missings v1.0.2\u001b[39m\n",
      " \u001b[90m [77ba4419] \u001b[39m\u001b[92m+ NaNMath v0.3.5\u001b[39m\n",
      " \u001b[90m [bac558e1] \u001b[39m\u001b[92m+ OrderedCollections v1.4.1\u001b[39m\n",
      " \u001b[90m [ccf2f8ad] \u001b[39m\u001b[92m+ PlotThemes v2.0.1\u001b[39m\n",
      " \u001b[90m [995b91a9] \u001b[39m\u001b[92m+ PlotUtils v1.0.15\u001b[39m\n",
      " \u001b[90m [91a5bcdd] \u001b[39m\u001b[92m+ Plots v1.25.2\u001b[39m\n",
      " \u001b[90m [3cdcf5f2] \u001b[39m\u001b[92m+ RecipesBase v1.2.1\u001b[39m\n",
      " \u001b[90m [01d81517] \u001b[39m\u001b[92m+ RecipesPipeline v0.4.1\u001b[39m\n",
      " \u001b[90m [ae029012] \u001b[39m\u001b[92m+ Requires v1.1.3\u001b[39m\n",
      " \u001b[90m [6c6a2e73] \u001b[39m\u001b[92m+ Scratch v1.1.0\u001b[39m\n",
      " \u001b[90m [992d4aef] \u001b[39m\u001b[92m+ Showoff v1.0.3\u001b[39m\n",
      " \u001b[90m [a2af1166] \u001b[39m\u001b[92m+ SortingAlgorithms v1.0.1\u001b[39m\n",
      " \u001b[90m [90137ffa] \u001b[39m\u001b[92m+ StaticArrays v1.2.13\u001b[39m\n",
      " \u001b[90m [82ae8749] \u001b[39m\u001b[92m+ StatsAPI v1.1.0\u001b[39m\n",
      " \u001b[90m [2913bbd2] \u001b[39m\u001b[92m+ StatsBase v0.33.13\u001b[39m\n",
      " \u001b[90m [09ab397b] \u001b[39m\u001b[92m+ StructArrays v0.6.3\u001b[39m\n",
      " \u001b[90m [3783bdb8] \u001b[39m\u001b[92m+ TableTraits v1.0.1\u001b[39m\n",
      " \u001b[90m [bd369af6] \u001b[39m\u001b[92m+ Tables v1.6.0\u001b[39m\n",
      " \u001b[90m [5c2747f8] \u001b[39m\u001b[92m+ URIs v1.3.0\u001b[39m\n",
      " \u001b[90m [1cfade01] \u001b[39m\u001b[92m+ UnicodeFun v0.4.1\u001b[39m\n",
      " \u001b[90m [6e34b625] \u001b[39m\u001b[92m+ Bzip2_jll v1.0.8+0\u001b[39m\n",
      " \u001b[90m [83423d85] \u001b[39m\u001b[92m+ Cairo_jll v1.16.1+0\u001b[39m\n",
      " \u001b[90m [5ae413db] \u001b[39m\u001b[92m+ EarCut_jll v2.2.3+0\u001b[39m\n",
      " \u001b[90m [2e619515] \u001b[39m\u001b[92m+ Expat_jll v2.2.10+0\u001b[39m\n",
      " \u001b[90m [b22a6f82] \u001b[39m\u001b[92m+ FFMPEG_jll v4.4.0+0\u001b[39m\n",
      " \u001b[90m [a3f928ae] \u001b[39m\u001b[92m+ Fontconfig_jll v2.13.93+0\u001b[39m\n",
      " \u001b[90m [d7e528f0] \u001b[39m\u001b[92m+ FreeType2_jll v2.10.4+0\u001b[39m\n",
      " \u001b[90m [559328eb] \u001b[39m\u001b[92m+ FriBidi_jll v1.0.10+0\u001b[39m\n",
      " \u001b[90m [0656b61e] \u001b[39m\u001b[92m+ GLFW_jll v3.3.5+1\u001b[39m\n",
      " \u001b[90m [d2c73de3] \u001b[39m\u001b[92m+ GR_jll v0.62.0+0\u001b[39m\n",
      " \u001b[90m [78b55507] \u001b[39m\u001b[92m+ Gettext_jll v0.21.0+0\u001b[39m\n",
      " \u001b[90m [7746bdde] \u001b[39m\u001b[92m+ Glib_jll v2.68.3+1\u001b[39m\n",
      " \u001b[90m [3b182d85] \u001b[39m\u001b[92m+ Graphite2_jll v1.3.14+0\u001b[39m\n",
      " \u001b[90m [2e76f6c2] \u001b[39m\u001b[92m+ HarfBuzz_jll v2.8.1+1\u001b[39m\n",
      " \u001b[90m [aacddb02] \u001b[39m\u001b[92m+ JpegTurbo_jll v2.1.0+0\u001b[39m\n",
      " \u001b[90m [c1c5ebd0] \u001b[39m\u001b[92m+ LAME_jll v3.100.1+0\u001b[39m\n",
      " \u001b[90m [dd4b983a] \u001b[39m\u001b[92m+ LZO_jll v2.10.1+0\u001b[39m\n",
      " \u001b[90m [e9f186c6] \u001b[39m\u001b[92m+ Libffi_jll v3.2.2+1\u001b[39m\n",
      " \u001b[90m [d4300ac3] \u001b[39m\u001b[92m+ Libgcrypt_jll v1.8.7+0\u001b[39m\n",
      " \u001b[90m [7e76a0d4] \u001b[39m\u001b[92m+ Libglvnd_jll v1.3.0+3\u001b[39m\n",
      " \u001b[90m [7add5ba3] \u001b[39m\u001b[92m+ Libgpg_error_jll v1.42.0+0\u001b[39m\n",
      " \u001b[90m [94ce4f54] \u001b[39m\u001b[92m+ Libiconv_jll v1.16.1+1\u001b[39m\n",
      " \u001b[90m [4b2f31a3] \u001b[39m\u001b[92m+ Libmount_jll v2.35.0+0\u001b[39m\n",
      " \u001b[90m [89763e89] \u001b[39m\u001b[92m+ Libtiff_jll v4.3.0+0\u001b[39m\n",
      " \u001b[90m [38a345b3] \u001b[39m\u001b[92m+ Libuuid_jll v2.36.0+0\u001b[39m\n",
      " \u001b[90m [e7412a2a] \u001b[39m\u001b[92m+ Ogg_jll v1.3.5+0\u001b[39m\n",
      " \u001b[90m [458c3c95] \u001b[39m\u001b[92m+ OpenSSL_jll v1.1.10+0\u001b[39m\n",
      " \u001b[90m [91d4177d] \u001b[39m\u001b[92m+ Opus_jll v1.3.2+0\u001b[39m\n",
      " \u001b[90m [2f80f16e] \u001b[39m\u001b[92m+ PCRE_jll v8.44.0+0\u001b[39m\n",
      " \u001b[90m [30392449] \u001b[39m\u001b[92m+ Pixman_jll v0.40.1+0\u001b[39m\n",
      " \u001b[90m [ea2cea3b] \u001b[39m\u001b[92m+ Qt5Base_jll v5.15.3+0\u001b[39m\n",
      " \u001b[90m [a2964d1f] \u001b[39m\u001b[92m+ Wayland_jll v1.19.0+0\u001b[39m\n",
      " \u001b[90m [2381bf8a] \u001b[39m\u001b[92m+ Wayland_protocols_jll v1.23.0+0\u001b[39m\n",
      " \u001b[90m [02c8fc9c] \u001b[39m\u001b[92m+ XML2_jll v2.9.12+0\u001b[39m\n",
      " \u001b[90m [aed1982a] \u001b[39m\u001b[92m+ XSLT_jll v1.1.34+0\u001b[39m\n",
      " \u001b[90m [4f6342f7] \u001b[39m\u001b[92m+ Xorg_libX11_jll v1.6.9+4\u001b[39m\n",
      " \u001b[90m [0c0b7dd1] \u001b[39m\u001b[92m+ Xorg_libXau_jll v1.0.9+4\u001b[39m\n",
      " \u001b[90m [935fb764] \u001b[39m\u001b[92m+ Xorg_libXcursor_jll v1.2.0+4\u001b[39m\n",
      " \u001b[90m [a3789734] \u001b[39m\u001b[92m+ Xorg_libXdmcp_jll v1.1.3+4\u001b[39m\n",
      " \u001b[90m [1082639a] \u001b[39m\u001b[92m+ Xorg_libXext_jll v1.3.4+4\u001b[39m\n",
      " \u001b[90m [d091e8ba] \u001b[39m\u001b[92m+ Xorg_libXfixes_jll v5.0.3+4\u001b[39m\n",
      " \u001b[90m [a51aa0fd] \u001b[39m\u001b[92m+ Xorg_libXi_jll v1.7.10+4\u001b[39m\n",
      " \u001b[90m [d1454406] \u001b[39m\u001b[92m+ Xorg_libXinerama_jll v1.1.4+4\u001b[39m\n",
      " \u001b[90m [ec84b674] \u001b[39m\u001b[92m+ Xorg_libXrandr_jll v1.5.2+4\u001b[39m\n",
      " \u001b[90m [ea2f1a96] \u001b[39m\u001b[92m+ Xorg_libXrender_jll v0.9.10+4\u001b[39m\n",
      " \u001b[90m [14d82f49] \u001b[39m\u001b[92m+ Xorg_libpthread_stubs_jll v0.1.0+3\u001b[39m\n",
      " \u001b[90m [c7cfdc94] \u001b[39m\u001b[92m+ Xorg_libxcb_jll v1.13.0+3\u001b[39m\n",
      " \u001b[90m [cc61e674] \u001b[39m\u001b[92m+ Xorg_libxkbfile_jll v1.1.0+4\u001b[39m\n",
      " \u001b[90m [12413925] \u001b[39m\u001b[92m+ Xorg_xcb_util_image_jll v0.4.0+1\u001b[39m\n",
      " \u001b[90m [2def613f] \u001b[39m\u001b[92m+ Xorg_xcb_util_jll v0.4.0+1\u001b[39m\n",
      " \u001b[90m [975044d2] \u001b[39m\u001b[92m+ Xorg_xcb_util_keysyms_jll v0.4.0+1\u001b[39m\n",
      " \u001b[90m [0d47668e] \u001b[39m\u001b[92m+ Xorg_xcb_util_renderutil_jll v0.3.9+1\u001b[39m\n",
      " \u001b[90m [c22f9ab0] \u001b[39m\u001b[92m+ Xorg_xcb_util_wm_jll v0.4.1+1\u001b[39m\n",
      " \u001b[90m [35661453] \u001b[39m\u001b[92m+ Xorg_xkbcomp_jll v1.4.2+4\u001b[39m\n",
      " \u001b[90m [33bec58e] \u001b[39m\u001b[92m+ Xorg_xkeyboard_config_jll v2.27.0+4\u001b[39m\n",
      " \u001b[90m [c5fb5394] \u001b[39m\u001b[92m+ Xorg_xtrans_jll v1.4.0+3\u001b[39m\n",
      " \u001b[90m [3161d3a3] \u001b[39m\u001b[92m+ Zstd_jll v1.5.0+0\u001b[39m\n",
      " \u001b[90m [0ac62f75] \u001b[39m\u001b[92m+ libass_jll v0.15.1+0\u001b[39m\n",
      " \u001b[90m [f638f0a6] \u001b[39m\u001b[92m+ libfdk_aac_jll v2.0.2+0\u001b[39m\n",
      " \u001b[90m [b53b4c65] \u001b[39m\u001b[92m+ libpng_jll v1.6.38+0\u001b[39m\n",
      " \u001b[90m [f27f6e37] \u001b[39m\u001b[92m+ libvorbis_jll v1.3.7+0\u001b[39m\n",
      " \u001b[90m [1270edf5] \u001b[39m\u001b[92m+ x264_jll v2021.5.5+0\u001b[39m\n",
      " \u001b[90m [dfaa095f] \u001b[39m\u001b[92m+ x265_jll v3.5.0+0\u001b[39m\n",
      " \u001b[90m [d8fb68d0] \u001b[39m\u001b[92m+ xkbcommon_jll v0.9.1+5\u001b[39m\n",
      " \u001b[90m [8bb1440f] \u001b[39m\u001b[92m+ DelimitedFiles\u001b[39m\n",
      " \u001b[90m [8ba89e20] \u001b[39m\u001b[92m+ Distributed\u001b[39m\n",
      " \u001b[90m [1a1011a3] \u001b[39m\u001b[92m+ SharedArrays\u001b[39m\n",
      "\u001b[32m\u001b[1m    Building\u001b[22m\u001b[39m GR → `~/.julia/scratchspaces/44cfe95a-1eb2-52ea-b672-e2afdf69b78f/30f2b340c2fff8410d89bfcdc9c0a6dd661ac5f7/build.log`\n",
      "\u001b[32m\u001b[1mPrecompiling\u001b[22m\u001b[39m project...\n",
      "\u001b[32m  ✓ \u001b[39m\u001b[90mIteratorInterfaceExtensions\u001b[39m\n",
      "\u001b[32m  ✓ \u001b[39m\u001b[90mDataValueInterfaces\u001b[39m\n",
      "\u001b[32m  ✓ \u001b[39m\u001b[90mNaNMath\u001b[39m\n",
      "\u001b[32m  ✓ \u001b[39m\u001b[90mLaTeXStrings\u001b[39m\n",
      "\u001b[32m  ✓ \u001b[39m\u001b[90mIniFile\u001b[39m\n",
      "\u001b[32m  ✓ \u001b[39m\u001b[90mAdapt\u001b[39m\n",
      "\u001b[32m  ✓ \u001b[39m\u001b[90mInverseFunctions\u001b[39m\n",
      "\u001b[32m  ✓ \u001b[39m\u001b[90mRequires\u001b[39m\n",
      "\u001b[32m  ✓ \u001b[39m\u001b[90mMeasures\u001b[39m\n",
      "\u001b[32m  ✓ \u001b[39m\u001b[90mURIs\u001b[39m\n",
      "\u001b[32m  ✓ \u001b[39m\u001b[90mOrderedCollections\u001b[39m\n",
      "\u001b[32m  ✓ \u001b[39m\u001b[90mDocStringExtensions\u001b[39m\n",
      "\u001b[32m  ✓ \u001b[39m\u001b[90mRecipesBase\u001b[39m\n",
      "\u001b[32m  ✓ \u001b[39m\u001b[90mStatsAPI\u001b[39m\n",
      "\u001b[32m  ✓ \u001b[39m\u001b[90mDataAPI\u001b[39m\n",
      "\u001b[32m  ✓ \u001b[39m\u001b[90mScratch\u001b[39m\n",
      "\u001b[32m  ✓ \u001b[39m\u001b[90mCompat\u001b[39m\n",
      "\u001b[32m  ✓ \u001b[39m\u001b[90mIrrationalConstants\u001b[39m\n",
      "\u001b[32m  ✓ \u001b[39m\u001b[90mFormatting\u001b[39m\n",
      "\u001b[32m  ✓ \u001b[39m\u001b[90mUnicodeFun\u001b[39m\n",
      "\u001b[32m  ✓ \u001b[39m\u001b[90mIterTools\u001b[39m\n",
      "\u001b[32m  ✓ \u001b[39m\u001b[90mGrisu\u001b[39m\n",
      "\u001b[32m  ✓ \u001b[39m\u001b[90mEarCut_jll\u001b[39m\n",
      "\u001b[32m  ✓ \u001b[39m\u001b[90mOpus_jll\u001b[39m\n",
      "\u001b[32m  ✓ \u001b[39m\u001b[90mXorg_xtrans_jll\u001b[39m\n",
      "\u001b[32m  ✓ \u001b[39m\u001b[90mXorg_libXau_jll\u001b[39m\n",
      "\u001b[32m  ✓ \u001b[39m\u001b[90mOgg_jll\u001b[39m\n",
      "\u001b[32m  ✓ \u001b[39m\u001b[90mOpenSSL_jll\u001b[39m\n",
      "\u001b[32m  ✓ \u001b[39m\u001b[90mJpegTurbo_jll\u001b[39m\n",
      "\u001b[32m  ✓ \u001b[39m\u001b[90mXorg_libXdmcp_jll\u001b[39m\n",
      "\u001b[32m  ✓ \u001b[39m\u001b[90mx264_jll\u001b[39m\n",
      "\u001b[32m  ✓ \u001b[39m\u001b[90mx265_jll\u001b[39m\n",
      "\u001b[32m  ✓ \u001b[39m\u001b[90mlibpng_jll\u001b[39m\n",
      "\u001b[32m  ✓ \u001b[39m\u001b[90mlibfdk_aac_jll\u001b[39m\n",
      "\u001b[32m  ✓ \u001b[39m\u001b[90mGraphite2_jll\u001b[39m\n",
      "\u001b[32m  ✓ \u001b[39m\u001b[90mLibmount_jll\u001b[39m\n",
      "\u001b[32m  ✓ \u001b[39m\u001b[90mZstd_jll\u001b[39m\n",
      "\u001b[32m  ✓ \u001b[39m\u001b[90mWayland_protocols_jll\u001b[39m\n",
      "\u001b[32m  ✓ \u001b[39m\u001b[90mMacroTools\u001b[39m\n",
      "\u001b[32m  ✓ \u001b[39m\u001b[90mLibffi_jll\u001b[39m\n",
      "\u001b[32m  ✓ \u001b[39m\u001b[90mExpat_jll\u001b[39m\n",
      "\u001b[32m  ✓ \u001b[39m\u001b[90mLibiconv_jll\u001b[39m\n",
      "\u001b[32m  ✓ \u001b[39m\u001b[90mLibgpg_error_jll\u001b[39m\n",
      "\u001b[32m  ✓ \u001b[39m\u001b[90mTableTraits\u001b[39m\n",
      "\u001b[32m  ✓ \u001b[39m\u001b[90mBzip2_jll\u001b[39m\n",
      "\u001b[32m  ✓ \u001b[39m\u001b[90mPCRE_jll\u001b[39m\n",
      "\u001b[32m  ✓ \u001b[39m\u001b[90mPixman_jll\u001b[39m\n",
      "\u001b[32m  ✓ \u001b[39m\u001b[90mLZO_jll\u001b[39m\n",
      "\u001b[32m  ✓ \u001b[39m\u001b[90mLAME_jll\u001b[39m\n",
      "\u001b[32m  ✓ \u001b[39m\u001b[90mShowoff\u001b[39m\n",
      "\u001b[32m  ✓ \u001b[39m\u001b[90mXorg_libpthread_stubs_jll\u001b[39m\n",
      "\u001b[32m  ✓ \u001b[39m\u001b[90mMissings\u001b[39m\n",
      "\u001b[32m  ✓ \u001b[39m\u001b[90mFriBidi_jll\u001b[39m\n",
      "\u001b[32m  ✓ \u001b[39m\u001b[90mLibuuid_jll\u001b[39m\n",
      "\u001b[32m  ✓ \u001b[39m\u001b[90mlibvorbis_jll\u001b[39m\n",
      "\u001b[32m  ✓ \u001b[39m\u001b[90mTables\u001b[39m\n",
      "\u001b[32m  ✓ \u001b[39m\u001b[90mLibgcrypt_jll\u001b[39m\n",
      "\u001b[32m  ✓ \u001b[39m\u001b[90mXML2_jll\u001b[39m\n",
      "\u001b[32m  ✓ \u001b[39m\u001b[90mLibtiff_jll\u001b[39m\n",
      "\u001b[32m  ✓ \u001b[39m\u001b[90mChainRulesCore\u001b[39m\n",
      "\u001b[32m  ✓ \u001b[39m\u001b[90mFreeType2_jll\u001b[39m\n",
      "\u001b[32m  ✓ \u001b[39m\u001b[90mLatexify\u001b[39m\n",
      "\u001b[32m  ✓ \u001b[39m\u001b[90mChangesOfVariables\u001b[39m\n",
      "\u001b[32m  ✓ \u001b[39m\u001b[90mWayland_jll\u001b[39m\n",
      "\u001b[32m  ✓ \u001b[39m\u001b[90mHTTP\u001b[39m\n",
      "\u001b[32m  ✓ \u001b[39m\u001b[90mGettext_jll\u001b[39m\n",
      "\u001b[32m  ✓ \u001b[39m\u001b[90mXSLT_jll\u001b[39m\n",
      "\u001b[32m  ✓ \u001b[39m\u001b[90mFontconfig_jll\u001b[39m\n",
      "\u001b[32m  ✓ \u001b[39m\u001b[90mDataStructures\u001b[39m\n",
      "\u001b[32m  ✓ \u001b[39m\u001b[90mSortingAlgorithms\u001b[39m\n",
      "\u001b[32m  ✓ \u001b[39m\u001b[90mGlib_jll\u001b[39m\n",
      "\u001b[32m  ✓ \u001b[39m\u001b[90mXorg_libxcb_jll\u001b[39m\n",
      "\u001b[32m  ✓ \u001b[39m\u001b[90mLogExpFunctions\u001b[39m\n",
      "\u001b[32m  ✓ \u001b[39m\u001b[90mXorg_libX11_jll\u001b[39m\n",
      "\u001b[32m  ✓ \u001b[39m\u001b[90mXorg_xcb_util_jll\u001b[39m\n",
      "\u001b[32m  ✓ \u001b[39m\u001b[90mColorSchemes\u001b[39m\n",
      "\u001b[32m  ✓ \u001b[39m\u001b[90mStaticArrays\u001b[39m\n",
      "\u001b[32m  ✓ \u001b[39m\u001b[90mXorg_libXrender_jll\u001b[39m\n",
      "\u001b[32m  ✓ \u001b[39m\u001b[90mXorg_libXext_jll\u001b[39m\n",
      "\u001b[32m  ✓ \u001b[39m\u001b[90mXorg_libXfixes_jll\u001b[39m\n",
      "\u001b[32m  ✓ \u001b[39m\u001b[90mXorg_libxkbfile_jll\u001b[39m\n",
      "\u001b[32m  ✓ \u001b[39m\u001b[90mXorg_xcb_util_wm_jll\u001b[39m\n",
      "\u001b[32m  ✓ \u001b[39m\u001b[90mXorg_xcb_util_keysyms_jll\u001b[39m\n",
      "\u001b[32m  ✓ \u001b[39m\u001b[90mXorg_xcb_util_image_jll\u001b[39m\n",
      "\u001b[32m  ✓ \u001b[39m\u001b[90mXorg_xcb_util_renderutil_jll\u001b[39m\n",
      "\u001b[32m  ✓ \u001b[39m\u001b[90mXorg_libXcursor_jll\u001b[39m\n",
      "\u001b[32m  ✓ \u001b[39m\u001b[90mXorg_libXinerama_jll\u001b[39m\n",
      "\u001b[32m  ✓ \u001b[39m\u001b[90mLibglvnd_jll\u001b[39m\n",
      "\u001b[32m  ✓ \u001b[39m\u001b[90mXorg_libXi_jll\u001b[39m\n",
      "\u001b[32m  ✓ \u001b[39m\u001b[90mContour\u001b[39m\n",
      "\u001b[32m  ✓ \u001b[39m\u001b[90mCairo_jll\u001b[39m\n",
      "\u001b[32m  ✓ \u001b[39m\u001b[90mXorg_xkbcomp_jll\u001b[39m\n",
      "\u001b[32m  ✓ \u001b[39m\u001b[90mStatsBase\u001b[39m\n",
      "\u001b[32m  ✓ \u001b[39m\u001b[90mXorg_libXrandr_jll\u001b[39m\n",
      "\u001b[32m  ✓ \u001b[39m\u001b[90mStructArrays\u001b[39m\n",
      "\u001b[32m  ✓ \u001b[39m\u001b[90mXorg_xkeyboard_config_jll\u001b[39m\n",
      "\u001b[32m  ✓ \u001b[39m\u001b[90mGLFW_jll\u001b[39m\n",
      "\u001b[32m  ✓ \u001b[39m\u001b[90mHarfBuzz_jll\u001b[39m\n",
      "\u001b[32m  ✓ \u001b[39m\u001b[90mxkbcommon_jll\u001b[39m\n",
      "\u001b[32m  ✓ \u001b[39m\u001b[90mlibass_jll\u001b[39m\n",
      "\u001b[32m  ✓ \u001b[39m\u001b[90mFFMPEG_jll\u001b[39m\n",
      "\u001b[32m  ✓ \u001b[39m\u001b[90mQt5Base_jll\u001b[39m\n",
      "\u001b[32m  ✓ \u001b[39m\u001b[90mFFMPEG\u001b[39m\n",
      "\u001b[32m  ✓ \u001b[39m\u001b[90mGR_jll\u001b[39m\n",
      "\u001b[32m  ✓ \u001b[39m\u001b[90mGR\u001b[39m\n",
      "\u001b[32m  ✓ \u001b[39m\u001b[90mPlotUtils\u001b[39m\n",
      "\u001b[32m  ✓ \u001b[39m\u001b[90mGeometryBasics\u001b[39m\n",
      "\u001b[32m  ✓ \u001b[39m\u001b[90mRecipesPipeline\u001b[39m\n",
      "\u001b[32m  ✓ \u001b[39m\u001b[90mPlotThemes\u001b[39m\n",
      "\u001b[32m  ✓ \u001b[39mPlots\n",
      "  110 dependencies successfully precompiled in 39 seconds (23 already precompiled)\n"
     ]
    }
   ],
   "source": [
    "#plotting\n",
    "Pkg.add(\"Plots\")"
   ]
  },
  {
   "cell_type": "code",
   "execution_count": 3,
   "id": "d9fe1c02-fa4e-450e-a974-974f1e88ee9c",
   "metadata": {},
   "outputs": [],
   "source": [
    "using Plots"
   ]
  },
  {
   "cell_type": "code",
   "execution_count": 4,
   "id": "dc618857-96ce-45be-8788-1cfe128ab8ee",
   "metadata": {},
   "outputs": [
    {
     "data": {
      "text/plain": [
       "Plots.GRBackend()"
      ]
     },
     "execution_count": 4,
     "metadata": {},
     "output_type": "execute_result"
    }
   ],
   "source": [
    "gr()"
   ]
  },
  {
   "cell_type": "code",
   "execution_count": 5,
   "id": "b8242066-431e-4b9b-91d6-e163ed7e7d93",
   "metadata": {},
   "outputs": [
    {
     "data": {
      "text/plain": [
       "-3.0:0.20689655172413793:3.0"
      ]
     },
     "execution_count": 5,
     "metadata": {},
     "output_type": "execute_result"
    }
   ],
   "source": [
    "x = range(-3, 3, length=30)"
   ]
  },
  {
   "cell_type": "code",
   "execution_count": 113,
   "id": "f0b230cf-dc41-45d6-9884-e7db2d28d276",
   "metadata": {},
   "outputs": [
    {
     "data": {
      "text/plain": [
       "30-element Vector{Float64}:\n",
       " 9.0\n",
       " 7.801426872770511\n",
       " 6.6884661117717\n",
       " 5.661117717003568\n",
       " 4.719381688466112\n",
       " 3.863258026159334\n",
       " 3.0927467300832343\n",
       " 2.4078478002378123\n",
       " 1.808561236623068\n",
       " 1.2948870392390013\n",
       " 0.8668252080856124\n",
       " 0.5243757431629014\n",
       " 0.26753864447086806\n",
       " ⋮\n",
       " 0.5243757431629014\n",
       " 0.8668252080856124\n",
       " 1.2948870392390013\n",
       " 1.808561236623068\n",
       " 2.4078478002378123\n",
       " 3.0927467300832343\n",
       " 3.863258026159334\n",
       " 4.719381688466112\n",
       " 5.661117717003568\n",
       " 6.6884661117717\n",
       " 7.801426872770511\n",
       " 9.0"
      ]
     },
     "execution_count": 113,
     "metadata": {},
     "output_type": "execute_result"
    }
   ],
   "source": [
    "y = f.(x)"
   ]
  },
  {
   "cell_type": "code",
   "execution_count": 114,
   "id": "cb67f57c-80c5-4214-94c2-43b0047cd92b",
   "metadata": {},
   "outputs": [
    {
     "data": {
      "image/svg+xml": [
       "<?xml version=\"1.0\" encoding=\"utf-8\"?>\n",
       "<svg xmlns=\"http://www.w3.org/2000/svg\" xmlns:xlink=\"http://www.w3.org/1999/xlink\" width=\"600\" height=\"400\" viewBox=\"0 0 2400 1600\">\n",
       "<defs>\n",
       "  <clipPath id=\"clip030\">\n",
       "    <rect x=\"0\" y=\"0\" width=\"2400\" height=\"1600\"/>\n",
       "  </clipPath>\n",
       "</defs>\n",
       "<path clip-path=\"url(#clip030)\" d=\"\n",
       "M0 1600 L2400 1600 L2400 0 L0 0  Z\n",
       "  \" fill=\"#ffffff\" fill-rule=\"evenodd\" fill-opacity=\"1\"/>\n",
       "<defs>\n",
       "  <clipPath id=\"clip031\">\n",
       "    <rect x=\"480\" y=\"0\" width=\"1681\" height=\"1600\"/>\n",
       "  </clipPath>\n",
       "</defs>\n",
       "<path clip-path=\"url(#clip030)\" d=\"\n",
       "M112.177 1486.45 L2352.76 1486.45 L2352.76 47.2441 L112.177 47.2441  Z\n",
       "  \" fill=\"#ffffff\" fill-rule=\"evenodd\" fill-opacity=\"1\"/>\n",
       "<defs>\n",
       "  <clipPath id=\"clip032\">\n",
       "    <rect x=\"112\" y=\"47\" width=\"2242\" height=\"1440\"/>\n",
       "  </clipPath>\n",
       "</defs>\n",
       "<polyline clip-path=\"url(#clip032)\" style=\"stroke:#000000; stroke-linecap:butt; stroke-linejoin:round; stroke-width:2; stroke-opacity:0.1; fill:none\" points=\"\n",
       "  175.59,1486.45 175.59,47.2441 \n",
       "  \"/>\n",
       "<polyline clip-path=\"url(#clip032)\" style=\"stroke:#000000; stroke-linecap:butt; stroke-linejoin:round; stroke-width:2; stroke-opacity:0.1; fill:none\" points=\"\n",
       "  527.882,1486.45 527.882,47.2441 \n",
       "  \"/>\n",
       "<polyline clip-path=\"url(#clip032)\" style=\"stroke:#000000; stroke-linecap:butt; stroke-linejoin:round; stroke-width:2; stroke-opacity:0.1; fill:none\" points=\"\n",
       "  880.174,1486.45 880.174,47.2441 \n",
       "  \"/>\n",
       "<polyline clip-path=\"url(#clip032)\" style=\"stroke:#000000; stroke-linecap:butt; stroke-linejoin:round; stroke-width:2; stroke-opacity:0.1; fill:none\" points=\"\n",
       "  1232.47,1486.45 1232.47,47.2441 \n",
       "  \"/>\n",
       "<polyline clip-path=\"url(#clip032)\" style=\"stroke:#000000; stroke-linecap:butt; stroke-linejoin:round; stroke-width:2; stroke-opacity:0.1; fill:none\" points=\"\n",
       "  1584.76,1486.45 1584.76,47.2441 \n",
       "  \"/>\n",
       "<polyline clip-path=\"url(#clip032)\" style=\"stroke:#000000; stroke-linecap:butt; stroke-linejoin:round; stroke-width:2; stroke-opacity:0.1; fill:none\" points=\"\n",
       "  1937.05,1486.45 1937.05,47.2441 \n",
       "  \"/>\n",
       "<polyline clip-path=\"url(#clip032)\" style=\"stroke:#000000; stroke-linecap:butt; stroke-linejoin:round; stroke-width:2; stroke-opacity:0.1; fill:none\" points=\"\n",
       "  2289.34,1486.45 2289.34,47.2441 \n",
       "  \"/>\n",
       "<polyline clip-path=\"url(#clip030)\" style=\"stroke:#000000; stroke-linecap:butt; stroke-linejoin:round; stroke-width:4; stroke-opacity:1; fill:none\" points=\"\n",
       "  112.177,1486.45 2352.76,1486.45 \n",
       "  \"/>\n",
       "<polyline clip-path=\"url(#clip030)\" style=\"stroke:#000000; stroke-linecap:butt; stroke-linejoin:round; stroke-width:4; stroke-opacity:1; fill:none\" points=\"\n",
       "  175.59,1486.45 175.59,1467.55 \n",
       "  \"/>\n",
       "<polyline clip-path=\"url(#clip030)\" style=\"stroke:#000000; stroke-linecap:butt; stroke-linejoin:round; stroke-width:4; stroke-opacity:1; fill:none\" points=\"\n",
       "  527.882,1486.45 527.882,1467.55 \n",
       "  \"/>\n",
       "<polyline clip-path=\"url(#clip030)\" style=\"stroke:#000000; stroke-linecap:butt; stroke-linejoin:round; stroke-width:4; stroke-opacity:1; fill:none\" points=\"\n",
       "  880.174,1486.45 880.174,1467.55 \n",
       "  \"/>\n",
       "<polyline clip-path=\"url(#clip030)\" style=\"stroke:#000000; stroke-linecap:butt; stroke-linejoin:round; stroke-width:4; stroke-opacity:1; fill:none\" points=\"\n",
       "  1232.47,1486.45 1232.47,1467.55 \n",
       "  \"/>\n",
       "<polyline clip-path=\"url(#clip030)\" style=\"stroke:#000000; stroke-linecap:butt; stroke-linejoin:round; stroke-width:4; stroke-opacity:1; fill:none\" points=\"\n",
       "  1584.76,1486.45 1584.76,1467.55 \n",
       "  \"/>\n",
       "<polyline clip-path=\"url(#clip030)\" style=\"stroke:#000000; stroke-linecap:butt; stroke-linejoin:round; stroke-width:4; stroke-opacity:1; fill:none\" points=\"\n",
       "  1937.05,1486.45 1937.05,1467.55 \n",
       "  \"/>\n",
       "<polyline clip-path=\"url(#clip030)\" style=\"stroke:#000000; stroke-linecap:butt; stroke-linejoin:round; stroke-width:4; stroke-opacity:1; fill:none\" points=\"\n",
       "  2289.34,1486.45 2289.34,1467.55 \n",
       "  \"/>\n",
       "<path clip-path=\"url(#clip030)\" d=\"M145.058 1532.02 L174.733 1532.02 L174.733 1535.95 L145.058 1535.95 L145.058 1532.02 Z\" fill=\"#000000\" fill-rule=\"evenodd\" fill-opacity=\"1\" /><path clip-path=\"url(#clip030)\" d=\"M198.992 1530.21 Q202.349 1530.93 204.224 1533.2 Q206.122 1535.47 206.122 1538.8 Q206.122 1543.92 202.604 1546.72 Q199.085 1549.52 192.604 1549.52 Q190.428 1549.52 188.113 1549.08 Q185.821 1548.66 183.368 1547.81 L183.368 1543.29 Q185.312 1544.43 187.627 1545.01 Q189.942 1545.58 192.465 1545.58 Q196.863 1545.58 199.154 1543.85 Q201.469 1542.11 201.469 1538.8 Q201.469 1535.75 199.317 1534.03 Q197.187 1532.3 193.367 1532.3 L189.34 1532.3 L189.34 1528.45 L193.553 1528.45 Q197.002 1528.45 198.83 1527.09 Q200.659 1525.7 200.659 1523.11 Q200.659 1520.45 198.761 1519.03 Q196.886 1517.6 193.367 1517.6 Q191.446 1517.6 189.247 1518.01 Q187.048 1518.43 184.409 1519.31 L184.409 1515.14 Q187.071 1514.4 189.386 1514.03 Q191.724 1513.66 193.784 1513.66 Q199.108 1513.66 202.21 1516.09 Q205.312 1518.5 205.312 1522.62 Q205.312 1525.49 203.668 1527.48 Q202.025 1529.45 198.992 1530.21 Z\" fill=\"#000000\" fill-rule=\"evenodd\" fill-opacity=\"1\" /><path clip-path=\"url(#clip030)\" d=\"M497.824 1532.02 L527.5 1532.02 L527.5 1535.95 L497.824 1535.95 L497.824 1532.02 Z\" fill=\"#000000\" fill-rule=\"evenodd\" fill-opacity=\"1\" /><path clip-path=\"url(#clip030)\" d=\"M541.62 1544.91 L557.94 1544.91 L557.94 1548.85 L535.995 1548.85 L535.995 1544.91 Q538.657 1542.16 543.241 1537.53 Q547.847 1532.88 549.028 1531.53 Q551.273 1529.01 552.153 1527.27 Q553.056 1525.51 553.056 1523.82 Q553.056 1521.07 551.111 1519.33 Q549.19 1517.6 546.088 1517.6 Q543.889 1517.6 541.435 1518.36 Q539.005 1519.13 536.227 1520.68 L536.227 1515.95 Q539.051 1514.82 541.505 1514.24 Q543.958 1513.66 545.995 1513.66 Q551.366 1513.66 554.56 1516.35 Q557.755 1519.03 557.755 1523.52 Q557.755 1525.65 556.944 1527.57 Q556.157 1529.47 554.051 1532.07 Q553.472 1532.74 550.37 1535.95 Q547.269 1539.15 541.62 1544.91 Z\" fill=\"#000000\" fill-rule=\"evenodd\" fill-opacity=\"1\" /><path clip-path=\"url(#clip030)\" d=\"M849.931 1532.02 L879.607 1532.02 L879.607 1535.95 L849.931 1535.95 L849.931 1532.02 Z\" fill=\"#000000\" fill-rule=\"evenodd\" fill-opacity=\"1\" /><path clip-path=\"url(#clip030)\" d=\"M890.51 1544.91 L898.149 1544.91 L898.149 1518.55 L889.839 1520.21 L889.839 1515.95 L898.102 1514.29 L902.778 1514.29 L902.778 1544.91 L910.417 1544.91 L910.417 1548.85 L890.51 1548.85 L890.51 1544.91 Z\" fill=\"#000000\" fill-rule=\"evenodd\" fill-opacity=\"1\" /><path clip-path=\"url(#clip030)\" d=\"M1232.47 1517.37 Q1228.86 1517.37 1227.03 1520.93 Q1225.22 1524.47 1225.22 1531.6 Q1225.22 1538.71 1227.03 1542.27 Q1228.86 1545.82 1232.47 1545.82 Q1236.1 1545.82 1237.91 1542.27 Q1239.74 1538.71 1239.74 1531.6 Q1239.74 1524.47 1237.91 1520.93 Q1236.1 1517.37 1232.47 1517.37 M1232.47 1513.66 Q1238.28 1513.66 1241.33 1518.27 Q1244.41 1522.85 1244.41 1531.6 Q1244.41 1540.33 1241.33 1544.94 Q1238.28 1549.52 1232.47 1549.52 Q1226.66 1549.52 1223.58 1544.94 Q1220.52 1540.33 1220.52 1531.6 Q1220.52 1522.85 1223.58 1518.27 Q1226.66 1513.66 1232.47 1513.66 Z\" fill=\"#000000\" fill-rule=\"evenodd\" fill-opacity=\"1\" /><path clip-path=\"url(#clip030)\" d=\"M1575.14 1544.91 L1582.78 1544.91 L1582.78 1518.55 L1574.47 1520.21 L1574.47 1515.95 L1582.73 1514.29 L1587.41 1514.29 L1587.41 1544.91 L1595.05 1544.91 L1595.05 1548.85 L1575.14 1548.85 L1575.14 1544.91 Z\" fill=\"#000000\" fill-rule=\"evenodd\" fill-opacity=\"1\" /><path clip-path=\"url(#clip030)\" d=\"M1931.7 1544.91 L1948.02 1544.91 L1948.02 1548.85 L1926.08 1548.85 L1926.08 1544.91 Q1928.74 1542.16 1933.32 1537.53 Q1937.93 1532.88 1939.11 1531.53 Q1941.36 1529.01 1942.24 1527.27 Q1943.14 1525.51 1943.14 1523.82 Q1943.14 1521.07 1941.19 1519.33 Q1939.27 1517.6 1936.17 1517.6 Q1933.97 1517.6 1931.52 1518.36 Q1929.09 1519.13 1926.31 1520.68 L1926.31 1515.95 Q1929.13 1514.82 1931.59 1514.24 Q1934.04 1513.66 1936.08 1513.66 Q1941.45 1513.66 1944.64 1516.35 Q1947.84 1519.03 1947.84 1523.52 Q1947.84 1525.65 1947.03 1527.57 Q1946.24 1529.47 1944.13 1532.07 Q1943.56 1532.74 1940.45 1535.95 Q1937.35 1539.15 1931.7 1544.91 Z\" fill=\"#000000\" fill-rule=\"evenodd\" fill-opacity=\"1\" /><path clip-path=\"url(#clip030)\" d=\"M2293.59 1530.21 Q2296.95 1530.93 2298.82 1533.2 Q2300.72 1535.47 2300.72 1538.8 Q2300.72 1543.92 2297.2 1546.72 Q2293.68 1549.52 2287.2 1549.52 Q2285.03 1549.52 2282.71 1549.08 Q2280.42 1548.66 2277.97 1547.81 L2277.97 1543.29 Q2279.91 1544.43 2282.23 1545.01 Q2284.54 1545.58 2287.06 1545.58 Q2291.46 1545.58 2293.75 1543.85 Q2296.07 1542.11 2296.07 1538.8 Q2296.07 1535.75 2293.92 1534.03 Q2291.79 1532.3 2287.97 1532.3 L2283.94 1532.3 L2283.94 1528.45 L2288.15 1528.45 Q2291.6 1528.45 2293.43 1527.09 Q2295.26 1525.7 2295.26 1523.11 Q2295.26 1520.45 2293.36 1519.03 Q2291.48 1517.6 2287.97 1517.6 Q2286.04 1517.6 2283.85 1518.01 Q2281.65 1518.43 2279.01 1519.31 L2279.01 1515.14 Q2281.67 1514.4 2283.98 1514.03 Q2286.32 1513.66 2288.38 1513.66 Q2293.71 1513.66 2296.81 1516.09 Q2299.91 1518.5 2299.91 1522.62 Q2299.91 1525.49 2298.27 1527.48 Q2296.62 1529.45 2293.59 1530.21 Z\" fill=\"#000000\" fill-rule=\"evenodd\" fill-opacity=\"1\" /><polyline clip-path=\"url(#clip032)\" style=\"stroke:#000000; stroke-linecap:butt; stroke-linejoin:round; stroke-width:2; stroke-opacity:0.1; fill:none\" points=\"\n",
       "  112.177,1447.33 2352.76,1447.33 \n",
       "  \"/>\n",
       "<polyline clip-path=\"url(#clip032)\" style=\"stroke:#000000; stroke-linecap:butt; stroke-linejoin:round; stroke-width:2; stroke-opacity:0.1; fill:none\" points=\"\n",
       "  112.177,1145.25 2352.76,1145.25 \n",
       "  \"/>\n",
       "<polyline clip-path=\"url(#clip032)\" style=\"stroke:#000000; stroke-linecap:butt; stroke-linejoin:round; stroke-width:2; stroke-opacity:0.1; fill:none\" points=\"\n",
       "  112.177,843.174 2352.76,843.174 \n",
       "  \"/>\n",
       "<polyline clip-path=\"url(#clip032)\" style=\"stroke:#000000; stroke-linecap:butt; stroke-linejoin:round; stroke-width:2; stroke-opacity:0.1; fill:none\" points=\"\n",
       "  112.177,541.095 2352.76,541.095 \n",
       "  \"/>\n",
       "<polyline clip-path=\"url(#clip032)\" style=\"stroke:#000000; stroke-linecap:butt; stroke-linejoin:round; stroke-width:2; stroke-opacity:0.1; fill:none\" points=\"\n",
       "  112.177,239.016 2352.76,239.016 \n",
       "  \"/>\n",
       "<polyline clip-path=\"url(#clip030)\" style=\"stroke:#000000; stroke-linecap:butt; stroke-linejoin:round; stroke-width:4; stroke-opacity:1; fill:none\" points=\"\n",
       "  112.177,1486.45 112.177,47.2441 \n",
       "  \"/>\n",
       "<polyline clip-path=\"url(#clip030)\" style=\"stroke:#000000; stroke-linecap:butt; stroke-linejoin:round; stroke-width:4; stroke-opacity:1; fill:none\" points=\"\n",
       "  112.177,1447.33 131.075,1447.33 \n",
       "  \"/>\n",
       "<polyline clip-path=\"url(#clip030)\" style=\"stroke:#000000; stroke-linecap:butt; stroke-linejoin:round; stroke-width:4; stroke-opacity:1; fill:none\" points=\"\n",
       "  112.177,1145.25 131.075,1145.25 \n",
       "  \"/>\n",
       "<polyline clip-path=\"url(#clip030)\" style=\"stroke:#000000; stroke-linecap:butt; stroke-linejoin:round; stroke-width:4; stroke-opacity:1; fill:none\" points=\"\n",
       "  112.177,843.174 131.075,843.174 \n",
       "  \"/>\n",
       "<polyline clip-path=\"url(#clip030)\" style=\"stroke:#000000; stroke-linecap:butt; stroke-linejoin:round; stroke-width:4; stroke-opacity:1; fill:none\" points=\"\n",
       "  112.177,541.095 131.075,541.095 \n",
       "  \"/>\n",
       "<polyline clip-path=\"url(#clip030)\" style=\"stroke:#000000; stroke-linecap:butt; stroke-linejoin:round; stroke-width:4; stroke-opacity:1; fill:none\" points=\"\n",
       "  112.177,239.016 131.075,239.016 \n",
       "  \"/>\n",
       "<path clip-path=\"url(#clip030)\" d=\"M64.2328 1433.13 Q60.6217 1433.13 58.793 1436.7 Q56.9875 1440.24 56.9875 1447.37 Q56.9875 1454.47 58.793 1458.04 Q60.6217 1461.58 64.2328 1461.58 Q67.867 1461.58 69.6726 1458.04 Q71.5013 1454.47 71.5013 1447.37 Q71.5013 1440.24 69.6726 1436.7 Q67.867 1433.13 64.2328 1433.13 M64.2328 1429.43 Q70.0429 1429.43 73.0985 1434.03 Q76.1772 1438.62 76.1772 1447.37 Q76.1772 1456.09 73.0985 1460.7 Q70.0429 1465.28 64.2328 1465.28 Q58.4226 1465.28 55.344 1460.7 Q52.2884 1456.09 52.2884 1447.37 Q52.2884 1438.62 55.344 1434.03 Q58.4226 1429.43 64.2328 1429.43 Z\" fill=\"#000000\" fill-rule=\"evenodd\" fill-opacity=\"1\" /><path clip-path=\"url(#clip030)\" d=\"M59.8578 1158.6 L76.1772 1158.6 L76.1772 1162.53 L54.2328 1162.53 L54.2328 1158.6 Q56.8949 1155.84 61.4782 1151.21 Q66.0846 1146.56 67.2652 1145.22 Q69.5105 1142.7 70.3902 1140.96 Q71.2929 1139.2 71.2929 1137.51 Q71.2929 1134.76 69.3485 1133.02 Q67.4272 1131.28 64.3254 1131.28 Q62.1263 1131.28 59.6726 1132.05 Q57.2421 1132.81 54.4643 1134.36 L54.4643 1129.64 Q57.2884 1128.51 59.7421 1127.93 Q62.1958 1127.35 64.2328 1127.35 Q69.6031 1127.35 72.7976 1130.03 Q75.992 1132.72 75.992 1137.21 Q75.992 1139.34 75.1818 1141.26 Q74.3948 1143.16 72.2883 1145.75 Q71.7096 1146.42 68.6078 1149.64 Q65.5059 1152.83 59.8578 1158.6 Z\" fill=\"#000000\" fill-rule=\"evenodd\" fill-opacity=\"1\" /><path clip-path=\"url(#clip030)\" d=\"M66.5939 829.968 L54.7884 848.417 L66.5939 848.417 L66.5939 829.968 M65.367 825.894 L71.2466 825.894 L71.2466 848.417 L76.1772 848.417 L76.1772 852.306 L71.2466 852.306 L71.2466 860.454 L66.5939 860.454 L66.5939 852.306 L50.9921 852.306 L50.9921 847.792 L65.367 825.894 Z\" fill=\"#000000\" fill-rule=\"evenodd\" fill-opacity=\"1\" /><path clip-path=\"url(#clip030)\" d=\"M64.6495 539.231 Q61.5013 539.231 59.6495 541.384 Q57.8208 543.537 57.8208 547.287 Q57.8208 551.014 59.6495 553.19 Q61.5013 555.342 64.6495 555.342 Q67.7976 555.342 69.6263 553.19 Q71.4781 551.014 71.4781 547.287 Q71.4781 543.537 69.6263 541.384 Q67.7976 539.231 64.6495 539.231 M73.9318 524.579 L73.9318 528.838 Q72.1726 528.005 70.367 527.565 Q68.5846 527.125 66.8254 527.125 Q62.1958 527.125 59.7421 530.25 Q57.3115 533.375 56.9643 539.694 Q58.33 537.681 60.3902 536.616 Q62.4504 535.528 64.9272 535.528 Q70.1355 535.528 73.1448 538.699 Q76.1772 541.847 76.1772 547.287 Q76.1772 552.611 73.029 555.829 Q69.8809 559.046 64.6495 559.046 Q58.6541 559.046 55.4828 554.463 Q52.3116 549.856 52.3116 541.13 Q52.3116 532.935 56.2004 528.074 Q60.0893 523.19 66.6402 523.19 Q68.3994 523.19 70.1818 523.537 Q71.9874 523.884 73.9318 524.579 Z\" fill=\"#000000\" fill-rule=\"evenodd\" fill-opacity=\"1\" /><path clip-path=\"url(#clip030)\" d=\"M64.3254 239.884 Q60.9921 239.884 59.0708 241.666 Q57.1726 243.449 57.1726 246.574 Q57.1726 249.699 59.0708 251.481 Q60.9921 253.263 64.3254 253.263 Q67.6587 253.263 69.58 251.481 Q71.5013 249.675 71.5013 246.574 Q71.5013 243.449 69.58 241.666 Q67.6819 239.884 64.3254 239.884 M59.6495 237.893 Q56.6402 237.152 54.9504 235.092 Q53.2838 233.032 53.2838 230.069 Q53.2838 225.926 56.2236 223.518 Q59.1865 221.111 64.3254 221.111 Q69.4874 221.111 72.4272 223.518 Q75.367 225.926 75.367 230.069 Q75.367 233.032 73.6772 235.092 Q72.0105 237.152 69.0244 237.893 Q72.404 238.68 74.279 240.972 Q76.1772 243.263 76.1772 246.574 Q76.1772 251.597 73.0985 254.282 Q70.0429 256.967 64.3254 256.967 Q58.6078 256.967 55.5291 254.282 Q52.4736 251.597 52.4736 246.574 Q52.4736 243.263 54.3717 240.972 Q56.2699 238.68 59.6495 237.893 M57.9365 230.509 Q57.9365 233.194 59.6032 234.699 Q61.293 236.203 64.3254 236.203 Q67.3346 236.203 69.0244 234.699 Q70.7374 233.194 70.7374 230.509 Q70.7374 227.824 69.0244 226.319 Q67.3346 224.814 64.3254 224.814 Q61.293 224.814 59.6032 226.319 Q57.9365 227.824 57.9365 230.509 Z\" fill=\"#000000\" fill-rule=\"evenodd\" fill-opacity=\"1\" /><polyline clip-path=\"url(#clip032)\" style=\"stroke:#009af9; stroke-linecap:butt; stroke-linejoin:round; stroke-width:4; stroke-opacity:1; fill:none\" points=\"\n",
       "  175.59,87.9763 248.478,269.008 321.366,437.109 394.254,592.279 467.142,734.519 540.03,863.827 612.918,980.205 685.806,1083.65 758.694,1174.17 831.582,1251.75 \n",
       "  904.47,1316.41 977.358,1368.13 1050.25,1406.92 1123.13,1432.78 1196.02,1445.72 1268.91,1445.72 1341.8,1432.78 1414.69,1406.92 1487.57,1368.13 1560.46,1316.41 \n",
       "  1633.35,1251.75 1706.24,1174.17 1779.13,1083.65 1852.01,980.205 1924.9,863.827 1997.79,734.519 2070.68,592.279 2143.57,437.109 2216.46,269.008 2289.34,87.9763 \n",
       "  \n",
       "  \"/>\n",
       "<circle clip-path=\"url(#clip032)\" cx=\"175.59\" cy=\"87.9763\" r=\"14\" fill=\"#e26f46\" fill-rule=\"evenodd\" fill-opacity=\"1\" stroke=\"#000000\" stroke-opacity=\"1\" stroke-width=\"3.2\"/>\n",
       "<circle clip-path=\"url(#clip032)\" cx=\"248.478\" cy=\"269.008\" r=\"14\" fill=\"#e26f46\" fill-rule=\"evenodd\" fill-opacity=\"1\" stroke=\"#000000\" stroke-opacity=\"1\" stroke-width=\"3.2\"/>\n",
       "<circle clip-path=\"url(#clip032)\" cx=\"321.366\" cy=\"437.109\" r=\"14\" fill=\"#e26f46\" fill-rule=\"evenodd\" fill-opacity=\"1\" stroke=\"#000000\" stroke-opacity=\"1\" stroke-width=\"3.2\"/>\n",
       "<circle clip-path=\"url(#clip032)\" cx=\"394.254\" cy=\"592.279\" r=\"14\" fill=\"#e26f46\" fill-rule=\"evenodd\" fill-opacity=\"1\" stroke=\"#000000\" stroke-opacity=\"1\" stroke-width=\"3.2\"/>\n",
       "<circle clip-path=\"url(#clip032)\" cx=\"467.142\" cy=\"734.519\" r=\"14\" fill=\"#e26f46\" fill-rule=\"evenodd\" fill-opacity=\"1\" stroke=\"#000000\" stroke-opacity=\"1\" stroke-width=\"3.2\"/>\n",
       "<circle clip-path=\"url(#clip032)\" cx=\"540.03\" cy=\"863.827\" r=\"14\" fill=\"#e26f46\" fill-rule=\"evenodd\" fill-opacity=\"1\" stroke=\"#000000\" stroke-opacity=\"1\" stroke-width=\"3.2\"/>\n",
       "<circle clip-path=\"url(#clip032)\" cx=\"612.918\" cy=\"980.205\" r=\"14\" fill=\"#e26f46\" fill-rule=\"evenodd\" fill-opacity=\"1\" stroke=\"#000000\" stroke-opacity=\"1\" stroke-width=\"3.2\"/>\n",
       "<circle clip-path=\"url(#clip032)\" cx=\"685.806\" cy=\"1083.65\" r=\"14\" fill=\"#e26f46\" fill-rule=\"evenodd\" fill-opacity=\"1\" stroke=\"#000000\" stroke-opacity=\"1\" stroke-width=\"3.2\"/>\n",
       "<circle clip-path=\"url(#clip032)\" cx=\"758.694\" cy=\"1174.17\" r=\"14\" fill=\"#e26f46\" fill-rule=\"evenodd\" fill-opacity=\"1\" stroke=\"#000000\" stroke-opacity=\"1\" stroke-width=\"3.2\"/>\n",
       "<circle clip-path=\"url(#clip032)\" cx=\"831.582\" cy=\"1251.75\" r=\"14\" fill=\"#e26f46\" fill-rule=\"evenodd\" fill-opacity=\"1\" stroke=\"#000000\" stroke-opacity=\"1\" stroke-width=\"3.2\"/>\n",
       "<circle clip-path=\"url(#clip032)\" cx=\"904.47\" cy=\"1316.41\" r=\"14\" fill=\"#e26f46\" fill-rule=\"evenodd\" fill-opacity=\"1\" stroke=\"#000000\" stroke-opacity=\"1\" stroke-width=\"3.2\"/>\n",
       "<circle clip-path=\"url(#clip032)\" cx=\"977.358\" cy=\"1368.13\" r=\"14\" fill=\"#e26f46\" fill-rule=\"evenodd\" fill-opacity=\"1\" stroke=\"#000000\" stroke-opacity=\"1\" stroke-width=\"3.2\"/>\n",
       "<circle clip-path=\"url(#clip032)\" cx=\"1050.25\" cy=\"1406.92\" r=\"14\" fill=\"#e26f46\" fill-rule=\"evenodd\" fill-opacity=\"1\" stroke=\"#000000\" stroke-opacity=\"1\" stroke-width=\"3.2\"/>\n",
       "<circle clip-path=\"url(#clip032)\" cx=\"1123.13\" cy=\"1432.78\" r=\"14\" fill=\"#e26f46\" fill-rule=\"evenodd\" fill-opacity=\"1\" stroke=\"#000000\" stroke-opacity=\"1\" stroke-width=\"3.2\"/>\n",
       "<circle clip-path=\"url(#clip032)\" cx=\"1196.02\" cy=\"1445.72\" r=\"14\" fill=\"#e26f46\" fill-rule=\"evenodd\" fill-opacity=\"1\" stroke=\"#000000\" stroke-opacity=\"1\" stroke-width=\"3.2\"/>\n",
       "<circle clip-path=\"url(#clip032)\" cx=\"1268.91\" cy=\"1445.72\" r=\"14\" fill=\"#e26f46\" fill-rule=\"evenodd\" fill-opacity=\"1\" stroke=\"#000000\" stroke-opacity=\"1\" stroke-width=\"3.2\"/>\n",
       "<circle clip-path=\"url(#clip032)\" cx=\"1341.8\" cy=\"1432.78\" r=\"14\" fill=\"#e26f46\" fill-rule=\"evenodd\" fill-opacity=\"1\" stroke=\"#000000\" stroke-opacity=\"1\" stroke-width=\"3.2\"/>\n",
       "<circle clip-path=\"url(#clip032)\" cx=\"1414.69\" cy=\"1406.92\" r=\"14\" fill=\"#e26f46\" fill-rule=\"evenodd\" fill-opacity=\"1\" stroke=\"#000000\" stroke-opacity=\"1\" stroke-width=\"3.2\"/>\n",
       "<circle clip-path=\"url(#clip032)\" cx=\"1487.57\" cy=\"1368.13\" r=\"14\" fill=\"#e26f46\" fill-rule=\"evenodd\" fill-opacity=\"1\" stroke=\"#000000\" stroke-opacity=\"1\" stroke-width=\"3.2\"/>\n",
       "<circle clip-path=\"url(#clip032)\" cx=\"1560.46\" cy=\"1316.41\" r=\"14\" fill=\"#e26f46\" fill-rule=\"evenodd\" fill-opacity=\"1\" stroke=\"#000000\" stroke-opacity=\"1\" stroke-width=\"3.2\"/>\n",
       "<circle clip-path=\"url(#clip032)\" cx=\"1633.35\" cy=\"1251.75\" r=\"14\" fill=\"#e26f46\" fill-rule=\"evenodd\" fill-opacity=\"1\" stroke=\"#000000\" stroke-opacity=\"1\" stroke-width=\"3.2\"/>\n",
       "<circle clip-path=\"url(#clip032)\" cx=\"1706.24\" cy=\"1174.17\" r=\"14\" fill=\"#e26f46\" fill-rule=\"evenodd\" fill-opacity=\"1\" stroke=\"#000000\" stroke-opacity=\"1\" stroke-width=\"3.2\"/>\n",
       "<circle clip-path=\"url(#clip032)\" cx=\"1779.13\" cy=\"1083.65\" r=\"14\" fill=\"#e26f46\" fill-rule=\"evenodd\" fill-opacity=\"1\" stroke=\"#000000\" stroke-opacity=\"1\" stroke-width=\"3.2\"/>\n",
       "<circle clip-path=\"url(#clip032)\" cx=\"1852.01\" cy=\"980.205\" r=\"14\" fill=\"#e26f46\" fill-rule=\"evenodd\" fill-opacity=\"1\" stroke=\"#000000\" stroke-opacity=\"1\" stroke-width=\"3.2\"/>\n",
       "<circle clip-path=\"url(#clip032)\" cx=\"1924.9\" cy=\"863.827\" r=\"14\" fill=\"#e26f46\" fill-rule=\"evenodd\" fill-opacity=\"1\" stroke=\"#000000\" stroke-opacity=\"1\" stroke-width=\"3.2\"/>\n",
       "<circle clip-path=\"url(#clip032)\" cx=\"1997.79\" cy=\"734.519\" r=\"14\" fill=\"#e26f46\" fill-rule=\"evenodd\" fill-opacity=\"1\" stroke=\"#000000\" stroke-opacity=\"1\" stroke-width=\"3.2\"/>\n",
       "<circle clip-path=\"url(#clip032)\" cx=\"2070.68\" cy=\"592.279\" r=\"14\" fill=\"#e26f46\" fill-rule=\"evenodd\" fill-opacity=\"1\" stroke=\"#000000\" stroke-opacity=\"1\" stroke-width=\"3.2\"/>\n",
       "<circle clip-path=\"url(#clip032)\" cx=\"2143.57\" cy=\"437.109\" r=\"14\" fill=\"#e26f46\" fill-rule=\"evenodd\" fill-opacity=\"1\" stroke=\"#000000\" stroke-opacity=\"1\" stroke-width=\"3.2\"/>\n",
       "<circle clip-path=\"url(#clip032)\" cx=\"2216.46\" cy=\"269.008\" r=\"14\" fill=\"#e26f46\" fill-rule=\"evenodd\" fill-opacity=\"1\" stroke=\"#000000\" stroke-opacity=\"1\" stroke-width=\"3.2\"/>\n",
       "<circle clip-path=\"url(#clip032)\" cx=\"2289.34\" cy=\"87.9763\" r=\"14\" fill=\"#e26f46\" fill-rule=\"evenodd\" fill-opacity=\"1\" stroke=\"#000000\" stroke-opacity=\"1\" stroke-width=\"3.2\"/>\n",
       "<path clip-path=\"url(#clip030)\" d=\"\n",
       "M1913.65 250.738 L2278.07 250.738 L2278.07 95.2176 L1913.65 95.2176  Z\n",
       "  \" fill=\"#ffffff\" fill-rule=\"evenodd\" fill-opacity=\"1\"/>\n",
       "<polyline clip-path=\"url(#clip030)\" style=\"stroke:#000000; stroke-linecap:butt; stroke-linejoin:round; stroke-width:4; stroke-opacity:1; fill:none\" points=\"\n",
       "  1913.65,250.738 2278.07,250.738 2278.07,95.2176 1913.65,95.2176 1913.65,250.738 \n",
       "  \"/>\n",
       "<polyline clip-path=\"url(#clip030)\" style=\"stroke:#009af9; stroke-linecap:butt; stroke-linejoin:round; stroke-width:4; stroke-opacity:1; fill:none\" points=\"\n",
       "  1938.55,147.058 2087.92,147.058 \n",
       "  \"/>\n",
       "<path clip-path=\"url(#clip030)\" d=\"M2112.82 128.319 L2117.08 128.319 L2117.08 164.338 L2112.82 164.338 L2112.82 128.319 Z\" fill=\"#000000\" fill-rule=\"evenodd\" fill-opacity=\"1\" /><path clip-path=\"url(#clip030)\" d=\"M2125.99 138.412 L2130.25 138.412 L2130.25 164.338 L2125.99 164.338 L2125.99 138.412 M2125.99 128.319 L2130.25 128.319 L2130.25 133.713 L2125.99 133.713 L2125.99 128.319 Z\" fill=\"#000000\" fill-rule=\"evenodd\" fill-opacity=\"1\" /><path clip-path=\"url(#clip030)\" d=\"M2160.71 148.689 L2160.71 164.338 L2156.45 164.338 L2156.45 148.828 Q2156.45 145.148 2155.02 143.319 Q2153.58 141.49 2150.71 141.49 Q2147.26 141.49 2145.27 143.69 Q2143.28 145.889 2143.28 149.685 L2143.28 164.338 L2139 164.338 L2139 138.412 L2143.28 138.412 L2143.28 142.44 Q2144.81 140.102 2146.87 138.944 Q2148.95 137.787 2151.66 137.787 Q2156.13 137.787 2158.42 140.565 Q2160.71 143.319 2160.71 148.689 Z\" fill=\"#000000\" fill-rule=\"evenodd\" fill-opacity=\"1\" /><path clip-path=\"url(#clip030)\" d=\"M2191.38 150.31 L2191.38 152.393 L2171.8 152.393 Q2172.08 156.791 2174.44 159.106 Q2176.82 161.398 2181.06 161.398 Q2183.51 161.398 2185.8 160.796 Q2188.12 160.194 2190.39 158.99 L2190.39 163.018 Q2188.09 163.99 2185.69 164.5 Q2183.28 165.009 2180.8 165.009 Q2174.6 165.009 2170.96 161.398 Q2167.35 157.787 2167.35 151.629 Q2167.35 145.264 2170.78 141.537 Q2174.23 137.787 2180.06 137.787 Q2185.29 137.787 2188.33 141.166 Q2191.38 144.523 2191.38 150.31 M2187.12 149.06 Q2187.08 145.565 2185.15 143.481 Q2183.26 141.398 2180.11 141.398 Q2176.54 141.398 2174.39 143.412 Q2172.26 145.426 2171.94 149.083 L2187.12 149.06 Z\" fill=\"#000000\" fill-rule=\"evenodd\" fill-opacity=\"1\" /><circle clip-path=\"url(#clip030)\" cx=\"2013.24\" cy=\"198.898\" r=\"23\" fill=\"#e26f46\" fill-rule=\"evenodd\" fill-opacity=\"1\" stroke=\"#000000\" stroke-opacity=\"1\" stroke-width=\"5.12\"/>\n",
       "<path clip-path=\"url(#clip030)\" d=\"M2117.1 212.289 L2117.1 226.039 L2112.82 226.039 L2112.82 190.252 L2117.1 190.252 L2117.1 194.187 Q2118.44 191.872 2120.48 190.761 Q2122.54 189.627 2125.39 189.627 Q2130.11 189.627 2133.05 193.377 Q2136.01 197.127 2136.01 203.238 Q2136.01 209.349 2133.05 213.099 Q2130.11 216.849 2125.39 216.849 Q2122.54 216.849 2120.48 215.738 Q2118.44 214.603 2117.1 212.289 M2131.59 203.238 Q2131.59 198.539 2129.65 195.877 Q2127.72 193.192 2124.34 193.192 Q2120.97 193.192 2119.02 195.877 Q2117.1 198.539 2117.1 203.238 Q2117.1 207.937 2119.02 210.622 Q2120.97 213.284 2124.34 213.284 Q2127.72 213.284 2129.65 210.622 Q2131.59 207.937 2131.59 203.238 Z\" fill=\"#000000\" fill-rule=\"evenodd\" fill-opacity=\"1\" /><path clip-path=\"url(#clip030)\" d=\"M2153.12 193.238 Q2149.69 193.238 2147.7 195.923 Q2145.71 198.585 2145.71 203.238 Q2145.71 207.891 2147.68 210.576 Q2149.67 213.238 2153.12 213.238 Q2156.52 213.238 2158.51 210.553 Q2160.5 207.867 2160.5 203.238 Q2160.5 198.631 2158.51 195.946 Q2156.52 193.238 2153.12 193.238 M2153.12 189.627 Q2158.67 189.627 2161.84 193.238 Q2165.02 196.849 2165.02 203.238 Q2165.02 209.604 2161.84 213.238 Q2158.67 216.849 2153.12 216.849 Q2147.54 216.849 2144.37 213.238 Q2141.22 209.604 2141.22 203.238 Q2141.22 196.849 2144.37 193.238 Q2147.54 189.627 2153.12 189.627 Z\" fill=\"#000000\" fill-rule=\"evenodd\" fill-opacity=\"1\" /><path clip-path=\"url(#clip030)\" d=\"M2172.08 190.252 L2176.34 190.252 L2176.34 216.178 L2172.08 216.178 L2172.08 190.252 M2172.08 180.159 L2176.34 180.159 L2176.34 185.553 L2172.08 185.553 L2172.08 180.159 Z\" fill=\"#000000\" fill-rule=\"evenodd\" fill-opacity=\"1\" /><path clip-path=\"url(#clip030)\" d=\"M2206.8 200.529 L2206.8 216.178 L2202.54 216.178 L2202.54 200.668 Q2202.54 196.988 2201.1 195.159 Q2199.67 193.33 2196.8 193.33 Q2193.35 193.33 2191.36 195.53 Q2189.37 197.729 2189.37 201.525 L2189.37 216.178 L2185.09 216.178 L2185.09 190.252 L2189.37 190.252 L2189.37 194.28 Q2190.9 191.942 2192.96 190.784 Q2195.04 189.627 2197.75 189.627 Q2202.21 189.627 2204.51 192.405 Q2206.8 195.159 2206.8 200.529 Z\" fill=\"#000000\" fill-rule=\"evenodd\" fill-opacity=\"1\" /><path clip-path=\"url(#clip030)\" d=\"M2219.51 182.891 L2219.51 190.252 L2228.28 190.252 L2228.28 193.562 L2219.51 193.562 L2219.51 207.636 Q2219.51 210.807 2220.36 211.71 Q2221.24 212.613 2223.9 212.613 L2228.28 212.613 L2228.28 216.178 L2223.9 216.178 Q2218.97 216.178 2217.1 214.349 Q2215.22 212.497 2215.22 207.636 L2215.22 193.562 L2212.1 193.562 L2212.1 190.252 L2215.22 190.252 L2215.22 182.891 L2219.51 182.891 Z\" fill=\"#000000\" fill-rule=\"evenodd\" fill-opacity=\"1\" /></svg>\n"
      ]
     },
     "execution_count": 114,
     "metadata": {},
     "output_type": "execute_result"
    }
   ],
   "source": [
    "plot(x, y, label=\"line\")\n",
    "scatter!(x, y, label=\"point\")"
   ]
  },
  {
   "cell_type": "code",
   "execution_count": 6,
   "id": "c620d53a-0c72-4bca-a6df-4c42e69497f4",
   "metadata": {},
   "outputs": [
    {
     "data": {
      "image/svg+xml": [
       "<?xml version=\"1.0\" encoding=\"utf-8\"?>\n",
       "<svg xmlns=\"http://www.w3.org/2000/svg\" xmlns:xlink=\"http://www.w3.org/1999/xlink\" width=\"600\" height=\"400\" viewBox=\"0 0 2400 1600\">\n",
       "<defs>\n",
       "  <clipPath id=\"clip870\">\n",
       "    <rect x=\"0\" y=\"0\" width=\"2400\" height=\"1600\"/>\n",
       "  </clipPath>\n",
       "</defs>\n",
       "<path clip-path=\"url(#clip870)\" d=\"\n",
       "M0 1600 L2400 1600 L2400 0 L0 0  Z\n",
       "  \" fill=\"#ffffff\" fill-rule=\"evenodd\" fill-opacity=\"1\"/>\n",
       "<defs>\n",
       "  <clipPath id=\"clip871\">\n",
       "    <rect x=\"480\" y=\"0\" width=\"1681\" height=\"1600\"/>\n",
       "  </clipPath>\n",
       "</defs>\n",
       "<path clip-path=\"url(#clip870)\" d=\"\n",
       "M178.867 686.448 L1171.26 686.448 L1171.26 47.2441 L178.867 47.2441  Z\n",
       "  \" fill=\"#ffffff\" fill-rule=\"evenodd\" fill-opacity=\"1\"/>\n",
       "<defs>\n",
       "  <clipPath id=\"clip872\">\n",
       "    <rect x=\"178\" y=\"47\" width=\"993\" height=\"640\"/>\n",
       "  </clipPath>\n",
       "</defs>\n",
       "<polyline clip-path=\"url(#clip872)\" style=\"stroke:#000000; stroke-linecap:butt; stroke-linejoin:round; stroke-width:2; stroke-opacity:0.1; fill:none\" points=\"\n",
       "  206.953,686.448 206.953,47.2441 \n",
       "  \"/>\n",
       "<polyline clip-path=\"url(#clip872)\" style=\"stroke:#000000; stroke-linecap:butt; stroke-linejoin:round; stroke-width:2; stroke-opacity:0.1; fill:none\" points=\"\n",
       "  362.99,686.448 362.99,47.2441 \n",
       "  \"/>\n",
       "<polyline clip-path=\"url(#clip872)\" style=\"stroke:#000000; stroke-linecap:butt; stroke-linejoin:round; stroke-width:2; stroke-opacity:0.1; fill:none\" points=\"\n",
       "  519.028,686.448 519.028,47.2441 \n",
       "  \"/>\n",
       "<polyline clip-path=\"url(#clip872)\" style=\"stroke:#000000; stroke-linecap:butt; stroke-linejoin:round; stroke-width:2; stroke-opacity:0.1; fill:none\" points=\"\n",
       "  675.065,686.448 675.065,47.2441 \n",
       "  \"/>\n",
       "<polyline clip-path=\"url(#clip872)\" style=\"stroke:#000000; stroke-linecap:butt; stroke-linejoin:round; stroke-width:2; stroke-opacity:0.1; fill:none\" points=\"\n",
       "  831.102,686.448 831.102,47.2441 \n",
       "  \"/>\n",
       "<polyline clip-path=\"url(#clip872)\" style=\"stroke:#000000; stroke-linecap:butt; stroke-linejoin:round; stroke-width:2; stroke-opacity:0.1; fill:none\" points=\"\n",
       "  987.139,686.448 987.139,47.2441 \n",
       "  \"/>\n",
       "<polyline clip-path=\"url(#clip872)\" style=\"stroke:#000000; stroke-linecap:butt; stroke-linejoin:round; stroke-width:2; stroke-opacity:0.1; fill:none\" points=\"\n",
       "  1143.18,686.448 1143.18,47.2441 \n",
       "  \"/>\n",
       "<polyline clip-path=\"url(#clip870)\" style=\"stroke:#000000; stroke-linecap:butt; stroke-linejoin:round; stroke-width:4; stroke-opacity:1; fill:none\" points=\"\n",
       "  178.867,686.448 1171.26,686.448 \n",
       "  \"/>\n",
       "<polyline clip-path=\"url(#clip870)\" style=\"stroke:#000000; stroke-linecap:butt; stroke-linejoin:round; stroke-width:4; stroke-opacity:1; fill:none\" points=\"\n",
       "  206.953,686.448 206.953,667.55 \n",
       "  \"/>\n",
       "<polyline clip-path=\"url(#clip870)\" style=\"stroke:#000000; stroke-linecap:butt; stroke-linejoin:round; stroke-width:4; stroke-opacity:1; fill:none\" points=\"\n",
       "  362.99,686.448 362.99,667.55 \n",
       "  \"/>\n",
       "<polyline clip-path=\"url(#clip870)\" style=\"stroke:#000000; stroke-linecap:butt; stroke-linejoin:round; stroke-width:4; stroke-opacity:1; fill:none\" points=\"\n",
       "  519.028,686.448 519.028,667.55 \n",
       "  \"/>\n",
       "<polyline clip-path=\"url(#clip870)\" style=\"stroke:#000000; stroke-linecap:butt; stroke-linejoin:round; stroke-width:4; stroke-opacity:1; fill:none\" points=\"\n",
       "  675.065,686.448 675.065,667.55 \n",
       "  \"/>\n",
       "<polyline clip-path=\"url(#clip870)\" style=\"stroke:#000000; stroke-linecap:butt; stroke-linejoin:round; stroke-width:4; stroke-opacity:1; fill:none\" points=\"\n",
       "  831.102,686.448 831.102,667.55 \n",
       "  \"/>\n",
       "<polyline clip-path=\"url(#clip870)\" style=\"stroke:#000000; stroke-linecap:butt; stroke-linejoin:round; stroke-width:4; stroke-opacity:1; fill:none\" points=\"\n",
       "  987.139,686.448 987.139,667.55 \n",
       "  \"/>\n",
       "<polyline clip-path=\"url(#clip870)\" style=\"stroke:#000000; stroke-linecap:butt; stroke-linejoin:round; stroke-width:4; stroke-opacity:1; fill:none\" points=\"\n",
       "  1143.18,686.448 1143.18,667.55 \n",
       "  \"/>\n",
       "<path clip-path=\"url(#clip870)\" d=\"M176.421 732.019 L206.097 732.019 L206.097 735.954 L176.421 735.954 L176.421 732.019 Z\" fill=\"#000000\" fill-rule=\"evenodd\" fill-opacity=\"1\" /><path clip-path=\"url(#clip870)\" d=\"M230.356 730.214 Q233.712 730.931 235.587 733.2 Q237.486 735.468 237.486 738.802 Q237.486 743.917 233.967 746.718 Q230.449 749.519 223.967 749.519 Q221.791 749.519 219.476 749.079 Q217.185 748.663 214.731 747.806 L214.731 743.292 Q216.675 744.427 218.99 745.005 Q221.305 745.584 223.828 745.584 Q228.226 745.584 230.518 743.848 Q232.833 742.112 232.833 738.802 Q232.833 735.746 230.68 734.033 Q228.55 732.297 224.731 732.297 L220.703 732.297 L220.703 728.454 L224.916 728.454 Q228.365 728.454 230.194 727.089 Q232.023 725.7 232.023 723.107 Q232.023 720.445 230.124 719.033 Q228.249 717.598 224.731 717.598 Q222.81 717.598 220.611 718.015 Q218.412 718.431 215.773 719.311 L215.773 715.144 Q218.435 714.404 220.75 714.033 Q223.087 713.663 225.148 713.663 Q230.472 713.663 233.574 716.093 Q236.675 718.501 236.675 722.621 Q236.675 725.492 235.032 727.482 Q233.388 729.45 230.356 730.214 Z\" fill=\"#000000\" fill-rule=\"evenodd\" fill-opacity=\"1\" /><path clip-path=\"url(#clip870)\" d=\"M332.933 732.019 L362.608 732.019 L362.608 735.954 L332.933 735.954 L332.933 732.019 Z\" fill=\"#000000\" fill-rule=\"evenodd\" fill-opacity=\"1\" /><path clip-path=\"url(#clip870)\" d=\"M376.729 744.913 L393.048 744.913 L393.048 748.848 L371.104 748.848 L371.104 744.913 Q373.766 742.158 378.349 737.528 Q382.956 732.876 384.136 731.533 Q386.382 729.01 387.261 727.274 Q388.164 725.515 388.164 723.825 Q388.164 721.07 386.219 719.334 Q384.298 717.598 381.196 717.598 Q378.997 717.598 376.544 718.362 Q374.113 719.126 371.335 720.677 L371.335 715.955 Q374.159 714.82 376.613 714.242 Q379.067 713.663 381.104 713.663 Q386.474 713.663 389.669 716.348 Q392.863 719.033 392.863 723.524 Q392.863 725.654 392.053 727.575 Q391.266 729.473 389.159 732.066 Q388.581 732.737 385.479 735.954 Q382.377 739.149 376.729 744.913 Z\" fill=\"#000000\" fill-rule=\"evenodd\" fill-opacity=\"1\" /><path clip-path=\"url(#clip870)\" d=\"M488.785 732.019 L518.46 732.019 L518.46 735.954 L488.785 735.954 L488.785 732.019 Z\" fill=\"#000000\" fill-rule=\"evenodd\" fill-opacity=\"1\" /><path clip-path=\"url(#clip870)\" d=\"M529.363 744.913 L537.002 744.913 L537.002 718.547 L528.692 720.214 L528.692 715.955 L536.956 714.288 L541.632 714.288 L541.632 744.913 L549.27 744.913 L549.27 748.848 L529.363 748.848 L529.363 744.913 Z\" fill=\"#000000\" fill-rule=\"evenodd\" fill-opacity=\"1\" /><path clip-path=\"url(#clip870)\" d=\"M675.065 717.367 Q671.454 717.367 669.625 720.931 Q667.819 724.473 667.819 731.603 Q667.819 738.709 669.625 742.274 Q671.454 745.815 675.065 745.815 Q678.699 745.815 680.504 742.274 Q682.333 738.709 682.333 731.603 Q682.333 724.473 680.504 720.931 Q678.699 717.367 675.065 717.367 M675.065 713.663 Q680.875 713.663 683.93 718.269 Q687.009 722.853 687.009 731.603 Q687.009 740.329 683.93 744.936 Q680.875 749.519 675.065 749.519 Q669.255 749.519 666.176 744.936 Q663.12 740.329 663.12 731.603 Q663.12 722.853 666.176 718.269 Q669.255 713.663 675.065 713.663 Z\" fill=\"#000000\" fill-rule=\"evenodd\" fill-opacity=\"1\" /><path clip-path=\"url(#clip870)\" d=\"M821.484 744.913 L829.123 744.913 L829.123 718.547 L820.813 720.214 L820.813 715.955 L829.076 714.288 L833.752 714.288 L833.752 744.913 L841.391 744.913 L841.391 748.848 L821.484 748.848 L821.484 744.913 Z\" fill=\"#000000\" fill-rule=\"evenodd\" fill-opacity=\"1\" /><path clip-path=\"url(#clip870)\" d=\"M981.792 744.913 L998.111 744.913 L998.111 748.848 L976.167 748.848 L976.167 744.913 Q978.829 742.158 983.412 737.528 Q988.019 732.876 989.199 731.533 Q991.444 729.01 992.324 727.274 Q993.227 725.515 993.227 723.825 Q993.227 721.07 991.282 719.334 Q989.361 717.598 986.259 717.598 Q984.06 717.598 981.607 718.362 Q979.176 719.126 976.398 720.677 L976.398 715.955 Q979.222 714.82 981.676 714.242 Q984.13 713.663 986.167 713.663 Q991.537 713.663 994.731 716.348 Q997.926 719.033 997.926 723.524 Q997.926 725.654 997.116 727.575 Q996.329 729.473 994.222 732.066 Q993.644 732.737 990.542 735.954 Q987.44 739.149 981.792 744.913 Z\" fill=\"#000000\" fill-rule=\"evenodd\" fill-opacity=\"1\" /><path clip-path=\"url(#clip870)\" d=\"M1147.42 730.214 Q1150.78 730.931 1152.66 733.2 Q1154.55 735.468 1154.55 738.802 Q1154.55 743.917 1151.03 746.718 Q1147.52 749.519 1141.03 749.519 Q1138.86 749.519 1136.54 749.079 Q1134.25 748.663 1131.8 747.806 L1131.8 743.292 Q1133.74 744.427 1136.06 745.005 Q1138.37 745.584 1140.9 745.584 Q1145.29 745.584 1147.59 743.848 Q1149.9 742.112 1149.9 738.802 Q1149.9 735.746 1147.75 734.033 Q1145.62 732.297 1141.8 732.297 L1137.77 732.297 L1137.77 728.454 L1141.98 728.454 Q1145.43 728.454 1147.26 727.089 Q1149.09 725.7 1149.09 723.107 Q1149.09 720.445 1147.19 719.033 Q1145.32 717.598 1141.8 717.598 Q1139.88 717.598 1137.68 718.015 Q1135.48 718.431 1132.84 719.311 L1132.84 715.144 Q1135.5 714.404 1137.82 714.033 Q1140.16 713.663 1142.22 713.663 Q1147.54 713.663 1150.64 716.093 Q1153.74 718.501 1153.74 722.621 Q1153.74 725.492 1152.1 727.482 Q1150.46 729.45 1147.42 730.214 Z\" fill=\"#000000\" fill-rule=\"evenodd\" fill-opacity=\"1\" /><polyline clip-path=\"url(#clip872)\" style=\"stroke:#000000; stroke-linecap:butt; stroke-linejoin:round; stroke-width:2; stroke-opacity:0.1; fill:none\" points=\"\n",
       "  178.867,668.357 1171.26,668.357 \n",
       "  \"/>\n",
       "<polyline clip-path=\"url(#clip872)\" style=\"stroke:#000000; stroke-linecap:butt; stroke-linejoin:round; stroke-width:2; stroke-opacity:0.1; fill:none\" points=\"\n",
       "  178.867,567.853 1171.26,567.853 \n",
       "  \"/>\n",
       "<polyline clip-path=\"url(#clip872)\" style=\"stroke:#000000; stroke-linecap:butt; stroke-linejoin:round; stroke-width:2; stroke-opacity:0.1; fill:none\" points=\"\n",
       "  178.867,467.35 1171.26,467.35 \n",
       "  \"/>\n",
       "<polyline clip-path=\"url(#clip872)\" style=\"stroke:#000000; stroke-linecap:butt; stroke-linejoin:round; stroke-width:2; stroke-opacity:0.1; fill:none\" points=\"\n",
       "  178.867,366.846 1171.26,366.846 \n",
       "  \"/>\n",
       "<polyline clip-path=\"url(#clip872)\" style=\"stroke:#000000; stroke-linecap:butt; stroke-linejoin:round; stroke-width:2; stroke-opacity:0.1; fill:none\" points=\"\n",
       "  178.867,266.342 1171.26,266.342 \n",
       "  \"/>\n",
       "<polyline clip-path=\"url(#clip872)\" style=\"stroke:#000000; stroke-linecap:butt; stroke-linejoin:round; stroke-width:2; stroke-opacity:0.1; fill:none\" points=\"\n",
       "  178.867,165.839 1171.26,165.839 \n",
       "  \"/>\n",
       "<polyline clip-path=\"url(#clip872)\" style=\"stroke:#000000; stroke-linecap:butt; stroke-linejoin:round; stroke-width:2; stroke-opacity:0.1; fill:none\" points=\"\n",
       "  178.867,65.3348 1171.26,65.3348 \n",
       "  \"/>\n",
       "<polyline clip-path=\"url(#clip870)\" style=\"stroke:#000000; stroke-linecap:butt; stroke-linejoin:round; stroke-width:4; stroke-opacity:1; fill:none\" points=\"\n",
       "  178.867,686.448 178.867,47.2441 \n",
       "  \"/>\n",
       "<polyline clip-path=\"url(#clip870)\" style=\"stroke:#000000; stroke-linecap:butt; stroke-linejoin:round; stroke-width:4; stroke-opacity:1; fill:none\" points=\"\n",
       "  178.867,668.357 197.764,668.357 \n",
       "  \"/>\n",
       "<polyline clip-path=\"url(#clip870)\" style=\"stroke:#000000; stroke-linecap:butt; stroke-linejoin:round; stroke-width:4; stroke-opacity:1; fill:none\" points=\"\n",
       "  178.867,567.853 197.764,567.853 \n",
       "  \"/>\n",
       "<polyline clip-path=\"url(#clip870)\" style=\"stroke:#000000; stroke-linecap:butt; stroke-linejoin:round; stroke-width:4; stroke-opacity:1; fill:none\" points=\"\n",
       "  178.867,467.35 197.764,467.35 \n",
       "  \"/>\n",
       "<polyline clip-path=\"url(#clip870)\" style=\"stroke:#000000; stroke-linecap:butt; stroke-linejoin:round; stroke-width:4; stroke-opacity:1; fill:none\" points=\"\n",
       "  178.867,366.846 197.764,366.846 \n",
       "  \"/>\n",
       "<polyline clip-path=\"url(#clip870)\" style=\"stroke:#000000; stroke-linecap:butt; stroke-linejoin:round; stroke-width:4; stroke-opacity:1; fill:none\" points=\"\n",
       "  178.867,266.342 197.764,266.342 \n",
       "  \"/>\n",
       "<polyline clip-path=\"url(#clip870)\" style=\"stroke:#000000; stroke-linecap:butt; stroke-linejoin:round; stroke-width:4; stroke-opacity:1; fill:none\" points=\"\n",
       "  178.867,165.839 197.764,165.839 \n",
       "  \"/>\n",
       "<polyline clip-path=\"url(#clip870)\" style=\"stroke:#000000; stroke-linecap:butt; stroke-linejoin:round; stroke-width:4; stroke-opacity:1; fill:none\" points=\"\n",
       "  178.867,65.3348 197.764,65.3348 \n",
       "  \"/>\n",
       "<path clip-path=\"url(#clip870)\" d=\"M81.8021 668.809 L111.478 668.809 L111.478 672.744 L81.8021 672.744 L81.8021 668.809 Z\" fill=\"#000000\" fill-rule=\"evenodd\" fill-opacity=\"1\" /><path clip-path=\"url(#clip870)\" d=\"M135.737 667.003 Q139.094 667.721 140.968 669.989 Q142.867 672.258 142.867 675.591 Q142.867 680.707 139.348 683.508 Q135.83 686.308 129.348 686.308 Q127.172 686.308 124.857 685.869 Q122.566 685.452 120.112 684.596 L120.112 680.082 Q122.057 681.216 124.371 681.795 Q126.686 682.373 129.209 682.373 Q133.607 682.373 135.899 680.637 Q138.214 678.901 138.214 675.591 Q138.214 672.535 136.061 670.822 Q133.931 669.086 130.112 669.086 L126.084 669.086 L126.084 665.244 L130.297 665.244 Q133.746 665.244 135.575 663.878 Q137.404 662.489 137.404 659.897 Q137.404 657.235 135.506 655.823 Q133.631 654.387 130.112 654.387 Q128.191 654.387 125.992 654.804 Q123.793 655.221 121.154 656.1 L121.154 651.934 Q123.816 651.193 126.131 650.823 Q128.469 650.452 130.529 650.452 Q135.853 650.452 138.955 652.883 Q142.056 655.29 142.056 659.41 Q142.056 662.281 140.413 664.272 Q138.769 666.239 135.737 667.003 Z\" fill=\"#000000\" fill-rule=\"evenodd\" fill-opacity=\"1\" /><path clip-path=\"url(#clip870)\" d=\"M82.7512 568.305 L112.427 568.305 L112.427 572.24 L82.7512 572.24 L82.7512 568.305 Z\" fill=\"#000000\" fill-rule=\"evenodd\" fill-opacity=\"1\" /><path clip-path=\"url(#clip870)\" d=\"M126.547 581.198 L142.867 581.198 L142.867 585.133 L120.922 585.133 L120.922 581.198 Q123.584 578.444 128.168 573.814 Q132.774 569.161 133.955 567.819 Q136.2 565.296 137.08 563.56 Q137.982 561.8 137.982 560.11 Q137.982 557.356 136.038 555.62 Q134.117 553.884 131.015 553.884 Q128.816 553.884 126.362 554.648 Q123.932 555.411 121.154 556.962 L121.154 552.24 Q123.978 551.106 126.432 550.527 Q128.885 549.948 130.922 549.948 Q136.293 549.948 139.487 552.634 Q142.681 555.319 142.681 559.81 Q142.681 561.939 141.871 563.86 Q141.084 565.759 138.978 568.351 Q138.399 569.022 135.297 572.24 Q132.195 575.434 126.547 581.198 Z\" fill=\"#000000\" fill-rule=\"evenodd\" fill-opacity=\"1\" /><path clip-path=\"url(#clip870)\" d=\"M82.3808 467.801 L112.057 467.801 L112.057 471.736 L82.3808 471.736 L82.3808 467.801 Z\" fill=\"#000000\" fill-rule=\"evenodd\" fill-opacity=\"1\" /><path clip-path=\"url(#clip870)\" d=\"M122.959 480.695 L130.598 480.695 L130.598 454.329 L122.288 455.996 L122.288 451.736 L130.552 450.07 L135.228 450.07 L135.228 480.695 L142.867 480.695 L142.867 484.63 L122.959 484.63 L122.959 480.695 Z\" fill=\"#000000\" fill-rule=\"evenodd\" fill-opacity=\"1\" /><path clip-path=\"url(#clip870)\" d=\"M130.922 352.645 Q127.311 352.645 125.482 356.209 Q123.677 359.751 123.677 366.881 Q123.677 373.987 125.482 377.552 Q127.311 381.094 130.922 381.094 Q134.556 381.094 136.362 377.552 Q138.191 373.987 138.191 366.881 Q138.191 359.751 136.362 356.209 Q134.556 352.645 130.922 352.645 M130.922 348.941 Q136.732 348.941 139.788 353.547 Q142.867 358.131 142.867 366.881 Q142.867 375.608 139.788 380.214 Q136.732 384.797 130.922 384.797 Q125.112 384.797 122.033 380.214 Q118.978 375.608 118.978 366.881 Q118.978 358.131 122.033 353.547 Q125.112 348.941 130.922 348.941 Z\" fill=\"#000000\" fill-rule=\"evenodd\" fill-opacity=\"1\" /><path clip-path=\"url(#clip870)\" d=\"M122.959 279.687 L130.598 279.687 L130.598 253.321 L122.288 254.988 L122.288 250.729 L130.552 249.062 L135.228 249.062 L135.228 279.687 L142.867 279.687 L142.867 283.622 L122.959 283.622 L122.959 279.687 Z\" fill=\"#000000\" fill-rule=\"evenodd\" fill-opacity=\"1\" /><path clip-path=\"url(#clip870)\" d=\"M126.547 179.183 L142.867 179.183 L142.867 183.119 L120.922 183.119 L120.922 179.183 Q123.584 176.429 128.168 171.799 Q132.774 167.146 133.955 165.804 Q136.2 163.281 137.08 161.545 Q137.982 159.785 137.982 158.095 Q137.982 155.341 136.038 153.605 Q134.117 151.869 131.015 151.869 Q128.816 151.869 126.362 152.633 Q123.932 153.396 121.154 154.947 L121.154 150.225 Q123.978 149.091 126.432 148.512 Q128.885 147.934 130.922 147.934 Q136.293 147.934 139.487 150.619 Q142.681 153.304 142.681 157.795 Q142.681 159.924 141.871 161.845 Q141.084 163.744 138.978 166.336 Q138.399 167.007 135.297 170.225 Q132.195 173.419 126.547 179.183 Z\" fill=\"#000000\" fill-rule=\"evenodd\" fill-opacity=\"1\" /><path clip-path=\"url(#clip870)\" d=\"M135.737 63.9806 Q139.094 64.6982 140.968 66.9667 Q142.867 69.2352 142.867 72.5685 Q142.867 77.6842 139.348 80.4851 Q135.83 83.2861 129.348 83.2861 Q127.172 83.2861 124.857 82.8462 Q122.566 82.4296 120.112 81.5731 L120.112 77.0592 Q122.057 78.1935 124.371 78.7722 Q126.686 79.3509 129.209 79.3509 Q133.607 79.3509 135.899 77.6148 Q138.214 75.8787 138.214 72.5685 Q138.214 69.513 136.061 67.8 Q133.931 66.0639 130.112 66.0639 L126.084 66.0639 L126.084 62.2214 L130.297 62.2214 Q133.746 62.2214 135.575 60.8556 Q137.404 59.4667 137.404 56.8742 Q137.404 54.2121 135.506 52.8001 Q133.631 51.3649 130.112 51.3649 Q128.191 51.3649 125.992 51.7816 Q123.793 52.1983 121.154 53.0779 L121.154 48.9112 Q123.816 48.1705 126.131 47.8001 Q128.469 47.4298 130.529 47.4298 Q135.853 47.4298 138.955 49.8603 Q142.056 52.2677 142.056 56.3881 Q142.056 59.2584 140.413 61.2491 Q138.769 63.2167 135.737 63.9806 Z\" fill=\"#000000\" fill-rule=\"evenodd\" fill-opacity=\"1\" /><polyline clip-path=\"url(#clip872)\" style=\"stroke:#009af9; stroke-linecap:butt; stroke-linejoin:round; stroke-width:4; stroke-opacity:1; fill:none\" points=\"\n",
       "  206.953,668.357 239.237,647.563 271.52,626.769 303.804,605.976 336.087,585.182 368.371,564.388 400.655,543.594 432.938,522.8 465.222,502.006 497.505,481.212 \n",
       "  529.789,460.418 562.072,439.625 594.356,418.831 626.639,398.037 658.923,377.243 691.206,356.449 723.49,335.655 755.774,314.861 788.057,294.067 820.341,273.274 \n",
       "  852.624,252.48 884.908,231.686 917.191,210.892 949.475,190.098 981.758,169.304 1014.04,148.51 1046.33,127.716 1078.61,106.923 1110.89,86.1286 1143.18,65.3348 \n",
       "  \n",
       "  \"/>\n",
       "<path clip-path=\"url(#clip870)\" d=\"\n",
       "M1360.36 686.448 L2352.76 686.448 L2352.76 47.2441 L1360.36 47.2441  Z\n",
       "  \" fill=\"#ffffff\" fill-rule=\"evenodd\" fill-opacity=\"1\"/>\n",
       "<defs>\n",
       "  <clipPath id=\"clip873\">\n",
       "    <rect x=\"1360\" y=\"47\" width=\"993\" height=\"640\"/>\n",
       "  </clipPath>\n",
       "</defs>\n",
       "<polyline clip-path=\"url(#clip873)\" style=\"stroke:#000000; stroke-linecap:butt; stroke-linejoin:round; stroke-width:2; stroke-opacity:0.1; fill:none\" points=\"\n",
       "  1388.45,686.448 1388.45,47.2441 \n",
       "  \"/>\n",
       "<polyline clip-path=\"url(#clip873)\" style=\"stroke:#000000; stroke-linecap:butt; stroke-linejoin:round; stroke-width:2; stroke-opacity:0.1; fill:none\" points=\"\n",
       "  1544.48,686.448 1544.48,47.2441 \n",
       "  \"/>\n",
       "<polyline clip-path=\"url(#clip873)\" style=\"stroke:#000000; stroke-linecap:butt; stroke-linejoin:round; stroke-width:2; stroke-opacity:0.1; fill:none\" points=\"\n",
       "  1700.52,686.448 1700.52,47.2441 \n",
       "  \"/>\n",
       "<polyline clip-path=\"url(#clip873)\" style=\"stroke:#000000; stroke-linecap:butt; stroke-linejoin:round; stroke-width:2; stroke-opacity:0.1; fill:none\" points=\"\n",
       "  1856.56,686.448 1856.56,47.2441 \n",
       "  \"/>\n",
       "<polyline clip-path=\"url(#clip873)\" style=\"stroke:#000000; stroke-linecap:butt; stroke-linejoin:round; stroke-width:2; stroke-opacity:0.1; fill:none\" points=\"\n",
       "  2012.59,686.448 2012.59,47.2441 \n",
       "  \"/>\n",
       "<polyline clip-path=\"url(#clip873)\" style=\"stroke:#000000; stroke-linecap:butt; stroke-linejoin:round; stroke-width:2; stroke-opacity:0.1; fill:none\" points=\"\n",
       "  2168.63,686.448 2168.63,47.2441 \n",
       "  \"/>\n",
       "<polyline clip-path=\"url(#clip873)\" style=\"stroke:#000000; stroke-linecap:butt; stroke-linejoin:round; stroke-width:2; stroke-opacity:0.1; fill:none\" points=\"\n",
       "  2324.67,686.448 2324.67,47.2441 \n",
       "  \"/>\n",
       "<polyline clip-path=\"url(#clip870)\" style=\"stroke:#000000; stroke-linecap:butt; stroke-linejoin:round; stroke-width:4; stroke-opacity:1; fill:none\" points=\"\n",
       "  1360.36,686.448 2352.76,686.448 \n",
       "  \"/>\n",
       "<polyline clip-path=\"url(#clip870)\" style=\"stroke:#000000; stroke-linecap:butt; stroke-linejoin:round; stroke-width:4; stroke-opacity:1; fill:none\" points=\"\n",
       "  1388.45,686.448 1388.45,667.55 \n",
       "  \"/>\n",
       "<polyline clip-path=\"url(#clip870)\" style=\"stroke:#000000; stroke-linecap:butt; stroke-linejoin:round; stroke-width:4; stroke-opacity:1; fill:none\" points=\"\n",
       "  1544.48,686.448 1544.48,667.55 \n",
       "  \"/>\n",
       "<polyline clip-path=\"url(#clip870)\" style=\"stroke:#000000; stroke-linecap:butt; stroke-linejoin:round; stroke-width:4; stroke-opacity:1; fill:none\" points=\"\n",
       "  1700.52,686.448 1700.52,667.55 \n",
       "  \"/>\n",
       "<polyline clip-path=\"url(#clip870)\" style=\"stroke:#000000; stroke-linecap:butt; stroke-linejoin:round; stroke-width:4; stroke-opacity:1; fill:none\" points=\"\n",
       "  1856.56,686.448 1856.56,667.55 \n",
       "  \"/>\n",
       "<polyline clip-path=\"url(#clip870)\" style=\"stroke:#000000; stroke-linecap:butt; stroke-linejoin:round; stroke-width:4; stroke-opacity:1; fill:none\" points=\"\n",
       "  2012.59,686.448 2012.59,667.55 \n",
       "  \"/>\n",
       "<polyline clip-path=\"url(#clip870)\" style=\"stroke:#000000; stroke-linecap:butt; stroke-linejoin:round; stroke-width:4; stroke-opacity:1; fill:none\" points=\"\n",
       "  2168.63,686.448 2168.63,667.55 \n",
       "  \"/>\n",
       "<polyline clip-path=\"url(#clip870)\" style=\"stroke:#000000; stroke-linecap:butt; stroke-linejoin:round; stroke-width:4; stroke-opacity:1; fill:none\" points=\"\n",
       "  2324.67,686.448 2324.67,667.55 \n",
       "  \"/>\n",
       "<path clip-path=\"url(#clip870)\" d=\"M1357.91 732.019 L1387.59 732.019 L1387.59 735.954 L1357.91 735.954 L1357.91 732.019 Z\" fill=\"#000000\" fill-rule=\"evenodd\" fill-opacity=\"1\" /><path clip-path=\"url(#clip870)\" d=\"M1411.85 730.214 Q1415.21 730.931 1417.08 733.2 Q1418.98 735.468 1418.98 738.802 Q1418.98 743.917 1415.46 746.718 Q1411.94 749.519 1405.46 749.519 Q1403.28 749.519 1400.97 749.079 Q1398.68 748.663 1396.22 747.806 L1396.22 743.292 Q1398.17 744.427 1400.48 745.005 Q1402.8 745.584 1405.32 745.584 Q1409.72 745.584 1412.01 743.848 Q1414.33 742.112 1414.33 738.802 Q1414.33 735.746 1412.17 734.033 Q1410.04 732.297 1406.22 732.297 L1402.2 732.297 L1402.2 728.454 L1406.41 728.454 Q1409.86 728.454 1411.69 727.089 Q1413.52 725.7 1413.52 723.107 Q1413.52 720.445 1411.62 719.033 Q1409.74 717.598 1406.22 717.598 Q1404.3 717.598 1402.1 718.015 Q1399.9 718.431 1397.27 719.311 L1397.27 715.144 Q1399.93 714.404 1402.24 714.033 Q1404.58 713.663 1406.64 713.663 Q1411.96 713.663 1415.07 716.093 Q1418.17 718.501 1418.17 722.621 Q1418.17 725.492 1416.53 727.482 Q1414.88 729.45 1411.85 730.214 Z\" fill=\"#000000\" fill-rule=\"evenodd\" fill-opacity=\"1\" /><path clip-path=\"url(#clip870)\" d=\"M1514.43 732.019 L1544.1 732.019 L1544.1 735.954 L1514.43 735.954 L1514.43 732.019 Z\" fill=\"#000000\" fill-rule=\"evenodd\" fill-opacity=\"1\" /><path clip-path=\"url(#clip870)\" d=\"M1558.22 744.913 L1574.54 744.913 L1574.54 748.848 L1552.6 748.848 L1552.6 744.913 Q1555.26 742.158 1559.84 737.528 Q1564.45 732.876 1565.63 731.533 Q1567.87 729.01 1568.75 727.274 Q1569.66 725.515 1569.66 723.825 Q1569.66 721.07 1567.71 719.334 Q1565.79 717.598 1562.69 717.598 Q1560.49 717.598 1558.04 718.362 Q1555.61 719.126 1552.83 720.677 L1552.83 715.955 Q1555.65 714.82 1558.11 714.242 Q1560.56 713.663 1562.6 713.663 Q1567.97 713.663 1571.16 716.348 Q1574.36 719.033 1574.36 723.524 Q1574.36 725.654 1573.55 727.575 Q1572.76 729.473 1570.65 732.066 Q1570.07 732.737 1566.97 735.954 Q1563.87 739.149 1558.22 744.913 Z\" fill=\"#000000\" fill-rule=\"evenodd\" fill-opacity=\"1\" /><path clip-path=\"url(#clip870)\" d=\"M1670.28 732.019 L1699.95 732.019 L1699.95 735.954 L1670.28 735.954 L1670.28 732.019 Z\" fill=\"#000000\" fill-rule=\"evenodd\" fill-opacity=\"1\" /><path clip-path=\"url(#clip870)\" d=\"M1710.86 744.913 L1718.5 744.913 L1718.5 718.547 L1710.19 720.214 L1710.19 715.955 L1718.45 714.288 L1723.12 714.288 L1723.12 744.913 L1730.76 744.913 L1730.76 748.848 L1710.86 748.848 L1710.86 744.913 Z\" fill=\"#000000\" fill-rule=\"evenodd\" fill-opacity=\"1\" /><path clip-path=\"url(#clip870)\" d=\"M1856.56 717.367 Q1852.95 717.367 1851.12 720.931 Q1849.31 724.473 1849.31 731.603 Q1849.31 738.709 1851.12 742.274 Q1852.95 745.815 1856.56 745.815 Q1860.19 745.815 1862 742.274 Q1863.83 738.709 1863.83 731.603 Q1863.83 724.473 1862 720.931 Q1860.19 717.367 1856.56 717.367 M1856.56 713.663 Q1862.37 713.663 1865.42 718.269 Q1868.5 722.853 1868.5 731.603 Q1868.5 740.329 1865.42 744.936 Q1862.37 749.519 1856.56 749.519 Q1850.75 749.519 1847.67 744.936 Q1844.61 740.329 1844.61 731.603 Q1844.61 722.853 1847.67 718.269 Q1850.75 713.663 1856.56 713.663 Z\" fill=\"#000000\" fill-rule=\"evenodd\" fill-opacity=\"1\" /><path clip-path=\"url(#clip870)\" d=\"M2002.98 744.913 L2010.62 744.913 L2010.62 718.547 L2002.31 720.214 L2002.31 715.955 L2010.57 714.288 L2015.25 714.288 L2015.25 744.913 L2022.88 744.913 L2022.88 748.848 L2002.98 748.848 L2002.98 744.913 Z\" fill=\"#000000\" fill-rule=\"evenodd\" fill-opacity=\"1\" /><path clip-path=\"url(#clip870)\" d=\"M2163.28 744.913 L2179.6 744.913 L2179.6 748.848 L2157.66 748.848 L2157.66 744.913 Q2160.32 742.158 2164.91 737.528 Q2169.51 732.876 2170.69 731.533 Q2172.94 729.01 2173.82 727.274 Q2174.72 725.515 2174.72 723.825 Q2174.72 721.07 2172.78 719.334 Q2170.85 717.598 2167.75 717.598 Q2165.55 717.598 2163.1 718.362 Q2160.67 719.126 2157.89 720.677 L2157.89 715.955 Q2160.72 714.82 2163.17 714.242 Q2165.62 713.663 2167.66 713.663 Q2173.03 713.663 2176.22 716.348 Q2179.42 719.033 2179.42 723.524 Q2179.42 725.654 2178.61 727.575 Q2177.82 729.473 2175.72 732.066 Q2175.14 732.737 2172.03 735.954 Q2168.93 739.149 2163.28 744.913 Z\" fill=\"#000000\" fill-rule=\"evenodd\" fill-opacity=\"1\" /><path clip-path=\"url(#clip870)\" d=\"M2328.92 730.214 Q2332.27 730.931 2334.15 733.2 Q2336.05 735.468 2336.05 738.802 Q2336.05 743.917 2332.53 746.718 Q2329.01 749.519 2322.53 749.519 Q2320.35 749.519 2318.04 749.079 Q2315.75 748.663 2313.29 747.806 L2313.29 743.292 Q2315.24 744.427 2317.55 745.005 Q2319.87 745.584 2322.39 745.584 Q2326.79 745.584 2329.08 743.848 Q2331.39 742.112 2331.39 738.802 Q2331.39 735.746 2329.24 734.033 Q2327.11 732.297 2323.29 732.297 L2319.26 732.297 L2319.26 728.454 L2323.48 728.454 Q2326.93 728.454 2328.75 727.089 Q2330.58 725.7 2330.58 723.107 Q2330.58 720.445 2328.69 719.033 Q2326.81 717.598 2323.29 717.598 Q2321.37 717.598 2319.17 718.015 Q2316.97 718.431 2314.33 719.311 L2314.33 715.144 Q2317 714.404 2319.31 714.033 Q2321.65 713.663 2323.71 713.663 Q2329.03 713.663 2332.13 716.093 Q2335.24 718.501 2335.24 722.621 Q2335.24 725.492 2333.59 727.482 Q2331.95 729.45 2328.92 730.214 Z\" fill=\"#000000\" fill-rule=\"evenodd\" fill-opacity=\"1\" /><polyline clip-path=\"url(#clip873)\" style=\"stroke:#000000; stroke-linecap:butt; stroke-linejoin:round; stroke-width:2; stroke-opacity:0.1; fill:none\" points=\"\n",
       "  1360.36,669.075 2352.76,669.075 \n",
       "  \"/>\n",
       "<polyline clip-path=\"url(#clip873)\" style=\"stroke:#000000; stroke-linecap:butt; stroke-linejoin:round; stroke-width:2; stroke-opacity:0.1; fill:none\" points=\"\n",
       "  1360.36,534.911 2352.76,534.911 \n",
       "  \"/>\n",
       "<polyline clip-path=\"url(#clip873)\" style=\"stroke:#000000; stroke-linecap:butt; stroke-linejoin:round; stroke-width:2; stroke-opacity:0.1; fill:none\" points=\"\n",
       "  1360.36,400.746 2352.76,400.746 \n",
       "  \"/>\n",
       "<polyline clip-path=\"url(#clip873)\" style=\"stroke:#000000; stroke-linecap:butt; stroke-linejoin:round; stroke-width:2; stroke-opacity:0.1; fill:none\" points=\"\n",
       "  1360.36,266.582 2352.76,266.582 \n",
       "  \"/>\n",
       "<polyline clip-path=\"url(#clip873)\" style=\"stroke:#000000; stroke-linecap:butt; stroke-linejoin:round; stroke-width:2; stroke-opacity:0.1; fill:none\" points=\"\n",
       "  1360.36,132.417 2352.76,132.417 \n",
       "  \"/>\n",
       "<polyline clip-path=\"url(#clip870)\" style=\"stroke:#000000; stroke-linecap:butt; stroke-linejoin:round; stroke-width:4; stroke-opacity:1; fill:none\" points=\"\n",
       "  1360.36,686.448 1360.36,47.2441 \n",
       "  \"/>\n",
       "<polyline clip-path=\"url(#clip870)\" style=\"stroke:#000000; stroke-linecap:butt; stroke-linejoin:round; stroke-width:4; stroke-opacity:1; fill:none\" points=\"\n",
       "  1360.36,669.075 1379.26,669.075 \n",
       "  \"/>\n",
       "<polyline clip-path=\"url(#clip870)\" style=\"stroke:#000000; stroke-linecap:butt; stroke-linejoin:round; stroke-width:4; stroke-opacity:1; fill:none\" points=\"\n",
       "  1360.36,534.911 1379.26,534.911 \n",
       "  \"/>\n",
       "<polyline clip-path=\"url(#clip870)\" style=\"stroke:#000000; stroke-linecap:butt; stroke-linejoin:round; stroke-width:4; stroke-opacity:1; fill:none\" points=\"\n",
       "  1360.36,400.746 1379.26,400.746 \n",
       "  \"/>\n",
       "<polyline clip-path=\"url(#clip870)\" style=\"stroke:#000000; stroke-linecap:butt; stroke-linejoin:round; stroke-width:4; stroke-opacity:1; fill:none\" points=\"\n",
       "  1360.36,266.582 1379.26,266.582 \n",
       "  \"/>\n",
       "<polyline clip-path=\"url(#clip870)\" style=\"stroke:#000000; stroke-linecap:butt; stroke-linejoin:round; stroke-width:4; stroke-opacity:1; fill:none\" points=\"\n",
       "  1360.36,132.417 1379.26,132.417 \n",
       "  \"/>\n",
       "<path clip-path=\"url(#clip870)\" d=\"M1312.42 654.874 Q1308.8 654.874 1306.98 658.439 Q1305.17 661.98 1305.17 669.11 Q1305.17 676.216 1306.98 679.781 Q1308.8 683.323 1312.42 683.323 Q1316.05 683.323 1317.86 679.781 Q1319.68 676.216 1319.68 669.11 Q1319.68 661.98 1317.86 658.439 Q1316.05 654.874 1312.42 654.874 M1312.42 651.17 Q1318.23 651.17 1321.28 655.777 Q1324.36 660.36 1324.36 669.11 Q1324.36 677.837 1321.28 682.443 Q1318.23 687.026 1312.42 687.026 Q1306.61 687.026 1303.53 682.443 Q1300.47 677.837 1300.47 669.11 Q1300.47 660.36 1303.53 655.777 Q1306.61 651.17 1312.42 651.17 Z\" fill=\"#000000\" fill-rule=\"evenodd\" fill-opacity=\"1\" /><path clip-path=\"url(#clip870)\" d=\"M1308.04 548.255 L1324.36 548.255 L1324.36 552.191 L1302.42 552.191 L1302.42 548.255 Q1305.08 545.501 1309.66 540.871 Q1314.27 536.218 1315.45 534.876 Q1317.69 532.353 1318.57 530.617 Q1319.48 528.857 1319.48 527.168 Q1319.48 524.413 1317.53 522.677 Q1315.61 520.941 1312.51 520.941 Q1310.31 520.941 1307.86 521.705 Q1305.42 522.469 1302.65 524.019 L1302.65 519.297 Q1305.47 518.163 1307.92 517.584 Q1310.38 517.006 1312.42 517.006 Q1317.79 517.006 1320.98 519.691 Q1324.17 522.376 1324.17 526.867 Q1324.17 528.996 1323.36 530.918 Q1322.58 532.816 1320.47 535.408 Q1319.89 536.08 1316.79 539.297 Q1313.69 542.492 1308.04 548.255 Z\" fill=\"#000000\" fill-rule=\"evenodd\" fill-opacity=\"1\" /><path clip-path=\"url(#clip870)\" d=\"M1314.78 387.54 L1302.97 405.989 L1314.78 405.989 L1314.78 387.54 M1313.55 383.466 L1319.43 383.466 L1319.43 405.989 L1324.36 405.989 L1324.36 409.878 L1319.43 409.878 L1319.43 418.026 L1314.78 418.026 L1314.78 409.878 L1299.17 409.878 L1299.17 405.364 L1313.55 383.466 Z\" fill=\"#000000\" fill-rule=\"evenodd\" fill-opacity=\"1\" /><path clip-path=\"url(#clip870)\" d=\"M1312.83 264.718 Q1309.68 264.718 1307.83 266.871 Q1306 269.024 1306 272.774 Q1306 276.5 1307.83 278.676 Q1309.68 280.829 1312.83 280.829 Q1315.98 280.829 1317.81 278.676 Q1319.66 276.5 1319.66 272.774 Q1319.66 269.024 1317.81 266.871 Q1315.98 264.718 1312.83 264.718 M1322.11 250.065 L1322.11 254.325 Q1320.36 253.491 1318.55 253.052 Q1316.77 252.612 1315.01 252.612 Q1310.38 252.612 1307.92 255.737 Q1305.49 258.862 1305.15 265.181 Q1306.51 263.167 1308.57 262.102 Q1310.63 261.014 1313.11 261.014 Q1318.32 261.014 1321.33 264.186 Q1324.36 267.334 1324.36 272.774 Q1324.36 278.098 1321.21 281.315 Q1318.06 284.533 1312.83 284.533 Q1306.84 284.533 1303.67 279.95 Q1300.49 275.343 1300.49 266.616 Q1300.49 258.422 1304.38 253.561 Q1308.27 248.677 1314.82 248.677 Q1316.58 248.677 1318.36 249.024 Q1320.17 249.371 1322.11 250.065 Z\" fill=\"#000000\" fill-rule=\"evenodd\" fill-opacity=\"1\" /><path clip-path=\"url(#clip870)\" d=\"M1312.51 133.285 Q1309.17 133.285 1307.25 135.067 Q1305.36 136.85 1305.36 139.975 Q1305.36 143.1 1307.25 144.882 Q1309.17 146.665 1312.51 146.665 Q1315.84 146.665 1317.76 144.882 Q1319.68 143.077 1319.68 139.975 Q1319.68 136.85 1317.76 135.067 Q1315.86 133.285 1312.51 133.285 M1307.83 131.294 Q1304.82 130.554 1303.13 128.493 Q1301.47 126.433 1301.47 123.47 Q1301.47 119.327 1304.41 116.919 Q1307.37 114.512 1312.51 114.512 Q1317.67 114.512 1320.61 116.919 Q1323.55 119.327 1323.55 123.47 Q1323.55 126.433 1321.86 128.493 Q1320.19 130.554 1317.21 131.294 Q1320.59 132.081 1322.46 134.373 Q1324.36 136.665 1324.36 139.975 Q1324.36 144.998 1321.28 147.683 Q1318.23 150.368 1312.51 150.368 Q1306.79 150.368 1303.71 147.683 Q1300.66 144.998 1300.66 139.975 Q1300.66 136.665 1302.55 134.373 Q1304.45 132.081 1307.83 131.294 M1306.12 123.91 Q1306.12 126.595 1307.79 128.1 Q1309.48 129.605 1312.51 129.605 Q1315.52 129.605 1317.21 128.1 Q1318.92 126.595 1318.92 123.91 Q1318.92 121.225 1317.21 119.72 Q1315.52 118.216 1312.51 118.216 Q1309.48 118.216 1307.79 119.72 Q1306.12 121.225 1306.12 123.91 Z\" fill=\"#000000\" fill-rule=\"evenodd\" fill-opacity=\"1\" /><polyline clip-path=\"url(#clip873)\" style=\"stroke:#009af9; stroke-linecap:butt; stroke-linejoin:round; stroke-width:4; stroke-opacity:1; fill:none\" points=\"\n",
       "  1388.45,65.3348 1420.73,145.738 1453.01,220.398 1485.3,289.315 1517.58,352.488 1549.86,409.919 1582.15,461.607 1614.43,507.551 1646.71,547.753 1679,582.211 \n",
       "  1711.28,610.926 1743.57,633.899 1775.85,651.128 1808.13,662.614 1840.42,668.357 1872.7,668.357 1904.98,662.614 1937.27,651.128 1969.55,633.899 2001.83,610.926 \n",
       "  2034.12,582.211 2066.4,547.753 2098.68,507.551 2130.97,461.607 2163.25,409.919 2195.54,352.488 2227.82,289.315 2260.1,220.398 2292.39,145.738 2324.67,65.3348 \n",
       "  \n",
       "  \"/>\n",
       "<path clip-path=\"url(#clip870)\" d=\"\n",
       "M178.867 1486.45 L1171.26 1486.45 L1171.26 847.244 L178.867 847.244  Z\n",
       "  \" fill=\"#ffffff\" fill-rule=\"evenodd\" fill-opacity=\"1\"/>\n",
       "<defs>\n",
       "  <clipPath id=\"clip874\">\n",
       "    <rect x=\"178\" y=\"847\" width=\"993\" height=\"640\"/>\n",
       "  </clipPath>\n",
       "</defs>\n",
       "<polyline clip-path=\"url(#clip874)\" style=\"stroke:#000000; stroke-linecap:butt; stroke-linejoin:round; stroke-width:2; stroke-opacity:0.1; fill:none\" points=\"\n",
       "  206.953,1486.45 206.953,847.244 \n",
       "  \"/>\n",
       "<polyline clip-path=\"url(#clip874)\" style=\"stroke:#000000; stroke-linecap:butt; stroke-linejoin:round; stroke-width:2; stroke-opacity:0.1; fill:none\" points=\"\n",
       "  362.99,1486.45 362.99,847.244 \n",
       "  \"/>\n",
       "<polyline clip-path=\"url(#clip874)\" style=\"stroke:#000000; stroke-linecap:butt; stroke-linejoin:round; stroke-width:2; stroke-opacity:0.1; fill:none\" points=\"\n",
       "  519.028,1486.45 519.028,847.244 \n",
       "  \"/>\n",
       "<polyline clip-path=\"url(#clip874)\" style=\"stroke:#000000; stroke-linecap:butt; stroke-linejoin:round; stroke-width:2; stroke-opacity:0.1; fill:none\" points=\"\n",
       "  675.065,1486.45 675.065,847.244 \n",
       "  \"/>\n",
       "<polyline clip-path=\"url(#clip874)\" style=\"stroke:#000000; stroke-linecap:butt; stroke-linejoin:round; stroke-width:2; stroke-opacity:0.1; fill:none\" points=\"\n",
       "  831.102,1486.45 831.102,847.244 \n",
       "  \"/>\n",
       "<polyline clip-path=\"url(#clip874)\" style=\"stroke:#000000; stroke-linecap:butt; stroke-linejoin:round; stroke-width:2; stroke-opacity:0.1; fill:none\" points=\"\n",
       "  987.139,1486.45 987.139,847.244 \n",
       "  \"/>\n",
       "<polyline clip-path=\"url(#clip874)\" style=\"stroke:#000000; stroke-linecap:butt; stroke-linejoin:round; stroke-width:2; stroke-opacity:0.1; fill:none\" points=\"\n",
       "  1143.18,1486.45 1143.18,847.244 \n",
       "  \"/>\n",
       "<polyline clip-path=\"url(#clip870)\" style=\"stroke:#000000; stroke-linecap:butt; stroke-linejoin:round; stroke-width:4; stroke-opacity:1; fill:none\" points=\"\n",
       "  178.867,1486.45 1171.26,1486.45 \n",
       "  \"/>\n",
       "<polyline clip-path=\"url(#clip870)\" style=\"stroke:#000000; stroke-linecap:butt; stroke-linejoin:round; stroke-width:4; stroke-opacity:1; fill:none\" points=\"\n",
       "  206.953,1486.45 206.953,1467.55 \n",
       "  \"/>\n",
       "<polyline clip-path=\"url(#clip870)\" style=\"stroke:#000000; stroke-linecap:butt; stroke-linejoin:round; stroke-width:4; stroke-opacity:1; fill:none\" points=\"\n",
       "  362.99,1486.45 362.99,1467.55 \n",
       "  \"/>\n",
       "<polyline clip-path=\"url(#clip870)\" style=\"stroke:#000000; stroke-linecap:butt; stroke-linejoin:round; stroke-width:4; stroke-opacity:1; fill:none\" points=\"\n",
       "  519.028,1486.45 519.028,1467.55 \n",
       "  \"/>\n",
       "<polyline clip-path=\"url(#clip870)\" style=\"stroke:#000000; stroke-linecap:butt; stroke-linejoin:round; stroke-width:4; stroke-opacity:1; fill:none\" points=\"\n",
       "  675.065,1486.45 675.065,1467.55 \n",
       "  \"/>\n",
       "<polyline clip-path=\"url(#clip870)\" style=\"stroke:#000000; stroke-linecap:butt; stroke-linejoin:round; stroke-width:4; stroke-opacity:1; fill:none\" points=\"\n",
       "  831.102,1486.45 831.102,1467.55 \n",
       "  \"/>\n",
       "<polyline clip-path=\"url(#clip870)\" style=\"stroke:#000000; stroke-linecap:butt; stroke-linejoin:round; stroke-width:4; stroke-opacity:1; fill:none\" points=\"\n",
       "  987.139,1486.45 987.139,1467.55 \n",
       "  \"/>\n",
       "<polyline clip-path=\"url(#clip870)\" style=\"stroke:#000000; stroke-linecap:butt; stroke-linejoin:round; stroke-width:4; stroke-opacity:1; fill:none\" points=\"\n",
       "  1143.18,1486.45 1143.18,1467.55 \n",
       "  \"/>\n",
       "<path clip-path=\"url(#clip870)\" d=\"M176.421 1532.02 L206.097 1532.02 L206.097 1535.95 L176.421 1535.95 L176.421 1532.02 Z\" fill=\"#000000\" fill-rule=\"evenodd\" fill-opacity=\"1\" /><path clip-path=\"url(#clip870)\" d=\"M230.356 1530.21 Q233.712 1530.93 235.587 1533.2 Q237.486 1535.47 237.486 1538.8 Q237.486 1543.92 233.967 1546.72 Q230.449 1549.52 223.967 1549.52 Q221.791 1549.52 219.476 1549.08 Q217.185 1548.66 214.731 1547.81 L214.731 1543.29 Q216.675 1544.43 218.99 1545.01 Q221.305 1545.58 223.828 1545.58 Q228.226 1545.58 230.518 1543.85 Q232.833 1542.11 232.833 1538.8 Q232.833 1535.75 230.68 1534.03 Q228.55 1532.3 224.731 1532.3 L220.703 1532.3 L220.703 1528.45 L224.916 1528.45 Q228.365 1528.45 230.194 1527.09 Q232.023 1525.7 232.023 1523.11 Q232.023 1520.45 230.124 1519.03 Q228.249 1517.6 224.731 1517.6 Q222.81 1517.6 220.611 1518.01 Q218.412 1518.43 215.773 1519.31 L215.773 1515.14 Q218.435 1514.4 220.75 1514.03 Q223.087 1513.66 225.148 1513.66 Q230.472 1513.66 233.574 1516.09 Q236.675 1518.5 236.675 1522.62 Q236.675 1525.49 235.032 1527.48 Q233.388 1529.45 230.356 1530.21 Z\" fill=\"#000000\" fill-rule=\"evenodd\" fill-opacity=\"1\" /><path clip-path=\"url(#clip870)\" d=\"M332.933 1532.02 L362.608 1532.02 L362.608 1535.95 L332.933 1535.95 L332.933 1532.02 Z\" fill=\"#000000\" fill-rule=\"evenodd\" fill-opacity=\"1\" /><path clip-path=\"url(#clip870)\" d=\"M376.729 1544.91 L393.048 1544.91 L393.048 1548.85 L371.104 1548.85 L371.104 1544.91 Q373.766 1542.16 378.349 1537.53 Q382.956 1532.88 384.136 1531.53 Q386.382 1529.01 387.261 1527.27 Q388.164 1525.51 388.164 1523.82 Q388.164 1521.07 386.219 1519.33 Q384.298 1517.6 381.196 1517.6 Q378.997 1517.6 376.544 1518.36 Q374.113 1519.13 371.335 1520.68 L371.335 1515.95 Q374.159 1514.82 376.613 1514.24 Q379.067 1513.66 381.104 1513.66 Q386.474 1513.66 389.669 1516.35 Q392.863 1519.03 392.863 1523.52 Q392.863 1525.65 392.053 1527.57 Q391.266 1529.47 389.159 1532.07 Q388.581 1532.74 385.479 1535.95 Q382.377 1539.15 376.729 1544.91 Z\" fill=\"#000000\" fill-rule=\"evenodd\" fill-opacity=\"1\" /><path clip-path=\"url(#clip870)\" d=\"M488.785 1532.02 L518.46 1532.02 L518.46 1535.95 L488.785 1535.95 L488.785 1532.02 Z\" fill=\"#000000\" fill-rule=\"evenodd\" fill-opacity=\"1\" /><path clip-path=\"url(#clip870)\" d=\"M529.363 1544.91 L537.002 1544.91 L537.002 1518.55 L528.692 1520.21 L528.692 1515.95 L536.956 1514.29 L541.632 1514.29 L541.632 1544.91 L549.27 1544.91 L549.27 1548.85 L529.363 1548.85 L529.363 1544.91 Z\" fill=\"#000000\" fill-rule=\"evenodd\" fill-opacity=\"1\" /><path clip-path=\"url(#clip870)\" d=\"M675.065 1517.37 Q671.454 1517.37 669.625 1520.93 Q667.819 1524.47 667.819 1531.6 Q667.819 1538.71 669.625 1542.27 Q671.454 1545.82 675.065 1545.82 Q678.699 1545.82 680.504 1542.27 Q682.333 1538.71 682.333 1531.6 Q682.333 1524.47 680.504 1520.93 Q678.699 1517.37 675.065 1517.37 M675.065 1513.66 Q680.875 1513.66 683.93 1518.27 Q687.009 1522.85 687.009 1531.6 Q687.009 1540.33 683.93 1544.94 Q680.875 1549.52 675.065 1549.52 Q669.255 1549.52 666.176 1544.94 Q663.12 1540.33 663.12 1531.6 Q663.12 1522.85 666.176 1518.27 Q669.255 1513.66 675.065 1513.66 Z\" fill=\"#000000\" fill-rule=\"evenodd\" fill-opacity=\"1\" /><path clip-path=\"url(#clip870)\" d=\"M821.484 1544.91 L829.123 1544.91 L829.123 1518.55 L820.813 1520.21 L820.813 1515.95 L829.076 1514.29 L833.752 1514.29 L833.752 1544.91 L841.391 1544.91 L841.391 1548.85 L821.484 1548.85 L821.484 1544.91 Z\" fill=\"#000000\" fill-rule=\"evenodd\" fill-opacity=\"1\" /><path clip-path=\"url(#clip870)\" d=\"M981.792 1544.91 L998.111 1544.91 L998.111 1548.85 L976.167 1548.85 L976.167 1544.91 Q978.829 1542.16 983.412 1537.53 Q988.019 1532.88 989.199 1531.53 Q991.444 1529.01 992.324 1527.27 Q993.227 1525.51 993.227 1523.82 Q993.227 1521.07 991.282 1519.33 Q989.361 1517.6 986.259 1517.6 Q984.06 1517.6 981.607 1518.36 Q979.176 1519.13 976.398 1520.68 L976.398 1515.95 Q979.222 1514.82 981.676 1514.24 Q984.13 1513.66 986.167 1513.66 Q991.537 1513.66 994.731 1516.35 Q997.926 1519.03 997.926 1523.52 Q997.926 1525.65 997.116 1527.57 Q996.329 1529.47 994.222 1532.07 Q993.644 1532.74 990.542 1535.95 Q987.44 1539.15 981.792 1544.91 Z\" fill=\"#000000\" fill-rule=\"evenodd\" fill-opacity=\"1\" /><path clip-path=\"url(#clip870)\" d=\"M1147.42 1530.21 Q1150.78 1530.93 1152.66 1533.2 Q1154.55 1535.47 1154.55 1538.8 Q1154.55 1543.92 1151.03 1546.72 Q1147.52 1549.52 1141.03 1549.52 Q1138.86 1549.52 1136.54 1549.08 Q1134.25 1548.66 1131.8 1547.81 L1131.8 1543.29 Q1133.74 1544.43 1136.06 1545.01 Q1138.37 1545.58 1140.9 1545.58 Q1145.29 1545.58 1147.59 1543.85 Q1149.9 1542.11 1149.9 1538.8 Q1149.9 1535.75 1147.75 1534.03 Q1145.62 1532.3 1141.8 1532.3 L1137.77 1532.3 L1137.77 1528.45 L1141.98 1528.45 Q1145.43 1528.45 1147.26 1527.09 Q1149.09 1525.7 1149.09 1523.11 Q1149.09 1520.45 1147.19 1519.03 Q1145.32 1517.6 1141.8 1517.6 Q1139.88 1517.6 1137.68 1518.01 Q1135.48 1518.43 1132.84 1519.31 L1132.84 1515.14 Q1135.5 1514.4 1137.82 1514.03 Q1140.16 1513.66 1142.22 1513.66 Q1147.54 1513.66 1150.64 1516.09 Q1153.74 1518.5 1153.74 1522.62 Q1153.74 1525.49 1152.1 1527.48 Q1150.46 1529.45 1147.42 1530.21 Z\" fill=\"#000000\" fill-rule=\"evenodd\" fill-opacity=\"1\" /><polyline clip-path=\"url(#clip874)\" style=\"stroke:#000000; stroke-linecap:butt; stroke-linejoin:round; stroke-width:2; stroke-opacity:0.1; fill:none\" points=\"\n",
       "  178.867,1390.19 1171.26,1390.19 \n",
       "  \"/>\n",
       "<polyline clip-path=\"url(#clip874)\" style=\"stroke:#000000; stroke-linecap:butt; stroke-linejoin:round; stroke-width:2; stroke-opacity:0.1; fill:none\" points=\"\n",
       "  178.867,1278.52 1171.26,1278.52 \n",
       "  \"/>\n",
       "<polyline clip-path=\"url(#clip874)\" style=\"stroke:#000000; stroke-linecap:butt; stroke-linejoin:round; stroke-width:2; stroke-opacity:0.1; fill:none\" points=\"\n",
       "  178.867,1166.85 1171.26,1166.85 \n",
       "  \"/>\n",
       "<polyline clip-path=\"url(#clip874)\" style=\"stroke:#000000; stroke-linecap:butt; stroke-linejoin:round; stroke-width:2; stroke-opacity:0.1; fill:none\" points=\"\n",
       "  178.867,1055.18 1171.26,1055.18 \n",
       "  \"/>\n",
       "<polyline clip-path=\"url(#clip874)\" style=\"stroke:#000000; stroke-linecap:butt; stroke-linejoin:round; stroke-width:2; stroke-opacity:0.1; fill:none\" points=\"\n",
       "  178.867,943.504 1171.26,943.504 \n",
       "  \"/>\n",
       "<polyline clip-path=\"url(#clip870)\" style=\"stroke:#000000; stroke-linecap:butt; stroke-linejoin:round; stroke-width:4; stroke-opacity:1; fill:none\" points=\"\n",
       "  178.867,1486.45 178.867,847.244 \n",
       "  \"/>\n",
       "<polyline clip-path=\"url(#clip870)\" style=\"stroke:#000000; stroke-linecap:butt; stroke-linejoin:round; stroke-width:4; stroke-opacity:1; fill:none\" points=\"\n",
       "  178.867,1390.19 197.764,1390.19 \n",
       "  \"/>\n",
       "<polyline clip-path=\"url(#clip870)\" style=\"stroke:#000000; stroke-linecap:butt; stroke-linejoin:round; stroke-width:4; stroke-opacity:1; fill:none\" points=\"\n",
       "  178.867,1278.52 197.764,1278.52 \n",
       "  \"/>\n",
       "<polyline clip-path=\"url(#clip870)\" style=\"stroke:#000000; stroke-linecap:butt; stroke-linejoin:round; stroke-width:4; stroke-opacity:1; fill:none\" points=\"\n",
       "  178.867,1166.85 197.764,1166.85 \n",
       "  \"/>\n",
       "<polyline clip-path=\"url(#clip870)\" style=\"stroke:#000000; stroke-linecap:butt; stroke-linejoin:round; stroke-width:4; stroke-opacity:1; fill:none\" points=\"\n",
       "  178.867,1055.18 197.764,1055.18 \n",
       "  \"/>\n",
       "<polyline clip-path=\"url(#clip870)\" style=\"stroke:#000000; stroke-linecap:butt; stroke-linejoin:round; stroke-width:4; stroke-opacity:1; fill:none\" points=\"\n",
       "  178.867,943.504 197.764,943.504 \n",
       "  \"/>\n",
       "<path clip-path=\"url(#clip870)\" d=\"M50.9921 1390.64 L80.6679 1390.64 L80.6679 1394.57 L50.9921 1394.57 L50.9921 1390.64 Z\" fill=\"#000000\" fill-rule=\"evenodd\" fill-opacity=\"1\" /><path clip-path=\"url(#clip870)\" d=\"M94.7882 1403.53 L111.108 1403.53 L111.108 1407.47 L89.1632 1407.47 L89.1632 1403.53 Q91.8252 1400.78 96.4085 1396.15 Q101.015 1391.5 102.196 1390.15 Q104.441 1387.63 105.321 1385.89 Q106.223 1384.13 106.223 1382.44 Q106.223 1379.69 104.279 1377.95 Q102.358 1376.22 99.2558 1376.22 Q97.0567 1376.22 94.603 1376.98 Q92.1725 1377.75 89.3947 1379.3 L89.3947 1374.57 Q92.2188 1373.44 94.6724 1372.86 Q97.1261 1372.28 99.1632 1372.28 Q104.534 1372.28 107.728 1374.97 Q110.922 1377.65 110.922 1382.14 Q110.922 1384.27 110.112 1386.19 Q109.325 1388.09 107.219 1390.69 Q106.64 1391.36 103.538 1394.57 Q100.436 1397.77 94.7882 1403.53 Z\" fill=\"#000000\" fill-rule=\"evenodd\" fill-opacity=\"1\" /><path clip-path=\"url(#clip870)\" d=\"M130.922 1375.99 Q127.311 1375.99 125.482 1379.55 Q123.677 1383.09 123.677 1390.22 Q123.677 1397.33 125.482 1400.89 Q127.311 1404.44 130.922 1404.44 Q134.556 1404.44 136.362 1400.89 Q138.191 1397.33 138.191 1390.22 Q138.191 1383.09 136.362 1379.55 Q134.556 1375.99 130.922 1375.99 M130.922 1372.28 Q136.732 1372.28 139.788 1376.89 Q142.867 1381.47 142.867 1390.22 Q142.867 1398.95 139.788 1403.56 Q136.732 1408.14 130.922 1408.14 Q125.112 1408.14 122.033 1403.56 Q118.978 1398.95 118.978 1390.22 Q118.978 1381.47 122.033 1376.89 Q125.112 1372.28 130.922 1372.28 Z\" fill=\"#000000\" fill-rule=\"evenodd\" fill-opacity=\"1\" /><path clip-path=\"url(#clip870)\" d=\"M50.9921 1278.97 L80.6679 1278.97 L80.6679 1282.9 L50.9921 1282.9 L50.9921 1278.97 Z\" fill=\"#000000\" fill-rule=\"evenodd\" fill-opacity=\"1\" /><path clip-path=\"url(#clip870)\" d=\"M91.5706 1291.86 L99.2095 1291.86 L99.2095 1265.5 L90.8993 1267.16 L90.8993 1262.9 L99.1632 1261.24 L103.839 1261.24 L103.839 1291.86 L111.478 1291.86 L111.478 1295.8 L91.5706 1295.8 L91.5706 1291.86 Z\" fill=\"#000000\" fill-rule=\"evenodd\" fill-opacity=\"1\" /><path clip-path=\"url(#clip870)\" d=\"M130.922 1264.32 Q127.311 1264.32 125.482 1267.88 Q123.677 1271.42 123.677 1278.55 Q123.677 1285.66 125.482 1289.22 Q127.311 1292.76 130.922 1292.76 Q134.556 1292.76 136.362 1289.22 Q138.191 1285.66 138.191 1278.55 Q138.191 1271.42 136.362 1267.88 Q134.556 1264.32 130.922 1264.32 M130.922 1260.61 Q136.732 1260.61 139.788 1265.22 Q142.867 1269.8 142.867 1278.55 Q142.867 1287.28 139.788 1291.88 Q136.732 1296.47 130.922 1296.47 Q125.112 1296.47 122.033 1291.88 Q118.978 1287.28 118.978 1278.55 Q118.978 1269.8 122.033 1265.22 Q125.112 1260.61 130.922 1260.61 Z\" fill=\"#000000\" fill-rule=\"evenodd\" fill-opacity=\"1\" /><path clip-path=\"url(#clip870)\" d=\"M130.922 1152.64 Q127.311 1152.64 125.482 1156.21 Q123.677 1159.75 123.677 1166.88 Q123.677 1173.99 125.482 1177.55 Q127.311 1181.09 130.922 1181.09 Q134.556 1181.09 136.362 1177.55 Q138.191 1173.99 138.191 1166.88 Q138.191 1159.75 136.362 1156.21 Q134.556 1152.64 130.922 1152.64 M130.922 1148.94 Q136.732 1148.94 139.788 1153.55 Q142.867 1158.13 142.867 1166.88 Q142.867 1175.61 139.788 1180.21 Q136.732 1184.8 130.922 1184.8 Q125.112 1184.8 122.033 1180.21 Q118.978 1175.61 118.978 1166.88 Q118.978 1158.13 122.033 1153.55 Q125.112 1148.94 130.922 1148.94 Z\" fill=\"#000000\" fill-rule=\"evenodd\" fill-opacity=\"1\" /><path clip-path=\"url(#clip870)\" d=\"M91.5706 1068.52 L99.2095 1068.52 L99.2095 1042.15 L90.8993 1043.82 L90.8993 1039.56 L99.1632 1037.9 L103.839 1037.9 L103.839 1068.52 L111.478 1068.52 L111.478 1072.46 L91.5706 1072.46 L91.5706 1068.52 Z\" fill=\"#000000\" fill-rule=\"evenodd\" fill-opacity=\"1\" /><path clip-path=\"url(#clip870)\" d=\"M130.922 1040.97 Q127.311 1040.97 125.482 1044.54 Q123.677 1048.08 123.677 1055.21 Q123.677 1062.32 125.482 1065.88 Q127.311 1069.42 130.922 1069.42 Q134.556 1069.42 136.362 1065.88 Q138.191 1062.32 138.191 1055.21 Q138.191 1048.08 136.362 1044.54 Q134.556 1040.97 130.922 1040.97 M130.922 1037.27 Q136.732 1037.27 139.788 1041.88 Q142.867 1046.46 142.867 1055.21 Q142.867 1063.94 139.788 1068.54 Q136.732 1073.13 130.922 1073.13 Q125.112 1073.13 122.033 1068.54 Q118.978 1063.94 118.978 1055.21 Q118.978 1046.46 122.033 1041.88 Q125.112 1037.27 130.922 1037.27 Z\" fill=\"#000000\" fill-rule=\"evenodd\" fill-opacity=\"1\" /><path clip-path=\"url(#clip870)\" d=\"M94.7882 956.849 L111.108 956.849 L111.108 960.784 L89.1632 960.784 L89.1632 956.849 Q91.8252 954.095 96.4085 949.465 Q101.015 944.812 102.196 943.47 Q104.441 940.946 105.321 939.21 Q106.223 937.451 106.223 935.761 Q106.223 933.007 104.279 931.271 Q102.358 929.535 99.2558 929.535 Q97.0567 929.535 94.603 930.298 Q92.1725 931.062 89.3947 932.613 L89.3947 927.891 Q92.2188 926.757 94.6724 926.178 Q97.1261 925.599 99.1632 925.599 Q104.534 925.599 107.728 928.285 Q110.922 930.97 110.922 935.46 Q110.922 937.59 110.112 939.511 Q109.325 941.409 107.219 944.002 Q106.64 944.673 103.538 947.891 Q100.436 951.085 94.7882 956.849 Z\" fill=\"#000000\" fill-rule=\"evenodd\" fill-opacity=\"1\" /><path clip-path=\"url(#clip870)\" d=\"M130.922 929.303 Q127.311 929.303 125.482 932.868 Q123.677 936.409 123.677 943.539 Q123.677 950.646 125.482 954.21 Q127.311 957.752 130.922 957.752 Q134.556 957.752 136.362 954.21 Q138.191 950.646 138.191 943.539 Q138.191 936.409 136.362 932.868 Q134.556 929.303 130.922 929.303 M130.922 925.599 Q136.732 925.599 139.788 930.206 Q142.867 934.789 142.867 943.539 Q142.867 952.266 139.788 956.872 Q136.732 961.456 130.922 961.456 Q125.112 961.456 122.033 956.872 Q118.978 952.266 118.978 943.539 Q118.978 934.789 122.033 930.206 Q125.112 925.599 130.922 925.599 Z\" fill=\"#000000\" fill-rule=\"evenodd\" fill-opacity=\"1\" /><polyline clip-path=\"url(#clip874)\" style=\"stroke:#009af9; stroke-linecap:butt; stroke-linejoin:round; stroke-width:4; stroke-opacity:1; fill:none\" points=\"\n",
       "  206.953,1468.36 239.237,1410.18 271.52,1360.01 303.804,1317.26 336.087,1281.34 368.371,1251.64 400.655,1227.58 432.938,1208.57 465.222,1194.01 497.505,1183.3 \n",
       "  529.789,1175.86 562.072,1171.09 594.356,1168.39 626.639,1167.18 658.923,1166.86 691.206,1166.83 723.49,1166.51 755.774,1165.3 788.057,1162.61 820.341,1157.83 \n",
       "  852.624,1150.39 884.908,1139.69 917.191,1125.12 949.475,1106.11 981.758,1082.05 1014.04,1052.36 1046.33,1016.43 1078.61,973.681 1110.89,923.513 1143.18,865.335 \n",
       "  \n",
       "  \"/>\n",
       "<path clip-path=\"url(#clip870)\" d=\"\n",
       "M1360.36 1486.45 L2352.76 1486.45 L2352.76 847.244 L1360.36 847.244  Z\n",
       "  \" fill=\"#ffffff\" fill-rule=\"evenodd\" fill-opacity=\"1\"/>\n",
       "<defs>\n",
       "  <clipPath id=\"clip875\">\n",
       "    <rect x=\"1360\" y=\"847\" width=\"993\" height=\"640\"/>\n",
       "  </clipPath>\n",
       "</defs>\n",
       "<polyline clip-path=\"url(#clip875)\" style=\"stroke:#000000; stroke-linecap:butt; stroke-linejoin:round; stroke-width:2; stroke-opacity:0.1; fill:none\" points=\"\n",
       "  1388.45,1486.45 1388.45,847.244 \n",
       "  \"/>\n",
       "<polyline clip-path=\"url(#clip875)\" style=\"stroke:#000000; stroke-linecap:butt; stroke-linejoin:round; stroke-width:2; stroke-opacity:0.1; fill:none\" points=\"\n",
       "  1544.48,1486.45 1544.48,847.244 \n",
       "  \"/>\n",
       "<polyline clip-path=\"url(#clip875)\" style=\"stroke:#000000; stroke-linecap:butt; stroke-linejoin:round; stroke-width:2; stroke-opacity:0.1; fill:none\" points=\"\n",
       "  1700.52,1486.45 1700.52,847.244 \n",
       "  \"/>\n",
       "<polyline clip-path=\"url(#clip875)\" style=\"stroke:#000000; stroke-linecap:butt; stroke-linejoin:round; stroke-width:2; stroke-opacity:0.1; fill:none\" points=\"\n",
       "  1856.56,1486.45 1856.56,847.244 \n",
       "  \"/>\n",
       "<polyline clip-path=\"url(#clip875)\" style=\"stroke:#000000; stroke-linecap:butt; stroke-linejoin:round; stroke-width:2; stroke-opacity:0.1; fill:none\" points=\"\n",
       "  2012.59,1486.45 2012.59,847.244 \n",
       "  \"/>\n",
       "<polyline clip-path=\"url(#clip875)\" style=\"stroke:#000000; stroke-linecap:butt; stroke-linejoin:round; stroke-width:2; stroke-opacity:0.1; fill:none\" points=\"\n",
       "  2168.63,1486.45 2168.63,847.244 \n",
       "  \"/>\n",
       "<polyline clip-path=\"url(#clip875)\" style=\"stroke:#000000; stroke-linecap:butt; stroke-linejoin:round; stroke-width:2; stroke-opacity:0.1; fill:none\" points=\"\n",
       "  2324.67,1486.45 2324.67,847.244 \n",
       "  \"/>\n",
       "<polyline clip-path=\"url(#clip870)\" style=\"stroke:#000000; stroke-linecap:butt; stroke-linejoin:round; stroke-width:4; stroke-opacity:1; fill:none\" points=\"\n",
       "  1360.36,1486.45 2352.76,1486.45 \n",
       "  \"/>\n",
       "<polyline clip-path=\"url(#clip870)\" style=\"stroke:#000000; stroke-linecap:butt; stroke-linejoin:round; stroke-width:4; stroke-opacity:1; fill:none\" points=\"\n",
       "  1388.45,1486.45 1388.45,1467.55 \n",
       "  \"/>\n",
       "<polyline clip-path=\"url(#clip870)\" style=\"stroke:#000000; stroke-linecap:butt; stroke-linejoin:round; stroke-width:4; stroke-opacity:1; fill:none\" points=\"\n",
       "  1544.48,1486.45 1544.48,1467.55 \n",
       "  \"/>\n",
       "<polyline clip-path=\"url(#clip870)\" style=\"stroke:#000000; stroke-linecap:butt; stroke-linejoin:round; stroke-width:4; stroke-opacity:1; fill:none\" points=\"\n",
       "  1700.52,1486.45 1700.52,1467.55 \n",
       "  \"/>\n",
       "<polyline clip-path=\"url(#clip870)\" style=\"stroke:#000000; stroke-linecap:butt; stroke-linejoin:round; stroke-width:4; stroke-opacity:1; fill:none\" points=\"\n",
       "  1856.56,1486.45 1856.56,1467.55 \n",
       "  \"/>\n",
       "<polyline clip-path=\"url(#clip870)\" style=\"stroke:#000000; stroke-linecap:butt; stroke-linejoin:round; stroke-width:4; stroke-opacity:1; fill:none\" points=\"\n",
       "  2012.59,1486.45 2012.59,1467.55 \n",
       "  \"/>\n",
       "<polyline clip-path=\"url(#clip870)\" style=\"stroke:#000000; stroke-linecap:butt; stroke-linejoin:round; stroke-width:4; stroke-opacity:1; fill:none\" points=\"\n",
       "  2168.63,1486.45 2168.63,1467.55 \n",
       "  \"/>\n",
       "<polyline clip-path=\"url(#clip870)\" style=\"stroke:#000000; stroke-linecap:butt; stroke-linejoin:round; stroke-width:4; stroke-opacity:1; fill:none\" points=\"\n",
       "  2324.67,1486.45 2324.67,1467.55 \n",
       "  \"/>\n",
       "<path clip-path=\"url(#clip870)\" d=\"M1357.91 1532.02 L1387.59 1532.02 L1387.59 1535.95 L1357.91 1535.95 L1357.91 1532.02 Z\" fill=\"#000000\" fill-rule=\"evenodd\" fill-opacity=\"1\" /><path clip-path=\"url(#clip870)\" d=\"M1411.85 1530.21 Q1415.21 1530.93 1417.08 1533.2 Q1418.98 1535.47 1418.98 1538.8 Q1418.98 1543.92 1415.46 1546.72 Q1411.94 1549.52 1405.46 1549.52 Q1403.28 1549.52 1400.97 1549.08 Q1398.68 1548.66 1396.22 1547.81 L1396.22 1543.29 Q1398.17 1544.43 1400.48 1545.01 Q1402.8 1545.58 1405.32 1545.58 Q1409.72 1545.58 1412.01 1543.85 Q1414.33 1542.11 1414.33 1538.8 Q1414.33 1535.75 1412.17 1534.03 Q1410.04 1532.3 1406.22 1532.3 L1402.2 1532.3 L1402.2 1528.45 L1406.41 1528.45 Q1409.86 1528.45 1411.69 1527.09 Q1413.52 1525.7 1413.52 1523.11 Q1413.52 1520.45 1411.62 1519.03 Q1409.74 1517.6 1406.22 1517.6 Q1404.3 1517.6 1402.1 1518.01 Q1399.9 1518.43 1397.27 1519.31 L1397.27 1515.14 Q1399.93 1514.4 1402.24 1514.03 Q1404.58 1513.66 1406.64 1513.66 Q1411.96 1513.66 1415.07 1516.09 Q1418.17 1518.5 1418.17 1522.62 Q1418.17 1525.49 1416.53 1527.48 Q1414.88 1529.45 1411.85 1530.21 Z\" fill=\"#000000\" fill-rule=\"evenodd\" fill-opacity=\"1\" /><path clip-path=\"url(#clip870)\" d=\"M1514.43 1532.02 L1544.1 1532.02 L1544.1 1535.95 L1514.43 1535.95 L1514.43 1532.02 Z\" fill=\"#000000\" fill-rule=\"evenodd\" fill-opacity=\"1\" /><path clip-path=\"url(#clip870)\" d=\"M1558.22 1544.91 L1574.54 1544.91 L1574.54 1548.85 L1552.6 1548.85 L1552.6 1544.91 Q1555.26 1542.16 1559.84 1537.53 Q1564.45 1532.88 1565.63 1531.53 Q1567.87 1529.01 1568.75 1527.27 Q1569.66 1525.51 1569.66 1523.82 Q1569.66 1521.07 1567.71 1519.33 Q1565.79 1517.6 1562.69 1517.6 Q1560.49 1517.6 1558.04 1518.36 Q1555.61 1519.13 1552.83 1520.68 L1552.83 1515.95 Q1555.65 1514.82 1558.11 1514.24 Q1560.56 1513.66 1562.6 1513.66 Q1567.97 1513.66 1571.16 1516.35 Q1574.36 1519.03 1574.36 1523.52 Q1574.36 1525.65 1573.55 1527.57 Q1572.76 1529.47 1570.65 1532.07 Q1570.07 1532.74 1566.97 1535.95 Q1563.87 1539.15 1558.22 1544.91 Z\" fill=\"#000000\" fill-rule=\"evenodd\" fill-opacity=\"1\" /><path clip-path=\"url(#clip870)\" d=\"M1670.28 1532.02 L1699.95 1532.02 L1699.95 1535.95 L1670.28 1535.95 L1670.28 1532.02 Z\" fill=\"#000000\" fill-rule=\"evenodd\" fill-opacity=\"1\" /><path clip-path=\"url(#clip870)\" d=\"M1710.86 1544.91 L1718.5 1544.91 L1718.5 1518.55 L1710.19 1520.21 L1710.19 1515.95 L1718.45 1514.29 L1723.12 1514.29 L1723.12 1544.91 L1730.76 1544.91 L1730.76 1548.85 L1710.86 1548.85 L1710.86 1544.91 Z\" fill=\"#000000\" fill-rule=\"evenodd\" fill-opacity=\"1\" /><path clip-path=\"url(#clip870)\" d=\"M1856.56 1517.37 Q1852.95 1517.37 1851.12 1520.93 Q1849.31 1524.47 1849.31 1531.6 Q1849.31 1538.71 1851.12 1542.27 Q1852.95 1545.82 1856.56 1545.82 Q1860.19 1545.82 1862 1542.27 Q1863.83 1538.71 1863.83 1531.6 Q1863.83 1524.47 1862 1520.93 Q1860.19 1517.37 1856.56 1517.37 M1856.56 1513.66 Q1862.37 1513.66 1865.42 1518.27 Q1868.5 1522.85 1868.5 1531.6 Q1868.5 1540.33 1865.42 1544.94 Q1862.37 1549.52 1856.56 1549.52 Q1850.75 1549.52 1847.67 1544.94 Q1844.61 1540.33 1844.61 1531.6 Q1844.61 1522.85 1847.67 1518.27 Q1850.75 1513.66 1856.56 1513.66 Z\" fill=\"#000000\" fill-rule=\"evenodd\" fill-opacity=\"1\" /><path clip-path=\"url(#clip870)\" d=\"M2002.98 1544.91 L2010.62 1544.91 L2010.62 1518.55 L2002.31 1520.21 L2002.31 1515.95 L2010.57 1514.29 L2015.25 1514.29 L2015.25 1544.91 L2022.88 1544.91 L2022.88 1548.85 L2002.98 1548.85 L2002.98 1544.91 Z\" fill=\"#000000\" fill-rule=\"evenodd\" fill-opacity=\"1\" /><path clip-path=\"url(#clip870)\" d=\"M2163.28 1544.91 L2179.6 1544.91 L2179.6 1548.85 L2157.66 1548.85 L2157.66 1544.91 Q2160.32 1542.16 2164.91 1537.53 Q2169.51 1532.88 2170.69 1531.53 Q2172.94 1529.01 2173.82 1527.27 Q2174.72 1525.51 2174.72 1523.82 Q2174.72 1521.07 2172.78 1519.33 Q2170.85 1517.6 2167.75 1517.6 Q2165.55 1517.6 2163.1 1518.36 Q2160.67 1519.13 2157.89 1520.68 L2157.89 1515.95 Q2160.72 1514.82 2163.17 1514.24 Q2165.62 1513.66 2167.66 1513.66 Q2173.03 1513.66 2176.22 1516.35 Q2179.42 1519.03 2179.42 1523.52 Q2179.42 1525.65 2178.61 1527.57 Q2177.82 1529.47 2175.72 1532.07 Q2175.14 1532.74 2172.03 1535.95 Q2168.93 1539.15 2163.28 1544.91 Z\" fill=\"#000000\" fill-rule=\"evenodd\" fill-opacity=\"1\" /><path clip-path=\"url(#clip870)\" d=\"M2328.92 1530.21 Q2332.27 1530.93 2334.15 1533.2 Q2336.05 1535.47 2336.05 1538.8 Q2336.05 1543.92 2332.53 1546.72 Q2329.01 1549.52 2322.53 1549.52 Q2320.35 1549.52 2318.04 1549.08 Q2315.75 1548.66 2313.29 1547.81 L2313.29 1543.29 Q2315.24 1544.43 2317.55 1545.01 Q2319.87 1545.58 2322.39 1545.58 Q2326.79 1545.58 2329.08 1543.85 Q2331.39 1542.11 2331.39 1538.8 Q2331.39 1535.75 2329.24 1534.03 Q2327.11 1532.3 2323.29 1532.3 L2319.26 1532.3 L2319.26 1528.45 L2323.48 1528.45 Q2326.93 1528.45 2328.75 1527.09 Q2330.58 1525.7 2330.58 1523.11 Q2330.58 1520.45 2328.69 1519.03 Q2326.81 1517.6 2323.29 1517.6 Q2321.37 1517.6 2319.17 1518.01 Q2316.97 1518.43 2314.33 1519.31 L2314.33 1515.14 Q2317 1514.4 2319.31 1514.03 Q2321.65 1513.66 2323.71 1513.66 Q2329.03 1513.66 2332.13 1516.09 Q2335.24 1518.5 2335.24 1522.62 Q2335.24 1525.49 2333.59 1527.48 Q2331.95 1529.45 2328.92 1530.21 Z\" fill=\"#000000\" fill-rule=\"evenodd\" fill-opacity=\"1\" /><polyline clip-path=\"url(#clip875)\" style=\"stroke:#000000; stroke-linecap:butt; stroke-linejoin:round; stroke-width:2; stroke-opacity:0.1; fill:none\" points=\"\n",
       "  1360.36,1468.36 2352.76,1468.36 \n",
       "  \"/>\n",
       "<polyline clip-path=\"url(#clip875)\" style=\"stroke:#000000; stroke-linecap:butt; stroke-linejoin:round; stroke-width:2; stroke-opacity:0.1; fill:none\" points=\"\n",
       "  1360.36,1319.46 2352.76,1319.46 \n",
       "  \"/>\n",
       "<polyline clip-path=\"url(#clip875)\" style=\"stroke:#000000; stroke-linecap:butt; stroke-linejoin:round; stroke-width:2; stroke-opacity:0.1; fill:none\" points=\"\n",
       "  1360.36,1170.57 2352.76,1170.57 \n",
       "  \"/>\n",
       "<polyline clip-path=\"url(#clip875)\" style=\"stroke:#000000; stroke-linecap:butt; stroke-linejoin:round; stroke-width:2; stroke-opacity:0.1; fill:none\" points=\"\n",
       "  1360.36,1021.67 2352.76,1021.67 \n",
       "  \"/>\n",
       "<polyline clip-path=\"url(#clip875)\" style=\"stroke:#000000; stroke-linecap:butt; stroke-linejoin:round; stroke-width:2; stroke-opacity:0.1; fill:none\" points=\"\n",
       "  1360.36,872.779 2352.76,872.779 \n",
       "  \"/>\n",
       "<polyline clip-path=\"url(#clip870)\" style=\"stroke:#000000; stroke-linecap:butt; stroke-linejoin:round; stroke-width:4; stroke-opacity:1; fill:none\" points=\"\n",
       "  1360.36,1486.45 1360.36,847.244 \n",
       "  \"/>\n",
       "<polyline clip-path=\"url(#clip870)\" style=\"stroke:#000000; stroke-linecap:butt; stroke-linejoin:round; stroke-width:4; stroke-opacity:1; fill:none\" points=\"\n",
       "  1360.36,1468.36 1379.26,1468.36 \n",
       "  \"/>\n",
       "<polyline clip-path=\"url(#clip870)\" style=\"stroke:#000000; stroke-linecap:butt; stroke-linejoin:round; stroke-width:4; stroke-opacity:1; fill:none\" points=\"\n",
       "  1360.36,1319.46 1379.26,1319.46 \n",
       "  \"/>\n",
       "<polyline clip-path=\"url(#clip870)\" style=\"stroke:#000000; stroke-linecap:butt; stroke-linejoin:round; stroke-width:4; stroke-opacity:1; fill:none\" points=\"\n",
       "  1360.36,1170.57 1379.26,1170.57 \n",
       "  \"/>\n",
       "<polyline clip-path=\"url(#clip870)\" style=\"stroke:#000000; stroke-linecap:butt; stroke-linejoin:round; stroke-width:4; stroke-opacity:1; fill:none\" points=\"\n",
       "  1360.36,1021.67 1379.26,1021.67 \n",
       "  \"/>\n",
       "<polyline clip-path=\"url(#clip870)\" style=\"stroke:#000000; stroke-linecap:butt; stroke-linejoin:round; stroke-width:4; stroke-opacity:1; fill:none\" points=\"\n",
       "  1360.36,872.779 1379.26,872.779 \n",
       "  \"/>\n",
       "<path clip-path=\"url(#clip870)\" d=\"M1312.42 1454.16 Q1308.8 1454.16 1306.98 1457.72 Q1305.17 1461.26 1305.17 1468.39 Q1305.17 1475.5 1306.98 1479.06 Q1308.8 1482.61 1312.42 1482.61 Q1316.05 1482.61 1317.86 1479.06 Q1319.68 1475.5 1319.68 1468.39 Q1319.68 1461.26 1317.86 1457.72 Q1316.05 1454.16 1312.42 1454.16 M1312.42 1450.45 Q1318.23 1450.45 1321.28 1455.06 Q1324.36 1459.64 1324.36 1468.39 Q1324.36 1477.12 1321.28 1481.73 Q1318.23 1486.31 1312.42 1486.31 Q1306.61 1486.31 1303.53 1481.73 Q1300.47 1477.12 1300.47 1468.39 Q1300.47 1459.64 1303.53 1455.06 Q1306.61 1450.45 1312.42 1450.45 Z\" fill=\"#000000\" fill-rule=\"evenodd\" fill-opacity=\"1\" /><path clip-path=\"url(#clip870)\" d=\"M1276.28 1332.81 L1292.6 1332.81 L1292.6 1336.74 L1270.66 1336.74 L1270.66 1332.81 Q1273.32 1330.05 1277.9 1325.42 Q1282.51 1320.77 1283.69 1319.43 Q1285.93 1316.91 1286.81 1315.17 Q1287.72 1313.41 1287.72 1311.72 Q1287.72 1308.97 1285.77 1307.23 Q1283.85 1305.49 1280.75 1305.49 Q1278.55 1305.49 1276.1 1306.26 Q1273.67 1307.02 1270.89 1308.57 L1270.89 1303.85 Q1273.71 1302.72 1276.17 1302.14 Q1278.62 1301.56 1280.66 1301.56 Q1286.03 1301.56 1289.22 1304.24 Q1292.42 1306.93 1292.42 1311.42 Q1292.42 1313.55 1291.61 1315.47 Q1290.82 1317.37 1288.71 1319.96 Q1288.13 1320.63 1285.03 1323.85 Q1281.93 1327.04 1276.28 1332.81 Z\" fill=\"#000000\" fill-rule=\"evenodd\" fill-opacity=\"1\" /><path clip-path=\"url(#clip870)\" d=\"M1312.42 1305.26 Q1308.8 1305.26 1306.98 1308.83 Q1305.17 1312.37 1305.17 1319.5 Q1305.17 1326.6 1306.98 1330.17 Q1308.8 1333.71 1312.42 1333.71 Q1316.05 1333.71 1317.86 1330.17 Q1319.68 1326.6 1319.68 1319.5 Q1319.68 1312.37 1317.86 1308.83 Q1316.05 1305.26 1312.42 1305.26 M1312.42 1301.56 Q1318.23 1301.56 1321.28 1306.16 Q1324.36 1310.75 1324.36 1319.5 Q1324.36 1328.22 1321.28 1332.83 Q1318.23 1337.41 1312.42 1337.41 Q1306.61 1337.41 1303.53 1332.83 Q1300.47 1328.22 1300.47 1319.5 Q1300.47 1310.75 1303.53 1306.16 Q1306.61 1301.56 1312.42 1301.56 Z\" fill=\"#000000\" fill-rule=\"evenodd\" fill-opacity=\"1\" /><path clip-path=\"url(#clip870)\" d=\"M1285.1 1157.36 L1273.3 1175.81 L1285.1 1175.81 L1285.1 1157.36 M1283.87 1153.29 L1289.75 1153.29 L1289.75 1175.81 L1294.68 1175.81 L1294.68 1179.7 L1289.75 1179.7 L1289.75 1187.85 L1285.1 1187.85 L1285.1 1179.7 L1269.5 1179.7 L1269.5 1175.19 L1283.87 1153.29 Z\" fill=\"#000000\" fill-rule=\"evenodd\" fill-opacity=\"1\" /><path clip-path=\"url(#clip870)\" d=\"M1312.42 1156.37 Q1308.8 1156.37 1306.98 1159.93 Q1305.17 1163.47 1305.17 1170.6 Q1305.17 1177.71 1306.98 1181.27 Q1308.8 1184.82 1312.42 1184.82 Q1316.05 1184.82 1317.86 1181.27 Q1319.68 1177.71 1319.68 1170.6 Q1319.68 1163.47 1317.86 1159.93 Q1316.05 1156.37 1312.42 1156.37 M1312.42 1152.66 Q1318.23 1152.66 1321.28 1157.27 Q1324.36 1161.85 1324.36 1170.6 Q1324.36 1179.33 1321.28 1183.94 Q1318.23 1188.52 1312.42 1188.52 Q1306.61 1188.52 1303.53 1183.94 Q1300.47 1179.33 1300.47 1170.6 Q1300.47 1161.85 1303.53 1157.27 Q1306.61 1152.66 1312.42 1152.66 Z\" fill=\"#000000\" fill-rule=\"evenodd\" fill-opacity=\"1\" /><path clip-path=\"url(#clip870)\" d=\"M1282.83 1019.81 Q1279.68 1019.81 1277.83 1021.96 Q1276 1024.12 1276 1027.87 Q1276 1031.59 1277.83 1033.77 Q1279.68 1035.92 1282.83 1035.92 Q1285.98 1035.92 1287.81 1033.77 Q1289.66 1031.59 1289.66 1027.87 Q1289.66 1024.12 1287.81 1021.96 Q1285.98 1019.81 1282.83 1019.81 M1292.11 1005.16 L1292.11 1009.42 Q1290.36 1008.58 1288.55 1008.14 Q1286.77 1007.7 1285.01 1007.7 Q1280.38 1007.7 1277.92 1010.83 Q1275.49 1013.95 1275.15 1020.27 Q1276.51 1018.26 1278.57 1017.19 Q1280.63 1016.11 1283.11 1016.11 Q1288.32 1016.11 1291.33 1019.28 Q1294.36 1022.43 1294.36 1027.87 Q1294.36 1033.19 1291.21 1036.41 Q1288.06 1039.63 1282.83 1039.63 Q1276.84 1039.63 1273.67 1035.04 Q1270.49 1030.44 1270.49 1021.71 Q1270.49 1013.51 1274.38 1008.65 Q1278.27 1003.77 1284.82 1003.77 Q1286.58 1003.77 1288.36 1004.12 Q1290.17 1004.46 1292.11 1005.16 Z\" fill=\"#000000\" fill-rule=\"evenodd\" fill-opacity=\"1\" /><path clip-path=\"url(#clip870)\" d=\"M1312.42 1007.47 Q1308.8 1007.47 1306.98 1011.04 Q1305.17 1014.58 1305.17 1021.71 Q1305.17 1028.82 1306.98 1032.38 Q1308.8 1035.92 1312.42 1035.92 Q1316.05 1035.92 1317.86 1032.38 Q1319.68 1028.82 1319.68 1021.71 Q1319.68 1014.58 1317.86 1011.04 Q1316.05 1007.47 1312.42 1007.47 M1312.42 1003.77 Q1318.23 1003.77 1321.28 1008.38 Q1324.36 1012.96 1324.36 1021.71 Q1324.36 1030.44 1321.28 1035.04 Q1318.23 1039.63 1312.42 1039.63 Q1306.61 1039.63 1303.53 1035.04 Q1300.47 1030.44 1300.47 1021.71 Q1300.47 1012.96 1303.53 1008.38 Q1306.61 1003.77 1312.42 1003.77 Z\" fill=\"#000000\" fill-rule=\"evenodd\" fill-opacity=\"1\" /><path clip-path=\"url(#clip870)\" d=\"M1282.25 873.648 Q1278.92 873.648 1277 875.43 Q1275.1 877.212 1275.1 880.337 Q1275.1 883.462 1277 885.245 Q1278.92 887.027 1282.25 887.027 Q1285.59 887.027 1287.51 885.245 Q1289.43 883.439 1289.43 880.337 Q1289.43 877.212 1287.51 875.43 Q1285.61 873.648 1282.25 873.648 M1277.58 871.657 Q1274.57 870.916 1272.88 868.856 Q1271.21 866.796 1271.21 863.833 Q1271.21 859.689 1274.15 857.282 Q1277.11 854.875 1282.25 854.875 Q1287.42 854.875 1290.36 857.282 Q1293.3 859.689 1293.3 863.833 Q1293.3 866.796 1291.61 868.856 Q1289.94 870.916 1286.95 871.657 Q1290.33 872.444 1292.21 874.736 Q1294.11 877.027 1294.11 880.337 Q1294.11 885.36 1291.03 888.046 Q1287.97 890.731 1282.25 890.731 Q1276.54 890.731 1273.46 888.046 Q1270.4 885.36 1270.4 880.337 Q1270.4 877.027 1272.3 874.736 Q1274.2 872.444 1277.58 871.657 M1275.86 864.273 Q1275.86 866.958 1277.53 868.462 Q1279.22 869.967 1282.25 869.967 Q1285.26 869.967 1286.95 868.462 Q1288.67 866.958 1288.67 864.273 Q1288.67 861.587 1286.95 860.083 Q1285.26 858.578 1282.25 858.578 Q1279.22 858.578 1277.53 860.083 Q1275.86 861.587 1275.86 864.273 Z\" fill=\"#000000\" fill-rule=\"evenodd\" fill-opacity=\"1\" /><path clip-path=\"url(#clip870)\" d=\"M1312.42 858.578 Q1308.8 858.578 1306.98 862.143 Q1305.17 865.685 1305.17 872.814 Q1305.17 879.921 1306.98 883.485 Q1308.8 887.027 1312.42 887.027 Q1316.05 887.027 1317.86 883.485 Q1319.68 879.921 1319.68 872.814 Q1319.68 865.685 1317.86 862.143 Q1316.05 858.578 1312.42 858.578 M1312.42 854.875 Q1318.23 854.875 1321.28 859.481 Q1324.36 864.064 1324.36 872.814 Q1324.36 881.541 1321.28 886.147 Q1318.23 890.731 1312.42 890.731 Q1306.61 890.731 1303.53 886.147 Q1300.47 881.541 1300.47 872.814 Q1300.47 864.064 1303.53 859.481 Q1306.61 854.875 1312.42 854.875 Z\" fill=\"#000000\" fill-rule=\"evenodd\" fill-opacity=\"1\" /><polyline clip-path=\"url(#clip875)\" style=\"stroke:#009af9; stroke-linecap:butt; stroke-linejoin:round; stroke-width:4; stroke-opacity:1; fill:none\" points=\"\n",
       "  1388.45,865.335 1420.73,1015.25 1453.01,1135.31 1485.3,1229.77 1517.58,1302.54 1549.86,1357.25 1582.15,1397.15 1614.43,1425.2 1646.71,1444.01 1679,1455.88 \n",
       "  1711.28,1462.76 1743.57,1466.31 1775.85,1467.83 1808.13,1468.29 1840.42,1468.36 1872.7,1468.36 1904.98,1468.29 1937.27,1467.83 1969.55,1466.31 2001.83,1462.76 \n",
       "  2034.12,1455.88 2066.4,1444.01 2098.68,1425.2 2130.97,1397.15 2163.25,1357.25 2195.54,1302.54 2227.82,1229.77 2260.1,1135.31 2292.39,1015.25 2324.67,865.335 \n",
       "  \n",
       "  \"/>\n",
       "</svg>\n"
      ]
     },
     "execution_count": 6,
     "metadata": {},
     "output_type": "execute_result"
    }
   ],
   "source": [
    "p1 = plot(x, x)\n",
    "p2 = plot(x, x.^2)\n",
    "p3 = plot(x, x.^3)\n",
    "p4 = plot(x, x.^4)\n",
    "plot(p1, p2, p3, p4, layout = (2, 2), legend = false)"
   ]
  },
  {
   "cell_type": "code",
   "execution_count": null,
   "id": "a1377b68-ee57-44bf-b734-d4ad4e884838",
   "metadata": {},
   "outputs": [],
   "source": []
  }
 ],
 "metadata": {
  "kernelspec": {
   "display_name": "Julia 1.7.0",
   "language": "julia",
   "name": "julia-1.7"
  },
  "language_info": {
   "file_extension": ".jl",
   "mimetype": "application/julia",
   "name": "julia",
   "version": "1.7.0"
  }
 },
 "nbformat": 4,
 "nbformat_minor": 5
}
